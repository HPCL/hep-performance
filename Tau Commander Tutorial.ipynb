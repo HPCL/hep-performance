{
 "cells": [
  {
   "cell_type": "markdown",
   "metadata": {},
   "source": [
    "# TAU Commander Tutorial\n",
    "\n",
    "This notebook discusses how to use tau commander to collect and organize performance analysis data."
   ]
  },
  {
   "cell_type": "markdown",
   "metadata": {
    "collapsed": true
   },
   "source": [
    "## TAU Commander Hierarchy of Performance Measurements\n",
    "\n",
    "Tau Commander organizes performance measurement into the following categories:\n",
    "* project - top level organization\n",
    "* target - hardware environment plus measurement libraries like Papi\n",
    "* application - program to test; defines what libraries and measurement techniques\n",
    "* measurements\n",
    "* experiments\n",
    "* trials"
   ]
  },
  {
   "cell_type": "markdown",
   "metadata": {},
   "source": [
    "## Project\n",
    "\n",
    "Basically this is the big umbrella that keeps everything together. It exists as a .tau directory in the folder where your software lives. Under this directory is a new installation of Tau, the measured data in folders that store standard TAU profile files, and XML/JSON files that help TAU remeber where it put everything.\n",
    "\n",
    "To initialize a project simply type the comand below."
   ]
  },
  {
   "cell_type": "code",
   "execution_count": null,
   "metadata": {
    "collapsed": true
   },
   "outputs": [],
   "source": [
    "tau init # to initialize a project\n",
    "tau dash # to view all the pieces that currently exist within the project"
   ]
  }
 ],
 "metadata": {
  "kernelspec": {
   "display_name": "Python 2",
   "language": "python",
   "name": "python2"
  },
  "language_info": {
   "codemirror_mode": {
    "name": "ipython",
    "version": 2
   },
   "file_extension": ".py",
   "mimetype": "text/x-python",
   "name": "python",
   "nbconvert_exporter": "python",
   "pygments_lexer": "ipython2",
   "version": "2.7.14"
  }
 },
 "nbformat": 4,
 "nbformat_minor": 2
}
