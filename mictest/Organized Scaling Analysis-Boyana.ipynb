{
 "cells": [
  {
   "cell_type": "markdown",
   "metadata": {},
   "source": [
    "# Scaling Analysis Examples TTbar70\n",
    "\n",
    "Authors: Brain Gravelle and Boyana Norris\n",
    "\n",
    "\n",
    "All this is using the taucmdr python libraries from paratools\n",
    "http://taucommander.paratools.com/\n",
    "\n",
    "<a href='#top'>top</a><br>\n",
    "<a href='#data'>Loading Data</a><br>\n",
    "<a href='#metrics'>Metrics</a><br>\n",
    "<a href='#corr'>Correlations</a><br>\n",
    "<a href='#stl_sb'>Store Buffer Stalls</a><br>\n",
    "<a href='#fetch_stalls'>Fetch Stalls</a><br>\n",
    "<a href='#l3'>l3 misses</a><br>"
   ]
  },
  {
   "cell_type": "markdown",
   "metadata": {},
   "source": [
    "## Imports\n",
    "This section imports necessary libraies, the metrics.py and utilities.py files and sets up the window.\n",
    "\n",
    "\n",
    "<a id='top'></a>"
   ]
  },
  {
   "cell_type": "code",
   "execution_count": 1,
   "metadata": {},
   "outputs": [
    {
     "data": {
      "text/html": [
       "<style>.container { width:100% !important; }</style>"
      ],
      "text/plain": [
       "<IPython.core.display.HTML object>"
      ]
     },
     "metadata": {},
     "output_type": "display_data"
    }
   ],
   "source": [
    "# A couple of scripts to set the environent and import data from a .tau set of results\n",
    "from utilities import *\n",
    "from metrics import *\n",
    "# Plotting, notebook settings:\n",
    "%matplotlib inline  \n",
    "#plt.rcParams.update({'font.size': 16})\n",
    "import numbers\n",
    "from IPython.core.display import display, HTML\n",
    "display(HTML(\"<style>.container { width:100% !important; }</style>\"))\n",
    "pd.set_option('display.float_format', lambda x: '%.2e' % x)\n",
    "pd.set_option('display.max_columns',100)\n",
    "pd.set_option('max_colwidth', 70)\n",
    "\n",
    "from IPython.core.interactiveshell import InteractiveShell\n",
    "InteractiveShell.ast_node_interactivity = \"all\"\n",
    "\n",
    "import copy, shelve"
   ]
  },
  {
   "cell_type": "markdown",
   "metadata": {},
   "source": [
    "## Getting Data\n",
    "<a id='data'></a>\n",
    "\n",
    "TAU Commander uses TAU to run the application and measure it using runtime sampling techniques (similar to Intel VTune). Many customization options are available. For example, we may consider each function regardless of calling context, or we may decide to enable callpath profiling to see each context separately.\n",
    "\n",
    "From the talapas_scaling application the following experiments are available. These use Talapas (with 28 thread Broadwell processors) and the build-ce (realistic) option for mkFit. The first six experiments use the --num-thr option to set the thread count which is intended to perform threading within the events. the last two add the --num-ev-thr option to set the event threads, so that all threads are used to process events in parallel and each event is processed by a single thread. \n",
    "* manual_scaling_Large_talapas\t\t\n",
    "* manual_scaling_Large_talapas_fullnode\t\n",
    "* manual_scaling_TTbar70_talapas\t\t\n",
    "* manual_scaling_TTbar70_talapas_fullnode\n",
    "* manual_scaling_TTbar35_talapas\n",
    "* manual_scaling_TTbar35_talapas_fullnode\n",
    "* ev_thr_scaling_Large_talapas\n",
    "* ev_thr_scaling_Large_talapas_fullnode\n",
    "\n",
    "Additionally available in the cori_scaling application are the following. These were run on NERSC's Cori on the KNL with the default memory settings (quad - 1 NUMA domain, cache - MCDRAM as direct mapped cache). See http://www.nersc.gov/users/computational-systems/cori/running-jobs/advanced-running-jobs-options/ for more info on the KNL modes. Similar to the talapas scaling they use the build-ce option and threading within each event.\n",
    "* manual_scaling_TTbar35\n",
    "* manual_scaling_TTbar70\n",
    "* manual_scaling_Large\n",
    "* mixed_thr_scaling_Large - this is bad\n"
   ]
  },
  {
   "cell_type": "markdown",
   "metadata": {},
   "source": [
    "### Importing Scaling Data - Talapas TTbar70 is current\n",
    "Here we import the data. In this case we are using Cori data from the experiments with the threads working within each event using the TTbar70 file. Note that this box will take an hour or more to run; please go enjoy a coffee while you wait."
   ]
  },
  {
   "cell_type": "code",
   "execution_count": 17,
   "metadata": {
    "collapsed": true
   },
   "outputs": [],
   "source": [
    "#application = \"talapas_scaling\"\n",
    "#experiment  = \"manual_scaling_TTbar70_talapas_fullnode\"\n",
    "# experiment  = \"manual_scaling_Large_talapas\"\n",
    "# experiment = \"ev_thr_scaling_Large_talapas\"\n",
    "\n",
    "application = \"cori_scaling\"\n",
    "# experiment  = \"manual_scaling_TTbar35\"\n",
    "experiment  = \"manual_scaling_TTbar70\"\n",
    "# experiment  = \"manual_scaling_Large\"\n",
    "# experiment  = \"mixed_thr_scaling_Large\"\n",
    "\n",
    "path = \".tau/\" + application + \"/\" + experiment + \"/\"\n",
    "# note that this function takes a long time to run, so only rerun if you must\n",
    "\n",
    "#metric_data = get_pandas_scaling(path, callpaths=True)\n",
    "\n",
    "metric_data = load_perf_data(application,experiment,nolibs=False,scaling=True,callpaths=True)\n",
    "\n",
    "if False:\n",
    "    if application == \"talapas_scaling\":\n",
    "        metric_data = remove_erroneous_threads(metric_data,  [1, 8, 16, 32, 48, 56])\n",
    "    elif application == \"cori_scaling\":\n",
    "        print(metric_data.keys())\n",
    "        metric_data = remove_erroneous_threads(metric_data,  [1, 4, 8, 16, 32, 48, 64, 80, 96, 112, 128, 144, 160, 176, 192, 208, 224, 240, 256])"
   ]
  },
  {
   "cell_type": "code",
   "execution_count": 18,
   "metadata": {
    "collapsed": true
   },
   "outputs": [],
   "source": [
    "#metric_data_talapas_manual_scaling_TTbar70_talapas_fullnode = metric_data\n",
    "#metric_data_cori_manual_scaling_TTbar70=metric_data"
   ]
  },
  {
   "cell_type": "markdown",
   "metadata": {},
   "source": [
    "## Adding metrics\n",
    "<a id='metrics'></a>\n",
    "\n",
    "metrics are available in metrics.py. At this time the following can be added:\n",
    "* add_IPC(metrics)          - Instructions per Cycle\n",
    "* add_CPI(metrics)          - Cycles per instruction\n",
    "* add_VIPC(metrics)         - vector instructions per cycle\n",
    "* add_VIPI(metrics)         - vector instructions per instruction (i.e. fraction of total)\n",
    "* add_L1_missrate(metrics)  - miss rate for L1 cache\n",
    "\n",
    "for scaling data please use the add_metric_to_scaling_data(data, metric_func) function to add a metric\n",
    "\n",
    "Here we add some predeefined metrics and print the top 10 functions with the best IPC"
   ]
  },
  {
   "cell_type": "code",
   "execution_count": 3,
   "metadata": {
    "collapsed": true
   },
   "outputs": [],
   "source": [
    "# New Metric (Not working yet)\n",
    "def add_DERIVED_SP_VOPO(metrics):\n",
    "    if (not metrics.has_key('PAPI_SP_OPS')):\n",
    "        print 'ERROR adding DERIVED_SP_VOPO to metric dictionary'\n",
    "        return False\n",
    "    a0 = metrics['PAPI_SP_OPS'].copy()\n",
    "    a0.index = a0.index.droplevel()\n",
    "    u0 = a0.unstack()\n",
    "    if (not metrics.has_key('PAPI_NATIVE_FP_ARITH:128B_PACKED_SINGLE')):\n",
    "        print 'ERROR adding DERIVED_SP_VOPO to metric dictionary'\n",
    "        return False\n",
    "    a1 = metrics['PAPI_NATIVE_FP_ARITH:128B_PACKED_SINGLE'].copy()\n",
    "    a1.index = a1.index.droplevel()\n",
    "    u1 = a1.unstack()\n",
    "    if (not metrics.has_key('PAPI_NATIVE_FP_ARITH:256B_PACKED_SINGLE')):\n",
    "        print 'ERROR adding DERIVED_SP_VOPO to metric dictionary'\n",
    "        return False\n",
    "    a2 = metrics['PAPI_NATIVE_FP_ARITH:256B_PACKED_SINGLE'].copy()\n",
    "    a2.index = a2.index.droplevel()\n",
    "    u2 = a2.unstack()\n",
    "    metrics['DERIVED_SP_VOPO'] = ((u1 + u2) / (u0)).stack()\n",
    "\n",
    "    return True"
   ]
  },
  {
   "cell_type": "code",
   "execution_count": 19,
   "metadata": {},
   "outputs": [
    {
     "name": "stdout",
     "output_type": "stream",
     "text": [
      "ERROR adding CPI to metric dictionary\n",
      "ERROR adding metric to thread count: 32\n",
      "ERROR adding IPC to metric dictionary\n",
      "ERROR adding metric to thread count: 32\n",
      "ERROR adding StallPercent to metric dictionary\n",
      "ERROR adding metric to thread count: 32\n",
      "ERROR adding VecEfficiency to metric dictionary\n",
      "ERROR adding metric to thread count: 32\n",
      "DERIVED_VIPI\n",
      "PAPI_NATIVE_UOPS_RETIRED:SCALAR_SIMD\n",
      "PAPI_L2_TCA\n",
      "PAPI_NATIVE_LLC_MISSES\n",
      "PAPI_TLB_DM\n",
      "PAPI_L2_TCM\n",
      "PAPI_NATIVE_FETCH_STALL\n",
      "PAPI_NATIVE_UOPS_RETIRED:PACKED_SIMD\n",
      "DERIVED_CPI\n",
      "PAPI_L1_TCM\n",
      "PAPI_BR_MSP\n",
      "PAPI_RES_STL\n",
      "PAPI_TOT_INS\n",
      "PAPI_BR_CN\n",
      "DERIVED_L1_MISSRATE\n",
      "DERIVED_L3_MISSRATE\n",
      "PAPI_BR_UCN\n",
      "PAPI_NATIVE_LLC_REFERENCES\n",
      "PAPI_BR_INS\n",
      "DERIVED_L2_MISSRATE\n",
      "DERIVED_STALL_PERCENT\n",
      "DERIVED_BRANCH_MR\n",
      "DERIVED_IPC\n",
      "PAPI_LST_INS\n",
      "PAPI_NATIVE_RS_FULL_STALL\n",
      "PAPI_TOT_CYC\n",
      "[128, 1, 240, 48, 80, 32, 8, 64, 144, 176, 192, 224, 96, 16, 112, 256, 160, 208]\n"
     ]
    }
   ],
   "source": [
    "add_metric_to_scaling_data(metric_data, add_CPI)\n",
    "add_metric_to_scaling_data(metric_data, add_IPC)\n",
    "add_metric_to_scaling_data(metric_data, add_StallPercent)\n",
    "add_metric_to_scaling_data(metric_data, add_L1_missrate)\n",
    "add_metric_to_scaling_data(metric_data, add_L2_missrate)\n",
    "\n",
    "if application == 'cori_scaling': \n",
    "    llc = True\n",
    "    add_metric_to_scaling_data(metric_data, add_VIPI)\n",
    "else: \n",
    "    llc = False\n",
    "#     add_metric_to_scaling_data(metric_data, add_DERIVED_SP_VOPO)\n",
    "    \n",
    "add_metric_to_scaling_data(metric_data, add_L3_missrate, llc)\n",
    "add_metric_to_scaling_data(metric_data, add_DERIVED_BRANCH_MR)\n",
    "\n",
    "print_available_metrics(metric_data, scaling=True)\n",
    "print(metric_data.keys())\n",
    "# To test\n",
    "# metric_data[32]['DERIVED_SP_VOPO'].sort_values(by='Exclusive',ascending=False).head(10)"
   ]
  },
  {
   "cell_type": "markdown",
   "metadata": {},
   "source": [
    "#### Combining metrics"
   ]
  },
  {
   "cell_type": "code",
   "execution_count": 5,
   "metadata": {
    "collapsed": true
   },
   "outputs": [],
   "source": [
    "THREAD_COUNT = 256\n",
    "\n",
    "alldata = combine_metrics(metric_data[THREAD_COUNT],inc_exc='Exclusive')"
   ]
  },
  {
   "cell_type": "markdown",
   "metadata": {},
   "source": [
    "## Scaling Results\n",
    "\n",
    "In this section we carefully walk through an analysis of the application to find areas of interest.\n",
    "\n",
    "We begin by looking at correlations of data to determine metrics of interest and then move on to ploting those metric. In this analysis we primarily use PAPI_TOT_CYC as a proxy for the time it takes a function to complete."
   ]
  },
  {
   "cell_type": "markdown",
   "metadata": {},
   "source": [
    "## Correlations\n",
    "<a id='corr'></a>"
   ]
  },
  {
   "cell_type": "code",
   "execution_count": 44,
   "metadata": {},
   "outputs": [
    {
     "data": {
      "text/html": [
       "<style  type=\"text/css\" >\n",
       "    #T_f786d9c0_862b_11e8_b11f_14feb5cb9ae4row0_col0 {\n",
       "            background-color:  #ffff00;\n",
       "        }    #T_f786d9c0_862b_11e8_b11f_14feb5cb9ae4row0_col1 {\n",
       "            background-color:  #ffff08;\n",
       "        }    #T_f786d9c0_862b_11e8_b11f_14feb5cb9ae4row0_col2 {\n",
       "            background-color:  #ffffc2;\n",
       "        }    #T_f786d9c0_862b_11e8_b11f_14feb5cb9ae4row0_col3 {\n",
       "            background-color:  #ffffd0;\n",
       "        }    #T_f786d9c0_862b_11e8_b11f_14feb5cb9ae4row1_col0 {\n",
       "            background-color:  #ffffe1;\n",
       "        }    #T_f786d9c0_862b_11e8_b11f_14feb5cb9ae4row1_col1 {\n",
       "            background-color:  #ffffe5;\n",
       "        }    #T_f786d9c0_862b_11e8_b11f_14feb5cb9ae4row1_col2 {\n",
       "            background-color:  #ffffde;\n",
       "        }    #T_f786d9c0_862b_11e8_b11f_14feb5cb9ae4row1_col3 {\n",
       "            background-color:  #ffffca;\n",
       "        }    #T_f786d9c0_862b_11e8_b11f_14feb5cb9ae4row2_col0 {\n",
       "            background-color:  #ffff08;\n",
       "        }    #T_f786d9c0_862b_11e8_b11f_14feb5cb9ae4row2_col1 {\n",
       "            background-color:  #ffff00;\n",
       "        }    #T_f786d9c0_862b_11e8_b11f_14feb5cb9ae4row2_col2 {\n",
       "            background-color:  #ffffc1;\n",
       "        }    #T_f786d9c0_862b_11e8_b11f_14feb5cb9ae4row2_col3 {\n",
       "            background-color:  #ffffcd;\n",
       "        }    #T_f786d9c0_862b_11e8_b11f_14feb5cb9ae4row3_col0 {\n",
       "            background-color:  #ffff02;\n",
       "        }    #T_f786d9c0_862b_11e8_b11f_14feb5cb9ae4row3_col1 {\n",
       "            background-color:  #ffff02;\n",
       "        }    #T_f786d9c0_862b_11e8_b11f_14feb5cb9ae4row3_col2 {\n",
       "            background-color:  #ffffbe;\n",
       "        }    #T_f786d9c0_862b_11e8_b11f_14feb5cb9ae4row3_col3 {\n",
       "            background-color:  #ffffd0;\n",
       "        }    #T_f786d9c0_862b_11e8_b11f_14feb5cb9ae4row4_col0 {\n",
       "            background-color:  #ffff03;\n",
       "        }    #T_f786d9c0_862b_11e8_b11f_14feb5cb9ae4row4_col1 {\n",
       "            background-color:  #ffff01;\n",
       "        }    #T_f786d9c0_862b_11e8_b11f_14feb5cb9ae4row4_col2 {\n",
       "            background-color:  #ffffbe;\n",
       "        }    #T_f786d9c0_862b_11e8_b11f_14feb5cb9ae4row4_col3 {\n",
       "            background-color:  #ffffce;\n",
       "        }    #T_f786d9c0_862b_11e8_b11f_14feb5cb9ae4row5_col0 {\n",
       "            background-color:  #ffff04;\n",
       "        }    #T_f786d9c0_862b_11e8_b11f_14feb5cb9ae4row5_col1 {\n",
       "            background-color:  #ffff01;\n",
       "        }    #T_f786d9c0_862b_11e8_b11f_14feb5cb9ae4row5_col2 {\n",
       "            background-color:  #ffffc0;\n",
       "        }    #T_f786d9c0_862b_11e8_b11f_14feb5cb9ae4row5_col3 {\n",
       "            background-color:  #ffffce;\n",
       "        }    #T_f786d9c0_862b_11e8_b11f_14feb5cb9ae4row6_col0 {\n",
       "            background-color:  #ffff05;\n",
       "        }    #T_f786d9c0_862b_11e8_b11f_14feb5cb9ae4row6_col1 {\n",
       "            background-color:  #ffff00;\n",
       "        }    #T_f786d9c0_862b_11e8_b11f_14feb5cb9ae4row6_col2 {\n",
       "            background-color:  #ffffc0;\n",
       "        }    #T_f786d9c0_862b_11e8_b11f_14feb5cb9ae4row6_col3 {\n",
       "            background-color:  #ffffcd;\n",
       "        }    #T_f786d9c0_862b_11e8_b11f_14feb5cb9ae4row7_col0 {\n",
       "            background-color:  #ffff01;\n",
       "        }    #T_f786d9c0_862b_11e8_b11f_14feb5cb9ae4row7_col1 {\n",
       "            background-color:  #ffff05;\n",
       "        }    #T_f786d9c0_862b_11e8_b11f_14feb5cb9ae4row7_col2 {\n",
       "            background-color:  #ffffc1;\n",
       "        }    #T_f786d9c0_862b_11e8_b11f_14feb5cb9ae4row7_col3 {\n",
       "            background-color:  #ffffd0;\n",
       "        }    #T_f786d9c0_862b_11e8_b11f_14feb5cb9ae4row8_col0 {\n",
       "            background-color:  #ffff3b;\n",
       "        }    #T_f786d9c0_862b_11e8_b11f_14feb5cb9ae4row8_col1 {\n",
       "            background-color:  #ffff6c;\n",
       "        }    #T_f786d9c0_862b_11e8_b11f_14feb5cb9ae4row8_col2 {\n",
       "            background-color:  #ffffd0;\n",
       "        }    #T_f786d9c0_862b_11e8_b11f_14feb5cb9ae4row8_col3 {\n",
       "            background-color:  #ffffd8;\n",
       "        }    #T_f786d9c0_862b_11e8_b11f_14feb5cb9ae4row9_col0 {\n",
       "            background-color:  #ffff05;\n",
       "        }    #T_f786d9c0_862b_11e8_b11f_14feb5cb9ae4row9_col1 {\n",
       "            background-color:  #ffff00;\n",
       "        }    #T_f786d9c0_862b_11e8_b11f_14feb5cb9ae4row9_col2 {\n",
       "            background-color:  #ffffc0;\n",
       "        }    #T_f786d9c0_862b_11e8_b11f_14feb5cb9ae4row9_col3 {\n",
       "            background-color:  #ffffce;\n",
       "        }    #T_f786d9c0_862b_11e8_b11f_14feb5cb9ae4row10_col0 {\n",
       "            background-color:  #ffff04;\n",
       "        }    #T_f786d9c0_862b_11e8_b11f_14feb5cb9ae4row10_col1 {\n",
       "            background-color:  #ffff02;\n",
       "        }    #T_f786d9c0_862b_11e8_b11f_14feb5cb9ae4row10_col2 {\n",
       "            background-color:  #ffffb9;\n",
       "        }    #T_f786d9c0_862b_11e8_b11f_14feb5cb9ae4row10_col3 {\n",
       "            background-color:  #ffffcf;\n",
       "        }    #T_f786d9c0_862b_11e8_b11f_14feb5cb9ae4row11_col0 {\n",
       "            background-color:  #ffff08;\n",
       "        }    #T_f786d9c0_862b_11e8_b11f_14feb5cb9ae4row11_col1 {\n",
       "            background-color:  #ffff00;\n",
       "        }    #T_f786d9c0_862b_11e8_b11f_14feb5cb9ae4row11_col2 {\n",
       "            background-color:  #ffffbd;\n",
       "        }    #T_f786d9c0_862b_11e8_b11f_14feb5cb9ae4row11_col3 {\n",
       "            background-color:  #ffffcc;\n",
       "        }    #T_f786d9c0_862b_11e8_b11f_14feb5cb9ae4row12_col0 {\n",
       "            background-color:  #ffff07;\n",
       "        }    #T_f786d9c0_862b_11e8_b11f_14feb5cb9ae4row12_col1 {\n",
       "            background-color:  #ffff00;\n",
       "        }    #T_f786d9c0_862b_11e8_b11f_14feb5cb9ae4row12_col2 {\n",
       "            background-color:  #ffffc1;\n",
       "        }    #T_f786d9c0_862b_11e8_b11f_14feb5cb9ae4row12_col3 {\n",
       "            background-color:  #ffffcd;\n",
       "        }    #T_f786d9c0_862b_11e8_b11f_14feb5cb9ae4row13_col0 {\n",
       "            background-color:  #ffffc2;\n",
       "        }    #T_f786d9c0_862b_11e8_b11f_14feb5cb9ae4row13_col1 {\n",
       "            background-color:  #ffffb6;\n",
       "        }    #T_f786d9c0_862b_11e8_b11f_14feb5cb9ae4row13_col2 {\n",
       "            background-color:  #ffff55;\n",
       "        }    #T_f786d9c0_862b_11e8_b11f_14feb5cb9ae4row13_col3 {\n",
       "            background-color:  #ffffe5;\n",
       "        }    #T_f786d9c0_862b_11e8_b11f_14feb5cb9ae4row14_col0 {\n",
       "            background-color:  #ffff07;\n",
       "        }    #T_f786d9c0_862b_11e8_b11f_14feb5cb9ae4row14_col1 {\n",
       "            background-color:  #ffff00;\n",
       "        }    #T_f786d9c0_862b_11e8_b11f_14feb5cb9ae4row14_col2 {\n",
       "            background-color:  #ffffbe;\n",
       "        }    #T_f786d9c0_862b_11e8_b11f_14feb5cb9ae4row14_col3 {\n",
       "            background-color:  #ffffcd;\n",
       "        }    #T_f786d9c0_862b_11e8_b11f_14feb5cb9ae4row15_col0 {\n",
       "            background-color:  #ffffe5;\n",
       "        }    #T_f786d9c0_862b_11e8_b11f_14feb5cb9ae4row15_col1 {\n",
       "            background-color:  #ffffe5;\n",
       "        }    #T_f786d9c0_862b_11e8_b11f_14feb5cb9ae4row15_col2 {\n",
       "            background-color:  #ffffe4;\n",
       "        }    #T_f786d9c0_862b_11e8_b11f_14feb5cb9ae4row15_col3 {\n",
       "            background-color:  #ffffaa;\n",
       "        }    #T_f786d9c0_862b_11e8_b11f_14feb5cb9ae4row16_col0 {\n",
       "            background-color:  #ffffe4;\n",
       "        }    #T_f786d9c0_862b_11e8_b11f_14feb5cb9ae4row16_col1 {\n",
       "            background-color:  #ffffe5;\n",
       "        }    #T_f786d9c0_862b_11e8_b11f_14feb5cb9ae4row16_col2 {\n",
       "            background-color:  #ffffdb;\n",
       "        }    #T_f786d9c0_862b_11e8_b11f_14feb5cb9ae4row16_col3 {\n",
       "            background-color:  #ffff00;\n",
       "        }    #T_f786d9c0_862b_11e8_b11f_14feb5cb9ae4row17_col0 {\n",
       "            background-color:  #ffff07;\n",
       "        }    #T_f786d9c0_862b_11e8_b11f_14feb5cb9ae4row17_col1 {\n",
       "            background-color:  #ffff00;\n",
       "        }    #T_f786d9c0_862b_11e8_b11f_14feb5cb9ae4row17_col2 {\n",
       "            background-color:  #ffffbd;\n",
       "        }    #T_f786d9c0_862b_11e8_b11f_14feb5cb9ae4row17_col3 {\n",
       "            background-color:  #ffffcd;\n",
       "        }    #T_f786d9c0_862b_11e8_b11f_14feb5cb9ae4row18_col0 {\n",
       "            background-color:  #ffff03;\n",
       "        }    #T_f786d9c0_862b_11e8_b11f_14feb5cb9ae4row18_col1 {\n",
       "            background-color:  #ffff01;\n",
       "        }    #T_f786d9c0_862b_11e8_b11f_14feb5cb9ae4row18_col2 {\n",
       "            background-color:  #ffffbf;\n",
       "        }    #T_f786d9c0_862b_11e8_b11f_14feb5cb9ae4row18_col3 {\n",
       "            background-color:  #ffffce;\n",
       "        }    #T_f786d9c0_862b_11e8_b11f_14feb5cb9ae4row19_col0 {\n",
       "            background-color:  #ffff07;\n",
       "        }    #T_f786d9c0_862b_11e8_b11f_14feb5cb9ae4row19_col1 {\n",
       "            background-color:  #ffff00;\n",
       "        }    #T_f786d9c0_862b_11e8_b11f_14feb5cb9ae4row19_col2 {\n",
       "            background-color:  #ffffc0;\n",
       "        }    #T_f786d9c0_862b_11e8_b11f_14feb5cb9ae4row19_col3 {\n",
       "            background-color:  #ffffcd;\n",
       "        }    #T_f786d9c0_862b_11e8_b11f_14feb5cb9ae4row20_col0 {\n",
       "            background-color:  #ffffe1;\n",
       "        }    #T_f786d9c0_862b_11e8_b11f_14feb5cb9ae4row20_col1 {\n",
       "            background-color:  #ffffe2;\n",
       "        }    #T_f786d9c0_862b_11e8_b11f_14feb5cb9ae4row20_col2 {\n",
       "            background-color:  #ffffdd;\n",
       "        }    #T_f786d9c0_862b_11e8_b11f_14feb5cb9ae4row20_col3 {\n",
       "            background-color:  #ffffa3;\n",
       "        }    #T_f786d9c0_862b_11e8_b11f_14feb5cb9ae4row21_col0 {\n",
       "            background-color:  #ffffc7;\n",
       "        }    #T_f786d9c0_862b_11e8_b11f_14feb5cb9ae4row21_col1 {\n",
       "            background-color:  #ffffc7;\n",
       "        }    #T_f786d9c0_862b_11e8_b11f_14feb5cb9ae4row21_col2 {\n",
       "            background-color:  #ffff00;\n",
       "        }    #T_f786d9c0_862b_11e8_b11f_14feb5cb9ae4row21_col3 {\n",
       "            background-color:  #ffffcd;\n",
       "        }    #T_f786d9c0_862b_11e8_b11f_14feb5cb9ae4row22_col0 {\n",
       "            background-color:  #ffffe4;\n",
       "        }    #T_f786d9c0_862b_11e8_b11f_14feb5cb9ae4row22_col1 {\n",
       "            background-color:  #ffffe5;\n",
       "        }    #T_f786d9c0_862b_11e8_b11f_14feb5cb9ae4row22_col2 {\n",
       "            background-color:  #ffffe1;\n",
       "        }    #T_f786d9c0_862b_11e8_b11f_14feb5cb9ae4row22_col3 {\n",
       "            background-color:  #ffffbf;\n",
       "        }    #T_f786d9c0_862b_11e8_b11f_14feb5cb9ae4row23_col0 {\n",
       "            background-color:  #ffffe5;\n",
       "        }    #T_f786d9c0_862b_11e8_b11f_14feb5cb9ae4row23_col1 {\n",
       "            background-color:  #ffffe5;\n",
       "        }    #T_f786d9c0_862b_11e8_b11f_14feb5cb9ae4row23_col2 {\n",
       "            background-color:  #ffffe5;\n",
       "        }    #T_f786d9c0_862b_11e8_b11f_14feb5cb9ae4row23_col3 {\n",
       "            background-color:  #ffffa2;\n",
       "        }    #T_f786d9c0_862b_11e8_b11f_14feb5cb9ae4row24_col0 {\n",
       "            background-color:  #ffff06;\n",
       "        }    #T_f786d9c0_862b_11e8_b11f_14feb5cb9ae4row24_col1 {\n",
       "            background-color:  #ffff00;\n",
       "        }    #T_f786d9c0_862b_11e8_b11f_14feb5cb9ae4row24_col2 {\n",
       "            background-color:  #ffffbf;\n",
       "        }    #T_f786d9c0_862b_11e8_b11f_14feb5cb9ae4row24_col3 {\n",
       "            background-color:  #ffffcd;\n",
       "        }    #T_f786d9c0_862b_11e8_b11f_14feb5cb9ae4row25_col0 {\n",
       "            background-color:  #ffff08;\n",
       "        }    #T_f786d9c0_862b_11e8_b11f_14feb5cb9ae4row25_col1 {\n",
       "            background-color:  #ffff00;\n",
       "        }    #T_f786d9c0_862b_11e8_b11f_14feb5cb9ae4row25_col2 {\n",
       "            background-color:  #ffffbe;\n",
       "        }    #T_f786d9c0_862b_11e8_b11f_14feb5cb9ae4row25_col3 {\n",
       "            background-color:  #ffffcc;\n",
       "        }</style>  \n",
       "<table id=\"T_f786d9c0_862b_11e8_b11f_14feb5cb9ae4\" > \n",
       "<thead>    <tr> \n",
       "        <th class=\"blank level0\" ></th> \n",
       "        <th class=\"col_heading level0 col0\" >PAPI_TOT_CYC</th> \n",
       "        <th class=\"col_heading level0 col1\" >PAPI_RES_STL</th> \n",
       "        <th class=\"col_heading level0 col2\" >DERIVED_STALL_PERCENT</th> \n",
       "        <th class=\"col_heading level0 col3\" >DERIVED_L3_MISSRATE</th> \n",
       "    </tr></thead> \n",
       "<tbody>    <tr> \n",
       "        <th id=\"T_f786d9c0_862b_11e8_b11f_14feb5cb9ae4level0_row0\" class=\"row_heading level0 row0\" >PAPI_TOT_CYC</th> \n",
       "        <td id=\"T_f786d9c0_862b_11e8_b11f_14feb5cb9ae4row0_col0\" class=\"data row0 col0\" >100.00%</td> \n",
       "        <td id=\"T_f786d9c0_862b_11e8_b11f_14feb5cb9ae4row0_col1\" class=\"data row0 col1\" >96.20%</td> \n",
       "        <td id=\"T_f786d9c0_862b_11e8_b11f_14feb5cb9ae4row0_col2\" class=\"data row0 col2\" >10.44%</td> \n",
       "        <td id=\"T_f786d9c0_862b_11e8_b11f_14feb5cb9ae4row0_col3\" class=\"data row0 col3\" >-2.38%</td> \n",
       "    </tr>    <tr> \n",
       "        <th id=\"T_f786d9c0_862b_11e8_b11f_14feb5cb9ae4level0_row1\" class=\"row_heading level0 row1\" >DERIVED_VIPI</th> \n",
       "        <td id=\"T_f786d9c0_862b_11e8_b11f_14feb5cb9ae4row1_col0\" class=\"data row1 col0\" >-1.50%</td> \n",
       "        <td id=\"T_f786d9c0_862b_11e8_b11f_14feb5cb9ae4row1_col1\" class=\"data row1 col1\" >-0.64%</td> \n",
       "        <td id=\"T_f786d9c0_862b_11e8_b11f_14feb5cb9ae4row1_col2\" class=\"data row1 col2\" >-2.59%</td> \n",
       "        <td id=\"T_f786d9c0_862b_11e8_b11f_14feb5cb9ae4row1_col3\" class=\"data row1 col3\" >0.85%</td> \n",
       "    </tr>    <tr> \n",
       "        <th id=\"T_f786d9c0_862b_11e8_b11f_14feb5cb9ae4level0_row2\" class=\"row_heading level0 row2\" >PAPI_NATIVE_UOPS_RETIRED:SCALAR_SIMD</th> \n",
       "        <td id=\"T_f786d9c0_862b_11e8_b11f_14feb5cb9ae4row2_col0\" class=\"data row2 col0\" >96.22%</td> \n",
       "        <td id=\"T_f786d9c0_862b_11e8_b11f_14feb5cb9ae4row2_col1\" class=\"data row2 col1\" >99.76%</td> \n",
       "        <td id=\"T_f786d9c0_862b_11e8_b11f_14feb5cb9ae4row2_col2\" class=\"data row2 col2\" >11.07%</td> \n",
       "        <td id=\"T_f786d9c0_862b_11e8_b11f_14feb5cb9ae4row2_col3\" class=\"data row2 col3\" >-0.76%</td> \n",
       "    </tr>    <tr> \n",
       "        <th id=\"T_f786d9c0_862b_11e8_b11f_14feb5cb9ae4level0_row3\" class=\"row_heading level0 row3\" >PAPI_L2_TCA</th> \n",
       "        <td id=\"T_f786d9c0_862b_11e8_b11f_14feb5cb9ae4row3_col0\" class=\"data row3 col0\" >98.89%</td> \n",
       "        <td id=\"T_f786d9c0_862b_11e8_b11f_14feb5cb9ae4row3_col1\" class=\"data row3 col1\" >99.09%</td> \n",
       "        <td id=\"T_f786d9c0_862b_11e8_b11f_14feb5cb9ae4row3_col2\" class=\"data row3 col2\" >12.62%</td> \n",
       "        <td id=\"T_f786d9c0_862b_11e8_b11f_14feb5cb9ae4row3_col3\" class=\"data row3 col3\" >-2.11%</td> \n",
       "    </tr>    <tr> \n",
       "        <th id=\"T_f786d9c0_862b_11e8_b11f_14feb5cb9ae4level0_row4\" class=\"row_heading level0 row4\" >PAPI_NATIVE_LLC_MISSES</th> \n",
       "        <td id=\"T_f786d9c0_862b_11e8_b11f_14feb5cb9ae4row4_col0\" class=\"data row4 col0\" >98.69%</td> \n",
       "        <td id=\"T_f786d9c0_862b_11e8_b11f_14feb5cb9ae4row4_col1\" class=\"data row4 col1\" >99.33%</td> \n",
       "        <td id=\"T_f786d9c0_862b_11e8_b11f_14feb5cb9ae4row4_col2\" class=\"data row4 col2\" >12.58%</td> \n",
       "        <td id=\"T_f786d9c0_862b_11e8_b11f_14feb5cb9ae4row4_col3\" class=\"data row4 col3\" >-1.30%</td> \n",
       "    </tr>    <tr> \n",
       "        <th id=\"T_f786d9c0_862b_11e8_b11f_14feb5cb9ae4level0_row5\" class=\"row_heading level0 row5\" >PAPI_TLB_DM</th> \n",
       "        <td id=\"T_f786d9c0_862b_11e8_b11f_14feb5cb9ae4row5_col0\" class=\"data row5 col0\" >98.38%</td> \n",
       "        <td id=\"T_f786d9c0_862b_11e8_b11f_14feb5cb9ae4row5_col1\" class=\"data row5 col1\" >99.49%</td> \n",
       "        <td id=\"T_f786d9c0_862b_11e8_b11f_14feb5cb9ae4row5_col2\" class=\"data row5 col2\" >11.53%</td> \n",
       "        <td id=\"T_f786d9c0_862b_11e8_b11f_14feb5cb9ae4row5_col3\" class=\"data row5 col3\" >-1.35%</td> \n",
       "    </tr>    <tr> \n",
       "        <th id=\"T_f786d9c0_862b_11e8_b11f_14feb5cb9ae4level0_row6\" class=\"row_heading level0 row6\" >PAPI_L2_TCM</th> \n",
       "        <td id=\"T_f786d9c0_862b_11e8_b11f_14feb5cb9ae4row6_col0\" class=\"data row6 col0\" >97.60%</td> \n",
       "        <td id=\"T_f786d9c0_862b_11e8_b11f_14feb5cb9ae4row6_col1\" class=\"data row6 col1\" >99.80%</td> \n",
       "        <td id=\"T_f786d9c0_862b_11e8_b11f_14feb5cb9ae4row6_col2\" class=\"data row6 col2\" >11.59%</td> \n",
       "        <td id=\"T_f786d9c0_862b_11e8_b11f_14feb5cb9ae4row6_col3\" class=\"data row6 col3\" >-1.00%</td> \n",
       "    </tr>    <tr> \n",
       "        <th id=\"T_f786d9c0_862b_11e8_b11f_14feb5cb9ae4level0_row7\" class=\"row_heading level0 row7\" >PAPI_NATIVE_UOPS_RETIRED:PACKED_SIMD</th> \n",
       "        <td id=\"T_f786d9c0_862b_11e8_b11f_14feb5cb9ae4row7_col0\" class=\"data row7 col0\" >99.59%</td> \n",
       "        <td id=\"T_f786d9c0_862b_11e8_b11f_14feb5cb9ae4row7_col1\" class=\"data row7 col1\" >97.51%</td> \n",
       "        <td id=\"T_f786d9c0_862b_11e8_b11f_14feb5cb9ae4row7_col2\" class=\"data row7 col2\" >11.05%</td> \n",
       "        <td id=\"T_f786d9c0_862b_11e8_b11f_14feb5cb9ae4row7_col3\" class=\"data row7 col3\" >-2.25%</td> \n",
       "    </tr>    <tr> \n",
       "        <th id=\"T_f786d9c0_862b_11e8_b11f_14feb5cb9ae4level0_row8\" class=\"row_heading level0 row8\" >PAPI_NATIVE_FETCH_STALL</th> \n",
       "        <td id=\"T_f786d9c0_862b_11e8_b11f_14feb5cb9ae4row8_col0\" class=\"data row8 col0\" >73.18%</td> \n",
       "        <td id=\"T_f786d9c0_862b_11e8_b11f_14feb5cb9ae4row8_col1\" class=\"data row8 col1\" >52.60%</td> \n",
       "        <td id=\"T_f786d9c0_862b_11e8_b11f_14feb5cb9ae4row8_col2\" class=\"data row8 col2\" >4.34%</td> \n",
       "        <td id=\"T_f786d9c0_862b_11e8_b11f_14feb5cb9ae4row8_col3\" class=\"data row8 col3\" >-6.27%</td> \n",
       "    </tr>    <tr> \n",
       "        <th id=\"T_f786d9c0_862b_11e8_b11f_14feb5cb9ae4level0_row9\" class=\"row_heading level0 row9\" >PAPI_L1_TCM</th> \n",
       "        <td id=\"T_f786d9c0_862b_11e8_b11f_14feb5cb9ae4row9_col0\" class=\"data row9 col0\" >97.75%</td> \n",
       "        <td id=\"T_f786d9c0_862b_11e8_b11f_14feb5cb9ae4row9_col1\" class=\"data row9 col1\" >99.76%</td> \n",
       "        <td id=\"T_f786d9c0_862b_11e8_b11f_14feb5cb9ae4row9_col2\" class=\"data row9 col2\" >11.55%</td> \n",
       "        <td id=\"T_f786d9c0_862b_11e8_b11f_14feb5cb9ae4row9_col3\" class=\"data row9 col3\" >-1.10%</td> \n",
       "    </tr>    <tr> \n",
       "        <th id=\"T_f786d9c0_862b_11e8_b11f_14feb5cb9ae4level0_row10\" class=\"row_heading level0 row10\" >PAPI_BR_MSP</th> \n",
       "        <td id=\"T_f786d9c0_862b_11e8_b11f_14feb5cb9ae4row10_col0\" class=\"data row10 col0\" >98.16%</td> \n",
       "        <td id=\"T_f786d9c0_862b_11e8_b11f_14feb5cb9ae4row10_col1\" class=\"data row10 col1\" >98.85%</td> \n",
       "        <td id=\"T_f786d9c0_862b_11e8_b11f_14feb5cb9ae4row10_col2\" class=\"data row10 col2\" >14.68%</td> \n",
       "        <td id=\"T_f786d9c0_862b_11e8_b11f_14feb5cb9ae4row10_col3\" class=\"data row10 col3\" >-1.57%</td> \n",
       "    </tr>    <tr> \n",
       "        <th id=\"T_f786d9c0_862b_11e8_b11f_14feb5cb9ae4level0_row11\" class=\"row_heading level0 row11\" >PAPI_RES_STL</th> \n",
       "        <td id=\"T_f786d9c0_862b_11e8_b11f_14feb5cb9ae4row11_col0\" class=\"data row11 col0\" >96.20%</td> \n",
       "        <td id=\"T_f786d9c0_862b_11e8_b11f_14feb5cb9ae4row11_col1\" class=\"data row11 col1\" >100.00%</td> \n",
       "        <td id=\"T_f786d9c0_862b_11e8_b11f_14feb5cb9ae4row11_col2\" class=\"data row11 col2\" >12.77%</td> \n",
       "        <td id=\"T_f786d9c0_862b_11e8_b11f_14feb5cb9ae4row11_col3\" class=\"data row11 col3\" >-0.62%</td> \n",
       "    </tr>    <tr> \n",
       "        <th id=\"T_f786d9c0_862b_11e8_b11f_14feb5cb9ae4level0_row12\" class=\"row_heading level0 row12\" >PAPI_TOT_INS</th> \n",
       "        <td id=\"T_f786d9c0_862b_11e8_b11f_14feb5cb9ae4row12_col0\" class=\"data row12 col0\" >96.50%</td> \n",
       "        <td id=\"T_f786d9c0_862b_11e8_b11f_14feb5cb9ae4row12_col1\" class=\"data row12 col1\" >99.93%</td> \n",
       "        <td id=\"T_f786d9c0_862b_11e8_b11f_14feb5cb9ae4row12_col2\" class=\"data row12 col2\" >11.36%</td> \n",
       "        <td id=\"T_f786d9c0_862b_11e8_b11f_14feb5cb9ae4row12_col3\" class=\"data row12 col3\" >-0.72%</td> \n",
       "    </tr>    <tr> \n",
       "        <th id=\"T_f786d9c0_862b_11e8_b11f_14feb5cb9ae4level0_row13\" class=\"row_heading level0 row13\" >DERIVED_IPC</th> \n",
       "        <td id=\"T_f786d9c0_862b_11e8_b11f_14feb5cb9ae4row13_col0\" class=\"data row13 col0\" >12.55%</td> \n",
       "        <td id=\"T_f786d9c0_862b_11e8_b11f_14feb5cb9ae4row13_col1\" class=\"data row13 col1\" >20.18%</td> \n",
       "        <td id=\"T_f786d9c0_862b_11e8_b11f_14feb5cb9ae4row13_col2\" class=\"data row13 col2\" >61.00%</td> \n",
       "        <td id=\"T_f786d9c0_862b_11e8_b11f_14feb5cb9ae4row13_col3\" class=\"data row13 col3\" >-13.00%</td> \n",
       "    </tr>    <tr> \n",
       "        <th id=\"T_f786d9c0_862b_11e8_b11f_14feb5cb9ae4level0_row14\" class=\"row_heading level0 row14\" >PAPI_BR_CN</th> \n",
       "        <td id=\"T_f786d9c0_862b_11e8_b11f_14feb5cb9ae4row14_col0\" class=\"data row14 col0\" >96.57%</td> \n",
       "        <td id=\"T_f786d9c0_862b_11e8_b11f_14feb5cb9ae4row14_col1\" class=\"data row14 col1\" >99.83%</td> \n",
       "        <td id=\"T_f786d9c0_862b_11e8_b11f_14feb5cb9ae4row14_col2\" class=\"data row14 col2\" >12.42%</td> \n",
       "        <td id=\"T_f786d9c0_862b_11e8_b11f_14feb5cb9ae4row14_col3\" class=\"data row14 col3\" >-0.83%</td> \n",
       "    </tr>    <tr> \n",
       "        <th id=\"T_f786d9c0_862b_11e8_b11f_14feb5cb9ae4level0_row15\" class=\"row_heading level0 row15\" >DERIVED_L1_MISSRATE</th> \n",
       "        <td id=\"T_f786d9c0_862b_11e8_b11f_14feb5cb9ae4row15_col0\" class=\"data row15 col0\" >-3.55%</td> \n",
       "        <td id=\"T_f786d9c0_862b_11e8_b11f_14feb5cb9ae4row15_col1\" class=\"data row15 col1\" >-0.98%</td> \n",
       "        <td id=\"T_f786d9c0_862b_11e8_b11f_14feb5cb9ae4row15_col2\" class=\"data row15 col2\" >-5.10%</td> \n",
       "        <td id=\"T_f786d9c0_862b_11e8_b11f_14feb5cb9ae4row15_col3\" class=\"data row15 col3\" >16.35%</td> \n",
       "    </tr>    <tr> \n",
       "        <th id=\"T_f786d9c0_862b_11e8_b11f_14feb5cb9ae4level0_row16\" class=\"row_heading level0 row16\" >DERIVED_L3_MISSRATE</th> \n",
       "        <td id=\"T_f786d9c0_862b_11e8_b11f_14feb5cb9ae4row16_col0\" class=\"data row16 col0\" >-2.38%</td> \n",
       "        <td id=\"T_f786d9c0_862b_11e8_b11f_14feb5cb9ae4row16_col1\" class=\"data row16 col1\" >-0.62%</td> \n",
       "        <td id=\"T_f786d9c0_862b_11e8_b11f_14feb5cb9ae4row16_col2\" class=\"data row16 col2\" >-0.94%</td> \n",
       "        <td id=\"T_f786d9c0_862b_11e8_b11f_14feb5cb9ae4row16_col3\" class=\"data row16 col3\" >100.00%</td> \n",
       "    </tr>    <tr> \n",
       "        <th id=\"T_f786d9c0_862b_11e8_b11f_14feb5cb9ae4level0_row17\" class=\"row_heading level0 row17\" >PAPI_BR_UCN</th> \n",
       "        <td id=\"T_f786d9c0_862b_11e8_b11f_14feb5cb9ae4row17_col0\" class=\"data row17 col0\" >96.41%</td> \n",
       "        <td id=\"T_f786d9c0_862b_11e8_b11f_14feb5cb9ae4row17_col1\" class=\"data row17 col1\" >99.99%</td> \n",
       "        <td id=\"T_f786d9c0_862b_11e8_b11f_14feb5cb9ae4row17_col2\" class=\"data row17 col2\" >12.66%</td> \n",
       "        <td id=\"T_f786d9c0_862b_11e8_b11f_14feb5cb9ae4row17_col3\" class=\"data row17 col3\" >-0.65%</td> \n",
       "    </tr>    <tr> \n",
       "        <th id=\"T_f786d9c0_862b_11e8_b11f_14feb5cb9ae4level0_row18\" class=\"row_heading level0 row18\" >PAPI_NATIVE_LLC_REFERENCES</th> \n",
       "        <td id=\"T_f786d9c0_862b_11e8_b11f_14feb5cb9ae4row18_col0\" class=\"data row18 col0\" >98.45%</td> \n",
       "        <td id=\"T_f786d9c0_862b_11e8_b11f_14feb5cb9ae4row18_col1\" class=\"data row18 col1\" >99.44%</td> \n",
       "        <td id=\"T_f786d9c0_862b_11e8_b11f_14feb5cb9ae4row18_col2\" class=\"data row18 col2\" >11.86%</td> \n",
       "        <td id=\"T_f786d9c0_862b_11e8_b11f_14feb5cb9ae4row18_col3\" class=\"data row18 col3\" >-1.41%</td> \n",
       "    </tr>    <tr> \n",
       "        <th id=\"T_f786d9c0_862b_11e8_b11f_14feb5cb9ae4level0_row19\" class=\"row_heading level0 row19\" >PAPI_BR_INS</th> \n",
       "        <td id=\"T_f786d9c0_862b_11e8_b11f_14feb5cb9ae4row19_col0\" class=\"data row19 col0\" >96.43%</td> \n",
       "        <td id=\"T_f786d9c0_862b_11e8_b11f_14feb5cb9ae4row19_col1\" class=\"data row19 col1\" >99.91%</td> \n",
       "        <td id=\"T_f786d9c0_862b_11e8_b11f_14feb5cb9ae4row19_col2\" class=\"data row19 col2\" >11.73%</td> \n",
       "        <td id=\"T_f786d9c0_862b_11e8_b11f_14feb5cb9ae4row19_col3\" class=\"data row19 col3\" >-0.73%</td> \n",
       "    </tr>    <tr> \n",
       "        <th id=\"T_f786d9c0_862b_11e8_b11f_14feb5cb9ae4level0_row20\" class=\"row_heading level0 row20\" >DERIVED_L2_MISSRATE</th> \n",
       "        <td id=\"T_f786d9c0_862b_11e8_b11f_14feb5cb9ae4row20_col0\" class=\"data row20 col0\" >-1.33%</td> \n",
       "        <td id=\"T_f786d9c0_862b_11e8_b11f_14feb5cb9ae4row20_col1\" class=\"data row20 col1\" >0.71%</td> \n",
       "        <td id=\"T_f786d9c0_862b_11e8_b11f_14feb5cb9ae4row20_col2\" class=\"data row20 col2\" >-1.89%</td> \n",
       "        <td id=\"T_f786d9c0_862b_11e8_b11f_14feb5cb9ae4row20_col3\" class=\"data row20 col3\" >19.74%</td> \n",
       "    </tr>    <tr> \n",
       "        <th id=\"T_f786d9c0_862b_11e8_b11f_14feb5cb9ae4level0_row21\" class=\"row_heading level0 row21\" >DERIVED_STALL_PERCENT</th> \n",
       "        <td id=\"T_f786d9c0_862b_11e8_b11f_14feb5cb9ae4row21_col0\" class=\"data row21 col0\" >10.44%</td> \n",
       "        <td id=\"T_f786d9c0_862b_11e8_b11f_14feb5cb9ae4row21_col1\" class=\"data row21 col1\" >12.77%</td> \n",
       "        <td id=\"T_f786d9c0_862b_11e8_b11f_14feb5cb9ae4row21_col2\" class=\"data row21 col2\" >100.00%</td> \n",
       "        <td id=\"T_f786d9c0_862b_11e8_b11f_14feb5cb9ae4row21_col3\" class=\"data row21 col3\" >-0.94%</td> \n",
       "    </tr>    <tr> \n",
       "        <th id=\"T_f786d9c0_862b_11e8_b11f_14feb5cb9ae4level0_row22\" class=\"row_heading level0 row22\" >DERIVED_BRANCH_MR</th> \n",
       "        <td id=\"T_f786d9c0_862b_11e8_b11f_14feb5cb9ae4row22_col0\" class=\"data row22 col0\" >-2.53%</td> \n",
       "        <td id=\"T_f786d9c0_862b_11e8_b11f_14feb5cb9ae4row22_col1\" class=\"data row22 col1\" >-0.94%</td> \n",
       "        <td id=\"T_f786d9c0_862b_11e8_b11f_14feb5cb9ae4row22_col2\" class=\"data row22 col2\" >-3.69%</td> \n",
       "        <td id=\"T_f786d9c0_862b_11e8_b11f_14feb5cb9ae4row22_col3\" class=\"data row22 col3\" >6.05%</td> \n",
       "    </tr>    <tr> \n",
       "        <th id=\"T_f786d9c0_862b_11e8_b11f_14feb5cb9ae4level0_row23\" class=\"row_heading level0 row23\" >DERIVED_CPI</th> \n",
       "        <td id=\"T_f786d9c0_862b_11e8_b11f_14feb5cb9ae4row23_col0\" class=\"data row23 col0\" >-3.53%</td> \n",
       "        <td id=\"T_f786d9c0_862b_11e8_b11f_14feb5cb9ae4row23_col1\" class=\"data row23 col1\" >-0.96%</td> \n",
       "        <td id=\"T_f786d9c0_862b_11e8_b11f_14feb5cb9ae4row23_col2\" class=\"data row23 col2\" >-6.00%</td> \n",
       "        <td id=\"T_f786d9c0_862b_11e8_b11f_14feb5cb9ae4row23_col3\" class=\"data row23 col3\" >20.29%</td> \n",
       "    </tr>    <tr> \n",
       "        <th id=\"T_f786d9c0_862b_11e8_b11f_14feb5cb9ae4level0_row24\" class=\"row_heading level0 row24\" >PAPI_LST_INS</th> \n",
       "        <td id=\"T_f786d9c0_862b_11e8_b11f_14feb5cb9ae4row24_col0\" class=\"data row24 col0\" >96.99%</td> \n",
       "        <td id=\"T_f786d9c0_862b_11e8_b11f_14feb5cb9ae4row24_col1\" class=\"data row24 col1\" >99.89%</td> \n",
       "        <td id=\"T_f786d9c0_862b_11e8_b11f_14feb5cb9ae4row24_col2\" class=\"data row24 col2\" >12.07%</td> \n",
       "        <td id=\"T_f786d9c0_862b_11e8_b11f_14feb5cb9ae4row24_col3\" class=\"data row24 col3\" >-0.90%</td> \n",
       "    </tr>    <tr> \n",
       "        <th id=\"T_f786d9c0_862b_11e8_b11f_14feb5cb9ae4level0_row25\" class=\"row_heading level0 row25\" >PAPI_NATIVE_RS_FULL_STALL</th> \n",
       "        <td id=\"T_f786d9c0_862b_11e8_b11f_14feb5cb9ae4row25_col0\" class=\"data row25 col0\" >96.15%</td> \n",
       "        <td id=\"T_f786d9c0_862b_11e8_b11f_14feb5cb9ae4row25_col1\" class=\"data row25 col1\" >99.99%</td> \n",
       "        <td id=\"T_f786d9c0_862b_11e8_b11f_14feb5cb9ae4row25_col2\" class=\"data row25 col2\" >12.55%</td> \n",
       "        <td id=\"T_f786d9c0_862b_11e8_b11f_14feb5cb9ae4row25_col3\" class=\"data row25 col3\" >-0.60%</td> \n",
       "    </tr></tbody> \n",
       "</table> "
      ],
      "text/plain": [
       "<pandas.io.formats.style.Styler at 0x7fd1ffd21c90>"
      ]
     },
     "execution_count": 44,
     "metadata": {},
     "output_type": "execute_result"
    }
   ],
   "source": [
    "cm = sns.light_palette(\"yellow\", as_cmap=True)\n",
    "\n",
    "def get_corr(alldata, method='pearson', metrics=['PAPI_TOT_CYC', 'PAPI_RES_STL','DERIVED_STALL_PERCENT','DERIVED_L3_MISSRATE']):\n",
    "    correlations = alldata.corr(method).fillna(0)[metrics]    # Other methods: 'kendall', 'spearman'\n",
    "    return correlations.style.format(\"{:.2%}\").background_gradient(cmap=cm)\n",
    "    \n",
    "pcorr = get_corr(alldata)\n",
    "kcorr = get_corr(alldata, method='kendall')\n",
    "scorr = get_corr(alldata, method='spearman')\n",
    "pcorr"
   ]
  },
  {
   "cell_type": "code",
   "execution_count": 7,
   "metadata": {},
   "outputs": [
    {
     "data": {
      "text/html": [
       "<style  type=\"text/css\" >\n",
       "    #T_45d75778_8625_11e8_b11f_14feb5cb9ae4row0_col0 {\n",
       "            background-color:  #ffff00;\n",
       "        }    #T_45d75778_8625_11e8_b11f_14feb5cb9ae4row0_col1 {\n",
       "            background-color:  #ffff9f;\n",
       "        }    #T_45d75778_8625_11e8_b11f_14feb5cb9ae4row0_col2 {\n",
       "            background-color:  #ffff00;\n",
       "        }    #T_45d75778_8625_11e8_b11f_14feb5cb9ae4row0_col3 {\n",
       "            background-color:  #ffff7a;\n",
       "        }    #T_45d75778_8625_11e8_b11f_14feb5cb9ae4row0_col4 {\n",
       "            background-color:  #ffff00;\n",
       "        }    #T_45d75778_8625_11e8_b11f_14feb5cb9ae4row0_col5 {\n",
       "            background-color:  #ffff5b;\n",
       "        }    #T_45d75778_8625_11e8_b11f_14feb5cb9ae4row1_col0 {\n",
       "            background-color:  #ffffe1;\n",
       "        }    #T_45d75778_8625_11e8_b11f_14feb5cb9ae4row1_col1 {\n",
       "            background-color:  #ffffe5;\n",
       "        }    #T_45d75778_8625_11e8_b11f_14feb5cb9ae4row1_col2 {\n",
       "            background-color:  #ffff9e;\n",
       "        }    #T_45d75778_8625_11e8_b11f_14feb5cb9ae4row1_col3 {\n",
       "            background-color:  #ffffdc;\n",
       "        }    #T_45d75778_8625_11e8_b11f_14feb5cb9ae4row1_col4 {\n",
       "            background-color:  #ffff86;\n",
       "        }    #T_45d75778_8625_11e8_b11f_14feb5cb9ae4row1_col5 {\n",
       "            background-color:  #ffffd7;\n",
       "        }    #T_45d75778_8625_11e8_b11f_14feb5cb9ae4row2_col0 {\n",
       "            background-color:  #ffffa7;\n",
       "        }    #T_45d75778_8625_11e8_b11f_14feb5cb9ae4row2_col1 {\n",
       "            background-color:  #ffffac;\n",
       "        }    #T_45d75778_8625_11e8_b11f_14feb5cb9ae4row2_col2 {\n",
       "            background-color:  #ffff63;\n",
       "        }    #T_45d75778_8625_11e8_b11f_14feb5cb9ae4row2_col3 {\n",
       "            background-color:  #ffff4e;\n",
       "        }    #T_45d75778_8625_11e8_b11f_14feb5cb9ae4row2_col4 {\n",
       "            background-color:  #ffff44;\n",
       "        }    #T_45d75778_8625_11e8_b11f_14feb5cb9ae4row2_col5 {\n",
       "            background-color:  #ffff2a;\n",
       "        }    #T_45d75778_8625_11e8_b11f_14feb5cb9ae4row3_col0 {\n",
       "            background-color:  #ffff2c;\n",
       "        }    #T_45d75778_8625_11e8_b11f_14feb5cb9ae4row3_col1 {\n",
       "            background-color:  #ffff6a;\n",
       "        }    #T_45d75778_8625_11e8_b11f_14feb5cb9ae4row3_col2 {\n",
       "            background-color:  #ffff56;\n",
       "        }    #T_45d75778_8625_11e8_b11f_14feb5cb9ae4row3_col3 {\n",
       "            background-color:  #ffff46;\n",
       "        }    #T_45d75778_8625_11e8_b11f_14feb5cb9ae4row3_col4 {\n",
       "            background-color:  #ffff36;\n",
       "        }    #T_45d75778_8625_11e8_b11f_14feb5cb9ae4row3_col5 {\n",
       "            background-color:  #ffff20;\n",
       "        }    #T_45d75778_8625_11e8_b11f_14feb5cb9ae4row4_col0 {\n",
       "            background-color:  #ffff29;\n",
       "        }    #T_45d75778_8625_11e8_b11f_14feb5cb9ae4row4_col1 {\n",
       "            background-color:  #ffff55;\n",
       "        }    #T_45d75778_8625_11e8_b11f_14feb5cb9ae4row4_col2 {\n",
       "            background-color:  #ffff58;\n",
       "        }    #T_45d75778_8625_11e8_b11f_14feb5cb9ae4row4_col3 {\n",
       "            background-color:  #ffff44;\n",
       "        }    #T_45d75778_8625_11e8_b11f_14feb5cb9ae4row4_col4 {\n",
       "            background-color:  #ffff39;\n",
       "        }    #T_45d75778_8625_11e8_b11f_14feb5cb9ae4row4_col5 {\n",
       "            background-color:  #ffff1f;\n",
       "        }    #T_45d75778_8625_11e8_b11f_14feb5cb9ae4row5_col0 {\n",
       "            background-color:  #ffff24;\n",
       "        }    #T_45d75778_8625_11e8_b11f_14feb5cb9ae4row5_col1 {\n",
       "            background-color:  #ffff74;\n",
       "        }    #T_45d75778_8625_11e8_b11f_14feb5cb9ae4row5_col2 {\n",
       "            background-color:  #ffff57;\n",
       "        }    #T_45d75778_8625_11e8_b11f_14feb5cb9ae4row5_col3 {\n",
       "            background-color:  #ffff4d;\n",
       "        }    #T_45d75778_8625_11e8_b11f_14feb5cb9ae4row5_col4 {\n",
       "            background-color:  #ffff37;\n",
       "        }    #T_45d75778_8625_11e8_b11f_14feb5cb9ae4row5_col5 {\n",
       "            background-color:  #ffff28;\n",
       "        }    #T_45d75778_8625_11e8_b11f_14feb5cb9ae4row6_col0 {\n",
       "            background-color:  #ffff2a;\n",
       "        }    #T_45d75778_8625_11e8_b11f_14feb5cb9ae4row6_col1 {\n",
       "            background-color:  #ffff56;\n",
       "        }    #T_45d75778_8625_11e8_b11f_14feb5cb9ae4row6_col2 {\n",
       "            background-color:  #ffff59;\n",
       "        }    #T_45d75778_8625_11e8_b11f_14feb5cb9ae4row6_col3 {\n",
       "            background-color:  #ffff49;\n",
       "        }    #T_45d75778_8625_11e8_b11f_14feb5cb9ae4row6_col4 {\n",
       "            background-color:  #ffff3a;\n",
       "        }    #T_45d75778_8625_11e8_b11f_14feb5cb9ae4row6_col5 {\n",
       "            background-color:  #ffff23;\n",
       "        }    #T_45d75778_8625_11e8_b11f_14feb5cb9ae4row7_col0 {\n",
       "            background-color:  #ffff27;\n",
       "        }    #T_45d75778_8625_11e8_b11f_14feb5cb9ae4row7_col1 {\n",
       "            background-color:  #ffff93;\n",
       "        }    #T_45d75778_8625_11e8_b11f_14feb5cb9ae4row7_col2 {\n",
       "            background-color:  #ffff51;\n",
       "        }    #T_45d75778_8625_11e8_b11f_14feb5cb9ae4row7_col3 {\n",
       "            background-color:  #ffff4e;\n",
       "        }    #T_45d75778_8625_11e8_b11f_14feb5cb9ae4row7_col4 {\n",
       "            background-color:  #ffff31;\n",
       "        }    #T_45d75778_8625_11e8_b11f_14feb5cb9ae4row7_col5 {\n",
       "            background-color:  #ffff2c;\n",
       "        }    #T_45d75778_8625_11e8_b11f_14feb5cb9ae4row8_col0 {\n",
       "            background-color:  #ffff1b;\n",
       "        }    #T_45d75778_8625_11e8_b11f_14feb5cb9ae4row8_col1 {\n",
       "            background-color:  #ffff96;\n",
       "        }    #T_45d75778_8625_11e8_b11f_14feb5cb9ae4row8_col2 {\n",
       "            background-color:  #ffff56;\n",
       "        }    #T_45d75778_8625_11e8_b11f_14feb5cb9ae4row8_col3 {\n",
       "            background-color:  #ffff56;\n",
       "        }    #T_45d75778_8625_11e8_b11f_14feb5cb9ae4row8_col4 {\n",
       "            background-color:  #ffff36;\n",
       "        }    #T_45d75778_8625_11e8_b11f_14feb5cb9ae4row8_col5 {\n",
       "            background-color:  #ffff31;\n",
       "        }    #T_45d75778_8625_11e8_b11f_14feb5cb9ae4row9_col0 {\n",
       "            background-color:  #ffff28;\n",
       "        }    #T_45d75778_8625_11e8_b11f_14feb5cb9ae4row9_col1 {\n",
       "            background-color:  #ffff57;\n",
       "        }    #T_45d75778_8625_11e8_b11f_14feb5cb9ae4row9_col2 {\n",
       "            background-color:  #ffff58;\n",
       "        }    #T_45d75778_8625_11e8_b11f_14feb5cb9ae4row9_col3 {\n",
       "            background-color:  #ffff4d;\n",
       "        }    #T_45d75778_8625_11e8_b11f_14feb5cb9ae4row9_col4 {\n",
       "            background-color:  #ffff39;\n",
       "        }    #T_45d75778_8625_11e8_b11f_14feb5cb9ae4row9_col5 {\n",
       "            background-color:  #ffff27;\n",
       "        }    #T_45d75778_8625_11e8_b11f_14feb5cb9ae4row10_col0 {\n",
       "            background-color:  #ffff66;\n",
       "        }    #T_45d75778_8625_11e8_b11f_14feb5cb9ae4row10_col1 {\n",
       "            background-color:  #ffff50;\n",
       "        }    #T_45d75778_8625_11e8_b11f_14feb5cb9ae4row10_col2 {\n",
       "            background-color:  #ffff56;\n",
       "        }    #T_45d75778_8625_11e8_b11f_14feb5cb9ae4row10_col3 {\n",
       "            background-color:  #ffff48;\n",
       "        }    #T_45d75778_8625_11e8_b11f_14feb5cb9ae4row10_col4 {\n",
       "            background-color:  #ffff37;\n",
       "        }    #T_45d75778_8625_11e8_b11f_14feb5cb9ae4row10_col5 {\n",
       "            background-color:  #ffff23;\n",
       "        }    #T_45d75778_8625_11e8_b11f_14feb5cb9ae4row11_col0 {\n",
       "            background-color:  #ffffab;\n",
       "        }    #T_45d75778_8625_11e8_b11f_14feb5cb9ae4row11_col1 {\n",
       "            background-color:  #ffff00;\n",
       "        }    #T_45d75778_8625_11e8_b11f_14feb5cb9ae4row11_col2 {\n",
       "            background-color:  #ffff65;\n",
       "        }    #T_45d75778_8625_11e8_b11f_14feb5cb9ae4row11_col3 {\n",
       "            background-color:  #ffff00;\n",
       "        }    #T_45d75778_8625_11e8_b11f_14feb5cb9ae4row11_col4 {\n",
       "            background-color:  #ffff46;\n",
       "        }    #T_45d75778_8625_11e8_b11f_14feb5cb9ae4row11_col5 {\n",
       "            background-color:  #ffff00;\n",
       "        }    #T_45d75778_8625_11e8_b11f_14feb5cb9ae4row12_col0 {\n",
       "            background-color:  #ffff4e;\n",
       "        }    #T_45d75778_8625_11e8_b11f_14feb5cb9ae4row12_col1 {\n",
       "            background-color:  #ffff57;\n",
       "        }    #T_45d75778_8625_11e8_b11f_14feb5cb9ae4row12_col2 {\n",
       "            background-color:  #ffff59;\n",
       "        }    #T_45d75778_8625_11e8_b11f_14feb5cb9ae4row12_col3 {\n",
       "            background-color:  #ffff44;\n",
       "        }    #T_45d75778_8625_11e8_b11f_14feb5cb9ae4row12_col4 {\n",
       "            background-color:  #ffff3a;\n",
       "        }    #T_45d75778_8625_11e8_b11f_14feb5cb9ae4row12_col5 {\n",
       "            background-color:  #ffff1f;\n",
       "        }    #T_45d75778_8625_11e8_b11f_14feb5cb9ae4row13_col0 {\n",
       "            background-color:  #ffffe5;\n",
       "        }    #T_45d75778_8625_11e8_b11f_14feb5cb9ae4row13_col1 {\n",
       "            background-color:  #ffff99;\n",
       "        }    #T_45d75778_8625_11e8_b11f_14feb5cb9ae4row13_col2 {\n",
       "            background-color:  #ffffe3;\n",
       "        }    #T_45d75778_8625_11e8_b11f_14feb5cb9ae4row13_col3 {\n",
       "            background-color:  #ffffbc;\n",
       "        }    #T_45d75778_8625_11e8_b11f_14feb5cb9ae4row13_col4 {\n",
       "            background-color:  #ffffe1;\n",
       "        }    #T_45d75778_8625_11e8_b11f_14feb5cb9ae4row13_col5 {\n",
       "            background-color:  #ffffad;\n",
       "        }    #T_45d75778_8625_11e8_b11f_14feb5cb9ae4row14_col0 {\n",
       "            background-color:  #ffff91;\n",
       "        }    #T_45d75778_8625_11e8_b11f_14feb5cb9ae4row14_col1 {\n",
       "            background-color:  #ffff67;\n",
       "        }    #T_45d75778_8625_11e8_b11f_14feb5cb9ae4row14_col2 {\n",
       "            background-color:  #ffff5d;\n",
       "        }    #T_45d75778_8625_11e8_b11f_14feb5cb9ae4row14_col3 {\n",
       "            background-color:  #ffff40;\n",
       "        }    #T_45d75778_8625_11e8_b11f_14feb5cb9ae4row14_col4 {\n",
       "            background-color:  #ffff3e;\n",
       "        }    #T_45d75778_8625_11e8_b11f_14feb5cb9ae4row14_col5 {\n",
       "            background-color:  #ffff1c;\n",
       "        }    #T_45d75778_8625_11e8_b11f_14feb5cb9ae4row15_col0 {\n",
       "            background-color:  #ffffda;\n",
       "        }    #T_45d75778_8625_11e8_b11f_14feb5cb9ae4row15_col1 {\n",
       "            background-color:  #ffffca;\n",
       "        }    #T_45d75778_8625_11e8_b11f_14feb5cb9ae4row15_col2 {\n",
       "            background-color:  #ffffa1;\n",
       "        }    #T_45d75778_8625_11e8_b11f_14feb5cb9ae4row15_col3 {\n",
       "            background-color:  #ffffe5;\n",
       "        }    #T_45d75778_8625_11e8_b11f_14feb5cb9ae4row15_col4 {\n",
       "            background-color:  #ffff8b;\n",
       "        }    #T_45d75778_8625_11e8_b11f_14feb5cb9ae4row15_col5 {\n",
       "            background-color:  #ffffe5;\n",
       "        }    #T_45d75778_8625_11e8_b11f_14feb5cb9ae4row16_col0 {\n",
       "            background-color:  #ffffd9;\n",
       "        }    #T_45d75778_8625_11e8_b11f_14feb5cb9ae4row16_col1 {\n",
       "            background-color:  #ffffc4;\n",
       "        }    #T_45d75778_8625_11e8_b11f_14feb5cb9ae4row16_col2 {\n",
       "            background-color:  #ffffb0;\n",
       "        }    #T_45d75778_8625_11e8_b11f_14feb5cb9ae4row16_col3 {\n",
       "            background-color:  #ffffc4;\n",
       "        }    #T_45d75778_8625_11e8_b11f_14feb5cb9ae4row16_col4 {\n",
       "            background-color:  #ffffa2;\n",
       "        }    #T_45d75778_8625_11e8_b11f_14feb5cb9ae4row16_col5 {\n",
       "            background-color:  #ffffb9;\n",
       "        }    #T_45d75778_8625_11e8_b11f_14feb5cb9ae4row17_col0 {\n",
       "            background-color:  #ffff84;\n",
       "        }    #T_45d75778_8625_11e8_b11f_14feb5cb9ae4row17_col1 {\n",
       "            background-color:  #ffff08;\n",
       "        }    #T_45d75778_8625_11e8_b11f_14feb5cb9ae4row17_col2 {\n",
       "            background-color:  #ffff5d;\n",
       "        }    #T_45d75778_8625_11e8_b11f_14feb5cb9ae4row17_col3 {\n",
       "            background-color:  #ffff46;\n",
       "        }    #T_45d75778_8625_11e8_b11f_14feb5cb9ae4row17_col4 {\n",
       "            background-color:  #ffff3d;\n",
       "        }    #T_45d75778_8625_11e8_b11f_14feb5cb9ae4row17_col5 {\n",
       "            background-color:  #ffff22;\n",
       "        }    #T_45d75778_8625_11e8_b11f_14feb5cb9ae4row18_col0 {\n",
       "            background-color:  #ffff2c;\n",
       "        }    #T_45d75778_8625_11e8_b11f_14feb5cb9ae4row18_col1 {\n",
       "            background-color:  #ffff69;\n",
       "        }    #T_45d75778_8625_11e8_b11f_14feb5cb9ae4row18_col2 {\n",
       "            background-color:  #ffff56;\n",
       "        }    #T_45d75778_8625_11e8_b11f_14feb5cb9ae4row18_col3 {\n",
       "            background-color:  #ffff46;\n",
       "        }    #T_45d75778_8625_11e8_b11f_14feb5cb9ae4row18_col4 {\n",
       "            background-color:  #ffff36;\n",
       "        }    #T_45d75778_8625_11e8_b11f_14feb5cb9ae4row18_col5 {\n",
       "            background-color:  #ffff20;\n",
       "        }    #T_45d75778_8625_11e8_b11f_14feb5cb9ae4row19_col0 {\n",
       "            background-color:  #ffff8c;\n",
       "        }    #T_45d75778_8625_11e8_b11f_14feb5cb9ae4row19_col1 {\n",
       "            background-color:  #ffff55;\n",
       "        }    #T_45d75778_8625_11e8_b11f_14feb5cb9ae4row19_col2 {\n",
       "            background-color:  #ffff5d;\n",
       "        }    #T_45d75778_8625_11e8_b11f_14feb5cb9ae4row19_col3 {\n",
       "            background-color:  #ffff3d;\n",
       "        }    #T_45d75778_8625_11e8_b11f_14feb5cb9ae4row19_col4 {\n",
       "            background-color:  #ffff3f;\n",
       "        }    #T_45d75778_8625_11e8_b11f_14feb5cb9ae4row19_col5 {\n",
       "            background-color:  #ffff19;\n",
       "        }    #T_45d75778_8625_11e8_b11f_14feb5cb9ae4row20_col0 {\n",
       "            background-color:  #ffffda;\n",
       "        }    #T_45d75778_8625_11e8_b11f_14feb5cb9ae4row20_col1 {\n",
       "            background-color:  #ffffbe;\n",
       "        }    #T_45d75778_8625_11e8_b11f_14feb5cb9ae4row20_col2 {\n",
       "            background-color:  #ffffb1;\n",
       "        }    #T_45d75778_8625_11e8_b11f_14feb5cb9ae4row20_col3 {\n",
       "            background-color:  #ffffcc;\n",
       "        }    #T_45d75778_8625_11e8_b11f_14feb5cb9ae4row20_col4 {\n",
       "            background-color:  #ffffa2;\n",
       "        }    #T_45d75778_8625_11e8_b11f_14feb5cb9ae4row20_col5 {\n",
       "            background-color:  #ffffc6;\n",
       "        }    #T_45d75778_8625_11e8_b11f_14feb5cb9ae4row21_col0 {\n",
       "            background-color:  #ffffe2;\n",
       "        }    #T_45d75778_8625_11e8_b11f_14feb5cb9ae4row21_col1 {\n",
       "            background-color:  #ffff44;\n",
       "        }    #T_45d75778_8625_11e8_b11f_14feb5cb9ae4row21_col2 {\n",
       "            background-color:  #ffffe5;\n",
       "        }    #T_45d75778_8625_11e8_b11f_14feb5cb9ae4row21_col3 {\n",
       "            background-color:  #ffff9e;\n",
       "        }    #T_45d75778_8625_11e8_b11f_14feb5cb9ae4row21_col4 {\n",
       "            background-color:  #ffffe5;\n",
       "        }    #T_45d75778_8625_11e8_b11f_14feb5cb9ae4row21_col5 {\n",
       "            background-color:  #ffff85;\n",
       "        }    #T_45d75778_8625_11e8_b11f_14feb5cb9ae4row22_col0 {\n",
       "            background-color:  #ffffde;\n",
       "        }    #T_45d75778_8625_11e8_b11f_14feb5cb9ae4row22_col1 {\n",
       "            background-color:  #ffffe1;\n",
       "        }    #T_45d75778_8625_11e8_b11f_14feb5cb9ae4row22_col2 {\n",
       "            background-color:  #ffff9f;\n",
       "        }    #T_45d75778_8625_11e8_b11f_14feb5cb9ae4row22_col3 {\n",
       "            background-color:  #ffffe5;\n",
       "        }    #T_45d75778_8625_11e8_b11f_14feb5cb9ae4row22_col4 {\n",
       "            background-color:  #ffff88;\n",
       "        }    #T_45d75778_8625_11e8_b11f_14feb5cb9ae4row22_col5 {\n",
       "            background-color:  #ffffe5;\n",
       "        }    #T_45d75778_8625_11e8_b11f_14feb5cb9ae4row23_col0 {\n",
       "            background-color:  #ffffcc;\n",
       "        }    #T_45d75778_8625_11e8_b11f_14feb5cb9ae4row23_col1 {\n",
       "            background-color:  #ffffd3;\n",
       "        }    #T_45d75778_8625_11e8_b11f_14feb5cb9ae4row23_col2 {\n",
       "            background-color:  #ffff5f;\n",
       "        }    #T_45d75778_8625_11e8_b11f_14feb5cb9ae4row23_col3 {\n",
       "            background-color:  #ffffde;\n",
       "        }    #T_45d75778_8625_11e8_b11f_14feb5cb9ae4row23_col4 {\n",
       "            background-color:  #ffff3c;\n",
       "        }    #T_45d75778_8625_11e8_b11f_14feb5cb9ae4row23_col5 {\n",
       "            background-color:  #ffffdc;\n",
       "        }    #T_45d75778_8625_11e8_b11f_14feb5cb9ae4row24_col0 {\n",
       "            background-color:  #ffff46;\n",
       "        }    #T_45d75778_8625_11e8_b11f_14feb5cb9ae4row24_col1 {\n",
       "            background-color:  #ffff5e;\n",
       "        }    #T_45d75778_8625_11e8_b11f_14feb5cb9ae4row24_col2 {\n",
       "            background-color:  #ffff61;\n",
       "        }    #T_45d75778_8625_11e8_b11f_14feb5cb9ae4row24_col3 {\n",
       "            background-color:  #ffff46;\n",
       "        }    #T_45d75778_8625_11e8_b11f_14feb5cb9ae4row24_col4 {\n",
       "            background-color:  #ffff42;\n",
       "        }    #T_45d75778_8625_11e8_b11f_14feb5cb9ae4row24_col5 {\n",
       "            background-color:  #ffff20;\n",
       "        }    #T_45d75778_8625_11e8_b11f_14feb5cb9ae4row25_col0 {\n",
       "            background-color:  #ffffa6;\n",
       "        }    #T_45d75778_8625_11e8_b11f_14feb5cb9ae4row25_col1 {\n",
       "            background-color:  #ffff02;\n",
       "        }    #T_45d75778_8625_11e8_b11f_14feb5cb9ae4row25_col2 {\n",
       "            background-color:  #ffff60;\n",
       "        }    #T_45d75778_8625_11e8_b11f_14feb5cb9ae4row25_col3 {\n",
       "            background-color:  #ffff42;\n",
       "        }    #T_45d75778_8625_11e8_b11f_14feb5cb9ae4row25_col4 {\n",
       "            background-color:  #ffff44;\n",
       "        }    #T_45d75778_8625_11e8_b11f_14feb5cb9ae4row25_col5 {\n",
       "            background-color:  #ffff1d;\n",
       "        }</style>  \n",
       "<table id=\"T_45d75778_8625_11e8_b11f_14feb5cb9ae4\" > \n",
       "<thead>    <tr> \n",
       "        <th class=\"blank level0\" ></th> \n",
       "        <th class=\"col_heading level0 col0\" >p_PAPI_TOT_CYC</th> \n",
       "        <th class=\"col_heading level0 col1\" >p_PAPI_RES_STL</th> \n",
       "        <th class=\"col_heading level0 col2\" >k_PAPI_TOT_CYC</th> \n",
       "        <th class=\"col_heading level0 col3\" >k_PAPI_RES_STL</th> \n",
       "        <th class=\"col_heading level0 col4\" >s_PAPI_TOT_CYC</th> \n",
       "        <th class=\"col_heading level0 col5\" >s_PAPI_RES_STL</th> \n",
       "    </tr></thead> \n",
       "<tbody>    <tr> \n",
       "        <th id=\"T_45d75778_8625_11e8_b11f_14feb5cb9ae4level0_row0\" class=\"row_heading level0 row0\" >PAPI_TOT_CYC</th> \n",
       "        <td id=\"T_45d75778_8625_11e8_b11f_14feb5cb9ae4row0_col0\" class=\"data row0 col0\" >100.00%</td> \n",
       "        <td id=\"T_45d75778_8625_11e8_b11f_14feb5cb9ae4row0_col1\" class=\"data row0 col1\" >19.87%</td> \n",
       "        <td id=\"T_45d75778_8625_11e8_b11f_14feb5cb9ae4row0_col2\" class=\"data row0 col2\" >100.00%</td> \n",
       "        <td id=\"T_45d75778_8625_11e8_b11f_14feb5cb9ae4row0_col3\" class=\"data row0 col3\" >41.42%</td> \n",
       "        <td id=\"T_45d75778_8625_11e8_b11f_14feb5cb9ae4row0_col4\" class=\"data row0 col4\" >100.00%</td> \n",
       "        <td id=\"T_45d75778_8625_11e8_b11f_14feb5cb9ae4row0_col5\" class=\"data row0 col5\" >54.54%</td> \n",
       "    </tr>    <tr> \n",
       "        <th id=\"T_45d75778_8625_11e8_b11f_14feb5cb9ae4level0_row1\" class=\"row_heading level0 row1\" >DERIVED_VIPI</th> \n",
       "        <td id=\"T_45d75778_8625_11e8_b11f_14feb5cb9ae4row1_col0\" class=\"data row1 col0\" >-5.70%</td> \n",
       "        <td id=\"T_45d75778_8625_11e8_b11f_14feb5cb9ae4row1_col1\" class=\"data row1 col1\" >-15.64%</td> \n",
       "        <td id=\"T_45d75778_8625_11e8_b11f_14feb5cb9ae4row1_col2\" class=\"data row1 col2\" >8.64%</td> \n",
       "        <td id=\"T_45d75778_8625_11e8_b11f_14feb5cb9ae4row1_col3\" class=\"data row1 col3\" >-5.14%</td> \n",
       "        <td id=\"T_45d75778_8625_11e8_b11f_14feb5cb9ae4row1_col4\" class=\"data row1 col4\" >13.95%</td> \n",
       "        <td id=\"T_45d75778_8625_11e8_b11f_14feb5cb9ae4row1_col5\" class=\"data row1 col5\" >-7.07%</td> \n",
       "    </tr>    <tr> \n",
       "        <th id=\"T_45d75778_8625_11e8_b11f_14feb5cb9ae4level0_row2\" class=\"row_heading level0 row2\" >PAPI_NATIVE_UOPS_RETIRED:SCALAR_SIMD</th> \n",
       "        <td id=\"T_45d75778_8625_11e8_b11f_14feb5cb9ae4row2_col0\" class=\"data row2 col0\" >21.39%</td> \n",
       "        <td id=\"T_45d75778_8625_11e8_b11f_14feb5cb9ae4row2_col1\" class=\"data row2 col1\" >13.71%</td> \n",
       "        <td id=\"T_45d75778_8625_11e8_b11f_14feb5cb9ae4row2_col2\" class=\"data row2 col2\" >42.85%</td> \n",
       "        <td id=\"T_45d75778_8625_11e8_b11f_14feb5cb9ae4row2_col3\" class=\"data row2 col3\" >62.16%</td> \n",
       "        <td id=\"T_45d75778_8625_11e8_b11f_14feb5cb9ae4row2_col4\" class=\"data row2 col4\" >56.68%</td> \n",
       "        <td id=\"T_45d75778_8625_11e8_b11f_14feb5cb9ae4row2_col5\" class=\"data row2 col5\" >78.70%</td> \n",
       "    </tr>    <tr> \n",
       "        <th id=\"T_45d75778_8625_11e8_b11f_14feb5cb9ae4level0_row3\" class=\"row_heading level0 row3\" >PAPI_L2_TCA</th> \n",
       "        <td id=\"T_45d75778_8625_11e8_b11f_14feb5cb9ae4row3_col0\" class=\"data row3 col0\" >78.98%</td> \n",
       "        <td id=\"T_45d75778_8625_11e8_b11f_14feb5cb9ae4row3_col1\" class=\"data row3 col1\" >46.50%</td> \n",
       "        <td id=\"T_45d75778_8625_11e8_b11f_14feb5cb9ae4row3_col2\" class=\"data row3 col2\" >49.99%</td> \n",
       "        <td id=\"T_45d75778_8625_11e8_b11f_14feb5cb9ae4row3_col3\" class=\"data row3 col3\" >66.34%</td> \n",
       "        <td id=\"T_45d75778_8625_11e8_b11f_14feb5cb9ae4row3_col4\" class=\"data row3 col4\" >65.06%</td> \n",
       "        <td id=\"T_45d75778_8625_11e8_b11f_14feb5cb9ae4row3_col5\" class=\"data row3 col5\" >83.82%</td> \n",
       "    </tr>    <tr> \n",
       "        <th id=\"T_45d75778_8625_11e8_b11f_14feb5cb9ae4level0_row4\" class=\"row_heading level0 row4\" >PAPI_NATIVE_LLC_MISSES</th> \n",
       "        <td id=\"T_45d75778_8625_11e8_b11f_14feb5cb9ae4row4_col0\" class=\"data row4 col0\" >80.35%</td> \n",
       "        <td id=\"T_45d75778_8625_11e8_b11f_14feb5cb9ae4row4_col1\" class=\"data row4 col1\" >57.14%</td> \n",
       "        <td id=\"T_45d75778_8625_11e8_b11f_14feb5cb9ae4row4_col2\" class=\"data row4 col2\" >48.73%</td> \n",
       "        <td id=\"T_45d75778_8625_11e8_b11f_14feb5cb9ae4row4_col3\" class=\"data row4 col3\" >67.42%</td> \n",
       "        <td id=\"T_45d75778_8625_11e8_b11f_14feb5cb9ae4row4_col4\" class=\"data row4 col4\" >63.40%</td> \n",
       "        <td id=\"T_45d75778_8625_11e8_b11f_14feb5cb9ae4row4_col5\" class=\"data row4 col5\" >84.74%</td> \n",
       "    </tr>    <tr> \n",
       "        <th id=\"T_45d75778_8625_11e8_b11f_14feb5cb9ae4level0_row5\" class=\"row_heading level0 row5\" >PAPI_TLB_DM</th> \n",
       "        <td id=\"T_45d75778_8625_11e8_b11f_14feb5cb9ae4row5_col0\" class=\"data row5 col0\" >83.06%</td> \n",
       "        <td id=\"T_45d75778_8625_11e8_b11f_14feb5cb9ae4row5_col1\" class=\"data row5 col1\" >41.72%</td> \n",
       "        <td id=\"T_45d75778_8625_11e8_b11f_14feb5cb9ae4row5_col2\" class=\"data row5 col2\" >49.30%</td> \n",
       "        <td id=\"T_45d75778_8625_11e8_b11f_14feb5cb9ae4row5_col3\" class=\"data row5 col3\" >63.02%</td> \n",
       "        <td id=\"T_45d75778_8625_11e8_b11f_14feb5cb9ae4row5_col4\" class=\"data row5 col4\" >64.59%</td> \n",
       "        <td id=\"T_45d75778_8625_11e8_b11f_14feb5cb9ae4row5_col5\" class=\"data row5 col5\" >80.27%</td> \n",
       "    </tr>    <tr> \n",
       "        <th id=\"T_45d75778_8625_11e8_b11f_14feb5cb9ae4level0_row6\" class=\"row_heading level0 row6\" >PAPI_L2_TCM</th> \n",
       "        <td id=\"T_45d75778_8625_11e8_b11f_14feb5cb9ae4row6_col0\" class=\"data row6 col0\" >80.02%</td> \n",
       "        <td id=\"T_45d75778_8625_11e8_b11f_14feb5cb9ae4row6_col1\" class=\"data row6 col1\" >57.00%</td> \n",
       "        <td id=\"T_45d75778_8625_11e8_b11f_14feb5cb9ae4row6_col2\" class=\"data row6 col2\" >48.10%</td> \n",
       "        <td id=\"T_45d75778_8625_11e8_b11f_14feb5cb9ae4row6_col3\" class=\"data row6 col3\" >64.86%</td> \n",
       "        <td id=\"T_45d75778_8625_11e8_b11f_14feb5cb9ae4row6_col4\" class=\"data row6 col4\" >62.96%</td> \n",
       "        <td id=\"T_45d75778_8625_11e8_b11f_14feb5cb9ae4row6_col5\" class=\"data row6 col5\" >82.19%</td> \n",
       "    </tr>    <tr> \n",
       "        <th id=\"T_45d75778_8625_11e8_b11f_14feb5cb9ae4level0_row7\" class=\"row_heading level0 row7\" >PAPI_NATIVE_UOPS_RETIRED:PACKED_SIMD</th> \n",
       "        <td id=\"T_45d75778_8625_11e8_b11f_14feb5cb9ae4row7_col0\" class=\"data row7 col0\" >81.76%</td> \n",
       "        <td id=\"T_45d75778_8625_11e8_b11f_14feb5cb9ae4row7_col1\" class=\"data row7 col1\" >26.10%</td> \n",
       "        <td id=\"T_45d75778_8625_11e8_b11f_14feb5cb9ae4row7_col2\" class=\"data row7 col2\" >53.12%</td> \n",
       "        <td id=\"T_45d75778_8625_11e8_b11f_14feb5cb9ae4row7_col3\" class=\"data row7 col3\" >62.45%</td> \n",
       "        <td id=\"T_45d75778_8625_11e8_b11f_14feb5cb9ae4row7_col4\" class=\"data row7 col4\" >68.56%</td> \n",
       "        <td id=\"T_45d75778_8625_11e8_b11f_14feb5cb9ae4row7_col5\" class=\"data row7 col5\" >77.99%</td> \n",
       "    </tr>    <tr> \n",
       "        <th id=\"T_45d75778_8625_11e8_b11f_14feb5cb9ae4level0_row8\" class=\"row_heading level0 row8\" >PAPI_NATIVE_FETCH_STALL</th> \n",
       "        <td id=\"T_45d75778_8625_11e8_b11f_14feb5cb9ae4row8_col0\" class=\"data row8 col0\" >87.10%</td> \n",
       "        <td id=\"T_45d75778_8625_11e8_b11f_14feb5cb9ae4row8_col1\" class=\"data row8 col1\" >24.26%</td> \n",
       "        <td id=\"T_45d75778_8625_11e8_b11f_14feb5cb9ae4row8_col2\" class=\"data row8 col2\" >50.02%</td> \n",
       "        <td id=\"T_45d75778_8625_11e8_b11f_14feb5cb9ae4row8_col3\" class=\"data row8 col3\" >58.79%</td> \n",
       "        <td id=\"T_45d75778_8625_11e8_b11f_14feb5cb9ae4row8_col4\" class=\"data row8 col4\" >65.36%</td> \n",
       "        <td id=\"T_45d75778_8625_11e8_b11f_14feb5cb9ae4row8_col5\" class=\"data row8 col5\" >75.70%</td> \n",
       "    </tr>    <tr> \n",
       "        <th id=\"T_45d75778_8625_11e8_b11f_14feb5cb9ae4level0_row9\" class=\"row_heading level0 row9\" >PAPI_L1_TCM</th> \n",
       "        <td id=\"T_45d75778_8625_11e8_b11f_14feb5cb9ae4row9_col0\" class=\"data row9 col0\" >80.82%</td> \n",
       "        <td id=\"T_45d75778_8625_11e8_b11f_14feb5cb9ae4row9_col1\" class=\"data row9 col1\" >56.13%</td> \n",
       "        <td id=\"T_45d75778_8625_11e8_b11f_14feb5cb9ae4row9_col2\" class=\"data row9 col2\" >48.79%</td> \n",
       "        <td id=\"T_45d75778_8625_11e8_b11f_14feb5cb9ae4row9_col3\" class=\"data row9 col3\" >63.05%</td> \n",
       "        <td id=\"T_45d75778_8625_11e8_b11f_14feb5cb9ae4row9_col4\" class=\"data row9 col4\" >63.64%</td> \n",
       "        <td id=\"T_45d75778_8625_11e8_b11f_14feb5cb9ae4row9_col5\" class=\"data row9 col5\" >80.57%</td> \n",
       "    </tr>    <tr> \n",
       "        <th id=\"T_45d75778_8625_11e8_b11f_14feb5cb9ae4level0_row10\" class=\"row_heading level0 row10\" >PAPI_BR_MSP</th> \n",
       "        <td id=\"T_45d75778_8625_11e8_b11f_14feb5cb9ae4row10_col0\" class=\"data row10 col0\" >52.08%</td> \n",
       "        <td id=\"T_45d75778_8625_11e8_b11f_14feb5cb9ae4row10_col1\" class=\"data row10 col1\" >59.39%</td> \n",
       "        <td id=\"T_45d75778_8625_11e8_b11f_14feb5cb9ae4row10_col2\" class=\"data row10 col2\" >49.75%</td> \n",
       "        <td id=\"T_45d75778_8625_11e8_b11f_14feb5cb9ae4row10_col3\" class=\"data row10 col3\" >65.47%</td> \n",
       "        <td id=\"T_45d75778_8625_11e8_b11f_14feb5cb9ae4row10_col4\" class=\"data row10 col4\" >64.38%</td> \n",
       "        <td id=\"T_45d75778_8625_11e8_b11f_14feb5cb9ae4row10_col5\" class=\"data row10 col5\" >82.52%</td> \n",
       "    </tr>    <tr> \n",
       "        <th id=\"T_45d75778_8625_11e8_b11f_14feb5cb9ae4level0_row11\" class=\"row_heading level0 row11\" >PAPI_RES_STL</th> \n",
       "        <td id=\"T_45d75778_8625_11e8_b11f_14feb5cb9ae4row11_col0\" class=\"data row11 col0\" >19.87%</td> \n",
       "        <td id=\"T_45d75778_8625_11e8_b11f_14feb5cb9ae4row11_col1\" class=\"data row11 col1\" >100.00%</td> \n",
       "        <td id=\"T_45d75778_8625_11e8_b11f_14feb5cb9ae4row11_col2\" class=\"data row11 col2\" >41.42%</td> \n",
       "        <td id=\"T_45d75778_8625_11e8_b11f_14feb5cb9ae4row11_col3\" class=\"data row11 col3\" >100.00%</td> \n",
       "        <td id=\"T_45d75778_8625_11e8_b11f_14feb5cb9ae4row11_col4\" class=\"data row11 col4\" >54.54%</td> \n",
       "        <td id=\"T_45d75778_8625_11e8_b11f_14feb5cb9ae4row11_col5\" class=\"data row11 col5\" >100.00%</td> \n",
       "    </tr>    <tr> \n",
       "        <th id=\"T_45d75778_8625_11e8_b11f_14feb5cb9ae4level0_row12\" class=\"row_heading level0 row12\" >PAPI_TOT_INS</th> \n",
       "        <td id=\"T_45d75778_8625_11e8_b11f_14feb5cb9ae4row12_col0\" class=\"data row12 col0\" >63.16%</td> \n",
       "        <td id=\"T_45d75778_8625_11e8_b11f_14feb5cb9ae4row12_col1\" class=\"data row12 col1\" >56.14%</td> \n",
       "        <td id=\"T_45d75778_8625_11e8_b11f_14feb5cb9ae4row12_col2\" class=\"data row12 col2\" >48.14%</td> \n",
       "        <td id=\"T_45d75778_8625_11e8_b11f_14feb5cb9ae4row12_col3\" class=\"data row12 col3\" >66.88%</td> \n",
       "        <td id=\"T_45d75778_8625_11e8_b11f_14feb5cb9ae4row12_col4\" class=\"data row12 col4\" >62.43%</td> \n",
       "        <td id=\"T_45d75778_8625_11e8_b11f_14feb5cb9ae4row12_col5\" class=\"data row12 col5\" >84.19%</td> \n",
       "    </tr>    <tr> \n",
       "        <th id=\"T_45d75778_8625_11e8_b11f_14feb5cb9ae4level0_row13\" class=\"row_heading level0 row13\" >DERIVED_IPC</th> \n",
       "        <td id=\"T_45d75778_8625_11e8_b11f_14feb5cb9ae4row13_col0\" class=\"data row13 col0\" >-7.83%</td> \n",
       "        <td id=\"T_45d75778_8625_11e8_b11f_14feb5cb9ae4row13_col1\" class=\"data row13 col1\" >23.20%</td> \n",
       "        <td id=\"T_45d75778_8625_11e8_b11f_14feb5cb9ae4row13_col2\" class=\"data row13 col2\" >-30.88%</td> \n",
       "        <td id=\"T_45d75778_8625_11e8_b11f_14feb5cb9ae4row13_col3\" class=\"data row13 col3\" >9.66%</td> \n",
       "        <td id=\"T_45d75778_8625_11e8_b11f_14feb5cb9ae4row13_col4\" class=\"data row13 col4\" >-44.55%</td> \n",
       "        <td id=\"T_45d75778_8625_11e8_b11f_14feb5cb9ae4row13_col5\" class=\"data row13 col5\" >14.15%</td> \n",
       "    </tr>    <tr> \n",
       "        <th id=\"T_45d75778_8625_11e8_b11f_14feb5cb9ae4level0_row14\" class=\"row_heading level0 row14\" >PAPI_BR_CN</th> \n",
       "        <td id=\"T_45d75778_8625_11e8_b11f_14feb5cb9ae4row14_col0\" class=\"data row14 col0\" >31.79%</td> \n",
       "        <td id=\"T_45d75778_8625_11e8_b11f_14feb5cb9ae4row14_col1\" class=\"data row14 col1\" >47.82%</td> \n",
       "        <td id=\"T_45d75778_8625_11e8_b11f_14feb5cb9ae4row14_col2\" class=\"data row14 col2\" >46.23%</td> \n",
       "        <td id=\"T_45d75778_8625_11e8_b11f_14feb5cb9ae4row14_col3\" class=\"data row14 col3\" >69.09%</td> \n",
       "        <td id=\"T_45d75778_8625_11e8_b11f_14feb5cb9ae4row14_col4\" class=\"data row14 col4\" >60.10%</td> \n",
       "        <td id=\"T_45d75778_8625_11e8_b11f_14feb5cb9ae4row14_col5\" class=\"data row14 col5\" >85.93%</td> \n",
       "    </tr>    <tr> \n",
       "        <th id=\"T_45d75778_8625_11e8_b11f_14feb5cb9ae4level0_row15\" class=\"row_heading level0 row15\" >DERIVED_L1_MISSRATE</th> \n",
       "        <td id=\"T_45d75778_8625_11e8_b11f_14feb5cb9ae4row15_col0\" class=\"data row15 col0\" >-2.04%</td> \n",
       "        <td id=\"T_45d75778_8625_11e8_b11f_14feb5cb9ae4row15_col1\" class=\"data row15 col1\" >-1.72%</td> \n",
       "        <td id=\"T_45d75778_8625_11e8_b11f_14feb5cb9ae4row15_col2\" class=\"data row15 col2\" >6.58%</td> \n",
       "        <td id=\"T_45d75778_8625_11e8_b11f_14feb5cb9ae4row15_col3\" class=\"data row15 col3\" >-9.67%</td> \n",
       "        <td id=\"T_45d75778_8625_11e8_b11f_14feb5cb9ae4row15_col4\" class=\"data row15 col4\" >10.19%</td> \n",
       "        <td id=\"T_45d75778_8625_11e8_b11f_14feb5cb9ae4row15_col5\" class=\"data row15 col5\" >-14.23%</td> \n",
       "    </tr>    <tr> \n",
       "        <th id=\"T_45d75778_8625_11e8_b11f_14feb5cb9ae4level0_row16\" class=\"row_heading level0 row16\" >DERIVED_L3_MISSRATE</th> \n",
       "        <td id=\"T_45d75778_8625_11e8_b11f_14feb5cb9ae4row16_col0\" class=\"data row16 col0\" >-1.55%</td> \n",
       "        <td id=\"T_45d75778_8625_11e8_b11f_14feb5cb9ae4row16_col1\" class=\"data row16 col1\" >1.30%</td> \n",
       "        <td id=\"T_45d75778_8625_11e8_b11f_14feb5cb9ae4row16_col2\" class=\"data row16 col2\" >-2.16%</td> \n",
       "        <td id=\"T_45d75778_8625_11e8_b11f_14feb5cb9ae4row16_col3\" class=\"data row16 col3\" >6.04%</td> \n",
       "        <td id=\"T_45d75778_8625_11e8_b11f_14feb5cb9ae4row16_col4\" class=\"data row16 col4\" >-4.13%</td> \n",
       "        <td id=\"T_45d75778_8625_11e8_b11f_14feb5cb9ae4row16_col5\" class=\"data row16 col5\" >7.65%</td> \n",
       "    </tr>    <tr> \n",
       "        <th id=\"T_45d75778_8625_11e8_b11f_14feb5cb9ae4level0_row17\" class=\"row_heading level0 row17\" >PAPI_BR_UCN</th> \n",
       "        <td id=\"T_45d75778_8625_11e8_b11f_14feb5cb9ae4row17_col0\" class=\"data row17 col0\" >38.01%</td> \n",
       "        <td id=\"T_45d75778_8625_11e8_b11f_14feb5cb9ae4row17_col1\" class=\"data row17 col1\" >95.60%</td> \n",
       "        <td id=\"T_45d75778_8625_11e8_b11f_14feb5cb9ae4row17_col2\" class=\"data row17 col2\" >46.39%</td> \n",
       "        <td id=\"T_45d75778_8625_11e8_b11f_14feb5cb9ae4row17_col3\" class=\"data row17 col3\" >66.04%</td> \n",
       "        <td id=\"T_45d75778_8625_11e8_b11f_14feb5cb9ae4row17_col4\" class=\"data row17 col4\" >60.48%</td> \n",
       "        <td id=\"T_45d75778_8625_11e8_b11f_14feb5cb9ae4row17_col5\" class=\"data row17 col5\" >82.95%</td> \n",
       "    </tr>    <tr> \n",
       "        <th id=\"T_45d75778_8625_11e8_b11f_14feb5cb9ae4level0_row18\" class=\"row_heading level0 row18\" >PAPI_NATIVE_LLC_REFERENCES</th> \n",
       "        <td id=\"T_45d75778_8625_11e8_b11f_14feb5cb9ae4row18_col0\" class=\"data row18 col0\" >79.19%</td> \n",
       "        <td id=\"T_45d75778_8625_11e8_b11f_14feb5cb9ae4row18_col1\" class=\"data row18 col1\" >46.78%</td> \n",
       "        <td id=\"T_45d75778_8625_11e8_b11f_14feb5cb9ae4row18_col2\" class=\"data row18 col2\" >50.07%</td> \n",
       "        <td id=\"T_45d75778_8625_11e8_b11f_14feb5cb9ae4row18_col3\" class=\"data row18 col3\" >66.10%</td> \n",
       "        <td id=\"T_45d75778_8625_11e8_b11f_14feb5cb9ae4row18_col4\" class=\"data row18 col4\" >64.98%</td> \n",
       "        <td id=\"T_45d75778_8625_11e8_b11f_14feb5cb9ae4row18_col5\" class=\"data row18 col5\" >83.75%</td> \n",
       "    </tr>    <tr> \n",
       "        <th id=\"T_45d75778_8625_11e8_b11f_14feb5cb9ae4level0_row19\" class=\"row_heading level0 row19\" >PAPI_BR_INS</th> \n",
       "        <td id=\"T_45d75778_8625_11e8_b11f_14feb5cb9ae4row19_col0\" class=\"data row19 col0\" >34.23%</td> \n",
       "        <td id=\"T_45d75778_8625_11e8_b11f_14feb5cb9ae4row19_col1\" class=\"data row19 col1\" >57.35%</td> \n",
       "        <td id=\"T_45d75778_8625_11e8_b11f_14feb5cb9ae4row19_col2\" class=\"data row19 col2\" >46.04%</td> \n",
       "        <td id=\"T_45d75778_8625_11e8_b11f_14feb5cb9ae4row19_col3\" class=\"data row19 col3\" >70.55%</td> \n",
       "        <td id=\"T_45d75778_8625_11e8_b11f_14feb5cb9ae4row19_col4\" class=\"data row19 col4\" >59.54%</td> \n",
       "        <td id=\"T_45d75778_8625_11e8_b11f_14feb5cb9ae4row19_col5\" class=\"data row19 col5\" >87.30%</td> \n",
       "    </tr>    <tr> \n",
       "        <th id=\"T_45d75778_8625_11e8_b11f_14feb5cb9ae4level0_row20\" class=\"row_heading level0 row20\" >DERIVED_L2_MISSRATE</th> \n",
       "        <td id=\"T_45d75778_8625_11e8_b11f_14feb5cb9ae4row20_col0\" class=\"data row20 col0\" >-2.10%</td> \n",
       "        <td id=\"T_45d75778_8625_11e8_b11f_14feb5cb9ae4row20_col1\" class=\"data row20 col1\" >4.51%</td> \n",
       "        <td id=\"T_45d75778_8625_11e8_b11f_14feb5cb9ae4row20_col2\" class=\"data row20 col2\" >-2.36%</td> \n",
       "        <td id=\"T_45d75778_8625_11e8_b11f_14feb5cb9ae4row20_col3\" class=\"data row20 col3\" >2.06%</td> \n",
       "        <td id=\"T_45d75778_8625_11e8_b11f_14feb5cb9ae4row20_col4\" class=\"data row20 col4\" >-4.01%</td> \n",
       "        <td id=\"T_45d75778_8625_11e8_b11f_14feb5cb9ae4row20_col5\" class=\"data row20 col5\" >1.68%</td> \n",
       "    </tr>    <tr> \n",
       "        <th id=\"T_45d75778_8625_11e8_b11f_14feb5cb9ae4level0_row21\" class=\"row_heading level0 row21\" >DERIVED_STALL_PERCENT</th> \n",
       "        <td id=\"T_45d75778_8625_11e8_b11f_14feb5cb9ae4row21_col0\" class=\"data row21 col0\" >-5.82%</td> \n",
       "        <td id=\"T_45d75778_8625_11e8_b11f_14feb5cb9ae4row21_col1\" class=\"data row21 col1\" >66.00%</td> \n",
       "        <td id=\"T_45d75778_8625_11e8_b11f_14feb5cb9ae4row21_col2\" class=\"data row21 col2\" >-32.92%</td> \n",
       "        <td id=\"T_45d75778_8625_11e8_b11f_14feb5cb9ae4row21_col3\" class=\"data row21 col3\" >23.97%</td> \n",
       "        <td id=\"T_45d75778_8625_11e8_b11f_14feb5cb9ae4row21_col4\" class=\"data row21 col4\" >-47.58%</td> \n",
       "        <td id=\"T_45d75778_8625_11e8_b11f_14feb5cb9ae4row21_col5\" class=\"data row21 col5\" >33.70%</td> \n",
       "    </tr>    <tr> \n",
       "        <th id=\"T_45d75778_8625_11e8_b11f_14feb5cb9ae4level0_row22\" class=\"row_heading level0 row22\" >DERIVED_BRANCH_MR</th> \n",
       "        <td id=\"T_45d75778_8625_11e8_b11f_14feb5cb9ae4row22_col0\" class=\"data row22 col0\" >-4.21%</td> \n",
       "        <td id=\"T_45d75778_8625_11e8_b11f_14feb5cb9ae4row22_col1\" class=\"data row22 col1\" >-13.11%</td> \n",
       "        <td id=\"T_45d75778_8625_11e8_b11f_14feb5cb9ae4row22_col2\" class=\"data row22 col2\" >7.83%</td> \n",
       "        <td id=\"T_45d75778_8625_11e8_b11f_14feb5cb9ae4row22_col3\" class=\"data row22 col3\" >-10.24%</td> \n",
       "        <td id=\"T_45d75778_8625_11e8_b11f_14feb5cb9ae4row22_col4\" class=\"data row22 col4\" >12.43%</td> \n",
       "        <td id=\"T_45d75778_8625_11e8_b11f_14feb5cb9ae4row22_col5\" class=\"data row22 col5\" >-13.73%</td> \n",
       "    </tr>    <tr> \n",
       "        <th id=\"T_45d75778_8625_11e8_b11f_14feb5cb9ae4level0_row23\" class=\"row_heading level0 row23\" >DERIVED_CPI</th> \n",
       "        <td id=\"T_45d75778_8625_11e8_b11f_14feb5cb9ae4row23_col0\" class=\"data row23 col0\" >4.13%</td> \n",
       "        <td id=\"T_45d75778_8625_11e8_b11f_14feb5cb9ae4row23_col1\" class=\"data row23 col1\" >-6.35%</td> \n",
       "        <td id=\"T_45d75778_8625_11e8_b11f_14feb5cb9ae4row23_col2\" class=\"data row23 col2\" >44.68%</td> \n",
       "        <td id=\"T_45d75778_8625_11e8_b11f_14feb5cb9ae4row23_col3\" class=\"data row23 col3\" >-6.44%</td> \n",
       "        <td id=\"T_45d75778_8625_11e8_b11f_14feb5cb9ae4row23_col4\" class=\"data row23 col4\" >60.96%</td> \n",
       "        <td id=\"T_45d75778_8625_11e8_b11f_14feb5cb9ae4row23_col5\" class=\"data row23 col5\" >-9.27%</td> \n",
       "    </tr>    <tr> \n",
       "        <th id=\"T_45d75778_8625_11e8_b11f_14feb5cb9ae4level0_row24\" class=\"row_heading level0 row24\" >PAPI_LST_INS</th> \n",
       "        <td id=\"T_45d75778_8625_11e8_b11f_14feb5cb9ae4row24_col0\" class=\"data row24 col0\" >66.92%</td> \n",
       "        <td id=\"T_45d75778_8625_11e8_b11f_14feb5cb9ae4row24_col1\" class=\"data row24 col1\" >52.53%</td> \n",
       "        <td id=\"T_45d75778_8625_11e8_b11f_14feb5cb9ae4row24_col2\" class=\"data row24 col2\" >43.67%</td> \n",
       "        <td id=\"T_45d75778_8625_11e8_b11f_14feb5cb9ae4row24_col3\" class=\"data row24 col3\" >66.21%</td> \n",
       "        <td id=\"T_45d75778_8625_11e8_b11f_14feb5cb9ae4row24_col4\" class=\"data row24 col4\" >57.69%</td> \n",
       "        <td id=\"T_45d75778_8625_11e8_b11f_14feb5cb9ae4row24_col5\" class=\"data row24 col5\" >83.65%</td> \n",
       "    </tr>    <tr> \n",
       "        <th id=\"T_45d75778_8625_11e8_b11f_14feb5cb9ae4level0_row25\" class=\"row_heading level0 row25\" >PAPI_NATIVE_RS_FULL_STALL</th> \n",
       "        <td id=\"T_45d75778_8625_11e8_b11f_14feb5cb9ae4row25_col0\" class=\"data row25 col0\" >21.68%</td> \n",
       "        <td id=\"T_45d75778_8625_11e8_b11f_14feb5cb9ae4row25_col1\" class=\"data row25 col1\" >98.90%</td> \n",
       "        <td id=\"T_45d75778_8625_11e8_b11f_14feb5cb9ae4row25_col2\" class=\"data row25 col2\" >44.05%</td> \n",
       "        <td id=\"T_45d75778_8625_11e8_b11f_14feb5cb9ae4row25_col3\" class=\"data row25 col3\" >68.52%</td> \n",
       "        <td id=\"T_45d75778_8625_11e8_b11f_14feb5cb9ae4row25_col4\" class=\"data row25 col4\" >56.69%</td> \n",
       "        <td id=\"T_45d75778_8625_11e8_b11f_14feb5cb9ae4row25_col5\" class=\"data row25 col5\" >85.37%</td> \n",
       "    </tr></tbody> \n",
       "</table> "
      ],
      "text/plain": [
       "<pandas.io.formats.style.Styler at 0x7fd202b20ad0>"
      ]
     },
     "execution_count": 7,
     "metadata": {},
     "output_type": "execute_result"
    }
   ],
   "source": [
    "metric_li = ['PAPI_TOT_CYC','PAPI_RES_STL']\n",
    "\n",
    "corrs = [alldata.corr('pearson').fillna(0)[metric_li], alldata.corr('kendall').fillna(0)[metric_li], alldata.corr('spearman').fillna(0)[metric_li]]\n",
    "\n",
    "corr_data = corrs[0][['PAPI_TOT_CYC']].copy()\n",
    "corr_data['p_' + metric_li[0]] = corr_data[metric_li[0]]\n",
    "corr_data['p_' + metric_li[1]] = corrs[0][metric_li[1]]\n",
    "\n",
    "corr_data['k_' + metric_li[0]] = corrs[1][metric_li[0]]\n",
    "corr_data['k_' + metric_li[1]] = corrs[1][metric_li[1]]\n",
    "\n",
    "corr_data['s_' + metric_li[0]] = corrs[2][metric_li[0]]\n",
    "corr_data['s_' + metric_li[1]] = corrs[2][metric_li[1]]\n",
    "\n",
    "corr_data.drop(['PAPI_TOT_CYC'],axis=1,inplace=True)\n",
    "\n",
    "corr_data.style.format(\"{:.2%}\").background_gradient(cmap=cm)"
   ]
  },
  {
   "cell_type": "markdown",
   "metadata": {},
   "source": [
    "### Correlation Take Aways\n",
    "\n",
    "At first glance the correlations seem to show that cache misses (although not necessarily the miss rates) are significantly related to the numebr of stalls that occur."
   ]
  },
  {
   "cell_type": "markdown",
   "metadata": {},
   "source": [
    "### Stalls as percentage of total"
   ]
  },
  {
   "cell_type": "code",
   "execution_count": 24,
   "metadata": {},
   "outputs": [
    {
     "data": {
      "text/html": [
       "<div>\n",
       "<style>\n",
       "    .dataframe thead tr:only-child th {\n",
       "        text-align: right;\n",
       "    }\n",
       "\n",
       "    .dataframe thead th {\n",
       "        text-align: left;\n",
       "    }\n",
       "\n",
       "    .dataframe tbody tr th {\n",
       "        vertical-align: top;\n",
       "    }\n",
       "</style>\n",
       "<table border=\"1\" class=\"dataframe\">\n",
       "  <thead>\n",
       "    <tr style=\"text-align: right;\">\n",
       "      <th></th>\n",
       "      <th></th>\n",
       "      <th>Calls</th>\n",
       "      <th>Exclusive</th>\n",
       "      <th>Inclusive</th>\n",
       "      <th>ProfileCalls</th>\n",
       "      <th>Subcalls</th>\n",
       "    </tr>\n",
       "    <tr>\n",
       "      <th>thread</th>\n",
       "      <th>region</th>\n",
       "      <th></th>\n",
       "      <th></th>\n",
       "      <th></th>\n",
       "      <th></th>\n",
       "      <th></th>\n",
       "    </tr>\n",
       "  </thead>\n",
       "  <tbody>\n",
       "    <tr>\n",
       "      <th rowspan=\"20\" valign=\"top\">0</th>\n",
       "      <th>[SUMMARY] (anonymous namespace)::sortCandListByHitsChi2(MkFinder::IdxChi2List const&amp;, MkFinder::IdxChi2List const&amp;)</th>\n",
       "      <td>5.45e-01</td>\n",
       "      <td>3.54e-01</td>\n",
       "      <td>3.54e-01</td>\n",
       "      <td>nan</td>\n",
       "      <td>nan</td>\n",
       "    </tr>\n",
       "    <tr>\n",
       "      <th>[SUMMARY] .TAU application</th>\n",
       "      <td>9.90e-01</td>\n",
       "      <td>nan</td>\n",
       "      <td>8.38e-01</td>\n",
       "      <td>nan</td>\n",
       "      <td>nan</td>\n",
       "    </tr>\n",
       "    <tr>\n",
       "      <th>[SUMMARY] .TAU application  =&gt; [CONTEXT] .TAU application</th>\n",
       "      <td>9.90e-01</td>\n",
       "      <td>nan</td>\n",
       "      <td>8.38e-01</td>\n",
       "      <td>nan</td>\n",
       "      <td>nan</td>\n",
       "    </tr>\n",
       "    <tr>\n",
       "      <th>[SUMMARY] .TAU application  =&gt; [CONTEXT] .TAU application  =&gt; [SAMPLE] (anonymous namespace)::sortCandListByHitsChi2(MkFinder::IdxChi2List const&amp;, MkFinder::IdxChi2List const&amp;)</th>\n",
       "      <td>5.45e-01</td>\n",
       "      <td>3.54e-01</td>\n",
       "      <td>3.54e-01</td>\n",
       "      <td>nan</td>\n",
       "      <td>nan</td>\n",
       "    </tr>\n",
       "    <tr>\n",
       "      <th>[SUMMARY] .TAU application  =&gt; [CONTEXT] .TAU application  =&gt; [SAMPLE] Event::clean_cms_seedtracks()</th>\n",
       "      <td>9.99e-01</td>\n",
       "      <td>1.06e-01</td>\n",
       "      <td>1.06e-01</td>\n",
       "      <td>nan</td>\n",
       "      <td>nan</td>\n",
       "    </tr>\n",
       "    <tr>\n",
       "      <th>[SUMMARY] .TAU application  =&gt; [CONTEXT] .TAU application  =&gt; [SAMPLE] FMA(__m256 const&amp;, __m256 const&amp;, __m256 const&amp;)</th>\n",
       "      <td>1.20e+00</td>\n",
       "      <td>5.64e-01</td>\n",
       "      <td>5.64e-01</td>\n",
       "      <td>nan</td>\n",
       "      <td>nan</td>\n",
       "    </tr>\n",
       "    <tr>\n",
       "      <th>[SUMMARY] .TAU application  =&gt; [CONTEXT] .TAU application  =&gt; [SAMPLE] HitOnTrack::HitOnTrack()</th>\n",
       "      <td>8.24e-01</td>\n",
       "      <td>6.54e-01</td>\n",
       "      <td>6.54e-01</td>\n",
       "      <td>nan</td>\n",
       "      <td>nan</td>\n",
       "    </tr>\n",
       "    <tr>\n",
       "      <th>[SUMMARY] .TAU application  =&gt; [CONTEXT] .TAU application  =&gt; [SAMPLE] LayerOfHits::SuckInHits(std::vector&lt;Hit, std::allocator&lt;Hit&gt; &gt; const&amp;)</th>\n",
       "      <td>1.43e+00</td>\n",
       "      <td>3.98e-01</td>\n",
       "      <td>3.98e-01</td>\n",
       "      <td>nan</td>\n",
       "      <td>nan</td>\n",
       "    </tr>\n",
       "    <tr>\n",
       "      <th>[SUMMARY] .TAU application  =&gt; [CONTEXT] .TAU application  =&gt; [SAMPLE] Matriplex::MatriplexSym&lt;float, 6, 8&gt;::CopyIn(int, float const*)</th>\n",
       "      <td>8.75e-01</td>\n",
       "      <td>2.16e+00</td>\n",
       "      <td>2.16e+00</td>\n",
       "      <td>nan</td>\n",
       "      <td>nan</td>\n",
       "    </tr>\n",
       "    <tr>\n",
       "      <th>[SUMMARY] .TAU application  =&gt; [CONTEXT] .TAU application  =&gt; [SAMPLE] Matriplex::MatriplexSym&lt;float, 6, 8&gt;::CopyOut(int, float*) const</th>\n",
       "      <td>4.44e-01</td>\n",
       "      <td>inf</td>\n",
       "      <td>inf</td>\n",
       "      <td>nan</td>\n",
       "      <td>nan</td>\n",
       "    </tr>\n",
       "    <tr>\n",
       "      <th>[SUMMARY] .TAU application  =&gt; [CONTEXT] .TAU application  =&gt; [SAMPLE] MkBuilder::map_seed_hits()</th>\n",
       "      <td>9.47e-01</td>\n",
       "      <td>2.20e+00</td>\n",
       "      <td>2.20e+00</td>\n",
       "      <td>nan</td>\n",
       "      <td>nan</td>\n",
       "    </tr>\n",
       "    <tr>\n",
       "      <th>[SUMMARY] .TAU application  =&gt; [CONTEXT] .TAU application  =&gt; [SAMPLE] MkFinder::FindCandidatesCloneEngine(LayerOfHits const&amp;, CandCloner&amp;, int, int, FindingFoos const&amp;)</th>\n",
       "      <td>5.81e-01</td>\n",
       "      <td>1.55e+00</td>\n",
       "      <td>1.55e+00</td>\n",
       "      <td>nan</td>\n",
       "      <td>nan</td>\n",
       "    </tr>\n",
       "    <tr>\n",
       "      <th>[SUMMARY] .TAU application  =&gt; [CONTEXT] .TAU application  =&gt; [SAMPLE] MkFinder::SelectHitIndices(LayerOfHits const&amp;, int)</th>\n",
       "      <td>6.96e-01</td>\n",
       "      <td>1.31e+00</td>\n",
       "      <td>1.31e+00</td>\n",
       "      <td>nan</td>\n",
       "      <td>nan</td>\n",
       "    </tr>\n",
       "    <tr>\n",
       "      <th>[SUMMARY] .TAU application  =&gt; [CONTEXT] .TAU application  =&gt; [SAMPLE] ROOT::Math::SVector&lt;float, 3u&gt;::SVector()</th>\n",
       "      <td>1.23e+00</td>\n",
       "      <td>4.33e-01</td>\n",
       "      <td>4.33e-01</td>\n",
       "      <td>nan</td>\n",
       "      <td>nan</td>\n",
       "    </tr>\n",
       "    <tr>\n",
       "      <th>[SUMMARY] .TAU application  =&gt; [CONTEXT] .TAU application  =&gt; [SAMPLE] ROOT::Math::SVector&lt;float, 6u&gt;::SVector()</th>\n",
       "      <td>8.78e-01</td>\n",
       "      <td>1.05e-01</td>\n",
       "      <td>1.05e-01</td>\n",
       "      <td>nan</td>\n",
       "      <td>nan</td>\n",
       "    </tr>\n",
       "    <tr>\n",
       "      <th>[SUMMARY] .TAU application  =&gt; [CONTEXT] .TAU application  =&gt; [SAMPLE] RadixSort::Sort(float const*, unsigned int)</th>\n",
       "      <td>7.06e-01</td>\n",
       "      <td>1.91e-01</td>\n",
       "      <td>1.91e-01</td>\n",
       "      <td>nan</td>\n",
       "      <td>nan</td>\n",
       "    </tr>\n",
       "    <tr>\n",
       "      <th>[SUMMARY] .TAU application  =&gt; [CONTEXT] .TAU application  =&gt; [SAMPLE] Track::Track()</th>\n",
       "      <td>1.07e+00</td>\n",
       "      <td>1.54e+00</td>\n",
       "      <td>1.54e+00</td>\n",
       "      <td>nan</td>\n",
       "      <td>nan</td>\n",
       "    </tr>\n",
       "    <tr>\n",
       "      <th>[SUMMARY] .TAU application  =&gt; [CONTEXT] .TAU application  =&gt; [SAMPLE] Track::zAtR(float, float*) const</th>\n",
       "      <td>9.33e-01</td>\n",
       "      <td>5.53e-02</td>\n",
       "      <td>5.53e-02</td>\n",
       "      <td>nan</td>\n",
       "      <td>nan</td>\n",
       "    </tr>\n",
       "    <tr>\n",
       "      <th>[SUMMARY] .TAU application  =&gt; [CONTEXT] .TAU application  =&gt; [SAMPLE] UNRESOLVED /global/project/projectdirs/m2956/gravelle/mictest_sampling/mkFit/mkFit</th>\n",
       "      <td>1.45e+00</td>\n",
       "      <td>1.60e+00</td>\n",
       "      <td>1.60e+00</td>\n",
       "      <td>nan</td>\n",
       "      <td>nan</td>\n",
       "    </tr>\n",
       "    <tr>\n",
       "      <th>[SUMMARY] .TAU application  =&gt; [CONTEXT] .TAU application  =&gt; [SAMPLE] UNRESOLVED /opt/intel/compilers_and_libraries_2018.1.163/linux/tbb/lib/intel64_lin/gcc4.7/libtbb.so.2</th>\n",
       "      <td>4.44e-01</td>\n",
       "      <td>2.08e-01</td>\n",
       "      <td>2.08e-01</td>\n",
       "      <td>nan</td>\n",
       "      <td>nan</td>\n",
       "    </tr>\n",
       "  </tbody>\n",
       "</table>\n",
       "</div>"
      ],
      "text/plain": [
       "                                                                                 Calls  \\\n",
       "thread region                                                                            \n",
       "0      [SUMMARY] (anonymous namespace)::sortCandListByHitsChi2(MkFinder::I... 5.45e-01   \n",
       "       [SUMMARY] .TAU application                                             9.90e-01   \n",
       "       [SUMMARY] .TAU application  => [CONTEXT] .TAU application              9.90e-01   \n",
       "       [SUMMARY] .TAU application  => [CONTEXT] .TAU application  => [SAMP... 5.45e-01   \n",
       "       [SUMMARY] .TAU application  => [CONTEXT] .TAU application  => [SAMP... 9.99e-01   \n",
       "       [SUMMARY] .TAU application  => [CONTEXT] .TAU application  => [SAMP... 1.20e+00   \n",
       "       [SUMMARY] .TAU application  => [CONTEXT] .TAU application  => [SAMP... 8.24e-01   \n",
       "       [SUMMARY] .TAU application  => [CONTEXT] .TAU application  => [SAMP... 1.43e+00   \n",
       "       [SUMMARY] .TAU application  => [CONTEXT] .TAU application  => [SAMP... 8.75e-01   \n",
       "       [SUMMARY] .TAU application  => [CONTEXT] .TAU application  => [SAMP... 4.44e-01   \n",
       "       [SUMMARY] .TAU application  => [CONTEXT] .TAU application  => [SAMP... 9.47e-01   \n",
       "       [SUMMARY] .TAU application  => [CONTEXT] .TAU application  => [SAMP... 5.81e-01   \n",
       "       [SUMMARY] .TAU application  => [CONTEXT] .TAU application  => [SAMP... 6.96e-01   \n",
       "       [SUMMARY] .TAU application  => [CONTEXT] .TAU application  => [SAMP... 1.23e+00   \n",
       "       [SUMMARY] .TAU application  => [CONTEXT] .TAU application  => [SAMP... 8.78e-01   \n",
       "       [SUMMARY] .TAU application  => [CONTEXT] .TAU application  => [SAMP... 7.06e-01   \n",
       "       [SUMMARY] .TAU application  => [CONTEXT] .TAU application  => [SAMP... 1.07e+00   \n",
       "       [SUMMARY] .TAU application  => [CONTEXT] .TAU application  => [SAMP... 9.33e-01   \n",
       "       [SUMMARY] .TAU application  => [CONTEXT] .TAU application  => [SAMP... 1.45e+00   \n",
       "       [SUMMARY] .TAU application  => [CONTEXT] .TAU application  => [SAMP... 4.44e-01   \n",
       "\n",
       "                                                                               Exclusive  \\\n",
       "thread region                                                                              \n",
       "0      [SUMMARY] (anonymous namespace)::sortCandListByHitsChi2(MkFinder::I...   3.54e-01   \n",
       "       [SUMMARY] .TAU application                                                    nan   \n",
       "       [SUMMARY] .TAU application  => [CONTEXT] .TAU application                     nan   \n",
       "       [SUMMARY] .TAU application  => [CONTEXT] .TAU application  => [SAMP...   3.54e-01   \n",
       "       [SUMMARY] .TAU application  => [CONTEXT] .TAU application  => [SAMP...   1.06e-01   \n",
       "       [SUMMARY] .TAU application  => [CONTEXT] .TAU application  => [SAMP...   5.64e-01   \n",
       "       [SUMMARY] .TAU application  => [CONTEXT] .TAU application  => [SAMP...   6.54e-01   \n",
       "       [SUMMARY] .TAU application  => [CONTEXT] .TAU application  => [SAMP...   3.98e-01   \n",
       "       [SUMMARY] .TAU application  => [CONTEXT] .TAU application  => [SAMP...   2.16e+00   \n",
       "       [SUMMARY] .TAU application  => [CONTEXT] .TAU application  => [SAMP...        inf   \n",
       "       [SUMMARY] .TAU application  => [CONTEXT] .TAU application  => [SAMP...   2.20e+00   \n",
       "       [SUMMARY] .TAU application  => [CONTEXT] .TAU application  => [SAMP...   1.55e+00   \n",
       "       [SUMMARY] .TAU application  => [CONTEXT] .TAU application  => [SAMP...   1.31e+00   \n",
       "       [SUMMARY] .TAU application  => [CONTEXT] .TAU application  => [SAMP...   4.33e-01   \n",
       "       [SUMMARY] .TAU application  => [CONTEXT] .TAU application  => [SAMP...   1.05e-01   \n",
       "       [SUMMARY] .TAU application  => [CONTEXT] .TAU application  => [SAMP...   1.91e-01   \n",
       "       [SUMMARY] .TAU application  => [CONTEXT] .TAU application  => [SAMP...   1.54e+00   \n",
       "       [SUMMARY] .TAU application  => [CONTEXT] .TAU application  => [SAMP...   5.53e-02   \n",
       "       [SUMMARY] .TAU application  => [CONTEXT] .TAU application  => [SAMP...   1.60e+00   \n",
       "       [SUMMARY] .TAU application  => [CONTEXT] .TAU application  => [SAMP...   2.08e-01   \n",
       "\n",
       "                                                                               Inclusive  \\\n",
       "thread region                                                                              \n",
       "0      [SUMMARY] (anonymous namespace)::sortCandListByHitsChi2(MkFinder::I...   3.54e-01   \n",
       "       [SUMMARY] .TAU application                                               8.38e-01   \n",
       "       [SUMMARY] .TAU application  => [CONTEXT] .TAU application                8.38e-01   \n",
       "       [SUMMARY] .TAU application  => [CONTEXT] .TAU application  => [SAMP...   3.54e-01   \n",
       "       [SUMMARY] .TAU application  => [CONTEXT] .TAU application  => [SAMP...   1.06e-01   \n",
       "       [SUMMARY] .TAU application  => [CONTEXT] .TAU application  => [SAMP...   5.64e-01   \n",
       "       [SUMMARY] .TAU application  => [CONTEXT] .TAU application  => [SAMP...   6.54e-01   \n",
       "       [SUMMARY] .TAU application  => [CONTEXT] .TAU application  => [SAMP...   3.98e-01   \n",
       "       [SUMMARY] .TAU application  => [CONTEXT] .TAU application  => [SAMP...   2.16e+00   \n",
       "       [SUMMARY] .TAU application  => [CONTEXT] .TAU application  => [SAMP...        inf   \n",
       "       [SUMMARY] .TAU application  => [CONTEXT] .TAU application  => [SAMP...   2.20e+00   \n",
       "       [SUMMARY] .TAU application  => [CONTEXT] .TAU application  => [SAMP...   1.55e+00   \n",
       "       [SUMMARY] .TAU application  => [CONTEXT] .TAU application  => [SAMP...   1.31e+00   \n",
       "       [SUMMARY] .TAU application  => [CONTEXT] .TAU application  => [SAMP...   4.33e-01   \n",
       "       [SUMMARY] .TAU application  => [CONTEXT] .TAU application  => [SAMP...   1.05e-01   \n",
       "       [SUMMARY] .TAU application  => [CONTEXT] .TAU application  => [SAMP...   1.91e-01   \n",
       "       [SUMMARY] .TAU application  => [CONTEXT] .TAU application  => [SAMP...   1.54e+00   \n",
       "       [SUMMARY] .TAU application  => [CONTEXT] .TAU application  => [SAMP...   5.53e-02   \n",
       "       [SUMMARY] .TAU application  => [CONTEXT] .TAU application  => [SAMP...   1.60e+00   \n",
       "       [SUMMARY] .TAU application  => [CONTEXT] .TAU application  => [SAMP...   2.08e-01   \n",
       "\n",
       "                                                                               ProfileCalls  \\\n",
       "thread region                                                                                 \n",
       "0      [SUMMARY] (anonymous namespace)::sortCandListByHitsChi2(MkFinder::I...           nan   \n",
       "       [SUMMARY] .TAU application                                                       nan   \n",
       "       [SUMMARY] .TAU application  => [CONTEXT] .TAU application                        nan   \n",
       "       [SUMMARY] .TAU application  => [CONTEXT] .TAU application  => [SAMP...           nan   \n",
       "       [SUMMARY] .TAU application  => [CONTEXT] .TAU application  => [SAMP...           nan   \n",
       "       [SUMMARY] .TAU application  => [CONTEXT] .TAU application  => [SAMP...           nan   \n",
       "       [SUMMARY] .TAU application  => [CONTEXT] .TAU application  => [SAMP...           nan   \n",
       "       [SUMMARY] .TAU application  => [CONTEXT] .TAU application  => [SAMP...           nan   \n",
       "       [SUMMARY] .TAU application  => [CONTEXT] .TAU application  => [SAMP...           nan   \n",
       "       [SUMMARY] .TAU application  => [CONTEXT] .TAU application  => [SAMP...           nan   \n",
       "       [SUMMARY] .TAU application  => [CONTEXT] .TAU application  => [SAMP...           nan   \n",
       "       [SUMMARY] .TAU application  => [CONTEXT] .TAU application  => [SAMP...           nan   \n",
       "       [SUMMARY] .TAU application  => [CONTEXT] .TAU application  => [SAMP...           nan   \n",
       "       [SUMMARY] .TAU application  => [CONTEXT] .TAU application  => [SAMP...           nan   \n",
       "       [SUMMARY] .TAU application  => [CONTEXT] .TAU application  => [SAMP...           nan   \n",
       "       [SUMMARY] .TAU application  => [CONTEXT] .TAU application  => [SAMP...           nan   \n",
       "       [SUMMARY] .TAU application  => [CONTEXT] .TAU application  => [SAMP...           nan   \n",
       "       [SUMMARY] .TAU application  => [CONTEXT] .TAU application  => [SAMP...           nan   \n",
       "       [SUMMARY] .TAU application  => [CONTEXT] .TAU application  => [SAMP...           nan   \n",
       "       [SUMMARY] .TAU application  => [CONTEXT] .TAU application  => [SAMP...           nan   \n",
       "\n",
       "                                                                               Subcalls  \n",
       "thread region                                                                            \n",
       "0      [SUMMARY] (anonymous namespace)::sortCandListByHitsChi2(MkFinder::I...       nan  \n",
       "       [SUMMARY] .TAU application                                                   nan  \n",
       "       [SUMMARY] .TAU application  => [CONTEXT] .TAU application                    nan  \n",
       "       [SUMMARY] .TAU application  => [CONTEXT] .TAU application  => [SAMP...       nan  \n",
       "       [SUMMARY] .TAU application  => [CONTEXT] .TAU application  => [SAMP...       nan  \n",
       "       [SUMMARY] .TAU application  => [CONTEXT] .TAU application  => [SAMP...       nan  \n",
       "       [SUMMARY] .TAU application  => [CONTEXT] .TAU application  => [SAMP...       nan  \n",
       "       [SUMMARY] .TAU application  => [CONTEXT] .TAU application  => [SAMP...       nan  \n",
       "       [SUMMARY] .TAU application  => [CONTEXT] .TAU application  => [SAMP...       nan  \n",
       "       [SUMMARY] .TAU application  => [CONTEXT] .TAU application  => [SAMP...       nan  \n",
       "       [SUMMARY] .TAU application  => [CONTEXT] .TAU application  => [SAMP...       nan  \n",
       "       [SUMMARY] .TAU application  => [CONTEXT] .TAU application  => [SAMP...       nan  \n",
       "       [SUMMARY] .TAU application  => [CONTEXT] .TAU application  => [SAMP...       nan  \n",
       "       [SUMMARY] .TAU application  => [CONTEXT] .TAU application  => [SAMP...       nan  \n",
       "       [SUMMARY] .TAU application  => [CONTEXT] .TAU application  => [SAMP...       nan  \n",
       "       [SUMMARY] .TAU application  => [CONTEXT] .TAU application  => [SAMP...       nan  \n",
       "       [SUMMARY] .TAU application  => [CONTEXT] .TAU application  => [SAMP...       nan  \n",
       "       [SUMMARY] .TAU application  => [CONTEXT] .TAU application  => [SAMP...       nan  \n",
       "       [SUMMARY] .TAU application  => [CONTEXT] .TAU application  => [SAMP...       nan  \n",
       "       [SUMMARY] .TAU application  => [CONTEXT] .TAU application  => [SAMP...       nan  "
      ]
     },
     "execution_count": 24,
     "metadata": {},
     "output_type": "execute_result"
    }
   ],
   "source": [
    "# data cleanup\n",
    "metric_data[48]['DERIVED_STALL_PERCENT'].head(20)"
   ]
  },
  {
   "cell_type": "code",
   "execution_count": 61,
   "metadata": {},
   "outputs": [
    {
     "name": "stdout",
     "output_type": "stream",
     "text": [
      "[128, 32, 96, 16, 48, 8, 80, 144, 176, 192, 224, 64, 240, 256, 112, 160, 208]\n"
     ]
    }
   ],
   "source": [
    "mdata = {}\n",
    "for k,v in metric_data.items():\n",
    "    if k==1: continue\n",
    "    mdata[k] = metric_data[k]  #_talapas_manual_scaling_TTbar70_talapas_fullnode\n",
    "print mdata.keys()"
   ]
  },
  {
   "cell_type": "code",
   "execution_count": 118,
   "metadata": {
    "scrolled": false
   },
   "outputs": [
    {
     "name": "stdout",
     "output_type": "stream",
     "text": [
      "ERROR getting DERIVED_VIPI for thread 32\n",
      "ERROR getting DERIVED_VIPI for thread 32\n",
      "[8, 16, 48, 64, 80, 96, 112, 128, 144, 160, 176, 192, 208, 224, 240, 256]\n"
     ]
    },
    {
     "data": {
      "text/plain": [
       "<matplotlib.figure.Figure at 0x7f7c2d0c4050>"
      ]
     },
     "execution_count": 118,
     "metadata": {},
     "output_type": "execute_result"
    },
    {
     "data": {
      "text/plain": [
       "<matplotlib.figure.Figure at 0x7f7c370a6690>"
      ]
     },
     "execution_count": 118,
     "metadata": {},
     "output_type": "execute_result"
    },
    {
     "data": {
      "text/html": [
       "<div>\n",
       "<style>\n",
       "    .dataframe thead tr:only-child th {\n",
       "        text-align: right;\n",
       "    }\n",
       "\n",
       "    .dataframe thead th {\n",
       "        text-align: left;\n",
       "    }\n",
       "\n",
       "    .dataframe tbody tr th {\n",
       "        vertical-align: top;\n",
       "    }\n",
       "</style>\n",
       "<table border=\"1\" class=\"dataframe\">\n",
       "  <thead>\n",
       "    <tr style=\"text-align: right;\">\n",
       "      <th></th>\n",
       "      <th>Inclusive</th>\n",
       "      <th>function</th>\n",
       "    </tr>\n",
       "    <tr>\n",
       "      <th>region</th>\n",
       "      <th></th>\n",
       "      <th></th>\n",
       "    </tr>\n",
       "  </thead>\n",
       "  <tbody>\n",
       "    <tr>\n",
       "      <th>[SUMMARY] helixAtZ(Matriplex::Matriplex&lt;float, 6, 1, 8&gt; const&amp;, Matriplex::Matriplex&lt;int, 1, 1, 8&gt; const&amp;, Matriplex::Matriplex&lt;float, 6, 1, 8&gt;&amp;, Matriplex::Matriplex&lt;float, 1, 1, 8&gt; const&amp;, Matriplex::Matriplex&lt;float, 6, 6, 8&gt;&amp;, int, bool)</th>\n",
       "      <td>-1.17e+00</td>\n",
       "      <td>[SUMMARY] helixAtZ(Matriplex::Matriplex&lt;float, 6, 1, 8&gt; const&amp;, Ma...</td>\n",
       "    </tr>\n",
       "    <tr>\n",
       "      <th>[SUMMARY] Matriplex::MatriplexSym&lt;float, 3, 8&gt;::SlurpIn(char const*, int*, int)</th>\n",
       "      <td>-7.40e-01</td>\n",
       "      <td>[SUMMARY] Matriplex::MatriplexSym&lt;float, 3, 8&gt;::SlurpIn(char const...</td>\n",
       "    </tr>\n",
       "    <tr>\n",
       "      <th>[SUMMARY] __svml_sincosf8_l9</th>\n",
       "      <td>-2.99e-01</td>\n",
       "      <td>[SUMMARY] __svml_sincosf8_l9</td>\n",
       "    </tr>\n",
       "    <tr>\n",
       "      <th>[SUMMARY] RadixSort::Sort(float const*, unsigned int)</th>\n",
       "      <td>-1.24e-01</td>\n",
       "      <td>[SUMMARY] RadixSort::Sort(float const*, unsigned int)</td>\n",
       "    </tr>\n",
       "    <tr>\n",
       "      <th>[SUMMARY] Matriplex::Matriplex&lt;int, 16, 1, 8&gt;::At(int, int, int)</th>\n",
       "      <td>-1.20e-01</td>\n",
       "      <td>[SUMMARY] Matriplex::Matriplex&lt;int, 16, 1, 8&gt;::At(int, int, int)</td>\n",
       "    </tr>\n",
       "    <tr>\n",
       "      <th>[SUMMARY] tanf</th>\n",
       "      <td>-1.14e-01</td>\n",
       "      <td>[SUMMARY] tanf</td>\n",
       "    </tr>\n",
       "    <tr>\n",
       "      <th>[SUMMARY] __libm_sse2_sincosf</th>\n",
       "      <td>-7.74e-02</td>\n",
       "      <td>[SUMMARY] __libm_sse2_sincosf</td>\n",
       "    </tr>\n",
       "    <tr>\n",
       "      <th>[SUMMARY] __libm_atan2f_l9</th>\n",
       "      <td>-3.13e-02</td>\n",
       "      <td>[SUMMARY] __libm_atan2f_l9</td>\n",
       "    </tr>\n",
       "    <tr>\n",
       "      <th>[SUMMARY] Matriplex::MatriplexSym&lt;float, 6, 8&gt;::operator=(Matriplex::MatriplexSym&lt;float, 6, 8&gt; const&amp;)</th>\n",
       "      <td>-2.77e-02</td>\n",
       "      <td>[SUMMARY] Matriplex::MatriplexSym&lt;float, 6, 8&gt;::operator=(Matriple...</td>\n",
       "    </tr>\n",
       "    <tr>\n",
       "      <th>[SUMMARY] __libm_tanf_l9</th>\n",
       "      <td>-1.40e-03</td>\n",
       "      <td>[SUMMARY] __libm_tanf_l9</td>\n",
       "    </tr>\n",
       "    <tr>\n",
       "      <th>[SUMMARY] _int_free</th>\n",
       "      <td>-9.36e-04</td>\n",
       "      <td>[SUMMARY] _int_free</td>\n",
       "    </tr>\n",
       "    <tr>\n",
       "      <th>[SUMMARY] MkBuilder::map_seed_hits()</th>\n",
       "      <td>4.24e-04</td>\n",
       "      <td>[SUMMARY] MkBuilder::map_seed_hits()</td>\n",
       "    </tr>\n",
       "    <tr>\n",
       "      <th>[SUMMARY] malloc_consolidate</th>\n",
       "      <td>5.64e-04</td>\n",
       "      <td>[SUMMARY] malloc_consolidate</td>\n",
       "    </tr>\n",
       "    <tr>\n",
       "      <th>[SUMMARY] _int_malloc</th>\n",
       "      <td>6.10e-03</td>\n",
       "      <td>[SUMMARY] _int_malloc</td>\n",
       "    </tr>\n",
       "    <tr>\n",
       "      <th>[SUMMARY] __read_nocancel</th>\n",
       "      <td>2.31e-02</td>\n",
       "      <td>[SUMMARY] __read_nocancel</td>\n",
       "    </tr>\n",
       "    <tr>\n",
       "      <th>[SUMMARY] __memcpy_sse2</th>\n",
       "      <td>3.11e-02</td>\n",
       "      <td>[SUMMARY] __memcpy_sse2</td>\n",
       "    </tr>\n",
       "    <tr>\n",
       "      <th>[SUMMARY] __libm_hypotf_e7</th>\n",
       "      <td>5.76e-02</td>\n",
       "      <td>[SUMMARY] __libm_hypotf_e7</td>\n",
       "    </tr>\n",
       "    <tr>\n",
       "      <th>[SUMMARY] FMA(__m256 const&amp;, __m256 const&amp;, __m256 const&amp;)</th>\n",
       "      <td>1.76e-01</td>\n",
       "      <td>[SUMMARY] FMA(__m256 const&amp;, __m256 const&amp;, __m256 const&amp;)</td>\n",
       "    </tr>\n",
       "    <tr>\n",
       "      <th>[SUMMARY] __svml_sinf8_l9</th>\n",
       "      <td>1.80e-01</td>\n",
       "      <td>[SUMMARY] __svml_sinf8_l9</td>\n",
       "    </tr>\n",
       "    <tr>\n",
       "      <th>[SUMMARY] Matriplex::Matriplex&lt;float, 6, 6, 8&gt;::operator()(int, int, int)</th>\n",
       "      <td>1.89e-01</td>\n",
       "      <td>[SUMMARY] Matriplex::Matriplex&lt;float, 6, 6, 8&gt;::operator()(int, in...</td>\n",
       "    </tr>\n",
       "  </tbody>\n",
       "</table>\n",
       "</div>"
      ],
      "text/plain": [
       "                                                                        Inclusive  \\\n",
       "region                                                                              \n",
       "[SUMMARY] helixAtZ(Matriplex::Matriplex<float, 6, 1, 8> const&, Mat...  -1.17e+00   \n",
       "[SUMMARY] Matriplex::MatriplexSym<float, 3, 8>::SlurpIn(char const*...  -7.40e-01   \n",
       "[SUMMARY] __svml_sincosf8_l9                                            -2.99e-01   \n",
       "[SUMMARY] RadixSort::Sort(float const*, unsigned int)                   -1.24e-01   \n",
       "[SUMMARY] Matriplex::Matriplex<int, 16, 1, 8>::At(int, int, int)        -1.20e-01   \n",
       "[SUMMARY] tanf                                                          -1.14e-01   \n",
       "[SUMMARY] __libm_sse2_sincosf                                           -7.74e-02   \n",
       "[SUMMARY] __libm_atan2f_l9                                              -3.13e-02   \n",
       "[SUMMARY] Matriplex::MatriplexSym<float, 6, 8>::operator=(Matriplex...  -2.77e-02   \n",
       "[SUMMARY] __libm_tanf_l9                                                -1.40e-03   \n",
       "[SUMMARY] _int_free                                                     -9.36e-04   \n",
       "[SUMMARY] MkBuilder::map_seed_hits()                                     4.24e-04   \n",
       "[SUMMARY] malloc_consolidate                                             5.64e-04   \n",
       "[SUMMARY] _int_malloc                                                    6.10e-03   \n",
       "[SUMMARY] __read_nocancel                                                2.31e-02   \n",
       "[SUMMARY] __memcpy_sse2                                                  3.11e-02   \n",
       "[SUMMARY] __libm_hypotf_e7                                               5.76e-02   \n",
       "[SUMMARY] FMA(__m256 const&, __m256 const&, __m256 const&)               1.76e-01   \n",
       "[SUMMARY] __svml_sinf8_l9                                                1.80e-01   \n",
       "[SUMMARY] Matriplex::Matriplex<float, 6, 6, 8>::operator()(int, int...   1.89e-01   \n",
       "\n",
       "                                                                                                                                     function  \n",
       "region                                                                                                                                         \n",
       "[SUMMARY] helixAtZ(Matriplex::Matriplex<float, 6, 1, 8> const&, Mat...  [SUMMARY] helixAtZ(Matriplex::Matriplex<float, 6, 1, 8> const&, Ma...  \n",
       "[SUMMARY] Matriplex::MatriplexSym<float, 3, 8>::SlurpIn(char const*...  [SUMMARY] Matriplex::MatriplexSym<float, 3, 8>::SlurpIn(char const...  \n",
       "[SUMMARY] __svml_sincosf8_l9                                                                                    [SUMMARY] __svml_sincosf8_l9   \n",
       "[SUMMARY] RadixSort::Sort(float const*, unsigned int)                                  [SUMMARY] RadixSort::Sort(float const*, unsigned int)   \n",
       "[SUMMARY] Matriplex::Matriplex<int, 16, 1, 8>::At(int, int, int)            [SUMMARY] Matriplex::Matriplex<int, 16, 1, 8>::At(int, int, int)   \n",
       "[SUMMARY] tanf                                                                                                                [SUMMARY] tanf   \n",
       "[SUMMARY] __libm_sse2_sincosf                                                                                  [SUMMARY] __libm_sse2_sincosf   \n",
       "[SUMMARY] __libm_atan2f_l9                                                                                        [SUMMARY] __libm_atan2f_l9   \n",
       "[SUMMARY] Matriplex::MatriplexSym<float, 6, 8>::operator=(Matriplex...  [SUMMARY] Matriplex::MatriplexSym<float, 6, 8>::operator=(Matriple...  \n",
       "[SUMMARY] __libm_tanf_l9                                                                                            [SUMMARY] __libm_tanf_l9   \n",
       "[SUMMARY] _int_free                                                                                                      [SUMMARY] _int_free   \n",
       "[SUMMARY] MkBuilder::map_seed_hits()                                                                    [SUMMARY] MkBuilder::map_seed_hits()   \n",
       "[SUMMARY] malloc_consolidate                                                                                    [SUMMARY] malloc_consolidate   \n",
       "[SUMMARY] _int_malloc                                                                                                  [SUMMARY] _int_malloc   \n",
       "[SUMMARY] __read_nocancel                                                                                          [SUMMARY] __read_nocancel   \n",
       "[SUMMARY] __memcpy_sse2                                                                                              [SUMMARY] __memcpy_sse2   \n",
       "[SUMMARY] __libm_hypotf_e7                                                                                        [SUMMARY] __libm_hypotf_e7   \n",
       "[SUMMARY] FMA(__m256 const&, __m256 const&, __m256 const&)                        [SUMMARY] FMA(__m256 const&, __m256 const&, __m256 const&)   \n",
       "[SUMMARY] __svml_sinf8_l9                                                                                          [SUMMARY] __svml_sinf8_l9   \n",
       "[SUMMARY] Matriplex::Matriplex<float, 6, 6, 8>::operator()(int, int...  [SUMMARY] Matriplex::Matriplex<float, 6, 6, 8>::operator()(int, in...  "
      ]
     },
     "execution_count": 118,
     "metadata": {},
     "output_type": "execute_result"
    },
    {
     "data": {
      "image/png": "[encoded data removed]",
      "text/plain": [
       "<matplotlib.figure.Figure at 0x7f7c35965c10>"
      ]
     },
     "metadata": {},
     "output_type": "display_data"
    },
    {
     "data": {
      "image/png": "[encoded data removed]",
      "text/plain": [
       "<matplotlib.figure.Figure at 0x7f7c2d0c4050>"
      ]
     },
     "metadata": {},
     "output_type": "display_data"
    },
    {
     "data": {
      "image/png": "[encoded data removed]",
      "text/plain": [
       "<matplotlib.figure.Figure at 0x7f7c370a6690>"
      ]
     },
     "metadata": {},
     "output_type": "display_data"
    }
   ],
   "source": [
    "#thread_0 = expr_intervals['PAPI_TOT_CYC'].xs(0, level='thread').sort_values(by='Inclusive',ascending=False,axis=0)\n",
    "METRIC='DERIVED_VIPI'\n",
    "\n",
    "which='Inclusive'; inc = True\n",
    "thread_list, STL_PCT_data = scaling_plot(mdata, inclusive=inc, plot=False, metric=METRIC)\n",
    "    \n",
    "p = matplotlib.pyplot.plot(thread_list, STL_PCT_data)\n",
    "\n",
    "STL_PCT_data = select_metric_from_scaling(mdata, METRIC)\n",
    "\n",
    "STL_PCT_dict = {}\n",
    "for n_thr in thread_list:\n",
    "    STL_PCT_dict[n_thr] = filter_libs_out(STL_PCT_data[n_thr]).sort_values(by=which,ascending=False)[[which]]\n",
    "print thread_list\n",
    "#STL_PCT_dict=STL_PCT_data\n",
    "\n",
    "func = 'NULL';\n",
    "# func = 'FindCandidatesCloneEngine' # NULL for nothing\n",
    "# func = 'SelectHitIndices' # NULL for nothing\n",
    "dd = (STL_PCT_dict[8]-STL_PCT_dict[64])\n",
    "#dd.sort_values(which, inplace=True)\n",
    "#dd.drop_duplicates(subset=[which],keep='first',inplace=True)\n",
    "\n",
    "sf = get_func_level_metric(dd, inclusive=inc, func=func, avg=False)\n",
    "plt.figure() \n",
    "set_chart_font_size(12); plt.rcParams['figure.figsize']=(20,8)\n",
    "sf['function'] = sf.index\n",
    "sf = sf[~(sf['function'].str.contains('__GI__')|sf['function'].str.contains('_ZN9__gnu_cxx13')|\n",
    "          sf['function'].str.contains('[CONTEXT]'))]\n",
    "\n",
    "#scalable_funcs.Function.apply(lambda x: x.replace('[SUMMARY] .TAU application',''))\n",
    "g = sns.barplot(y='function',x=which,data=sf.head(10))\n",
    "\n",
    "nf = dd.groupby(['region'])[[which]].sum().sort_values(by=which,ascending=True)[[which]]\n",
    "plt.figure() ; set_chart_font_size(12); #plt.rcParams['figure.figsize']=(20,8)\n",
    "nf['function'] = nf.index\n",
    "nf = nf[~(nf['function'].str.contains('__GI__')|nf['function'].str.contains('_ZN9__gnu_cxx13')|\n",
    "          nf['function'].str.contains('[CONTEXT]'))]\n",
    "g = sns.barplot(y='function',x=which,data=nf.head(10))\n",
    "\n",
    "nf.head(20)\n"
   ]
  },
  {
   "cell_type": "code",
   "execution_count": 119,
   "metadata": {},
   "outputs": [
    {
     "data": {
      "text/plain": [
       "<matplotlib.figure.Figure at 0x7f7c2d255e90>"
      ]
     },
     "execution_count": 119,
     "metadata": {},
     "output_type": "execute_result"
    },
    {
     "data": {
      "image/png": "[encoded data removed]",
      "text/plain": [
       "<matplotlib.figure.Figure at 0x7f7c2d255e90>"
      ]
     },
     "metadata": {},
     "output_type": "display_data"
    }
   ],
   "source": [
    "func = 'LayerInfo::is_within_r_sensitive_region'\n",
    "#func = 'helixAtZ(Matriplex::Matriplex<float, 6, 1, 8> const&, Matriplex::Matriplex<int, 1, 1, 8> const&, Matriplex::Matriplex<float, 6, 1, 8>&, Matriplex::Matriplex<float, 1, 1, 8> const&, Matriplex::Matriplex<float, 6, 6, 8>&, int, bool)'\n",
    "#func = 'NULL'\n",
    "which='Inclusive';inc=True\n",
    "matplotlib.rcParams.update({'font.size': 22})\n",
    "plt.figure()\n",
    "df = pd.DataFrame()\n",
    "#lines = {'DERIVED_VIPI':'yh--'}#,\n",
    "lines = {'DERIVED_L1_MISSRATE':'b+-','DERIVED_L2_MISSRATE':'mx-.','DERIVED_L3_MISSRATE':'ro--','DERIVED_BRANCH_MR':'g*:'}\n",
    "\n",
    "for METRIC, ls in lines.items():\n",
    "    thread_list, data = scaling_plot(mdata, inclusive=inc, plot=False, metric=METRIC)\n",
    "    p = matplotlib.pyplot.plot(thread_list, data, ls, linewidth=3,\n",
    "                               label=METRIC.replace('DERIVED_','').replace('_',' '))\n",
    "    \n",
    "\n",
    "    #axes = plt.gca(); axes.set_ylim([0,0.1])\n",
    "    leg = plt.legend(loc='upper left', ncol=4, shadow=True, fancybox=True)\n",
    "    \n",
    "\n",
    "\n",
    "    #data = select_metric_from_scaling(mdata, METRIC)\n",
    "    #mdict = {}\n",
    "    #for n_thr in thread_list:\n",
    "    #    mdict[n_thr] = filter_libs_out(data[n_thr]).sort_values(by=which,ascending=False)[[which]]\n",
    "    "
   ]
  },
  {
   "cell_type": "markdown",
   "metadata": {},
   "source": [
    "## Store Buffer Stalls\n",
    "<a id='stl_sb'></a>"
   ]
  },
  {
   "cell_type": "code",
   "execution_count": 14,
   "metadata": {
    "collapsed": true
   },
   "outputs": [
    {
     "data": {
      "image/png": "[encoded data removed]",
      "text/plain": [
       "<matplotlib.figure.Figure at 0x7f2f53babe90>"
      ]
     },
     "metadata": {},
     "output_type": "display_data"
    }
   ],
   "source": [
    "METRIC='PAPI_NATIVE_RESOURCE_STALLS:SB'\n",
    "thread_list, STL_SB_data = scaling_plot(metric_data, plot=False, metric=METRIC)\n",
    "    \n",
    "plt = matplotlib.pyplot.plot(thread_list, STL_SB_data)"
   ]
  },
  {
   "cell_type": "code",
   "execution_count": 173,
   "metadata": {
    "scrolled": true
   },
   "outputs": [
    {
     "name": "stdout",
     "output_type": "stream",
     "text": [
      "8\n"
     ]
    },
    {
     "data": {
      "text/plain": [
       "<BarContainer object of 8 artists>"
      ]
     },
     "execution_count": 173,
     "metadata": {},
     "output_type": "execute_result"
    },
    {
     "data": {
      "text/plain": [
       "(0.0, 5000000000.0)"
      ]
     },
     "execution_count": 173,
     "metadata": {},
     "output_type": "execute_result"
    },
    {
     "data": {
      "image/png": "[encoded data removed]",
      "text/plain": [
       "<Figure size 432x288 with 1 Axes>"
      ]
     },
     "metadata": {},
     "output_type": "display_data"
    },
    {
     "name": "stdout",
     "output_type": "stream",
     "text": [
      "16\n"
     ]
    },
    {
     "data": {
      "text/plain": [
       "<BarContainer object of 16 artists>"
      ]
     },
     "execution_count": 173,
     "metadata": {},
     "output_type": "execute_result"
    },
    {
     "data": {
      "text/plain": [
       "(0.0, 5000000000.0)"
      ]
     },
     "execution_count": 173,
     "metadata": {},
     "output_type": "execute_result"
    },
    {
     "data": {
      "image/png": "[encoded data removed]",
      "text/plain": [
       "<Figure size 432x288 with 1 Axes>"
      ]
     },
     "metadata": {},
     "output_type": "display_data"
    },
    {
     "name": "stdout",
     "output_type": "stream",
     "text": [
      "32\n"
     ]
    },
    {
     "data": {
      "text/plain": [
       "<BarContainer object of 32 artists>"
      ]
     },
     "execution_count": 173,
     "metadata": {},
     "output_type": "execute_result"
    },
    {
     "data": {
      "text/plain": [
       "(0.0, 5000000000.0)"
      ]
     },
     "execution_count": 173,
     "metadata": {},
     "output_type": "execute_result"
    },
    {
     "data": {
      "image/png": "[encoded data removed]",
      "text/plain": [
       "<Figure size 432x288 with 1 Axes>"
      ]
     },
     "metadata": {},
     "output_type": "display_data"
    },
    {
     "name": "stdout",
     "output_type": "stream",
     "text": [
      "48\n"
     ]
    },
    {
     "data": {
      "text/plain": [
       "<BarContainer object of 48 artists>"
      ]
     },
     "execution_count": 173,
     "metadata": {},
     "output_type": "execute_result"
    },
    {
     "data": {
      "text/plain": [
       "(0.0, 5000000000.0)"
      ]
     },
     "execution_count": 173,
     "metadata": {},
     "output_type": "execute_result"
    },
    {
     "data": {
      "image/png": "[encoded data removed]",
      "text/plain": [
       "<Figure size 432x288 with 1 Axes>"
      ]
     },
     "metadata": {},
     "output_type": "display_data"
    },
    {
     "name": "stdout",
     "output_type": "stream",
     "text": [
      "56\n"
     ]
    },
    {
     "data": {
      "text/plain": [
       "<BarContainer object of 56 artists>"
      ]
     },
     "execution_count": 173,
     "metadata": {},
     "output_type": "execute_result"
    },
    {
     "data": {
      "text/plain": [
       "(0.0, 5000000000.0)"
      ]
     },
     "execution_count": 173,
     "metadata": {},
     "output_type": "execute_result"
    },
    {
     "data": {
      "image/png": "[encoded data removed]",
      "text/plain": [
       "<Figure size 432x288 with 1 Axes>"
      ]
     },
     "metadata": {},
     "output_type": "display_data"
    }
   ],
   "source": [
    "thread_STL_SB_data = get_thread_level_metric_scaling(metric_data, metric=METRIC)\n",
    "\n",
    "for kt in thread_list:\n",
    "    print kt\n",
    "    data = list(thread_STL_SB_data[kt])\n",
    "    matplotlib.pyplot.bar(range(len(data)), data)\n",
    "    matplotlib.pyplot.ylim(ymax=5e9)\n",
    "    matplotlib.pyplot.show()"
   ]
  },
  {
   "cell_type": "code",
   "execution_count": 175,
   "metadata": {},
   "outputs": [
    {
     "name": "stdout",
     "output_type": "stream",
     "text": [
      "[8, 16, 32, 48, 56]\n"
     ]
    }
   ],
   "source": [
    "STL_SB_data = select_metric_from_scaling(metric_data, METRIC)\n",
    "STL_SB_dict = {}\n",
    "for n_thr in thread_list:\n",
    "    STL_SB_dict[n_thr] = filter_libs_out(STL_SB_data[n_thr]).sort_values(by='Exclusive',ascending=False)[[\"Exclusive\"]]\n",
    "print thread_list"
   ]
  },
  {
   "cell_type": "code",
   "execution_count": 178,
   "metadata": {
    "scrolled": true
   },
   "outputs": [
    {
     "data": {
      "text/html": [
       "<div>\n",
       "<style scoped>\n",
       "    .dataframe tbody tr th:only-of-type {\n",
       "        vertical-align: middle;\n",
       "    }\n",
       "\n",
       "    .dataframe tbody tr th {\n",
       "        vertical-align: top;\n",
       "    }\n",
       "\n",
       "    .dataframe thead th {\n",
       "        text-align: right;\n",
       "    }\n",
       "</style>\n",
       "<table border=\"1\" class=\"dataframe\">\n",
       "  <thead>\n",
       "    <tr style=\"text-align: right;\">\n",
       "      <th></th>\n",
       "      <th>Exclusive</th>\n",
       "    </tr>\n",
       "    <tr>\n",
       "      <th>region</th>\n",
       "      <th></th>\n",
       "    </tr>\n",
       "  </thead>\n",
       "  <tbody>\n",
       "    <tr>\n",
       "      <th>[SUMMARY] MkFinder::SelectHitIndices(LayerOfHits const&amp;, int)</th>\n",
       "      <td>4.53e+07</td>\n",
       "    </tr>\n",
       "    <tr>\n",
       "      <th>[SUMMARY] __svml_sincosf8_l9</th>\n",
       "      <td>3.13e+07</td>\n",
       "    </tr>\n",
       "    <tr>\n",
       "      <th>[SUMMARY] .TAU application  =&gt; [CONTEXT] .TAU application  =&gt; [SAMPLE] __svml_sincosf8_l9</th>\n",
       "      <td>2.78e+07</td>\n",
       "    </tr>\n",
       "    <tr>\n",
       "      <th>[SUMMARY] MkFinder::FindCandidatesCloneEngine(LayerOfHits const&amp;, CandCloner&amp;, int, int, FindingFoos const&amp;)</th>\n",
       "      <td>1.85e+07</td>\n",
       "    </tr>\n",
       "    <tr>\n",
       "      <th>[SUMMARY] __read_nocancel</th>\n",
       "      <td>1.40e+07</td>\n",
       "    </tr>\n",
       "    <tr>\n",
       "      <th>[SUMMARY] Event::clean_cms_seedtracks()</th>\n",
       "      <td>1.27e+07</td>\n",
       "    </tr>\n",
       "    <tr>\n",
       "      <th>[SUMMARY] RadixSort::Sort(float const*, unsigned int)</th>\n",
       "      <td>1.20e+07</td>\n",
       "    </tr>\n",
       "    <tr>\n",
       "      <th>[SUMMARY] helixAtZ(Matriplex::Matriplex&lt;float, 6, 1, 8&gt; const&amp;, Matriplex::Matriplex&lt;int, 1, 1, 8&gt; const&amp;, Matriplex::Matriplex&lt;float, 6, 1, 8&gt;&amp;, Matriplex::Matriplex&lt;float, 1, 1, 8&gt; const&amp;, Matriplex::Matriplex&lt;float, 6, 6, 8&gt;&amp;, int, bool)</th>\n",
       "      <td>1.11e+07</td>\n",
       "    </tr>\n",
       "    <tr>\n",
       "      <th>[SUMMARY] void _INTERNALc4f9cdd2::helixAtRFromIterativeCCS_impl&lt;Matriplex::Matriplex&lt;float, 6, 1, 8&gt;, Matriplex::Matriplex&lt;int, 1, 1, 8&gt;, Matriplex::Matriplex&lt;float, 6, 1, 8&gt;, Matriplex::Matriplex&lt;float, 1, 1, 8&gt;, Matriplex::Matriplex&lt;float, 6, 6, 8&gt; &gt;(Matriplex::Matriplex&lt;float, 6, 1, 8&gt; const&amp;, Matriplex::Matriplex&lt;int, 1, 1, 8&gt; const&amp;, Matriplex::Matriplex&lt;float, 6, 1, 8&gt;&amp;, Matriplex::Matriplex&lt;float, 1, 1, 8&gt; const&amp;, Matriplex::Matriplex&lt;float, 6, 6, 8&gt;&amp;, int, int, int, bool)</th>\n",
       "      <td>1.05e+07</td>\n",
       "    </tr>\n",
       "    <tr>\n",
       "      <th>[SUMMARY] FMA(__m256 const&amp;, __m256 const&amp;, __m256 const&amp;)</th>\n",
       "      <td>1.01e+07</td>\n",
       "    </tr>\n",
       "  </tbody>\n",
       "</table>\n",
       "</div>"
      ],
      "text/plain": [
       "                                                                        Exclusive\n",
       "region                                                                           \n",
       "[SUMMARY] MkFinder::SelectHitIndices(LayerOfHits const&, int)            4.53e+07\n",
       "[SUMMARY] __svml_sincosf8_l9                                             3.13e+07\n",
       "[SUMMARY] .TAU application  => [CONTEXT] .TAU application  => [SAMP...   2.78e+07\n",
       "[SUMMARY] MkFinder::FindCandidatesCloneEngine(LayerOfHits const&, C...   1.85e+07\n",
       "[SUMMARY] __read_nocancel                                                1.40e+07\n",
       "[SUMMARY] Event::clean_cms_seedtracks()                                  1.27e+07\n",
       "[SUMMARY] RadixSort::Sort(float const*, unsigned int)                    1.20e+07\n",
       "[SUMMARY] helixAtZ(Matriplex::Matriplex<float, 6, 1, 8> const&, Mat...   1.11e+07\n",
       "[SUMMARY] void _INTERNALc4f9cdd2::helixAtRFromIterativeCCS_impl<Mat...   1.05e+07\n",
       "[SUMMARY] FMA(__m256 const&, __m256 const&, __m256 const&)               1.01e+07"
      ]
     },
     "execution_count": 178,
     "metadata": {},
     "output_type": "execute_result"
    }
   ],
   "source": [
    "THREAD_COUNT = 8\n",
    "func = 'NULL'\n",
    "# func = 'FindCandidatesCloneEngine' # NULL for nothing\n",
    "# func = 'SelectHitIndices' # NULL for nothing\n",
    "get_func_level_metric(STL_SB_dict[THREAD_COUNT], func=func, avg=True).head(10)"
   ]
  },
  {
   "cell_type": "code",
   "execution_count": 180,
   "metadata": {},
   "outputs": [
    {
     "data": {
      "text/html": [
       "<div>\n",
       "<style scoped>\n",
       "    .dataframe tbody tr th:only-of-type {\n",
       "        vertical-align: middle;\n",
       "    }\n",
       "\n",
       "    .dataframe tbody tr th {\n",
       "        vertical-align: top;\n",
       "    }\n",
       "\n",
       "    .dataframe thead th {\n",
       "        text-align: right;\n",
       "    }\n",
       "</style>\n",
       "<table border=\"1\" class=\"dataframe\">\n",
       "  <thead>\n",
       "    <tr style=\"text-align: right;\">\n",
       "      <th></th>\n",
       "      <th>PAPI_TOT_CYC</th>\n",
       "      <th>PAPI_NATIVE_RESOURCE_STALLS:SB</th>\n",
       "    </tr>\n",
       "    <tr>\n",
       "      <th>region</th>\n",
       "      <th></th>\n",
       "      <th></th>\n",
       "    </tr>\n",
       "  </thead>\n",
       "  <tbody>\n",
       "    <tr>\n",
       "      <th>[SUMMARY] MkFinder::SelectHitIndices(LayerOfHits const&amp;, int)</th>\n",
       "      <td>2.06e+08</td>\n",
       "      <td>1.27e+07</td>\n",
       "    </tr>\n",
       "    <tr>\n",
       "      <th>[SUMMARY] MkFinder::FindCandidatesCloneEngine(LayerOfHits const&amp;, CandCloner&amp;, int, int, FindingFoos const&amp;)</th>\n",
       "      <td>6.26e+07</td>\n",
       "      <td>3.50e+06</td>\n",
       "    </tr>\n",
       "    <tr>\n",
       "      <th>[SUMMARY] Matriplex::MatriplexSym&lt;float, 3, 8&gt;::SlurpIn(char const*, int*, int)</th>\n",
       "      <td>4.44e+07</td>\n",
       "      <td>3.41e+06</td>\n",
       "    </tr>\n",
       "    <tr>\n",
       "      <th>[SUMMARY] helixAtZ(Matriplex::Matriplex&lt;float, 6, 1, 8&gt; const&amp;, Matriplex::Matriplex&lt;int, 1, 1, 8&gt; const&amp;, Matriplex::Matriplex&lt;float, 6, 1, 8&gt;&amp;, Matriplex::Matriplex&lt;float, 1, 1, 8&gt; const&amp;, Matriplex::Matriplex&lt;float, 6, 6, 8&gt;&amp;, int, bool)</th>\n",
       "      <td>3.67e+07</td>\n",
       "      <td>2.56e+06</td>\n",
       "    </tr>\n",
       "    <tr>\n",
       "      <th>[SUMMARY] Event::clean_cms_seedtracks()</th>\n",
       "      <td>3.47e+07</td>\n",
       "      <td>4.90e+05</td>\n",
       "    </tr>\n",
       "    <tr>\n",
       "      <th>[SUMMARY] void _INTERNALc4f9cdd2::helixAtRFromIterativeCCS_impl&lt;Matriplex::Matriplex&lt;float, 6, 1, 8&gt;, Matriplex::Matriplex&lt;int, 1, 1, 8&gt;, Matriplex::Matriplex&lt;float, 6, 1, 8&gt;, Matriplex::Matriplex&lt;float, 1, 1, 8&gt;, Matriplex::Matriplex&lt;float, 6, 6, 8&gt; &gt;(Matriplex::Matriplex&lt;float, 6, 1, 8&gt; const&amp;, Matriplex::Matriplex&lt;int, 1, 1, 8&gt; const&amp;, Matriplex::Matriplex&lt;float, 6, 1, 8&gt;&amp;, Matriplex::Matriplex&lt;float, 1, 1, 8&gt; const&amp;, Matriplex::Matriplex&lt;float, 6, 6, 8&gt;&amp;, int, int, int, bool)</th>\n",
       "      <td>3.24e+07</td>\n",
       "      <td>2.11e+06</td>\n",
       "    </tr>\n",
       "    <tr>\n",
       "      <th>[SUMMARY] (anonymous namespace)::sortCandListByHitsChi2(MkFinder::IdxChi2List const&amp;, MkFinder::IdxChi2List const&amp;)</th>\n",
       "      <td>3.15e+07</td>\n",
       "      <td>1.67e+06</td>\n",
       "    </tr>\n",
       "    <tr>\n",
       "      <th>[SUMMARY] Matriplex::MatriplexSym&lt;float, 6, 8&gt;::CopyIn(int, float const*)</th>\n",
       "      <td>2.99e+07</td>\n",
       "      <td>1.79e+06</td>\n",
       "    </tr>\n",
       "    <tr>\n",
       "      <th>[SUMMARY] Track::Track(Track const&amp;)</th>\n",
       "      <td>2.83e+07</td>\n",
       "      <td>1.08e+06</td>\n",
       "    </tr>\n",
       "    <tr>\n",
       "      <th>[SUMMARY] Matriplex::MatriplexSym&lt;float, 6, 8&gt;::operator=(Matriplex::MatriplexSym&lt;float, 6, 8&gt; const&amp;)</th>\n",
       "      <td>2.67e+07</td>\n",
       "      <td>1.62e+06</td>\n",
       "    </tr>\n",
       "    <tr>\n",
       "      <th>[SUMMARY] (anonymous namespace)::MultHelixPropEndcap(Matriplex::Matriplex&lt;float, 6, 6, 8&gt; const&amp;, Matriplex::MatriplexSym&lt;float, 6, 8&gt; const&amp;, Matriplex::Matriplex&lt;float, 6, 6, 8&gt;&amp;)</th>\n",
       "      <td>2.62e+07</td>\n",
       "      <td>1.74e+06</td>\n",
       "    </tr>\n",
       "    <tr>\n",
       "      <th>[SUMMARY] Matriplex::MatriplexSym&lt;float, 6, 8&gt;::CopyOut(int, float*) const</th>\n",
       "      <td>2.49e+07</td>\n",
       "      <td>1.70e+06</td>\n",
       "    </tr>\n",
       "    <tr>\n",
       "      <th>[SUMMARY] Matriplex::Matriplex&lt;float, 6, 1, 8&gt;::CopyIn(int, float const*)</th>\n",
       "      <td>1.91e+07</td>\n",
       "      <td>6.54e+05</td>\n",
       "    </tr>\n",
       "    <tr>\n",
       "      <th>[SUMMARY] ROOT::Math::MatRepSym&lt;float, 6u&gt;::operator=(ROOT::Math::MatRepSym&lt;float, 6u&gt; const&amp;)</th>\n",
       "      <td>1.79e+07</td>\n",
       "      <td>5.43e+05</td>\n",
       "    </tr>\n",
       "    <tr>\n",
       "      <th>[SUMMARY] LayerOfHits::alloc_hits(int)</th>\n",
       "      <td>1.68e+07</td>\n",
       "      <td>2.51e+06</td>\n",
       "    </tr>\n",
       "    <tr>\n",
       "      <th>[SUMMARY] Track::getLastHitIdx() const</th>\n",
       "      <td>1.57e+07</td>\n",
       "      <td>1.65e+06</td>\n",
       "    </tr>\n",
       "    <tr>\n",
       "      <th>[SUMMARY] Matriplex::Matriplex&lt;float, 3, 1, 8&gt;::SlurpIn(char const*, int*, int)</th>\n",
       "      <td>1.55e+07</td>\n",
       "      <td>nan</td>\n",
       "    </tr>\n",
       "    <tr>\n",
       "      <th>[SUMMARY] Matriplex::MatriplexSym&lt;float, 3, 8&gt;::CopyIn(int, float const*)</th>\n",
       "      <td>1.50e+07</td>\n",
       "      <td>nan</td>\n",
       "    </tr>\n",
       "    <tr>\n",
       "      <th>[SUMMARY] Matriplex::Matriplex&lt;int, 1, 1, 8&gt;::operator()(int, int, int)</th>\n",
       "      <td>1.47e+07</td>\n",
       "      <td>nan</td>\n",
       "    </tr>\n",
       "    <tr>\n",
       "      <th>[SUMMARY] (anonymous namespace)::Chi2Similarity(Matriplex::Matriplex&lt;float, 2, 1, 8&gt; const&amp;, Matriplex::MatriplexSym&lt;float, 2, 8&gt; const&amp;, Matriplex::Matriplex&lt;float, 1, 1, 8&gt;&amp;)</th>\n",
       "      <td>1.46e+07</td>\n",
       "      <td>nan</td>\n",
       "    </tr>\n",
       "  </tbody>\n",
       "</table>\n",
       "</div>"
      ],
      "text/plain": [
       "                                                                        PAPI_TOT_CYC  \\\n",
       "region                                                                                 \n",
       "[SUMMARY] MkFinder::SelectHitIndices(LayerOfHits const&, int)               2.06e+08   \n",
       "[SUMMARY] MkFinder::FindCandidatesCloneEngine(LayerOfHits const&, C...      6.26e+07   \n",
       "[SUMMARY] Matriplex::MatriplexSym<float, 3, 8>::SlurpIn(char const*...      4.44e+07   \n",
       "[SUMMARY] helixAtZ(Matriplex::Matriplex<float, 6, 1, 8> const&, Mat...      3.67e+07   \n",
       "[SUMMARY] Event::clean_cms_seedtracks()                                     3.47e+07   \n",
       "[SUMMARY] void _INTERNALc4f9cdd2::helixAtRFromIterativeCCS_impl<Mat...      3.24e+07   \n",
       "[SUMMARY] (anonymous namespace)::sortCandListByHitsChi2(MkFinder::I...      3.15e+07   \n",
       "[SUMMARY] Matriplex::MatriplexSym<float, 6, 8>::CopyIn(int, float c...      2.99e+07   \n",
       "[SUMMARY] Track::Track(Track const&)                                        2.83e+07   \n",
       "[SUMMARY] Matriplex::MatriplexSym<float, 6, 8>::operator=(Matriplex...      2.67e+07   \n",
       "[SUMMARY] (anonymous namespace)::MultHelixPropEndcap(Matriplex::Mat...      2.62e+07   \n",
       "[SUMMARY] Matriplex::MatriplexSym<float, 6, 8>::CopyOut(int, float*...      2.49e+07   \n",
       "[SUMMARY] Matriplex::Matriplex<float, 6, 1, 8>::CopyIn(int, float c...      1.91e+07   \n",
       "[SUMMARY] ROOT::Math::MatRepSym<float, 6u>::operator=(ROOT::Math::M...      1.79e+07   \n",
       "[SUMMARY] LayerOfHits::alloc_hits(int)                                      1.68e+07   \n",
       "[SUMMARY] Track::getLastHitIdx() const                                      1.57e+07   \n",
       "[SUMMARY] Matriplex::Matriplex<float, 3, 1, 8>::SlurpIn(char const*...      1.55e+07   \n",
       "[SUMMARY] Matriplex::MatriplexSym<float, 3, 8>::CopyIn(int, float c...      1.50e+07   \n",
       "[SUMMARY] Matriplex::Matriplex<int, 1, 1, 8>::operator()(int, int, ...      1.47e+07   \n",
       "[SUMMARY] (anonymous namespace)::Chi2Similarity(Matriplex::Matriple...      1.46e+07   \n",
       "\n",
       "                                                                        PAPI_NATIVE_RESOURCE_STALLS:SB  \n",
       "region                                                                                                  \n",
       "[SUMMARY] MkFinder::SelectHitIndices(LayerOfHits const&, int)                                 1.27e+07  \n",
       "[SUMMARY] MkFinder::FindCandidatesCloneEngine(LayerOfHits const&, C...                        3.50e+06  \n",
       "[SUMMARY] Matriplex::MatriplexSym<float, 3, 8>::SlurpIn(char const*...                        3.41e+06  \n",
       "[SUMMARY] helixAtZ(Matriplex::Matriplex<float, 6, 1, 8> const&, Mat...                        2.56e+06  \n",
       "[SUMMARY] Event::clean_cms_seedtracks()                                                       4.90e+05  \n",
       "[SUMMARY] void _INTERNALc4f9cdd2::helixAtRFromIterativeCCS_impl<Mat...                        2.11e+06  \n",
       "[SUMMARY] (anonymous namespace)::sortCandListByHitsChi2(MkFinder::I...                        1.67e+06  \n",
       "[SUMMARY] Matriplex::MatriplexSym<float, 6, 8>::CopyIn(int, float c...                        1.79e+06  \n",
       "[SUMMARY] Track::Track(Track const&)                                                          1.08e+06  \n",
       "[SUMMARY] Matriplex::MatriplexSym<float, 6, 8>::operator=(Matriplex...                        1.62e+06  \n",
       "[SUMMARY] (anonymous namespace)::MultHelixPropEndcap(Matriplex::Mat...                        1.74e+06  \n",
       "[SUMMARY] Matriplex::MatriplexSym<float, 6, 8>::CopyOut(int, float*...                        1.70e+06  \n",
       "[SUMMARY] Matriplex::Matriplex<float, 6, 1, 8>::CopyIn(int, float c...                        6.54e+05  \n",
       "[SUMMARY] ROOT::Math::MatRepSym<float, 6u>::operator=(ROOT::Math::M...                        5.43e+05  \n",
       "[SUMMARY] LayerOfHits::alloc_hits(int)                                                        2.51e+06  \n",
       "[SUMMARY] Track::getLastHitIdx() const                                                        1.65e+06  \n",
       "[SUMMARY] Matriplex::Matriplex<float, 3, 1, 8>::SlurpIn(char const*...                             nan  \n",
       "[SUMMARY] Matriplex::MatriplexSym<float, 3, 8>::CopyIn(int, float c...                             nan  \n",
       "[SUMMARY] Matriplex::Matriplex<int, 1, 1, 8>::operator()(int, int, ...                             nan  \n",
       "[SUMMARY] (anonymous namespace)::Chi2Similarity(Matriplex::Matriple...                             nan  "
      ]
     },
     "execution_count": 180,
     "metadata": {},
     "output_type": "execute_result"
    }
   ],
   "source": [
    "stl_sb_data = copy.deepcopy(alldata)\n",
    "metric = METRIC\n",
    "\n",
    "for m in metric_data[THREAD_COUNT].keys():\n",
    "    if (not m == 'METADATA') and (not m == 'PAPI_TOT_CYC') and (not m == metric): stl_sb_data.drop([m],axis=1,inplace=True)\n",
    "\n",
    "def filter_libs_out(dfs):\n",
    "    dfs_filtered = dfs.groupby(level='region').filter(lambda x: ('.TAU application =>' not in x.name) and ('tbb' not in x.name) and ('syscall' not in x.name)  and ('std::' not in x.name))\n",
    "    return dfs_filtered        \n",
    "\n",
    "stl_sb_data = stl_sb_data.groupby(['region']).mean().sort_values(by='PAPI_TOT_CYC',ascending=False).head(100)\n",
    "stl_sb_data = filter_libs_out(stl_sb_data)\n",
    "stl_sb_data = stl_sb_data[stl_sb_data.index.get_level_values('region').str.contains('::')]\n",
    "# vipidata.sort_values(by=metric,ascending=True).head(20)\n",
    "stl_sb_data.head(20)"
   ]
  },
  {
   "cell_type": "markdown",
   "metadata": {},
   "source": [
    "## L2 Miss Count\n",
    "<a id='l2'></a>"
   ]
  },
  {
   "cell_type": "code",
   "execution_count": 158,
   "metadata": {
    "scrolled": false
   },
   "outputs": [
    {
     "data": {
      "image/png": "[encoded data removed]",
      "text/plain": [
       "<Figure size 432x288 with 1 Axes>"
      ]
     },
     "metadata": {},
     "output_type": "display_data"
    }
   ],
   "source": [
    "thread_list, L2_TCM_data = scaling_plot(metric_data, plot=False, metric='PAPI_L2_TCM')\n",
    "    \n",
    "plt = matplotlib.pyplot.plot(thread_list, L2_TCM_data)"
   ]
  },
  {
   "cell_type": "code",
   "execution_count": 162,
   "metadata": {},
   "outputs": [
    {
     "name": "stdout",
     "output_type": "stream",
     "text": [
      "8\n"
     ]
    },
    {
     "data": {
      "text/plain": [
       "<BarContainer object of 8 artists>"
      ]
     },
     "execution_count": 162,
     "metadata": {},
     "output_type": "execute_result"
    },
    {
     "data": {
      "text/plain": [
       "(0.0, 500000000.0)"
      ]
     },
     "execution_count": 162,
     "metadata": {},
     "output_type": "execute_result"
    },
    {
     "data": {
      "image/png": "[encoded data removed]",
      "text/plain": [
       "<Figure size 432x288 with 1 Axes>"
      ]
     },
     "metadata": {},
     "output_type": "display_data"
    },
    {
     "name": "stdout",
     "output_type": "stream",
     "text": [
      "16\n"
     ]
    },
    {
     "data": {
      "text/plain": [
       "<BarContainer object of 16 artists>"
      ]
     },
     "execution_count": 162,
     "metadata": {},
     "output_type": "execute_result"
    },
    {
     "data": {
      "text/plain": [
       "(0.0, 500000000.0)"
      ]
     },
     "execution_count": 162,
     "metadata": {},
     "output_type": "execute_result"
    },
    {
     "data": {
      "image/png": "[encoded data removed]",
      "text/plain": [
       "<Figure size 432x288 with 1 Axes>"
      ]
     },
     "metadata": {},
     "output_type": "display_data"
    },
    {
     "name": "stdout",
     "output_type": "stream",
     "text": [
      "32\n"
     ]
    },
    {
     "data": {
      "text/plain": [
       "<BarContainer object of 32 artists>"
      ]
     },
     "execution_count": 162,
     "metadata": {},
     "output_type": "execute_result"
    },
    {
     "data": {
      "text/plain": [
       "(0.0, 500000000.0)"
      ]
     },
     "execution_count": 162,
     "metadata": {},
     "output_type": "execute_result"
    },
    {
     "data": {
      "image/png": "[encoded data removed]",
      "text/plain": [
       "<Figure size 432x288 with 1 Axes>"
      ]
     },
     "metadata": {},
     "output_type": "display_data"
    },
    {
     "name": "stdout",
     "output_type": "stream",
     "text": [
      "48\n"
     ]
    },
    {
     "data": {
      "text/plain": [
       "<BarContainer object of 48 artists>"
      ]
     },
     "execution_count": 162,
     "metadata": {},
     "output_type": "execute_result"
    },
    {
     "data": {
      "text/plain": [
       "(0.0, 500000000.0)"
      ]
     },
     "execution_count": 162,
     "metadata": {},
     "output_type": "execute_result"
    },
    {
     "data": {
      "image/png": "[encoded data removed]",
      "text/plain": [
       "<Figure size 432x288 with 1 Axes>"
      ]
     },
     "metadata": {},
     "output_type": "display_data"
    },
    {
     "name": "stdout",
     "output_type": "stream",
     "text": [
      "56\n"
     ]
    },
    {
     "data": {
      "text/plain": [
       "<BarContainer object of 56 artists>"
      ]
     },
     "execution_count": 162,
     "metadata": {},
     "output_type": "execute_result"
    },
    {
     "data": {
      "text/plain": [
       "(0.0, 500000000.0)"
      ]
     },
     "execution_count": 162,
     "metadata": {},
     "output_type": "execute_result"
    },
    {
     "data": {
      "image/png": "[encoded data removed]",
      "text/plain": [
       "<Figure size 432x288 with 1 Axes>"
      ]
     },
     "metadata": {},
     "output_type": "display_data"
    }
   ],
   "source": [
    "thread_L2_TCM_data = get_thread_level_metric_scaling(metric_data, metric='PAPI_L2_TCM')\n",
    "\n",
    "for kt in thread_list:\n",
    "    print kt\n",
    "    data = list(thread_L2_TCM_data[kt])\n",
    "    matplotlib.pyplot.bar(range(len(data)), data)\n",
    "    matplotlib.pyplot.ylim(ymax=5e8)\n",
    "    matplotlib.pyplot.show()"
   ]
  },
  {
   "cell_type": "code",
   "execution_count": 164,
   "metadata": {},
   "outputs": [
    {
     "name": "stdout",
     "output_type": "stream",
     "text": [
      "[8, 16, 32, 48, 56]\n"
     ]
    }
   ],
   "source": [
    "L2_TCM_data = select_metric_from_scaling(metric_data, 'PAPI_L2_TCM')\n",
    "L2_TCM_dict = {}\n",
    "for n_thr in thread_list:\n",
    "    L2_TCM_dict[n_thr] = filter_libs_out(L2_TCM_data[n_thr]).sort_values(by='Exclusive',ascending=False)[[\"Exclusive\"]]\n",
    "print thread_list"
   ]
  },
  {
   "cell_type": "code",
   "execution_count": 165,
   "metadata": {
    "scrolled": true
   },
   "outputs": [
    {
     "data": {
      "text/html": [
       "<div>\n",
       "<style scoped>\n",
       "    .dataframe tbody tr th:only-of-type {\n",
       "        vertical-align: middle;\n",
       "    }\n",
       "\n",
       "    .dataframe tbody tr th {\n",
       "        vertical-align: top;\n",
       "    }\n",
       "\n",
       "    .dataframe thead th {\n",
       "        text-align: right;\n",
       "    }\n",
       "</style>\n",
       "<table border=\"1\" class=\"dataframe\">\n",
       "  <thead>\n",
       "    <tr style=\"text-align: right;\">\n",
       "      <th></th>\n",
       "      <th>Exclusive</th>\n",
       "    </tr>\n",
       "    <tr>\n",
       "      <th>region</th>\n",
       "      <th></th>\n",
       "    </tr>\n",
       "  </thead>\n",
       "  <tbody>\n",
       "    <tr>\n",
       "      <th>[SUMMARY] MkFinder::SelectHitIndices(LayerOfHits const&amp;, int)</th>\n",
       "      <td>1.87e+06</td>\n",
       "    </tr>\n",
       "    <tr>\n",
       "      <th>[SUMMARY] __svml_sincosf8_l9</th>\n",
       "      <td>1.25e+06</td>\n",
       "    </tr>\n",
       "    <tr>\n",
       "      <th>[SUMMARY] .TAU application  =&gt; [CONTEXT] .TAU application  =&gt; [SAMPLE] __svml_sincosf8_l9</th>\n",
       "      <td>1.14e+06</td>\n",
       "    </tr>\n",
       "    <tr>\n",
       "      <th>[SUMMARY] __GI___libc_malloc</th>\n",
       "      <td>9.06e+05</td>\n",
       "    </tr>\n",
       "    <tr>\n",
       "      <th>[SUMMARY] MkFinder::FindCandidatesCloneEngine(LayerOfHits const&amp;, CandCloner&amp;, int, int, FindingFoos const&amp;)</th>\n",
       "      <td>6.57e+05</td>\n",
       "    </tr>\n",
       "    <tr>\n",
       "      <th>[SUMMARY] __read_nocancel</th>\n",
       "      <td>6.33e+05</td>\n",
       "    </tr>\n",
       "    <tr>\n",
       "      <th>[SUMMARY] Event::clean_cms_seedtracks()</th>\n",
       "      <td>6.28e+05</td>\n",
       "    </tr>\n",
       "    <tr>\n",
       "      <th>[SUMMARY] _int_free</th>\n",
       "      <td>5.94e+05</td>\n",
       "    </tr>\n",
       "    <tr>\n",
       "      <th>[SUMMARY] __intel_avx_rep_memset</th>\n",
       "      <td>4.59e+05</td>\n",
       "    </tr>\n",
       "    <tr>\n",
       "      <th>[SUMMARY] _int_malloc</th>\n",
       "      <td>4.42e+05</td>\n",
       "    </tr>\n",
       "    <tr>\n",
       "      <th>[SUMMARY] malloc_consolidate</th>\n",
       "      <td>4.37e+05</td>\n",
       "    </tr>\n",
       "    <tr>\n",
       "      <th>[SUMMARY] RadixSort::Sort(float const*, unsigned int)</th>\n",
       "      <td>4.24e+05</td>\n",
       "    </tr>\n",
       "    <tr>\n",
       "      <th>[SUMMARY] void _INTERNALc4f9cdd2::helixAtRFromIterativeCCS_impl&lt;Matriplex::Matriplex&lt;float, 6, 1, 8&gt;, Matriplex::Matriplex&lt;int, 1, 1, 8&gt;, Matriplex::Matriplex&lt;float, 6, 1, 8&gt;, Matriplex::Matriplex&lt;float, 1, 1, 8&gt;, Matriplex::Matriplex&lt;float, 6, 6, 8&gt; &gt;(Matriplex::Matriplex&lt;float, 6, 1, 8&gt; const&amp;, Matriplex::Matriplex&lt;int, 1, 1, 8&gt; const&amp;, Matriplex::Matriplex&lt;float, 6, 1, 8&gt;&amp;, Matriplex::Matriplex&lt;float, 1, 1, 8&gt; const&amp;, Matriplex::Matriplex&lt;float, 6, 6, 8&gt;&amp;, int, int, int, bool)</th>\n",
       "      <td>4.10e+05</td>\n",
       "    </tr>\n",
       "    <tr>\n",
       "      <th>[SUMMARY] FMA(__m256 const&amp;, __m256 const&amp;, __m256 const&amp;)</th>\n",
       "      <td>3.83e+05</td>\n",
       "    </tr>\n",
       "    <tr>\n",
       "      <th>[SUMMARY] helixAtZ(Matriplex::Matriplex&lt;float, 6, 1, 8&gt; const&amp;, Matriplex::Matriplex&lt;int, 1, 1, 8&gt; const&amp;, Matriplex::Matriplex&lt;float, 6, 1, 8&gt;&amp;, Matriplex::Matriplex&lt;float, 1, 1, 8&gt; const&amp;, Matriplex::Matriplex&lt;float, 6, 6, 8&gt;&amp;, int, bool)</th>\n",
       "      <td>3.70e+05</td>\n",
       "    </tr>\n",
       "    <tr>\n",
       "      <th>[SUMMARY] Matriplex::MatriplexSym&lt;float, 6, 8&gt;::CopyIn(int, float const*)</th>\n",
       "      <td>3.21e+05</td>\n",
       "    </tr>\n",
       "    <tr>\n",
       "      <th>[SUMMARY] __GI___mprotect</th>\n",
       "      <td>3.16e+05</td>\n",
       "    </tr>\n",
       "    <tr>\n",
       "      <th>[SUMMARY] sysmalloc</th>\n",
       "      <td>2.90e+05</td>\n",
       "    </tr>\n",
       "    <tr>\n",
       "      <th>[SUMMARY] Matriplex::MatriplexSym&lt;float, 3, 8&gt;::SlurpIn(char const*, int*, int)</th>\n",
       "      <td>2.56e+05</td>\n",
       "    </tr>\n",
       "    <tr>\n",
       "      <th>[SUMMARY] LayerOfHits::alloc_hits(int)</th>\n",
       "      <td>2.53e+05</td>\n",
       "    </tr>\n",
       "  </tbody>\n",
       "</table>\n",
       "</div>"
      ],
      "text/plain": [
       "                                                                        Exclusive\n",
       "region                                                                           \n",
       "[SUMMARY] MkFinder::SelectHitIndices(LayerOfHits const&, int)            1.87e+06\n",
       "[SUMMARY] __svml_sincosf8_l9                                             1.25e+06\n",
       "[SUMMARY] .TAU application  => [CONTEXT] .TAU application  => [SAMP...   1.14e+06\n",
       "[SUMMARY] __GI___libc_malloc                                             9.06e+05\n",
       "[SUMMARY] MkFinder::FindCandidatesCloneEngine(LayerOfHits const&, C...   6.57e+05\n",
       "[SUMMARY] __read_nocancel                                                6.33e+05\n",
       "[SUMMARY] Event::clean_cms_seedtracks()                                  6.28e+05\n",
       "[SUMMARY] _int_free                                                      5.94e+05\n",
       "[SUMMARY] __intel_avx_rep_memset                                         4.59e+05\n",
       "[SUMMARY] _int_malloc                                                    4.42e+05\n",
       "[SUMMARY] malloc_consolidate                                             4.37e+05\n",
       "[SUMMARY] RadixSort::Sort(float const*, unsigned int)                    4.24e+05\n",
       "[SUMMARY] void _INTERNALc4f9cdd2::helixAtRFromIterativeCCS_impl<Mat...   4.10e+05\n",
       "[SUMMARY] FMA(__m256 const&, __m256 const&, __m256 const&)               3.83e+05\n",
       "[SUMMARY] helixAtZ(Matriplex::Matriplex<float, 6, 1, 8> const&, Mat...   3.70e+05\n",
       "[SUMMARY] Matriplex::MatriplexSym<float, 6, 8>::CopyIn(int, float c...   3.21e+05\n",
       "[SUMMARY] __GI___mprotect                                                3.16e+05\n",
       "[SUMMARY] sysmalloc                                                      2.90e+05\n",
       "[SUMMARY] Matriplex::MatriplexSym<float, 3, 8>::SlurpIn(char const*...   2.56e+05\n",
       "[SUMMARY] LayerOfHits::alloc_hits(int)                                   2.53e+05"
      ]
     },
     "execution_count": 165,
     "metadata": {},
     "output_type": "execute_result"
    }
   ],
   "source": [
    "THREAD_COUNT = 16\n",
    "func = 'NULL'\n",
    "# func = 'FindCandidatesCloneEngine' # NULL for nothing\n",
    "# func = 'SelectHitIndices' # NULL for nothing\n",
    "get_func_level_metric(L2_TCM_dict[THREAD_COUNT], func=func, avg=True).head(20)"
   ]
  },
  {
   "cell_type": "markdown",
   "metadata": {},
   "source": [
    "## L3 Miss Count\n",
    "<a id='l3'></a>"
   ]
  },
  {
   "cell_type": "code",
   "execution_count": 149,
   "metadata": {
    "scrolled": true
   },
   "outputs": [
    {
     "data": {
      "image/png": "[encoded data removed]",
      "text/plain": [
       "<Figure size 432x288 with 1 Axes>"
      ]
     },
     "metadata": {},
     "output_type": "display_data"
    }
   ],
   "source": [
    "thread_list, L3_TCM_data = scaling_plot(metric_data, plot=False, metric='PAPI_L3_TCM')\n",
    "    \n",
    "plt = matplotlib.pyplot.plot(thread_list, L3_TCM_data)"
   ]
  },
  {
   "cell_type": "code",
   "execution_count": 156,
   "metadata": {},
   "outputs": [
    {
     "name": "stdout",
     "output_type": "stream",
     "text": [
      "8\n"
     ]
    },
    {
     "data": {
      "text/plain": [
       "<BarContainer object of 8 artists>"
      ]
     },
     "execution_count": 156,
     "metadata": {},
     "output_type": "execute_result"
    },
    {
     "data": {
      "text/plain": [
       "(0.0, 200000000.0)"
      ]
     },
     "execution_count": 156,
     "metadata": {},
     "output_type": "execute_result"
    },
    {
     "data": {
      "image/png": "[encoded data removed]",
      "text/plain": [
       "<Figure size 432x288 with 1 Axes>"
      ]
     },
     "metadata": {},
     "output_type": "display_data"
    },
    {
     "name": "stdout",
     "output_type": "stream",
     "text": [
      "16\n"
     ]
    },
    {
     "data": {
      "text/plain": [
       "<BarContainer object of 16 artists>"
      ]
     },
     "execution_count": 156,
     "metadata": {},
     "output_type": "execute_result"
    },
    {
     "data": {
      "text/plain": [
       "(0.0, 200000000.0)"
      ]
     },
     "execution_count": 156,
     "metadata": {},
     "output_type": "execute_result"
    },
    {
     "data": {
      "image/png": "[encoded data removed]",
      "text/plain": [
       "<Figure size 432x288 with 1 Axes>"
      ]
     },
     "metadata": {},
     "output_type": "display_data"
    },
    {
     "name": "stdout",
     "output_type": "stream",
     "text": [
      "32\n"
     ]
    },
    {
     "data": {
      "text/plain": [
       "<BarContainer object of 32 artists>"
      ]
     },
     "execution_count": 156,
     "metadata": {},
     "output_type": "execute_result"
    },
    {
     "data": {
      "text/plain": [
       "(0.0, 200000000.0)"
      ]
     },
     "execution_count": 156,
     "metadata": {},
     "output_type": "execute_result"
    },
    {
     "data": {
      "image/png": "[encoded data removed]",
      "text/plain": [
       "<Figure size 432x288 with 1 Axes>"
      ]
     },
     "metadata": {},
     "output_type": "display_data"
    },
    {
     "name": "stdout",
     "output_type": "stream",
     "text": [
      "48\n"
     ]
    },
    {
     "data": {
      "text/plain": [
       "<BarContainer object of 48 artists>"
      ]
     },
     "execution_count": 156,
     "metadata": {},
     "output_type": "execute_result"
    },
    {
     "data": {
      "text/plain": [
       "(0.0, 200000000.0)"
      ]
     },
     "execution_count": 156,
     "metadata": {},
     "output_type": "execute_result"
    },
    {
     "data": {
      "image/png": "[encoded data removed]",
      "text/plain": [
       "<Figure size 432x288 with 1 Axes>"
      ]
     },
     "metadata": {},
     "output_type": "display_data"
    },
    {
     "name": "stdout",
     "output_type": "stream",
     "text": [
      "56\n"
     ]
    },
    {
     "data": {
      "text/plain": [
       "<BarContainer object of 56 artists>"
      ]
     },
     "execution_count": 156,
     "metadata": {},
     "output_type": "execute_result"
    },
    {
     "data": {
      "text/plain": [
       "(0.0, 200000000.0)"
      ]
     },
     "execution_count": 156,
     "metadata": {},
     "output_type": "execute_result"
    },
    {
     "data": {
      "image/png": "[encoded data removed]",
      "text/plain": [
       "<Figure size 432x288 with 1 Axes>"
      ]
     },
     "metadata": {},
     "output_type": "display_data"
    }
   ],
   "source": [
    "thread_L3_TCM_data = get_thread_level_metric_scaling(metric_data, metric='PAPI_L3_TCM')\n",
    "\n",
    "for kt in thread_list:\n",
    "    print kt\n",
    "    data = list(thread_L3_TCM_data[kt])\n",
    "    matplotlib.pyplot.bar(range(len(data)), data)\n",
    "    matplotlib.pyplot.ylim(ymax=2e8)\n",
    "    matplotlib.pyplot.show()"
   ]
  },
  {
   "cell_type": "code",
   "execution_count": 153,
   "metadata": {},
   "outputs": [
    {
     "name": "stdout",
     "output_type": "stream",
     "text": [
      "[8, 16, 32, 48, 56]\n"
     ]
    }
   ],
   "source": [
    "L3_TCM_data = select_metric_from_scaling(metric_data, 'PAPI_L3_TCM')\n",
    "L3_TCM_dict = {}\n",
    "for n_thr in thread_list:\n",
    "    L3_TCM_dict[n_thr] = filter_libs_out(L3_TCM_data[n_thr]).sort_values(by='Exclusive',ascending=False)[[\"Exclusive\"]]\n",
    "print thread_list"
   ]
  },
  {
   "cell_type": "code",
   "execution_count": 157,
   "metadata": {
    "scrolled": true
   },
   "outputs": [
    {
     "data": {
      "text/html": [
       "<div>\n",
       "<style scoped>\n",
       "    .dataframe tbody tr th:only-of-type {\n",
       "        vertical-align: middle;\n",
       "    }\n",
       "\n",
       "    .dataframe tbody tr th {\n",
       "        vertical-align: top;\n",
       "    }\n",
       "\n",
       "    .dataframe thead th {\n",
       "        text-align: right;\n",
       "    }\n",
       "</style>\n",
       "<table border=\"1\" class=\"dataframe\">\n",
       "  <thead>\n",
       "    <tr style=\"text-align: right;\">\n",
       "      <th></th>\n",
       "      <th>Exclusive</th>\n",
       "    </tr>\n",
       "    <tr>\n",
       "      <th>region</th>\n",
       "      <th></th>\n",
       "    </tr>\n",
       "  </thead>\n",
       "  <tbody>\n",
       "    <tr>\n",
       "      <th>[SUMMARY] MkFinder::SelectHitIndices(LayerOfHits const&amp;, int)</th>\n",
       "      <td>4.96e+05</td>\n",
       "    </tr>\n",
       "    <tr>\n",
       "      <th>[SUMMARY] Event::clean_cms_seedtracks()</th>\n",
       "      <td>3.08e+05</td>\n",
       "    </tr>\n",
       "    <tr>\n",
       "      <th>[SUMMARY] __svml_sincosf8_l9</th>\n",
       "      <td>2.90e+05</td>\n",
       "    </tr>\n",
       "    <tr>\n",
       "      <th>[SUMMARY] .TAU application  =&gt; [CONTEXT] .TAU application  =&gt; [SAMPLE] __svml_sincosf8_l9</th>\n",
       "      <td>2.61e+05</td>\n",
       "    </tr>\n",
       "    <tr>\n",
       "      <th>[SUMMARY] __GI___libc_malloc</th>\n",
       "      <td>2.52e+05</td>\n",
       "    </tr>\n",
       "    <tr>\n",
       "      <th>[SUMMARY] __read_nocancel</th>\n",
       "      <td>2.31e+05</td>\n",
       "    </tr>\n",
       "    <tr>\n",
       "      <th>[SUMMARY] _int_free</th>\n",
       "      <td>2.05e+05</td>\n",
       "    </tr>\n",
       "    <tr>\n",
       "      <th>[SUMMARY] RadixSort::Sort(float const*, unsigned int)</th>\n",
       "      <td>1.85e+05</td>\n",
       "    </tr>\n",
       "    <tr>\n",
       "      <th>[SUMMARY] _int_malloc</th>\n",
       "      <td>1.77e+05</td>\n",
       "    </tr>\n",
       "    <tr>\n",
       "      <th>[SUMMARY] MkFinder::FindCandidatesCloneEngine(LayerOfHits const&amp;, CandCloner&amp;, int, int, FindingFoos const&amp;)</th>\n",
       "      <td>1.68e+05</td>\n",
       "    </tr>\n",
       "    <tr>\n",
       "      <th>[SUMMARY] __libm_atan2f_l9</th>\n",
       "      <td>1.37e+05</td>\n",
       "    </tr>\n",
       "    <tr>\n",
       "      <th>[SUMMARY] __intel_avx_rep_memset</th>\n",
       "      <td>1.35e+05</td>\n",
       "    </tr>\n",
       "    <tr>\n",
       "      <th>[SUMMARY] malloc_consolidate</th>\n",
       "      <td>1.33e+05</td>\n",
       "    </tr>\n",
       "    <tr>\n",
       "      <th>[SUMMARY] LayerOfHits::empty_phi_bins(int, int, int, int)</th>\n",
       "      <td>1.31e+05</td>\n",
       "    </tr>\n",
       "    <tr>\n",
       "      <th>[SUMMARY] FMA(__m256 const&amp;, __m256 const&amp;, __m256 const&amp;)</th>\n",
       "      <td>1.13e+05</td>\n",
       "    </tr>\n",
       "    <tr>\n",
       "      <th>[SUMMARY] helixAtZ(Matriplex::Matriplex&lt;float, 6, 1, 8&gt; const&amp;, Matriplex::Matriplex&lt;int, 1, 1, 8&gt; const&amp;, Matriplex::Matriplex&lt;float, 6, 1, 8&gt;&amp;, Matriplex::Matriplex&lt;float, 1, 1, 8&gt; const&amp;, Matriplex::Matriplex&lt;float, 6, 6, 8&gt;&amp;, int, bool)</th>\n",
       "      <td>1.06e+05</td>\n",
       "    </tr>\n",
       "    <tr>\n",
       "      <th>[SUMMARY] __GI___mprotect</th>\n",
       "      <td>1.06e+05</td>\n",
       "    </tr>\n",
       "    <tr>\n",
       "      <th>[SUMMARY] void _INTERNALc4f9cdd2::helixAtRFromIterativeCCS_impl&lt;Matriplex::Matriplex&lt;float, 6, 1, 8&gt;, Matriplex::Matriplex&lt;int, 1, 1, 8&gt;, Matriplex::Matriplex&lt;float, 6, 1, 8&gt;, Matriplex::Matriplex&lt;float, 1, 1, 8&gt;, Matriplex::Matriplex&lt;float, 6, 6, 8&gt; &gt;(Matriplex::Matriplex&lt;float, 6, 1, 8&gt; const&amp;, Matriplex::Matriplex&lt;int, 1, 1, 8&gt; const&amp;, Matriplex::Matriplex&lt;float, 6, 1, 8&gt;&amp;, Matriplex::Matriplex&lt;float, 1, 1, 8&gt; const&amp;, Matriplex::Matriplex&lt;float, 6, 6, 8&gt;&amp;, int, int, int, bool)</th>\n",
       "      <td>1.00e+05</td>\n",
       "    </tr>\n",
       "    <tr>\n",
       "      <th>[SUMMARY] sysmalloc</th>\n",
       "      <td>9.06e+04</td>\n",
       "    </tr>\n",
       "    <tr>\n",
       "      <th>[SUMMARY] Matriplex::MatriplexSym&lt;float, 6, 8&gt;::CopyIn(int, float const*)</th>\n",
       "      <td>8.11e+04</td>\n",
       "    </tr>\n",
       "  </tbody>\n",
       "</table>\n",
       "</div>"
      ],
      "text/plain": [
       "                                                                        Exclusive\n",
       "region                                                                           \n",
       "[SUMMARY] MkFinder::SelectHitIndices(LayerOfHits const&, int)            4.96e+05\n",
       "[SUMMARY] Event::clean_cms_seedtracks()                                  3.08e+05\n",
       "[SUMMARY] __svml_sincosf8_l9                                             2.90e+05\n",
       "[SUMMARY] .TAU application  => [CONTEXT] .TAU application  => [SAMP...   2.61e+05\n",
       "[SUMMARY] __GI___libc_malloc                                             2.52e+05\n",
       "[SUMMARY] __read_nocancel                                                2.31e+05\n",
       "[SUMMARY] _int_free                                                      2.05e+05\n",
       "[SUMMARY] RadixSort::Sort(float const*, unsigned int)                    1.85e+05\n",
       "[SUMMARY] _int_malloc                                                    1.77e+05\n",
       "[SUMMARY] MkFinder::FindCandidatesCloneEngine(LayerOfHits const&, C...   1.68e+05\n",
       "[SUMMARY] __libm_atan2f_l9                                               1.37e+05\n",
       "[SUMMARY] __intel_avx_rep_memset                                         1.35e+05\n",
       "[SUMMARY] malloc_consolidate                                             1.33e+05\n",
       "[SUMMARY] LayerOfHits::empty_phi_bins(int, int, int, int)                1.31e+05\n",
       "[SUMMARY] FMA(__m256 const&, __m256 const&, __m256 const&)               1.13e+05\n",
       "[SUMMARY] helixAtZ(Matriplex::Matriplex<float, 6, 1, 8> const&, Mat...   1.06e+05\n",
       "[SUMMARY] __GI___mprotect                                                1.06e+05\n",
       "[SUMMARY] void _INTERNALc4f9cdd2::helixAtRFromIterativeCCS_impl<Mat...   1.00e+05\n",
       "[SUMMARY] sysmalloc                                                      9.06e+04\n",
       "[SUMMARY] Matriplex::MatriplexSym<float, 6, 8>::CopyIn(int, float c...   8.11e+04"
      ]
     },
     "execution_count": 157,
     "metadata": {},
     "output_type": "execute_result"
    }
   ],
   "source": [
    "THREAD_COUNT = 16\n",
    "func = 'NULL'\n",
    "# func = 'FindCandidatesCloneEngine' # NULL for nothing\n",
    "# func = 'SelectHitIndices' # NULL for nothing\n",
    "get_func_level_metric(L3_TCM_dict[THREAD_COUNT], func=func, avg=True).head(20)"
   ]
  },
  {
   "cell_type": "markdown",
   "metadata": {},
   "source": [
    "## Fetch Stalls\n",
    "<a id='fetch_stalls'></a>"
   ]
  },
  {
   "cell_type": "code",
   "execution_count": 116,
   "metadata": {
    "collapsed": true
   },
   "outputs": [],
   "source": [
    "# thread_list, FETCH_STALL_data = scaling_plot(metric_data, plot=False, metric='PAPI_NATIVE_FETCH_STALL')\n",
    "    \n",
    "# plt = matplotlib.pyplot.plot(thread_list, FETCH_STALL_data)"
   ]
  },
  {
   "cell_type": "code",
   "execution_count": 117,
   "metadata": {
    "collapsed": true
   },
   "outputs": [],
   "source": [
    "# thread_FETCH_STL_data = get_thread_level_metric_scaling(metric_data, metric='PAPI_NATIVE_FETCH_STALL')\n",
    "\n",
    "# for kt in thread_list:\n",
    "#     print kt\n",
    "#     data = list(thread_FETCH_STL_data[kt])\n",
    "#     matplotlib.pyplot.bar(range(len(data)), data)\n",
    "#     matplotlib.pyplot.ylim(ymax=2e9)\n",
    "#     matplotlib.pyplot.show()"
   ]
  },
  {
   "cell_type": "code",
   "execution_count": 118,
   "metadata": {
    "collapsed": true
   },
   "outputs": [],
   "source": [
    "# FS_data = select_metric_from_scaling(metric_data, 'PAPI_NATIVE_FETCH_STALL')\n",
    "# FS_dict = {}\n",
    "# for n_thr in thread_list:\n",
    "#     FS_dict[n_thr] = filter_libs_out(FS_data[n_thr]).sort_values(by='Exclusive',ascending=False)[[\"Exclusive\"]]\n",
    "# print thread_list"
   ]
  },
  {
   "cell_type": "code",
   "execution_count": 119,
   "metadata": {
    "collapsed": true
   },
   "outputs": [],
   "source": [
    "# THREAD_COUNT = 1\n",
    "# func = 'NULL'\n",
    "# # func = 'FindCandidatesCloneEngine' # NULL for nothing\n",
    "# # func = 'SelectHitIndices' # NULL for nothing\n",
    "# get_func_level_metric(FS_dict[THREAD_COUNT], func=func, avg=True).head(20)"
   ]
  },
  {
   "cell_type": "markdown",
   "metadata": {},
   "source": [
    "## Stalls per Cycle\n",
    "<a id='fetch_ratio'></a>"
   ]
  },
  {
   "cell_type": "code",
   "execution_count": 120,
   "metadata": {
    "collapsed": true
   },
   "outputs": [],
   "source": [
    "# thread_list, FETCH_STALL_data = scaling_plot(metric_data, plot=False, metric='PAPI_NATIVE_FETCH_STALL')\n",
    "# thread_list, TOT_CYC_data = scaling_plot(metric_data, plot=False, metric='PAPI_TOT_CYC')\n",
    "    \n",
    "# FS_P_CYC_list = [FETCH_STALL_data[i] / TOT_CYC_data[i] for i in range(len(thread_list))]\n",
    "\n",
    "# plt = matplotlib.pyplot.plot(thread_list, FS_P_CYC_list)"
   ]
  },
  {
   "cell_type": "code",
   "execution_count": 121,
   "metadata": {
    "collapsed": true
   },
   "outputs": [],
   "source": [
    "# thread_TOT_CYC_data = get_thread_level_metric_scaling(metric_data, metric='PAPI_TOT_CYC')\n",
    "# thread_FETCH_STL_data = get_thread_level_metric_scaling(metric_data, metric='PAPI_NATIVE_FETCH_STALL')\n",
    "\n",
    "# FS_P_CYC_data = {}\n",
    "# for kt in thread_list:\n",
    "# #     print(thread_L1M_data[kt])\n",
    "# #     print(thread_L1A_data[kt])\n",
    "#     FS_P_CYC_data[kt] = thread_FETCH_STL_data[kt] / thread_TOT_CYC_data[kt]\n",
    "     \n",
    "# for kt in thread_list:\n",
    "#     print kt\n",
    "#     data = list(FS_P_CYC_data[kt])\n",
    "#     matplotlib.pyplot.bar(range(len(data)), data)\n",
    "#     matplotlib.pyplot.ylim(ymax=0.2)\n",
    "#     matplotlib.pyplot.show()"
   ]
  },
  {
   "cell_type": "code",
   "execution_count": 122,
   "metadata": {
    "collapsed": true
   },
   "outputs": [],
   "source": [
    "# FSTC_data = select_metric_from_scaling(metric_data, 'DERIVED_RATIO_FETCH_STL_TOT_CYC')\n",
    "# FSTC_dict = {}\n",
    "\n",
    "\n",
    "# def filter_libs_out_2(dfs):\n",
    "#     dfs_filtered = dfs.groupby(level='region').filter(lambda x: ('.TAU application ' not in x.name) and ('tbb' not in x.name) and ('syscall' not in x.name)  and ('std::' not in x.name))\n",
    "#     return dfs_filtered\n",
    "\n",
    "# for n_thr in thread_list:\n",
    "#     FSTC_dict[n_thr] = filter_libs_out_2(FSTC_data[n_thr]).sort_values(by='Exclusive',ascending=False)[[\"Exclusive\"]]\n",
    "# #     FSTC_dict[n_thr] = FSTC_data[n_thr].sort_values(by='Exclusive',ascending=False)[[\"Exclusive\"]]\n",
    "# print thread_list"
   ]
  },
  {
   "cell_type": "code",
   "execution_count": 123,
   "metadata": {
    "collapsed": true
   },
   "outputs": [],
   "source": [
    "# THREAD_COUNT = 32\n",
    "# func = 'NULL'\n",
    "# # func = 'FindCandidatesCloneEngine' # NULL for nothing\n",
    "# # func = 'SelectHitIndices' # NULL for nothing\n",
    "# get_func_level_metric(FSTC_dict[THREAD_COUNT], func=func, avg=True).head(10)"
   ]
  },
  {
   "cell_type": "code",
   "execution_count": null,
   "metadata": {
    "collapsed": true
   },
   "outputs": [],
   "source": []
  }
 ],
 "metadata": {
  "kernelspec": {
   "display_name": "Python 2",
   "language": "python",
   "name": "python2"
  },
  "language_info": {
   "codemirror_mode": {
    "name": "ipython",
    "version": 2
   },
   "file_extension": ".py",
   "mimetype": "text/x-python",
   "name": "python",
   "nbconvert_exporter": "python",
   "pygments_lexer": "ipython2",
   "version": "2.7.14"
  }
 },
 "nbformat": 4,
 "nbformat_minor": 2
}
