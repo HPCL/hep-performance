{
 "cells": [
  {
   "cell_type": "markdown",
   "metadata": {},
   "source": [
    "# Hotspot Calculations for HEP\n",
    "\n",
    "Author: Brain Gravelle (gravelle@cs.uoregon.edu)\n",
    "\n",
    "\n",
    "All this is using the taucmdr python libraries from paratools\n",
    "http://taucommander.paratools.com/\n"
   ]
  },
  {
   "cell_type": "markdown",
   "metadata": {},
   "source": [
    "## Imports"
   ]
  },
  {
   "cell_type": "code",
   "execution_count": 1,
   "metadata": {},
   "outputs": [
    {
     "data": {
      "text/html": [
       "<style>.container { width:100% !important; }</style>"
      ],
      "text/plain": [
       "<IPython.core.display.HTML object>"
      ]
     },
     "metadata": {},
     "output_type": "display_data"
    }
   ],
   "source": [
    "# A couple of scripts to set the environent and import data from a .tau set of results\n",
    "from utilities import *\n",
    "from metrics import *\n",
    "# Plotting, notebook settings:\n",
    "%matplotlib inline  \n",
    "#plt.rcParams.update({'font.size': 16})\n",
    "import numbers\n",
    "from IPython.core.display import display, HTML\n",
    "display(HTML(\"<style>.container { width:100% !important; }</style>\"))\n",
    "pd.set_option('display.float_format', lambda x: '%.2e' % x)\n",
    "pd.set_option('display.max_columns',100)\n",
    "pd.set_option('max_colwidth', 70)"
   ]
  },
  {
   "cell_type": "markdown",
   "metadata": {},
   "source": [
    "## Getting Data\n",
    "\n",
    "TAU Commander uses TAU to run the application and measure it using runtime sampling techniques (similar to Intel VTune). Many customization options are available. For example, we may consider each function regardless of calling context, or we may decide to enable callpath profiling to see each context separately.\n",
    "\n",
    "From the talapas_scaling application the following experiments are available. These use Talapas (with 28 thread Broadwell processors) and the build-ce (realistic) option for mkFit\n",
    "* manual_scaling_Large_talapas\t\t\n",
    "* manual_scaling_Large_talapas_fullnode\t\n",
    "* manual_scaling_TTbar70_talapas\t\t\n",
    "* manual_scaling_TTbar70_talapas_fullnode\n",
    "* manual_scaling_TTbar35_talapas\n",
    "* manual_scaling_TTbar35_talapas_fullnode\n",
    "* ev_thr_scaling_Large_talapas\n",
    "* ev_thr_scaling_Large_talapas_fullnode\n",
    "\n",
    "Additionally available in the cori_scaling application are the following. These were run on NERSC's Cori on the KNL with the default memory settings. Similar to the talapas scaling they use the build-ce option\n",
    "* manual_scaling_TTbar35\n"
   ]
  },
  {
   "cell_type": "markdown",
   "metadata": {},
   "source": [
    "### Importing Scaling Data"
   ]
  },
  {
   "cell_type": "code",
   "execution_count": 2,
   "metadata": {},
   "outputs": [
    {
     "name": "stdout",
     "output_type": "stream",
     "text": [
      "Possible missing metric: \n",
      "nthread = 32 \n",
      "metric = PAPI_BR_INS\n"
     ]
    }
   ],
   "source": [
    "application = \"talapas_scaling\"\n",
    "# experiment  = \"manual_scaling_TTbar70_talapas\"\n",
    "experiment = \"ev_thr_scaling_Large_talapas\"\n",
    "\n",
    "# application = \"cori_scaling\"\n",
    "# experiment  = \"manual_scaling_TTbar35\"\n",
    "\n",
    "path = \".tau/\" + application + \"/\" + experiment + \"/\"\n",
    "# note that this function takes a long time to run, so only rerun if you must\n",
    "metric_data = get_pandas_scaling(path, callpaths=True)\n",
    "metric_data = remove_erroneous_threads(metric_data,  [1, 8, 16, 32, 48, 56])\n",
    "# metric_data = remove_erroneous_threads(metric_data,  [1, 8, 16, 32, 64, 128, 256])"
   ]
  },
  {
   "cell_type": "code",
   "execution_count": 3,
   "metadata": {},
   "outputs": [
    {
     "name": "stdout",
     "output_type": "stream",
     "text": [
      "[32, 48, 1, 8, 16, 56]\n",
      "PAPI_BR_INS\n",
      "PAPI_L3_TCA\n",
      "PAPI_L2_TCA\n",
      "PAPI_DP_OPS\n",
      "PAPI_TLB_DM\n",
      "PAPI_RES_STL\n",
      "PAPI_VEC_DP\n",
      "PAPI_L3_TCM\n",
      "PAPI_L2_TCM\n",
      "PAPI_TOT_INS\n",
      "PAPI_TLB_IM\n",
      "PAPI_SP_OPS\n",
      "PAPI_LST_INS\n",
      "PAPI_VEC_SP\n",
      "PAPI_BR_CN\n",
      "PAPI_L1_TCM\n",
      "PAPI_BR_MSP\n",
      "PAPI_TOT_CYC\n",
      "Index([u'Calls', u'Exclusive', u'Inclusive', u'ProfileCalls', u'Subcalls'], dtype='object')\n",
      "\n",
      "[u'context', u'thread', u'region']\n",
      "\n",
      "TAU_MAX_THREADS                                    112\n",
      "TAU_CUDA_BINARY_EXE                                None\n",
      "TAU_MEASURE_TAU                                    off\n",
      "Memory Size                                        131916412 kB\n",
      "TAU_TRACK_SIGNALS                                  off\n",
      "TAU_TRACK_IO_PARAMS                                off\n",
      "CPU MHz                                            2599.898\n",
      "Local Time                                         2018-04-17T17:45:53-07:00\n",
      "CPU Type                                           Intel(R) Xeon(R) CPU E5-2690 v4 @ 2.60GHz\n",
      "TAU_OUTPUT_CUDA_CSV                                off\n",
      "TAU_EBS_INCLUSIVE                                  0 usec\n",
      "Node Name                                          n049\n",
      "TAU_CALLPATH_DEPTH                                 100\n",
      "CPU Cores                                          14\n",
      "OS Machine                                         x86_64\n",
      "TAU_SAMPLING                                       on\n",
      "Cache Size                                         35840 KB\n",
      "TAU_PAPI_MULTIPLEXING                              off\n",
      "TAU_EBS_KEEP_UNRESOLVED_ADDR                       off\n",
      "TAU_THROTTLE                                       on\n",
      "TAU Architecture                                   default\n",
      "TAU_COMPENSATE                                     off\n",
      "TAU_CALLSITE_DEPTH                                 1\n",
      "TAU_SHOW_MEMORY_FUNCTIONS                          off\n",
      "OS Version                                         #1 SMP Sun Jan 14 10:36:03 EST 2018\n",
      "Starting Timestamp                                 1524012353586355\n",
      "TAU_SIGNALS_GDB                                    off\n",
      "TAU Version                                        2.27-git\n",
      "TAU_TRACK_MEMORY_LEAKS                             off\n",
      "TAU_MEMDBG_PROTECT_FREE                            off\n",
      "TAU Config                                          -tag=05c9fa46 -arch=x86_64 -cc=icc -c++=icpc -fortran=intel -bfd=/gpfs/projects/hpcl/shared/taucmdr-enterprise/system/binutils/7af21441 -papi=/packages/papi/5.5.1 -unwind=/gpfs/projects/hpcl/shared/taucmdr-enterprise/system/libunwind/743af2e8 -tbb -useropt=-O2#-g#-DTAU_MAX_THREADS=112#-DTAU_MAX_METRICS=2#-DTAU_MAX_COUNTERS=2\n",
      "TAU_EBS_SAMPLES_DROPPED_TAU_3                      0\n",
      "TAU_EBS_SAMPLES_DROPPED_TAU_2                      0\n",
      "TAU_EBS_SAMPLES_DROPPED_TAU_1                      0\n",
      "TAU_EBS_SAMPLES_DROPPED_TAU_0                      0\n",
      "TAU_EBS_SAMPLES_DROPPED_TAU_7                      0\n",
      "TAU_EBS_SAMPLES_DROPPED_TAU_6                      0\n",
      "TAU_EBS_SAMPLES_DROPPED_TAU_5                      0\n",
      "TAU_EBS_SAMPLES_DROPPED_TAU_4                      0\n",
      "TAU_OPENMP_RUNTIME_EVENTS                          on\n",
      "TAU_BFD_LOOKUP                                     on\n",
      "TAU_MEMDBG_PROTECT_BELOW                           off\n",
      "TAU_THROTTLE_NUMCALLS                              100000\n",
      "TAU_EBS_PERIOD                                     10000\n",
      "OS Name                                            Linux\n",
      "Hostname                                           n049\n",
      "Metric Name                                        TIME\n",
      "Timestamp                                          1524012353606235\n",
      "TAU_TRACK_CUDA_SASS                                off\n",
      "TAU_TRACK_UNIFIED_MEMORY                           off\n",
      "username                                           bgravell\n",
      "TAU_OPENMP_RUNTIME                                 on\n",
      "TAU_TRACE_FORMAT                                   tau\n",
      "TAU_OPENMP_RUNTIME_STATES                          off\n",
      "pid                                                35588\n",
      "TAU_MEMDBG_PROTECT_ABOVE                           off\n",
      "Ending Timestamp                                   1524012998887721\n",
      "TAU_PROFILE_FORMAT                                 profile\n",
      "Executable                                         /gpfs/projects/hpcl/bgravell/mictest_sampling/mkFit/mkFit\n",
      "TAU_TRACK_CUDA_INSTRUCTIONS                        None\n",
      "TAU Makefile                                       /gpfs/projects/hpcl/shared/taucmdr-enterprise/system/tau/tau-2.27/x86_64/lib/Makefile.tau-05c9fa46-icpc-papi-tbb\n",
      "TAU_TRACK_HEADROOM                                 off\n",
      "CPU Vendor                                         GenuineIntel\n",
      "TAU_PROFILE                                        on\n",
      "TAU_TRACK_CUDA_CDP                                 off\n",
      "Command Line                                       mkFit --cmssw-n2seeds --input-file /projects/hpcl/bgravell/mictest_sampling/memoryFile.fv3.clean.writeAll.recT.072617.bin --build-ce --num-thr 8 --num-thr-ev 8 --num-events 4550 --silent\n",
      "TAU_TRACK_HEAP                                     off\n",
      "TAU_CALLPATH                                       on\n",
      "tid                                                35588\n",
      "TAU_TRACE                                          off\n",
      "TAU_THROTTLE_PERCALL                               10\n",
      "TAU_EBS_SAMPLES_DROPPED_SUSPENDED_0                0\n",
      "TAU_EBS_SAMPLES_DROPPED_SUSPENDED_1                0\n",
      "TAU_EBS_SAMPLES_DROPPED_SUSPENDED_2                0\n",
      "TAU_EBS_SAMPLES_DROPPED_SUSPENDED_3                0\n",
      "TAU_EBS_SAMPLES_DROPPED_SUSPENDED_4                0\n",
      "TAU_EBS_SAMPLES_DROPPED_SUSPENDED_5                0\n",
      "TAU_EBS_SAMPLES_DROPPED_SUSPENDED_6                0\n",
      "TAU_EBS_SAMPLES_DROPPED_SUSPENDED_7                0\n",
      "TAU_IBM_BG_HWP_COUNTERS                            off\n",
      "UTC Time                                           2018-04-18T00:45:53Z\n",
      "CWD                                                /gpfs/projects/hpcl/bgravell/mictest_sampling/.tau/mictest_sampling/ev_thr_scaling_Large_talapas/185\n",
      "TAU_TRACK_MEMORY_FOOTPRINT                         off\n",
      "TAU_EBS_UNWIND                                     off\n",
      "TAU_CUPTI_API                                      runtime\n",
      "OS Release                                         3.10.0-693.17.1.el7.x86_64\n",
      "TAU_EBS_SAMPLES_TAKEN_1                            31167\n",
      "TAU_EBS_SAMPLES_TAKEN_0                            31167\n",
      "TAU_EBS_SAMPLES_TAKEN_3                            31167\n",
      "TAU_EBS_SAMPLES_TAKEN_2                            31167\n",
      "TAU_EBS_SAMPLES_TAKEN_5                            31167\n",
      "TAU_EBS_SAMPLES_TAKEN_4                            31167\n",
      "TAU_EBS_SAMPLES_TAKEN_7                            31167\n",
      "TAU_EBS_SAMPLES_TAKEN_6                            31167\n"
     ]
    },
    {
     "data": {
      "text/html": [
       "<div>\n",
       "<style scoped>\n",
       "    .dataframe tbody tr th:only-of-type {\n",
       "        vertical-align: middle;\n",
       "    }\n",
       "\n",
       "    .dataframe tbody tr th {\n",
       "        vertical-align: top;\n",
       "    }\n",
       "\n",
       "    .dataframe thead th {\n",
       "        text-align: right;\n",
       "    }\n",
       "</style>\n",
       "<table border=\"1\" class=\"dataframe\">\n",
       "  <thead>\n",
       "    <tr style=\"text-align: right;\">\n",
       "      <th></th>\n",
       "      <th></th>\n",
       "      <th></th>\n",
       "      <th>Inclusive</th>\n",
       "    </tr>\n",
       "    <tr>\n",
       "      <th>context</th>\n",
       "      <th>thread</th>\n",
       "      <th>region</th>\n",
       "      <th></th>\n",
       "    </tr>\n",
       "  </thead>\n",
       "  <tbody>\n",
       "    <tr>\n",
       "      <th rowspan=\"10\" valign=\"top\">0</th>\n",
       "      <th rowspan=\"2\" valign=\"top\">0</th>\n",
       "      <th>[SUMMARY] .TAU application</th>\n",
       "      <td>4.61e+11</td>\n",
       "    </tr>\n",
       "    <tr>\n",
       "      <th>[SUMMARY] .TAU application  =&gt; [CONTEXT] .TAU application</th>\n",
       "      <td>4.61e+11</td>\n",
       "    </tr>\n",
       "    <tr>\n",
       "      <th rowspan=\"2\" valign=\"top\">6</th>\n",
       "      <th>[SUMMARY] .TAU application  =&gt; [CONTEXT] .TAU application</th>\n",
       "      <td>4.58e+11</td>\n",
       "    </tr>\n",
       "    <tr>\n",
       "      <th>[SUMMARY] .TAU application</th>\n",
       "      <td>4.58e+11</td>\n",
       "    </tr>\n",
       "    <tr>\n",
       "      <th rowspan=\"2\" valign=\"top\">7</th>\n",
       "      <th>[SUMMARY] .TAU application  =&gt; [CONTEXT] .TAU application</th>\n",
       "      <td>4.53e+11</td>\n",
       "    </tr>\n",
       "    <tr>\n",
       "      <th>[SUMMARY] .TAU application</th>\n",
       "      <td>4.53e+11</td>\n",
       "    </tr>\n",
       "    <tr>\n",
       "      <th rowspan=\"2\" valign=\"top\">1</th>\n",
       "      <th>[SUMMARY] .TAU application</th>\n",
       "      <td>4.53e+11</td>\n",
       "    </tr>\n",
       "    <tr>\n",
       "      <th>[SUMMARY] .TAU application  =&gt; [CONTEXT] .TAU application</th>\n",
       "      <td>4.53e+11</td>\n",
       "    </tr>\n",
       "    <tr>\n",
       "      <th rowspan=\"2\" valign=\"top\">3</th>\n",
       "      <th>[SUMMARY] .TAU application  =&gt; [CONTEXT] .TAU application</th>\n",
       "      <td>4.50e+11</td>\n",
       "    </tr>\n",
       "    <tr>\n",
       "      <th>[SUMMARY] .TAU application</th>\n",
       "      <td>4.50e+11</td>\n",
       "    </tr>\n",
       "  </tbody>\n",
       "</table>\n",
       "</div>"
      ],
      "text/plain": [
       "                                                                          Inclusive\n",
       "context thread region                                                              \n",
       "0       0      [SUMMARY] .TAU application                                  4.61e+11\n",
       "               [SUMMARY] .TAU application  => [CONTEXT] .TAU application   4.61e+11\n",
       "        6      [SUMMARY] .TAU application  => [CONTEXT] .TAU application   4.58e+11\n",
       "               [SUMMARY] .TAU application                                  4.58e+11\n",
       "        7      [SUMMARY] .TAU application  => [CONTEXT] .TAU application   4.53e+11\n",
       "               [SUMMARY] .TAU application                                  4.53e+11\n",
       "        1      [SUMMARY] .TAU application                                  4.53e+11\n",
       "               [SUMMARY] .TAU application  => [CONTEXT] .TAU application   4.53e+11\n",
       "        3      [SUMMARY] .TAU application  => [CONTEXT] .TAU application   4.50e+11\n",
       "               [SUMMARY] .TAU application                                  4.50e+11"
      ]
     },
     "execution_count": 3,
     "metadata": {},
     "output_type": "execute_result"
    }
   ],
   "source": [
    "print(metric_data.keys())\n",
    "print_available_metrics(metric_data,True)\n",
    "select_metric_from_scaling(metric_data, 'PAPI_L2_TCA')\n",
    "\n",
    "# level_inds = {'trial': 0, 'rank': 1, 'context': 2, 'thread': 3, 'region': 4}\n",
    "print(metric_data[8]['PAPI_TOT_INS'].columns)\n",
    "print(\"\")\n",
    "print(metric_data[8]['PAPI_TOT_INS'].index.names)\n",
    "print(\"\")\n",
    "print_metadata(metric_data[8])\n",
    "\n",
    "metric_data[8]['PAPI_TOT_INS'].sort_values(by='Inclusive',ascending=False)[[\"Inclusive\"]].head(10)"
   ]
  },
  {
   "cell_type": "code",
   "execution_count": 4,
   "metadata": {},
   "outputs": [],
   "source": [
    "# Use this section to verify the scaling functions\n",
    "# reads one exampple of the 8 thread PAPI_TOT_INS to show that the numbers are closeto above\n",
    "\n",
    "# application = \"test\"\n",
    "# experiment  = \"test\"\n",
    "\n",
    "# path = \".tau/\" + application + \"/\" + experiment + \"/\"\n",
    "# t = get_pandas(path)\n",
    "\n",
    "\n",
    "# # level_inds = {'trial': 0, 'rank': 1, 'context': 2, 'thread': 3, 'region': 4}\n",
    "# print(t['PAPI_TOT_INS'].columns)\n",
    "# print(\"\")\n",
    "# print(t['PAPI_TOT_INS'].index.names)\n",
    "# print(\"\")\n",
    "# print_metadata(t)\n",
    "\n",
    "# t['PAPI_TOT_INS'].sort_values(by='Inclusive',ascending=False)[[\"Inclusive\"]].head(10)"
   ]
  },
  {
   "cell_type": "markdown",
   "metadata": {},
   "source": [
    "## Adding metrics\n",
    "\n",
    "metrics are available in metrics.py. At this time the following can be added:\n",
    "* add_IPC(metrics)          - Instructions per Cycle\n",
    "* add_CPI(metrics)          - Cycles per instruction\n",
    "* add_VIPC(metrics)         - vector instructions per cycle\n",
    "* add_VIPI(metrics)         - vector instructions per instruction (i.e. fraction of total)\n",
    "* add_L1_missrate(metrics)  - miss rate for L1 cache\n",
    "\n",
    "for scaling data please use the add_metric_to_scaling_data(data, metric_func) function to add a metric"
   ]
  },
  {
   "cell_type": "code",
   "execution_count": 5,
   "metadata": {},
   "outputs": [
    {
     "name": "stdout",
     "output_type": "stream",
     "text": [
      "PAPI_L2_TCA\n",
      "PAPI_TLB_DM\n",
      "PAPI_VEC_DP\n",
      "PAPI_L2_TCM\n",
      "DERIVED_CPI\n",
      "PAPI_L1_TCM\n",
      "PAPI_BR_MSP\n",
      "PAPI_DP_OPS\n",
      "PAPI_RES_STL\n",
      "PAPI_TOT_INS\n",
      "PAPI_VEC_SP\n",
      "PAPI_BR_CN\n",
      "PAPI_L3_TCA\n",
      "PAPI_TLB_IM\n",
      "DERIVED_L1_MISSRATE\n",
      "PAPI_L3_TCM\n",
      "DERIVED_L3_MISSRATE\n",
      "PAPI_SP_OPS\n",
      "PAPI_BR_INS\n",
      "DERIVED_L2_MISSRATE\n",
      "PAPI_LST_INS\n",
      "PAPI_TOT_CYC\n"
     ]
    },
    {
     "data": {
      "text/html": [
       "<div>\n",
       "<style scoped>\n",
       "    .dataframe tbody tr th:only-of-type {\n",
       "        vertical-align: middle;\n",
       "    }\n",
       "\n",
       "    .dataframe tbody tr th {\n",
       "        vertical-align: top;\n",
       "    }\n",
       "\n",
       "    .dataframe thead th {\n",
       "        text-align: right;\n",
       "    }\n",
       "</style>\n",
       "<table border=\"1\" class=\"dataframe\">\n",
       "  <thead>\n",
       "    <tr style=\"text-align: right;\">\n",
       "      <th></th>\n",
       "      <th></th>\n",
       "      <th>Calls</th>\n",
       "      <th>Exclusive</th>\n",
       "      <th>Inclusive</th>\n",
       "      <th>ProfileCalls</th>\n",
       "      <th>Subcalls</th>\n",
       "    </tr>\n",
       "    <tr>\n",
       "      <th>thread</th>\n",
       "      <th>region</th>\n",
       "      <th></th>\n",
       "      <th></th>\n",
       "      <th></th>\n",
       "      <th></th>\n",
       "      <th></th>\n",
       "    </tr>\n",
       "  </thead>\n",
       "  <tbody>\n",
       "    <tr>\n",
       "      <th rowspan=\"10\" valign=\"top\">0</th>\n",
       "      <th>[SUMMARY] (anonymous namespace)::AddIntoUpperLeft2x2(Matriplex::MatriplexSym&lt;float, 6, 8&gt; const&amp;, Matriplex::MatriplexSym&lt;float, 3, 8&gt; const&amp;, Matriplex::MatriplexSym&lt;float, 2, 8&gt;&amp;)</th>\n",
       "      <td>1.08e+00</td>\n",
       "      <td>5.46e-01</td>\n",
       "      <td>5.46e-01</td>\n",
       "      <td>nan</td>\n",
       "      <td>nan</td>\n",
       "    </tr>\n",
       "    <tr>\n",
       "      <th>[SUMMARY] (anonymous namespace)::AddIntoUpperLeft3x3(Matriplex::MatriplexSym&lt;float, 6, 8&gt; const&amp;, Matriplex::MatriplexSym&lt;float, 3, 8&gt; const&amp;, Matriplex::MatriplexSym&lt;float, 3, 8&gt;&amp;)</th>\n",
       "      <td>9.90e-01</td>\n",
       "      <td>5.45e-01</td>\n",
       "      <td>5.45e-01</td>\n",
       "      <td>nan</td>\n",
       "      <td>nan</td>\n",
       "    </tr>\n",
       "    <tr>\n",
       "      <th>[SUMMARY] (anonymous namespace)::Chi2Similarity(Matriplex::Matriplex&lt;float, 2, 1, 8&gt; const&amp;, Matriplex::MatriplexSym&lt;float, 2, 8&gt; const&amp;, Matriplex::Matriplex&lt;float, 1, 1, 8&gt;&amp;)</th>\n",
       "      <td>9.95e-01</td>\n",
       "      <td>5.16e-01</td>\n",
       "      <td>5.16e-01</td>\n",
       "      <td>nan</td>\n",
       "      <td>nan</td>\n",
       "    </tr>\n",
       "    <tr>\n",
       "      <th>[SUMMARY] (anonymous namespace)::KHC(Matriplex::Matriplex&lt;float, 6, 2, 8&gt; const&amp;, Matriplex::MatriplexSym&lt;float, 6, 8&gt; const&amp;, Matriplex::MatriplexSym&lt;float, 6, 8&gt;&amp;)</th>\n",
       "      <td>9.70e-01</td>\n",
       "      <td>5.04e-01</td>\n",
       "      <td>5.04e-01</td>\n",
       "      <td>nan</td>\n",
       "      <td>nan</td>\n",
       "    </tr>\n",
       "    <tr>\n",
       "      <th>[SUMMARY] (anonymous namespace)::KHC(Matriplex::Matriplex&lt;float, 6, 6, 8&gt; const&amp;, Matriplex::MatriplexSym&lt;float, 6, 8&gt; const&amp;, Matriplex::MatriplexSym&lt;float, 6, 8&gt;&amp;)</th>\n",
       "      <td>9.25e-01</td>\n",
       "      <td>5.01e-01</td>\n",
       "      <td>5.01e-01</td>\n",
       "      <td>nan</td>\n",
       "      <td>nan</td>\n",
       "    </tr>\n",
       "    <tr>\n",
       "      <th>[SUMMARY] (anonymous namespace)::KHMult(Matriplex::Matriplex&lt;float, 6, 3, 8&gt; const&amp;, Matriplex::Matriplex&lt;float, 1, 1, 8&gt; const&amp;, Matriplex::Matriplex&lt;float, 1, 1, 8&gt; const&amp;, Matriplex::Matriplex&lt;float, 6, 6, 8&gt;&amp;)</th>\n",
       "      <td>1.75e+00</td>\n",
       "      <td>9.44e-01</td>\n",
       "      <td>9.44e-01</td>\n",
       "      <td>nan</td>\n",
       "      <td>nan</td>\n",
       "    </tr>\n",
       "    <tr>\n",
       "      <th>[SUMMARY] (anonymous namespace)::KalmanGain(Matriplex::MatriplexSym&lt;float, 6, 8&gt; const&amp;, Matriplex::Matriplex&lt;float, 3, 3, 8&gt; const&amp;, Matriplex::Matriplex&lt;float, 6, 3, 8&gt;&amp;)</th>\n",
       "      <td>1.00e+00</td>\n",
       "      <td>5.49e-01</td>\n",
       "      <td>5.49e-01</td>\n",
       "      <td>nan</td>\n",
       "      <td>nan</td>\n",
       "    </tr>\n",
       "    <tr>\n",
       "      <th>[SUMMARY] (anonymous namespace)::KalmanGain(Matriplex::MatriplexSym&lt;float, 6, 8&gt; const&amp;, Matriplex::MatriplexSym&lt;float, 2, 8&gt; const&amp;, Matriplex::Matriplex&lt;float, 6, 2, 8&gt;&amp;)</th>\n",
       "      <td>9.60e-01</td>\n",
       "      <td>4.94e-01</td>\n",
       "      <td>4.94e-01</td>\n",
       "      <td>nan</td>\n",
       "      <td>nan</td>\n",
       "    </tr>\n",
       "    <tr>\n",
       "      <th>[SUMMARY] (anonymous namespace)::KalmanHTG(Matriplex::Matriplex&lt;float, 1, 1, 8&gt; const&amp;, Matriplex::Matriplex&lt;float, 1, 1, 8&gt; const&amp;, Matriplex::MatriplexSym&lt;float, 2, 8&gt; const&amp;, Matriplex::Matriplex&lt;float, 3, 3, 8&gt;&amp;)</th>\n",
       "      <td>8.67e-01</td>\n",
       "      <td>4.75e-01</td>\n",
       "      <td>4.75e-01</td>\n",
       "      <td>nan</td>\n",
       "      <td>nan</td>\n",
       "    </tr>\n",
       "    <tr>\n",
       "      <th>[SUMMARY] (anonymous namespace)::MultHelixProp(Matriplex::Matriplex&lt;float, 6, 6, 8&gt; const&amp;, Matriplex::MatriplexSym&lt;float, 6, 8&gt; const&amp;, Matriplex::Matriplex&lt;float, 6, 6, 8&gt;&amp;)</th>\n",
       "      <td>9.33e-01</td>\n",
       "      <td>5.10e-01</td>\n",
       "      <td>5.10e-01</td>\n",
       "      <td>nan</td>\n",
       "      <td>nan</td>\n",
       "    </tr>\n",
       "  </tbody>\n",
       "</table>\n",
       "</div>"
      ],
      "text/plain": [
       "                                                                                 Calls  \\\n",
       "thread region                                                                            \n",
       "0      [SUMMARY] (anonymous namespace)::AddIntoUpperLeft2x2(Matriplex::Mat... 1.08e+00   \n",
       "       [SUMMARY] (anonymous namespace)::AddIntoUpperLeft3x3(Matriplex::Mat... 9.90e-01   \n",
       "       [SUMMARY] (anonymous namespace)::Chi2Similarity(Matriplex::Matriple... 9.95e-01   \n",
       "       [SUMMARY] (anonymous namespace)::KHC(Matriplex::Matriplex<float, 6,... 9.70e-01   \n",
       "       [SUMMARY] (anonymous namespace)::KHC(Matriplex::Matriplex<float, 6,... 9.25e-01   \n",
       "       [SUMMARY] (anonymous namespace)::KHMult(Matriplex::Matriplex<float,... 1.75e+00   \n",
       "       [SUMMARY] (anonymous namespace)::KalmanGain(Matriplex::MatriplexSym... 1.00e+00   \n",
       "       [SUMMARY] (anonymous namespace)::KalmanGain(Matriplex::MatriplexSym... 9.60e-01   \n",
       "       [SUMMARY] (anonymous namespace)::KalmanHTG(Matriplex::Matriplex<flo... 8.67e-01   \n",
       "       [SUMMARY] (anonymous namespace)::MultHelixProp(Matriplex::Matriplex... 9.33e-01   \n",
       "\n",
       "                                                                               Exclusive  \\\n",
       "thread region                                                                              \n",
       "0      [SUMMARY] (anonymous namespace)::AddIntoUpperLeft2x2(Matriplex::Mat...   5.46e-01   \n",
       "       [SUMMARY] (anonymous namespace)::AddIntoUpperLeft3x3(Matriplex::Mat...   5.45e-01   \n",
       "       [SUMMARY] (anonymous namespace)::Chi2Similarity(Matriplex::Matriple...   5.16e-01   \n",
       "       [SUMMARY] (anonymous namespace)::KHC(Matriplex::Matriplex<float, 6,...   5.04e-01   \n",
       "       [SUMMARY] (anonymous namespace)::KHC(Matriplex::Matriplex<float, 6,...   5.01e-01   \n",
       "       [SUMMARY] (anonymous namespace)::KHMult(Matriplex::Matriplex<float,...   9.44e-01   \n",
       "       [SUMMARY] (anonymous namespace)::KalmanGain(Matriplex::MatriplexSym...   5.49e-01   \n",
       "       [SUMMARY] (anonymous namespace)::KalmanGain(Matriplex::MatriplexSym...   4.94e-01   \n",
       "       [SUMMARY] (anonymous namespace)::KalmanHTG(Matriplex::Matriplex<flo...   4.75e-01   \n",
       "       [SUMMARY] (anonymous namespace)::MultHelixProp(Matriplex::Matriplex...   5.10e-01   \n",
       "\n",
       "                                                                               Inclusive  \\\n",
       "thread region                                                                              \n",
       "0      [SUMMARY] (anonymous namespace)::AddIntoUpperLeft2x2(Matriplex::Mat...   5.46e-01   \n",
       "       [SUMMARY] (anonymous namespace)::AddIntoUpperLeft3x3(Matriplex::Mat...   5.45e-01   \n",
       "       [SUMMARY] (anonymous namespace)::Chi2Similarity(Matriplex::Matriple...   5.16e-01   \n",
       "       [SUMMARY] (anonymous namespace)::KHC(Matriplex::Matriplex<float, 6,...   5.04e-01   \n",
       "       [SUMMARY] (anonymous namespace)::KHC(Matriplex::Matriplex<float, 6,...   5.01e-01   \n",
       "       [SUMMARY] (anonymous namespace)::KHMult(Matriplex::Matriplex<float,...   9.44e-01   \n",
       "       [SUMMARY] (anonymous namespace)::KalmanGain(Matriplex::MatriplexSym...   5.49e-01   \n",
       "       [SUMMARY] (anonymous namespace)::KalmanGain(Matriplex::MatriplexSym...   4.94e-01   \n",
       "       [SUMMARY] (anonymous namespace)::KalmanHTG(Matriplex::Matriplex<flo...   4.75e-01   \n",
       "       [SUMMARY] (anonymous namespace)::MultHelixProp(Matriplex::Matriplex...   5.10e-01   \n",
       "\n",
       "                                                                               ProfileCalls  \\\n",
       "thread region                                                                                 \n",
       "0      [SUMMARY] (anonymous namespace)::AddIntoUpperLeft2x2(Matriplex::Mat...           nan   \n",
       "       [SUMMARY] (anonymous namespace)::AddIntoUpperLeft3x3(Matriplex::Mat...           nan   \n",
       "       [SUMMARY] (anonymous namespace)::Chi2Similarity(Matriplex::Matriple...           nan   \n",
       "       [SUMMARY] (anonymous namespace)::KHC(Matriplex::Matriplex<float, 6,...           nan   \n",
       "       [SUMMARY] (anonymous namespace)::KHC(Matriplex::Matriplex<float, 6,...           nan   \n",
       "       [SUMMARY] (anonymous namespace)::KHMult(Matriplex::Matriplex<float,...           nan   \n",
       "       [SUMMARY] (anonymous namespace)::KalmanGain(Matriplex::MatriplexSym...           nan   \n",
       "       [SUMMARY] (anonymous namespace)::KalmanGain(Matriplex::MatriplexSym...           nan   \n",
       "       [SUMMARY] (anonymous namespace)::KalmanHTG(Matriplex::Matriplex<flo...           nan   \n",
       "       [SUMMARY] (anonymous namespace)::MultHelixProp(Matriplex::Matriplex...           nan   \n",
       "\n",
       "                                                                               Subcalls  \n",
       "thread region                                                                            \n",
       "0      [SUMMARY] (anonymous namespace)::AddIntoUpperLeft2x2(Matriplex::Mat...       nan  \n",
       "       [SUMMARY] (anonymous namespace)::AddIntoUpperLeft3x3(Matriplex::Mat...       nan  \n",
       "       [SUMMARY] (anonymous namespace)::Chi2Similarity(Matriplex::Matriple...       nan  \n",
       "       [SUMMARY] (anonymous namespace)::KHC(Matriplex::Matriplex<float, 6,...       nan  \n",
       "       [SUMMARY] (anonymous namespace)::KHC(Matriplex::Matriplex<float, 6,...       nan  \n",
       "       [SUMMARY] (anonymous namespace)::KHMult(Matriplex::Matriplex<float,...       nan  \n",
       "       [SUMMARY] (anonymous namespace)::KalmanGain(Matriplex::MatriplexSym...       nan  \n",
       "       [SUMMARY] (anonymous namespace)::KalmanGain(Matriplex::MatriplexSym...       nan  \n",
       "       [SUMMARY] (anonymous namespace)::KalmanHTG(Matriplex::Matriplex<flo...       nan  \n",
       "       [SUMMARY] (anonymous namespace)::MultHelixProp(Matriplex::Matriplex...       nan  "
      ]
     },
     "execution_count": 5,
     "metadata": {},
     "output_type": "execute_result"
    }
   ],
   "source": [
    "add_metric_to_scaling_data(metric_data, add_CPI)\n",
    "add_metric_to_scaling_data(metric_data, add_L1_missrate)\n",
    "add_metric_to_scaling_data(metric_data, add_L2_missrate)\n",
    "add_metric_to_scaling_data(metric_data, add_L3_missrate)\n",
    "print_available_metrics(metric_data, scaling=True)\n",
    "\n",
    "metric_data[1]['DERIVED_CPI'].head(10)"
   ]
  },
  {
   "cell_type": "markdown",
   "metadata": {},
   "source": [
    "## Scaling Results\n",
    "\n",
    "In this section we demo some scaling results with total_clock cycles"
   ]
  },
  {
   "cell_type": "markdown",
   "metadata": {},
   "source": [
    "### Scaling with total cycles per thread vs the thread count"
   ]
  },
  {
   "cell_type": "code",
   "execution_count": 6,
   "metadata": {},
   "outputs": [
    {
     "data": {
      "image/png": "[encoded data removed]",
      "text/plain": [
       "<Figure size 432x288 with 1 Axes>"
      ]
     },
     "metadata": {},
     "output_type": "display_data"
    }
   ],
   "source": [
    "thread_list, tot_cyc_list = scaling_plot(metric_data)"
   ]
  },
  {
   "cell_type": "markdown",
   "metadata": {},
   "source": [
    "### Cycles used by each thread of each thread count"
   ]
  },
  {
   "cell_type": "code",
   "execution_count": 13,
   "metadata": {},
   "outputs": [
    {
     "name": "stdout",
     "output_type": "stream",
     "text": [
      "1\n"
     ]
    },
    {
     "data": {
      "image/png": "[encoded data removed]",
      "text/plain": [
       "<Figure size 432x288 with 1 Axes>"
      ]
     },
     "metadata": {},
     "output_type": "display_data"
    },
    {
     "name": "stdout",
     "output_type": "stream",
     "text": [
      "8\n"
     ]
    },
    {
     "data": {
      "image/png": "[encoded data removed]",
      "text/plain": [
       "<Figure size 432x288 with 1 Axes>"
      ]
     },
     "metadata": {},
     "output_type": "display_data"
    },
    {
     "name": "stdout",
     "output_type": "stream",
     "text": [
      "16\n"
     ]
    },
    {
     "data": {
      "image/png": "[encoded data removed]",
      "text/plain": [
       "<Figure size 432x288 with 1 Axes>"
      ]
     },
     "metadata": {},
     "output_type": "display_data"
    },
    {
     "name": "stdout",
     "output_type": "stream",
     "text": [
      "32\n"
     ]
    },
    {
     "data": {
      "image/png": "[encoded data removed]",
      "text/plain": [
       "<Figure size 432x288 with 1 Axes>"
      ]
     },
     "metadata": {},
     "output_type": "display_data"
    },
    {
     "name": "stdout",
     "output_type": "stream",
     "text": [
      "48\n"
     ]
    },
    {
     "data": {
      "image/png": "[encoded data removed]",
      "text/plain": [
       "<Figure size 432x288 with 1 Axes>"
      ]
     },
     "metadata": {},
     "output_type": "display_data"
    },
    {
     "name": "stdout",
     "output_type": "stream",
     "text": [
      "56\n"
     ]
    },
    {
     "data": {
      "image/png": "[encoded data removed]",
      "text/plain": [
       "<Figure size 432x288 with 1 Axes>"
      ]
     },
     "metadata": {},
     "output_type": "display_data"
    }
   ],
   "source": [
    "thread_cyc_data = get_thread_level_metric_scaling(select_metric_from_scaling(metric_data, 'PAPI_TOT_CYC'))\n",
    "\n",
    "for kt in thread_list:\n",
    "    print kt\n",
    "    data = list(thread_cyc_data[kt])\n",
    "    matplotlib.pyplot.bar(range(len(data)), data)\n",
    "    matplotlib.pyplot.ylim(ymax=2000000000000) \n",
    "    matplotlib.pyplot.show()"
   ]
  },
  {
   "cell_type": "markdown",
   "metadata": {},
   "source": [
    "### L1 Missrate vs thread count"
   ]
  },
  {
   "cell_type": "code",
   "execution_count": 14,
   "metadata": {},
   "outputs": [
    {
     "data": {
      "image/png": "[encoded data removed]",
      "text/plain": [
       "<Figure size 432x288 with 1 Axes>"
      ]
     },
     "metadata": {},
     "output_type": "display_data"
    }
   ],
   "source": [
    "thread_list, L1A_data = scaling_plot(metric_data, plot=False, metric='PAPI_LST_INS')\n",
    "thread_list, L1M_data = scaling_plot(metric_data, plot=False, metric='PAPI_L1_TCM')\n",
    "    \n",
    "L1_MR_list = [L1M_data[i] / L1A_data[i] for i in range(len(thread_list))]\n",
    "\n",
    "plt = matplotlib.pyplot.plot(thread_list, L1_MR_list)"
   ]
  },
  {
   "cell_type": "markdown",
   "metadata": {},
   "source": [
    "### L1 Miss rate by each thread of each thread count"
   ]
  },
  {
   "cell_type": "code",
   "execution_count": 15,
   "metadata": {},
   "outputs": [
    {
     "name": "stdout",
     "output_type": "stream",
     "text": [
      "1\n"
     ]
    },
    {
     "data": {
      "image/png": "[encoded data removed]",
      "text/plain": [
       "<Figure size 432x288 with 1 Axes>"
      ]
     },
     "metadata": {},
     "output_type": "display_data"
    },
    {
     "name": "stdout",
     "output_type": "stream",
     "text": [
      "8\n"
     ]
    },
    {
     "data": {
      "image/png": "[encoded data removed]",
      "text/plain": [
       "<Figure size 432x288 with 1 Axes>"
      ]
     },
     "metadata": {},
     "output_type": "display_data"
    },
    {
     "name": "stdout",
     "output_type": "stream",
     "text": [
      "16\n"
     ]
    },
    {
     "data": {
      "image/png": "[encoded data removed]",
      "text/plain": [
       "<Figure size 432x288 with 1 Axes>"
      ]
     },
     "metadata": {},
     "output_type": "display_data"
    },
    {
     "name": "stdout",
     "output_type": "stream",
     "text": [
      "32\n"
     ]
    },
    {
     "data": {
      "image/png": "[encoded data removed]",
      "text/plain": [
       "<Figure size 432x288 with 1 Axes>"
      ]
     },
     "metadata": {},
     "output_type": "display_data"
    },
    {
     "name": "stdout",
     "output_type": "stream",
     "text": [
      "48\n"
     ]
    },
    {
     "data": {
      "image/png": "[encoded data removed]",
      "text/plain": [
       "<Figure size 432x288 with 1 Axes>"
      ]
     },
     "metadata": {},
     "output_type": "display_data"
    },
    {
     "name": "stdout",
     "output_type": "stream",
     "text": [
      "56\n"
     ]
    },
    {
     "data": {
      "image/png": "[encoded data removed]",
      "text/plain": [
       "<Figure size 432x288 with 1 Axes>"
      ]
     },
     "metadata": {},
     "output_type": "display_data"
    }
   ],
   "source": [
    "thread_L1A_data = get_thread_level_metric_scaling(select_metric_from_scaling(metric_data, 'PAPI_LST_INS'))\n",
    "thread_L1M_data = get_thread_level_metric_scaling(select_metric_from_scaling(metric_data, 'PAPI_L1_TCM'))\n",
    "\n",
    "MR_data = {}\n",
    "for kt in thread_list:\n",
    "    MR_data[kt] = thread_L1M_data[kt] / thread_L1A_data[kt]\n",
    "    \n",
    "for kt in thread_list:\n",
    "    print kt\n",
    "    data = list(MR_data[kt])\n",
    "    matplotlib.pyplot.bar(range(len(data)), data)\n",
    "    matplotlib.pyplot.ylim(ymax=0.05)\n",
    "    matplotlib.pyplot.show()"
   ]
  },
  {
   "cell_type": "code",
   "execution_count": 16,
   "metadata": {},
   "outputs": [
    {
     "data": {
      "image/png": "[encoded data removed]",
      "text/plain": [
       "<Figure size 432x288 with 1 Axes>"
      ]
     },
     "metadata": {},
     "output_type": "display_data"
    }
   ],
   "source": [
    "thread_list, L2A_data = scaling_plot(metric_data, plot=False, metric='PAPI_L2_TCA')\n",
    "thread_list, L2M_data = scaling_plot(metric_data, plot=False, metric='PAPI_L2_TCM')\n",
    "    \n",
    "L2_MR_list = [L2M_data[i] / L2A_data[i] for i in range(len(thread_list))]\n",
    "\n",
    "plt = matplotlib.pyplot.plot(thread_list, L2_MR_list)"
   ]
  },
  {
   "cell_type": "code",
   "execution_count": 17,
   "metadata": {},
   "outputs": [
    {
     "name": "stdout",
     "output_type": "stream",
     "text": [
      "1\n"
     ]
    },
    {
     "data": {
      "image/png": "[encoded data removed]",
      "text/plain": [
       "<Figure size 432x288 with 1 Axes>"
      ]
     },
     "metadata": {},
     "output_type": "display_data"
    },
    {
     "name": "stdout",
     "output_type": "stream",
     "text": [
      "8\n"
     ]
    },
    {
     "data": {
      "image/png": "[encoded data removed]",
      "text/plain": [
       "<Figure size 432x288 with 1 Axes>"
      ]
     },
     "metadata": {},
     "output_type": "display_data"
    },
    {
     "name": "stdout",
     "output_type": "stream",
     "text": [
      "16\n"
     ]
    },
    {
     "data": {
      "image/png": "[encoded data removed]",
      "text/plain": [
       "<Figure size 432x288 with 1 Axes>"
      ]
     },
     "metadata": {},
     "output_type": "display_data"
    },
    {
     "name": "stdout",
     "output_type": "stream",
     "text": [
      "32\n"
     ]
    },
    {
     "data": {
      "image/png": "[encoded data removed]",
      "text/plain": [
       "<Figure size 432x288 with 1 Axes>"
      ]
     },
     "metadata": {},
     "output_type": "display_data"
    },
    {
     "name": "stdout",
     "output_type": "stream",
     "text": [
      "48\n"
     ]
    },
    {
     "data": {
      "image/png": "[encoded data removed]",
      "text/plain": [
       "<Figure size 432x288 with 1 Axes>"
      ]
     },
     "metadata": {},
     "output_type": "display_data"
    },
    {
     "name": "stdout",
     "output_type": "stream",
     "text": [
      "56\n"
     ]
    },
    {
     "data": {
      "image/png": "[encoded data removed]",
      "text/plain": [
       "<Figure size 432x288 with 1 Axes>"
      ]
     },
     "metadata": {},
     "output_type": "display_data"
    }
   ],
   "source": [
    "thread_L2A_data = get_thread_level_metric_scaling(select_metric_from_scaling(metric_data, 'PAPI_L2_TCA'))\n",
    "thread_L2M_data = get_thread_level_metric_scaling(select_metric_from_scaling(metric_data, 'PAPI_L2_TCM'))\n",
    "\n",
    "\n",
    "L2_MR_data = {}\n",
    "for kt in thread_list:\n",
    "    L2_MR_data[kt] = thread_L2M_data[kt] / thread_L2A_data[kt]\n",
    "    \n",
    "for kt in thread_list:\n",
    "    print kt\n",
    "    data = list(L2_MR_data[kt])\n",
    "    matplotlib.pyplot.bar(range(len(data)), data)\n",
    "    matplotlib.pyplot.ylim(ymax=1)\n",
    "    matplotlib.pyplot.show()"
   ]
  },
  {
   "cell_type": "code",
   "execution_count": 18,
   "metadata": {},
   "outputs": [
    {
     "data": {
      "image/png": "[encoded data removed]",
      "text/plain": [
       "<Figure size 432x288 with 1 Axes>"
      ]
     },
     "metadata": {},
     "output_type": "display_data"
    }
   ],
   "source": [
    "thread_list, LLA_data = scaling_plot(metric_data, plot=False, metric='PAPI_L3_TCA')\n",
    "thread_list, LLM_data = scaling_plot(metric_data, plot=False, metric='PAPI_L3_TCM')\n",
    "\n",
    "# thread_list, LLA_data = scaling_plot(metric_data, plot=False, metric='PAPI_NATIVE_LLC_REFERENCES')\n",
    "# thread_list, LLM_data = scaling_plot(metric_data, plot=False, metric='PAPI_NATIVE_LLC_MISSES')\n",
    "    \n",
    "LL_MR_list = [LLM_data[i] / LLA_data[i] for i in range(len(thread_list))]\n",
    "\n",
    "plt = matplotlib.pyplot.plot(thread_list, LL_MR_list)"
   ]
  },
  {
   "cell_type": "code",
   "execution_count": 19,
   "metadata": {},
   "outputs": [
    {
     "ename": "TypeError",
     "evalue": "string indices must be integers, not str",
     "output_type": "error",
     "traceback": [
      "\u001b[0;31m---------------------------------------------------------------------------\u001b[0m",
      "\u001b[0;31mTypeError\u001b[0m                                 Traceback (most recent call last)",
      "\u001b[0;32m<ipython-input-19-ddca9c962bb4>\u001b[0m in \u001b[0;36m<module>\u001b[0;34m()\u001b[0m\n\u001b[0;32m----> 1\u001b[0;31m \u001b[0mthread_LLA_data\u001b[0m \u001b[0;34m=\u001b[0m \u001b[0mget_thread_level_metric_scaling\u001b[0m\u001b[0;34m(\u001b[0m\u001b[0;34m'PAPI_L3_TCA'\u001b[0m\u001b[0;34m)\u001b[0m\u001b[0;34m\u001b[0m\u001b[0m\n\u001b[0m\u001b[1;32m      2\u001b[0m \u001b[0mthread_LLM_data\u001b[0m \u001b[0;34m=\u001b[0m \u001b[0mget_thread_level_metric_scaling\u001b[0m\u001b[0;34m(\u001b[0m\u001b[0;34m'PAPI_L3_TCM'\u001b[0m\u001b[0;34m)\u001b[0m\u001b[0;34m\u001b[0m\u001b[0m\n\u001b[1;32m      3\u001b[0m \u001b[0;34m\u001b[0m\u001b[0m\n\u001b[1;32m      4\u001b[0m \u001b[0;34m\u001b[0m\u001b[0m\n\u001b[1;32m      5\u001b[0m \u001b[0mLL_MR_data\u001b[0m \u001b[0;34m=\u001b[0m \u001b[0;34m{\u001b[0m\u001b[0;34m}\u001b[0m\u001b[0;34m\u001b[0m\u001b[0m\n",
      "\u001b[0;32m/Users/gravelle/hep-performance/mictest/utilities.pyc\u001b[0m in \u001b[0;36mget_thread_level_metric_scaling\u001b[0;34m(data, inclusive)\u001b[0m\n\u001b[1;32m    361\u001b[0m     \u001b[0mmetric_data\u001b[0m \u001b[0;34m=\u001b[0m \u001b[0;34m{\u001b[0m\u001b[0;34m}\u001b[0m\u001b[0;34m\u001b[0m\u001b[0m\n\u001b[1;32m    362\u001b[0m     \u001b[0;32mfor\u001b[0m \u001b[0mkt\u001b[0m \u001b[0;32min\u001b[0m \u001b[0mdata\u001b[0m\u001b[0;34m:\u001b[0m\u001b[0;34m\u001b[0m\u001b[0m\n\u001b[0;32m--> 363\u001b[0;31m         \u001b[0mmetric_data\u001b[0m\u001b[0;34m[\u001b[0m\u001b[0mkt\u001b[0m\u001b[0;34m]\u001b[0m \u001b[0;34m=\u001b[0m \u001b[0mget_thread_level_metric\u001b[0m\u001b[0;34m(\u001b[0m\u001b[0mdata\u001b[0m\u001b[0;34m[\u001b[0m\u001b[0mkt\u001b[0m\u001b[0;34m]\u001b[0m\u001b[0;34m,\u001b[0m\u001b[0minclusive\u001b[0m\u001b[0;34m=\u001b[0m\u001b[0minclusive\u001b[0m\u001b[0;34m)\u001b[0m\u001b[0;34m\u001b[0m\u001b[0m\n\u001b[0m\u001b[1;32m    364\u001b[0m     \u001b[0;32mreturn\u001b[0m \u001b[0mmetric_data\u001b[0m\u001b[0;34m\u001b[0m\u001b[0m\n\u001b[1;32m    365\u001b[0m \u001b[0;34m\u001b[0m\u001b[0m\n",
      "\u001b[0;31mTypeError\u001b[0m: string indices must be integers, not str"
     ]
    }
   ],
   "source": [
    "thread_LLA_data = get_thread_level_metric_scaling('PAPI_L3_TCA')\n",
    "thread_LLM_data = get_thread_level_metric_scaling('PAPI_L3_TCM')\n",
    "\n",
    "\n",
    "LL_MR_data = {}\n",
    "for kt in thread_list:\n",
    "    LL_MR_data[kt] = thread_LLM_data[kt] / thread_LLA_data[kt]\n",
    "    \n",
    "for kt in thread_list:\n",
    "    print kt\n",
    "    data = list(LL_MR_data[kt])\n",
    "    matplotlib.pyplot.bar(range(len(data)), data)\n",
    "    matplotlib.pyplot.ylim(ymax=0.3)\n",
    "    matplotlib.pyplot.show()"
   ]
  },
  {
   "cell_type": "code",
   "execution_count": 20,
   "metadata": {},
   "outputs": [
    {
     "data": {
      "image/png": "[encoded data removed]",
      "text/plain": [
       "<Figure size 432x288 with 1 Axes>"
      ]
     },
     "metadata": {},
     "output_type": "display_data"
    }
   ],
   "source": [
    "thread_list, res_stall_data = scaling_plot(metric_data, metric='PAPI_RES_STL')"
   ]
  },
  {
   "cell_type": "code",
   "execution_count": 21,
   "metadata": {},
   "outputs": [
    {
     "ename": "TypeError",
     "evalue": "list indices must be integers, not numpy.float64",
     "output_type": "error",
     "traceback": [
      "\u001b[0;31m---------------------------------------------------------------------------\u001b[0m",
      "\u001b[0;31mTypeError\u001b[0m                                 Traceback (most recent call last)",
      "\u001b[0;32m<ipython-input-21-fc8d437e9280>\u001b[0m in \u001b[0;36m<module>\u001b[0;34m()\u001b[0m\n\u001b[0;32m----> 1\u001b[0;31m \u001b[0mthread_stall_data\u001b[0m \u001b[0;34m=\u001b[0m \u001b[0mget_thread_level_metric_scaling\u001b[0m\u001b[0;34m(\u001b[0m\u001b[0mres_stall_data\u001b[0m\u001b[0;34m)\u001b[0m\u001b[0;34m\u001b[0m\u001b[0m\n\u001b[0m\u001b[1;32m      2\u001b[0m \u001b[0;34m\u001b[0m\u001b[0m\n\u001b[1;32m      3\u001b[0m \u001b[0;32mfor\u001b[0m \u001b[0mkt\u001b[0m \u001b[0;32min\u001b[0m \u001b[0mthread_list\u001b[0m\u001b[0;34m:\u001b[0m\u001b[0;34m\u001b[0m\u001b[0m\n\u001b[1;32m      4\u001b[0m     \u001b[0;32mprint\u001b[0m \u001b[0mkt\u001b[0m\u001b[0;34m\u001b[0m\u001b[0m\n\u001b[1;32m      5\u001b[0m     \u001b[0mdata\u001b[0m \u001b[0;34m=\u001b[0m \u001b[0mlist\u001b[0m\u001b[0;34m(\u001b[0m\u001b[0mthread_stall_data\u001b[0m\u001b[0;34m[\u001b[0m\u001b[0mkt\u001b[0m\u001b[0;34m]\u001b[0m\u001b[0;34m)\u001b[0m\u001b[0;34m\u001b[0m\u001b[0m\n",
      "\u001b[0;32m/Users/gravelle/hep-performance/mictest/utilities.pyc\u001b[0m in \u001b[0;36mget_thread_level_metric_scaling\u001b[0;34m(data, inclusive)\u001b[0m\n\u001b[1;32m    361\u001b[0m     \u001b[0mmetric_data\u001b[0m \u001b[0;34m=\u001b[0m \u001b[0;34m{\u001b[0m\u001b[0;34m}\u001b[0m\u001b[0;34m\u001b[0m\u001b[0m\n\u001b[1;32m    362\u001b[0m     \u001b[0;32mfor\u001b[0m \u001b[0mkt\u001b[0m \u001b[0;32min\u001b[0m \u001b[0mdata\u001b[0m\u001b[0;34m:\u001b[0m\u001b[0;34m\u001b[0m\u001b[0m\n\u001b[0;32m--> 363\u001b[0;31m         \u001b[0mmetric_data\u001b[0m\u001b[0;34m[\u001b[0m\u001b[0mkt\u001b[0m\u001b[0;34m]\u001b[0m \u001b[0;34m=\u001b[0m \u001b[0mget_thread_level_metric\u001b[0m\u001b[0;34m(\u001b[0m\u001b[0mdata\u001b[0m\u001b[0;34m[\u001b[0m\u001b[0mkt\u001b[0m\u001b[0;34m]\u001b[0m\u001b[0;34m,\u001b[0m\u001b[0minclusive\u001b[0m\u001b[0;34m=\u001b[0m\u001b[0minclusive\u001b[0m\u001b[0;34m)\u001b[0m\u001b[0;34m\u001b[0m\u001b[0m\n\u001b[0m\u001b[1;32m    364\u001b[0m     \u001b[0;32mreturn\u001b[0m \u001b[0mmetric_data\u001b[0m\u001b[0;34m\u001b[0m\u001b[0m\n\u001b[1;32m    365\u001b[0m \u001b[0;34m\u001b[0m\u001b[0m\n",
      "\u001b[0;31mTypeError\u001b[0m: list indices must be integers, not numpy.float64"
     ]
    }
   ],
   "source": [
    "thread_stall_data = get_thread_level_metric_scaling(res_stall_data)\n",
    "    \n",
    "for kt in thread_list:\n",
    "    print kt\n",
    "    data = list(thread_stall_data[kt])\n",
    "    matplotlib.pyplot.bar(range(len(data)), data)\n",
    "    matplotlib.pyplot.ylim(ymax=100000000000)\n",
    "    matplotlib.pyplot.show()"
   ]
  },
  {
   "cell_type": "code",
   "execution_count": null,
   "metadata": {},
   "outputs": [],
   "source": []
  },
  {
   "cell_type": "code",
   "execution_count": null,
   "metadata": {},
   "outputs": [],
   "source": []
  }
 ],
 "metadata": {
  "kernelspec": {
   "display_name": "Python 2",
   "language": "python",
   "name": "python2"
  },
  "language_info": {
   "codemirror_mode": {
    "name": "ipython",
    "version": 2
   },
   "file_extension": ".py",
   "mimetype": "text/x-python",
   "name": "python",
   "nbconvert_exporter": "python",
   "pygments_lexer": "ipython2",
   "version": "2.7.14"
  }
 },
 "nbformat": 4,
 "nbformat_minor": 2
}
