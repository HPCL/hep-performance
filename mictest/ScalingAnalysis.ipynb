{
 "cells": [
  {
   "cell_type": "markdown",
   "metadata": {},
   "source": [
    "# Hotspot Calculations for HEP\n",
    "\n",
    "Author: Brain Gravelle (gravelle@cs.uoregon.edu)\n",
    "\n",
    "\n",
    "All this is using the taucmdr python libraries from paratools\n",
    "http://taucommander.paratools.com/\n"
   ]
  },
  {
   "cell_type": "markdown",
   "metadata": {},
   "source": [
    "## Imports\n",
    "This section imports necessary libraies, the metrics.py and utilities.py files and sets up the window."
   ]
  },
  {
   "cell_type": "code",
   "execution_count": 1,
   "metadata": {},
   "outputs": [
    {
     "data": {
      "text/html": [
       "<style>.container { width:100% !important; }</style>"
      ],
      "text/plain": [
       "<IPython.core.display.HTML object>"
      ]
     },
     "metadata": {},
     "output_type": "display_data"
    }
   ],
   "source": [
    "# A couple of scripts to set the environent and import data from a .tau set of results\n",
    "from utilities import *\n",
    "from metrics import *\n",
    "# Plotting, notebook settings:\n",
    "%matplotlib inline  \n",
    "#plt.rcParams.update({'font.size': 16})\n",
    "import numbers\n",
    "from IPython.core.display import display, HTML\n",
    "display(HTML(\"<style>.container { width:100% !important; }</style>\"))\n",
    "pd.set_option('display.float_format', lambda x: '%.2e' % x)\n",
    "pd.set_option('display.max_columns',100)\n",
    "pd.set_option('max_colwidth', 70)"
   ]
  },
  {
   "cell_type": "markdown",
   "metadata": {},
   "source": [
    "## Getting Data\n",
    "\n",
    "TAU Commander uses TAU to run the application and measure it using runtime sampling techniques (similar to Intel VTune). Many customization options are available. For example, we may consider each function regardless of calling context, or we may decide to enable callpath profiling to see each context separately.\n",
    "\n",
    "From the talapas_scaling application the following experiments are available. These use Talapas (with 28 thread Broadwell processors) and the build-ce (realistic) option for mkFit. The first six experiments use the --num-thr option to set the thread count which is intended to perform threading within the events. the last two add the --num-ev-thr option to set the event threads, so that all threads are used to process events in parallel and each event is processed by a single thread. \n",
    "* manual_scaling_Large_talapas\t\t\n",
    "* manual_scaling_Large_talapas_fullnode\t\n",
    "* manual_scaling_TTbar70_talapas\t\t\n",
    "* manual_scaling_TTbar70_talapas_fullnode\n",
    "* manual_scaling_TTbar35_talapas\n",
    "* manual_scaling_TTbar35_talapas_fullnode\n",
    "* ev_thr_scaling_Large_talapas\n",
    "* ev_thr_scaling_Large_talapas_fullnode\n",
    "\n",
    "Additionally available in the cori_scaling application are the following. These were run on NERSC's Cori on the KNL with the default memory settings (quad - 1 NUMA domain, cache - MCDRAM as direct mapped cache). See http://www.nersc.gov/users/computational-systems/cori/running-jobs/advanced-running-jobs-options/ for more info on the KNL modes. Similar to the talapas scaling they use the build-ce option and threading within each event.\n",
    "* manual_scaling_TTbar35\n",
    "* manual_scaling_TTbar70\n",
    "* manual_scaling_Large\n",
    "* mixed_thr_scaling_Large\n"
   ]
  },
  {
   "cell_type": "markdown",
   "metadata": {},
   "source": [
    "### Importing Scaling Data\n",
    "Here we import the data. In this case we are using Cori data from the experiments with the threads working within each event using the TTbar35 file. Note that this box will take 10 or more minutes to run; please go enjoy a coffee while you wait."
   ]
  },
  {
   "cell_type": "code",
   "execution_count": 2,
   "metadata": {},
   "outputs": [
    {
     "name": "stdout",
     "output_type": "stream",
     "text": [
      "Possible missing metric: \n",
      "nthread = 1 \n",
      "metric = PAPI_TLB_IM\n",
      "Possible missing metric: \n",
      "nthread = 32 \n",
      "metric = PAPI_SP_OPS\n",
      "Possible missing metric: \n",
      "nthread = 8 \n",
      "metric = PAPI_VEC_SP\n",
      "Possible missing metric: \n",
      "nthread = 56 \n",
      "metric = PAPI_L1_TCM\n",
      "Possible missing metric: \n",
      "nthread = 1 \n",
      "metric = PAPI_L3_TCA\n",
      "Possible missing metric: \n",
      "nthread = 8 \n",
      "metric = PAPI_TLB_IM\n",
      "Possible missing metric: \n",
      "nthread = 32 \n",
      "metric = PAPI_VEC_SP\n",
      "Possible missing metric: \n",
      "nthread = 32 \n",
      "metric = PAPI_L2_TCA\n",
      "Possible missing metric: \n",
      "nthread = 18 \n",
      "metric = PAPI_TLB_IM\n",
      "Possible missing metric: \n",
      "nthread = 56 \n",
      "metric = PAPI_TOT_INS\n"
     ]
    }
   ],
   "source": [
    "application = \"talapas_scaling\"\n",
    "# experiment  = \"manual_scaling_TTbar70_talapas\"\n",
    "experiment  = \"manual_scaling_Large_talapas\"\n",
    "# experiment = \"ev_thr_scaling_Large_talapas\"\n",
    "\n",
    "# application = \"cori_scaling\"\n",
    "# experiment  = \"manual_scaling_TTbar35\"\n",
    "# experiment  = \"manual_scaling_TTbar70\"\n",
    "# experiment  = \"manual_scaling_Large\"\n",
    "# experiment  = \"mixed_thr_scaling_Large\"\n",
    "\n",
    "path = \".tau/\" + application + \"/\" + experiment + \"/\"\n",
    "# note that this function takes a long time to run, so only rerun if you must\n",
    "metric_data = get_pandas_scaling(path, callpaths=True)\n",
    "if application == \"talapas_scaling\":\n",
    "    metric_data = remove_erroneous_threads(metric_data,  [1, 8, 16, 32, 48, 56])\n",
    "elif application == \"cori_scaling\":\n",
    "    print(metric_data.keys())\n",
    "    metric_data = remove_erroneous_threads(metric_data,  [1, 2, 8, 16, 32, 48, 64, 80, 96, 112, 128, 144, 160, 176, 192, 208, 224, 240, 256])"
   ]
  },
  {
   "cell_type": "markdown",
   "metadata": {},
   "source": [
    "#### A list of metrics"
   ]
  },
  {
   "cell_type": "code",
   "execution_count": 3,
   "metadata": {},
   "outputs": [
    {
     "name": "stdout",
     "output_type": "stream",
     "text": [
      "PAPI_BR_INS\n",
      "PAPI_L3_TCA\n",
      "PAPI_L2_TCA\n",
      "PAPI_DP_OPS\n",
      "PAPI_TLB_DM\n",
      "PAPI_RES_STL\n",
      "PAPI_VEC_DP\n",
      "PAPI_L3_TCM\n",
      "PAPI_L2_TCM\n",
      "PAPI_TOT_INS\n",
      "PAPI_TLB_IM\n",
      "PAPI_SP_OPS\n",
      "PAPI_LST_INS\n",
      "PAPI_VEC_SP\n",
      "PAPI_BR_CN\n",
      "PAPI_L1_TCM\n",
      "PAPI_BR_MSP\n",
      "PAPI_TOT_CYC\n",
      "[32, 1, 48, 8, 16, 56]\n"
     ]
    }
   ],
   "source": [
    "print_available_metrics(metric_data,True)\n",
    "print(metric_data.keys())"
   ]
  },
  {
   "cell_type": "markdown",
   "metadata": {},
   "source": [
    "#### Metric metadata"
   ]
  },
  {
   "cell_type": "code",
   "execution_count": 4,
   "metadata": {},
   "outputs": [
    {
     "name": "stdout",
     "output_type": "stream",
     "text": [
      "TAU_MAX_THREADS                                    112\n",
      "TAU_CUDA_BINARY_EXE                                None\n",
      "TAU_MEASURE_TAU                                    off\n",
      "Memory Size                                        131916412 kB\n",
      "TAU_TRACK_SIGNALS                                  off\n",
      "TAU_TRACK_IO_PARAMS                                off\n",
      "CPU MHz                                            1200.062\n",
      "Local Time                                         2018-04-10T00:12:54-07:00\n",
      "CPU Type                                           Intel(R) Xeon(R) CPU E5-2690 v4 @ 2.60GHz\n",
      "TAU_OUTPUT_CUDA_CSV                                off\n",
      "TAU_EBS_INCLUSIVE                                  0 usec\n",
      "Node Name                                          n029\n",
      "TAU_CALLPATH_DEPTH                                 100\n",
      "CPU Cores                                          14\n",
      "OS Machine                                         x86_64\n",
      "TAU_SAMPLING                                       on\n",
      "Cache Size                                         35840 KB\n",
      "TAU_PAPI_MULTIPLEXING                              off\n",
      "TAU_EBS_KEEP_UNRESOLVED_ADDR                       off\n",
      "TAU_THROTTLE                                       on\n",
      "TAU Architecture                                   default\n",
      "TAU_COMPENSATE                                     off\n",
      "TAU_CALLSITE_DEPTH                                 1\n",
      "TAU_SHOW_MEMORY_FUNCTIONS                          off\n",
      "OS Version                                         #1 SMP Sun Jan 14 10:36:03 EST 2018\n",
      "Starting Timestamp                                 1523344374194602\n",
      "TAU_SIGNALS_GDB                                    off\n",
      "TAU Version                                        2.27-git\n",
      "TAU_TRACK_MEMORY_LEAKS                             off\n",
      "TAU_MEMDBG_PROTECT_FREE                            off\n",
      "TAU Config                                          -tag=05c9fa46 -arch=x86_64 -cc=icc -c++=icpc -fortran=intel -bfd=/gpfs/projects/hpcl/shared/taucmdr-enterprise/system/binutils/7af21441 -papi=/packages/papi/5.5.1 -unwind=/gpfs/projects/hpcl/shared/taucmdr-enterprise/system/libunwind/743af2e8 -tbb -useropt=-O2#-g#-DTAU_MAX_THREADS=112#-DTAU_MAX_METRICS=2#-DTAU_MAX_COUNTERS=2\n",
      "TAU_EBS_SAMPLES_DROPPED_TAU_3                      0\n",
      "TAU_EBS_SAMPLES_DROPPED_TAU_2                      0\n",
      "TAU_EBS_SAMPLES_DROPPED_TAU_1                      0\n",
      "TAU_EBS_SAMPLES_DROPPED_TAU_0                      0\n",
      "TAU_EBS_SAMPLES_DROPPED_TAU_7                      0\n",
      "TAU_EBS_SAMPLES_DROPPED_TAU_6                      0\n",
      "TAU_EBS_SAMPLES_DROPPED_TAU_5                      0\n",
      "TAU_EBS_SAMPLES_DROPPED_TAU_4                      0\n",
      "TAU_OPENMP_RUNTIME_EVENTS                          on\n",
      "TAU_BFD_LOOKUP                                     on\n",
      "TAU_MEMDBG_PROTECT_BELOW                           off\n",
      "TAU_THROTTLE_NUMCALLS                              100000\n",
      "TAU_EBS_PERIOD                                     10000\n",
      "OS Name                                            Linux\n",
      "Hostname                                           n029\n",
      "Metric Name                                        TIME\n",
      "Timestamp                                          1523344374213263\n",
      "TAU_TRACK_CUDA_SASS                                off\n",
      "TAU_TRACK_UNIFIED_MEMORY                           off\n",
      "username                                           bgravell\n",
      "TAU_OPENMP_RUNTIME                                 on\n",
      "TAU_TRACE_FORMAT                                   tau\n",
      "TAU_OPENMP_RUNTIME_STATES                          off\n",
      "pid                                                122518\n",
      "TAU_MEMDBG_PROTECT_ABOVE                           off\n",
      "Ending Timestamp                                   1523344721533779\n",
      "TAU_PROFILE_FORMAT                                 profile\n",
      "Executable                                         /gpfs/projects/hpcl/bgravell/mictest_sampling/mkFit/mkFit\n",
      "TAU_TRACK_CUDA_INSTRUCTIONS                        None\n",
      "TAU Makefile                                       /gpfs/projects/hpcl/shared/taucmdr-enterprise/system/tau/tau-2.27/x86_64/lib/Makefile.tau-05c9fa46-icpc-papi-tbb\n",
      "TAU_TRACK_HEADROOM                                 off\n",
      "CPU Vendor                                         GenuineIntel\n",
      "TAU_PROFILE                                        on\n",
      "TAU_TRACK_CUDA_CDP                                 off\n",
      "Command Line                                       mkFit --cmssw-n2seeds --input-file /projects/hpcl/bgravell/mictest_sampling/memoryFile.fv3.clean.writeAll.recT.072617.bin --build-ce --num-thr 8 --num-events 4550 --silent\n",
      "TAU_TRACK_HEAP                                     off\n",
      "TAU_CALLPATH                                       on\n",
      "tid                                                122518\n",
      "TAU_TRACE                                          off\n",
      "TAU_THROTTLE_PERCALL                               10\n",
      "TAU_EBS_SAMPLES_DROPPED_SUSPENDED_0                0\n",
      "TAU_EBS_SAMPLES_DROPPED_SUSPENDED_1                0\n",
      "TAU_EBS_SAMPLES_DROPPED_SUSPENDED_2                0\n",
      "TAU_EBS_SAMPLES_DROPPED_SUSPENDED_3                0\n",
      "TAU_EBS_SAMPLES_DROPPED_SUSPENDED_4                0\n",
      "TAU_EBS_SAMPLES_DROPPED_SUSPENDED_5                0\n",
      "TAU_EBS_SAMPLES_DROPPED_SUSPENDED_6                0\n",
      "TAU_EBS_SAMPLES_DROPPED_SUSPENDED_7                0\n",
      "TAU_IBM_BG_HWP_COUNTERS                            off\n",
      "UTC Time                                           2018-04-10T07:12:54Z\n",
      "CWD                                                /gpfs/projects/hpcl/bgravell/mictest_sampling/.tau/mictest_sampling/manual_scaling_Large_talapas/185\n",
      "TAU_TRACK_MEMORY_FOOTPRINT                         off\n",
      "TAU_EBS_UNWIND                                     off\n",
      "TAU_CUPTI_API                                      runtime\n",
      "OS Release                                         3.10.0-693.17.1.el7.x86_64\n",
      "TAU_EBS_SAMPLES_TAKEN_1                            34099\n",
      "TAU_EBS_SAMPLES_TAKEN_0                            34099\n",
      "TAU_EBS_SAMPLES_TAKEN_3                            34099\n",
      "TAU_EBS_SAMPLES_TAKEN_2                            34099\n",
      "TAU_EBS_SAMPLES_TAKEN_5                            34099\n",
      "TAU_EBS_SAMPLES_TAKEN_4                            34099\n",
      "TAU_EBS_SAMPLES_TAKEN_7                            34099\n",
      "TAU_EBS_SAMPLES_TAKEN_6                            34099\n"
     ]
    }
   ],
   "source": [
    "print_metadata(metric_data[8])"
   ]
  },
  {
   "cell_type": "markdown",
   "metadata": {},
   "source": [
    "## Adding metrics\n",
    "\n",
    "metrics are available in metrics.py. At this time the following can be added:\n",
    "* add_IPC(metrics)          - Instructions per Cycle\n",
    "* add_CPI(metrics)          - Cycles per instruction\n",
    "* add_VIPC(metrics)         - vector instructions per cycle\n",
    "* add_VIPI(metrics)         - vector instructions per instruction (i.e. fraction of total)\n",
    "* add_L1_missrate(metrics)  - miss rate for L1 cache\n",
    "\n",
    "for scaling data please use the add_metric_to_scaling_data(data, metric_func) function to add a metric\n",
    "\n",
    "Here we add some predeefined metrics and print the top 10 functions with the best IPC"
   ]
  },
  {
   "cell_type": "code",
   "execution_count": 5,
   "metadata": {},
   "outputs": [
    {
     "name": "stdout",
     "output_type": "stream",
     "text": [
      "PAPI_L2_TCA\n",
      "PAPI_TLB_DM\n",
      "PAPI_VEC_DP\n",
      "PAPI_L2_TCM\n",
      "DERIVED_CPI\n",
      "PAPI_L1_TCM\n",
      "PAPI_BR_MSP\n",
      "PAPI_DP_OPS\n",
      "PAPI_RES_STL\n",
      "PAPI_TOT_INS\n",
      "PAPI_VEC_SP\n",
      "PAPI_BR_CN\n",
      "PAPI_L3_TCA\n",
      "PAPI_TLB_IM\n",
      "DERIVED_L1_MISSRATE\n",
      "PAPI_L3_TCM\n",
      "DERIVED_L3_MISSRATE\n",
      "PAPI_SP_OPS\n",
      "PAPI_BR_INS\n",
      "DERIVED_L2_MISSRATE\n",
      "DERIVED_IPC\n",
      "PAPI_LST_INS\n",
      "PAPI_TOT_CYC\n"
     ]
    },
    {
     "data": {
      "text/html": [
       "<div>\n",
       "<style scoped>\n",
       "    .dataframe tbody tr th:only-of-type {\n",
       "        vertical-align: middle;\n",
       "    }\n",
       "\n",
       "    .dataframe tbody tr th {\n",
       "        vertical-align: top;\n",
       "    }\n",
       "\n",
       "    .dataframe thead th {\n",
       "        text-align: right;\n",
       "    }\n",
       "</style>\n",
       "<table border=\"1\" class=\"dataframe\">\n",
       "  <thead>\n",
       "    <tr style=\"text-align: right;\">\n",
       "      <th></th>\n",
       "      <th></th>\n",
       "      <th>Calls</th>\n",
       "      <th>Exclusive</th>\n",
       "      <th>Inclusive</th>\n",
       "      <th>ProfileCalls</th>\n",
       "      <th>Subcalls</th>\n",
       "    </tr>\n",
       "    <tr>\n",
       "      <th>thread</th>\n",
       "      <th>region</th>\n",
       "      <th></th>\n",
       "      <th></th>\n",
       "      <th></th>\n",
       "      <th></th>\n",
       "      <th></th>\n",
       "    </tr>\n",
       "  </thead>\n",
       "  <tbody>\n",
       "    <tr>\n",
       "      <th rowspan=\"10\" valign=\"top\">0</th>\n",
       "      <th>[SUMMARY] .TAU application  =&gt; [CONTEXT] .TAU application  =&gt; [SAMPLE] Track::charge() const</th>\n",
       "      <td>1.76e+00</td>\n",
       "      <td>3.33e+00</td>\n",
       "      <td>3.33e+00</td>\n",
       "      <td>nan</td>\n",
       "      <td>nan</td>\n",
       "    </tr>\n",
       "    <tr>\n",
       "      <th>[SUMMARY] Track::charge() const</th>\n",
       "      <td>1.76e+00</td>\n",
       "      <td>3.33e+00</td>\n",
       "      <td>3.33e+00</td>\n",
       "      <td>nan</td>\n",
       "      <td>nan</td>\n",
       "    </tr>\n",
       "    <tr>\n",
       "      <th>[SUMMARY] .TAU application  =&gt; [CONTEXT] .TAU application  =&gt; [SAMPLE] Track::Status::Status()</th>\n",
       "      <td>1.50e+00</td>\n",
       "      <td>3.07e+00</td>\n",
       "      <td>3.07e+00</td>\n",
       "      <td>nan</td>\n",
       "      <td>nan</td>\n",
       "    </tr>\n",
       "    <tr>\n",
       "      <th>[SUMMARY] Track::Status::Status()</th>\n",
       "      <td>1.50e+00</td>\n",
       "      <td>3.07e+00</td>\n",
       "      <td>3.07e+00</td>\n",
       "      <td>nan</td>\n",
       "      <td>nan</td>\n",
       "    </tr>\n",
       "    <tr>\n",
       "      <th>[SUMMARY] .TAU application  =&gt; [CONTEXT] .TAU application  =&gt; [SAMPLE] void _INTERNALaa2588cd::KHMult_imp&lt;Matriplex::Matriplex&lt;float, 6, 3, 8&gt;, Matriplex::Matriplex&lt;float, 1, 1, 8&gt;, Matriplex::Matriplex&lt;float, 1, 1, 8&gt;, Matriplex::Matriplex&lt;float, 6, 6, 8&gt; &gt;(Matriplex::Matriplex&lt;float, 6, 3, 8&gt; const&amp;, Matriplex::Matriplex&lt;float, 1, 1, 8&gt; const&amp;, Matriplex::Matriplex&lt;float, 1, 1, 8&gt; const&amp;, Matriplex::Matriplex&lt;float, 6, 6, 8&gt;&amp;, int, int)</th>\n",
       "      <td>1.45e+00</td>\n",
       "      <td>2.91e+00</td>\n",
       "      <td>2.91e+00</td>\n",
       "      <td>nan</td>\n",
       "      <td>nan</td>\n",
       "    </tr>\n",
       "    <tr>\n",
       "      <th>[SUMMARY] void _INTERNALaa2588cd::KHMult_imp&lt;Matriplex::Matriplex&lt;float, 6, 3, 8&gt;, Matriplex::Matriplex&lt;float, 1, 1, 8&gt;, Matriplex::Matriplex&lt;float, 1, 1, 8&gt;, Matriplex::Matriplex&lt;float, 6, 6, 8&gt; &gt;(Matriplex::Matriplex&lt;float, 6, 3, 8&gt; const&amp;, Matriplex::Matriplex&lt;float, 1, 1, 8&gt; const&amp;, Matriplex::Matriplex&lt;float, 1, 1, 8&gt; const&amp;, Matriplex::Matriplex&lt;float, 6, 6, 8&gt;&amp;, int, int)</th>\n",
       "      <td>1.45e+00</td>\n",
       "      <td>2.91e+00</td>\n",
       "      <td>2.91e+00</td>\n",
       "      <td>nan</td>\n",
       "      <td>nan</td>\n",
       "    </tr>\n",
       "    <tr>\n",
       "      <th>[SUMMARY] std::vector&lt;LayerOfHits, std::allocator&lt;LayerOfHits&gt; &gt;::operator[](unsigned long)</th>\n",
       "      <td>1.48e+00</td>\n",
       "      <td>2.84e+00</td>\n",
       "      <td>2.84e+00</td>\n",
       "      <td>nan</td>\n",
       "      <td>nan</td>\n",
       "    </tr>\n",
       "    <tr>\n",
       "      <th>[SUMMARY] .TAU application  =&gt; [CONTEXT] .TAU application  =&gt; [SAMPLE] std::vector&lt;LayerOfHits, std::allocator&lt;LayerOfHits&gt; &gt;::operator[](unsigned long)</th>\n",
       "      <td>1.48e+00</td>\n",
       "      <td>2.84e+00</td>\n",
       "      <td>2.84e+00</td>\n",
       "      <td>nan</td>\n",
       "      <td>nan</td>\n",
       "    </tr>\n",
       "    <tr>\n",
       "      <th>[SUMMARY] __svml_satan2_cout_rare</th>\n",
       "      <td>1.64e+00</td>\n",
       "      <td>2.83e+00</td>\n",
       "      <td>2.83e+00</td>\n",
       "      <td>nan</td>\n",
       "      <td>nan</td>\n",
       "    </tr>\n",
       "    <tr>\n",
       "      <th>[SUMMARY] .TAU application  =&gt; [CONTEXT] .TAU application  =&gt; [SAMPLE] __svml_satan2_cout_rare</th>\n",
       "      <td>1.64e+00</td>\n",
       "      <td>2.83e+00</td>\n",
       "      <td>2.83e+00</td>\n",
       "      <td>nan</td>\n",
       "      <td>nan</td>\n",
       "    </tr>\n",
       "  </tbody>\n",
       "</table>\n",
       "</div>"
      ],
      "text/plain": [
       "                                                                                 Calls  \\\n",
       "thread region                                                                            \n",
       "0      [SUMMARY] .TAU application  => [CONTEXT] .TAU application  => [SAMP... 1.76e+00   \n",
       "       [SUMMARY] Track::charge() const                                        1.76e+00   \n",
       "       [SUMMARY] .TAU application  => [CONTEXT] .TAU application  => [SAMP... 1.50e+00   \n",
       "       [SUMMARY] Track::Status::Status()                                      1.50e+00   \n",
       "       [SUMMARY] .TAU application  => [CONTEXT] .TAU application  => [SAMP... 1.45e+00   \n",
       "       [SUMMARY] void _INTERNALaa2588cd::KHMult_imp<Matriplex::Matriplex<f... 1.45e+00   \n",
       "       [SUMMARY] std::vector<LayerOfHits, std::allocator<LayerOfHits> >::o... 1.48e+00   \n",
       "       [SUMMARY] .TAU application  => [CONTEXT] .TAU application  => [SAMP... 1.48e+00   \n",
       "       [SUMMARY] __svml_satan2_cout_rare                                      1.64e+00   \n",
       "       [SUMMARY] .TAU application  => [CONTEXT] .TAU application  => [SAMP... 1.64e+00   \n",
       "\n",
       "                                                                               Exclusive  \\\n",
       "thread region                                                                              \n",
       "0      [SUMMARY] .TAU application  => [CONTEXT] .TAU application  => [SAMP...   3.33e+00   \n",
       "       [SUMMARY] Track::charge() const                                          3.33e+00   \n",
       "       [SUMMARY] .TAU application  => [CONTEXT] .TAU application  => [SAMP...   3.07e+00   \n",
       "       [SUMMARY] Track::Status::Status()                                        3.07e+00   \n",
       "       [SUMMARY] .TAU application  => [CONTEXT] .TAU application  => [SAMP...   2.91e+00   \n",
       "       [SUMMARY] void _INTERNALaa2588cd::KHMult_imp<Matriplex::Matriplex<f...   2.91e+00   \n",
       "       [SUMMARY] std::vector<LayerOfHits, std::allocator<LayerOfHits> >::o...   2.84e+00   \n",
       "       [SUMMARY] .TAU application  => [CONTEXT] .TAU application  => [SAMP...   2.84e+00   \n",
       "       [SUMMARY] __svml_satan2_cout_rare                                        2.83e+00   \n",
       "       [SUMMARY] .TAU application  => [CONTEXT] .TAU application  => [SAMP...   2.83e+00   \n",
       "\n",
       "                                                                               Inclusive  \\\n",
       "thread region                                                                              \n",
       "0      [SUMMARY] .TAU application  => [CONTEXT] .TAU application  => [SAMP...   3.33e+00   \n",
       "       [SUMMARY] Track::charge() const                                          3.33e+00   \n",
       "       [SUMMARY] .TAU application  => [CONTEXT] .TAU application  => [SAMP...   3.07e+00   \n",
       "       [SUMMARY] Track::Status::Status()                                        3.07e+00   \n",
       "       [SUMMARY] .TAU application  => [CONTEXT] .TAU application  => [SAMP...   2.91e+00   \n",
       "       [SUMMARY] void _INTERNALaa2588cd::KHMult_imp<Matriplex::Matriplex<f...   2.91e+00   \n",
       "       [SUMMARY] std::vector<LayerOfHits, std::allocator<LayerOfHits> >::o...   2.84e+00   \n",
       "       [SUMMARY] .TAU application  => [CONTEXT] .TAU application  => [SAMP...   2.84e+00   \n",
       "       [SUMMARY] __svml_satan2_cout_rare                                        2.83e+00   \n",
       "       [SUMMARY] .TAU application  => [CONTEXT] .TAU application  => [SAMP...   2.83e+00   \n",
       "\n",
       "                                                                               ProfileCalls  \\\n",
       "thread region                                                                                 \n",
       "0      [SUMMARY] .TAU application  => [CONTEXT] .TAU application  => [SAMP...           nan   \n",
       "       [SUMMARY] Track::charge() const                                                  nan   \n",
       "       [SUMMARY] .TAU application  => [CONTEXT] .TAU application  => [SAMP...           nan   \n",
       "       [SUMMARY] Track::Status::Status()                                                nan   \n",
       "       [SUMMARY] .TAU application  => [CONTEXT] .TAU application  => [SAMP...           nan   \n",
       "       [SUMMARY] void _INTERNALaa2588cd::KHMult_imp<Matriplex::Matriplex<f...           nan   \n",
       "       [SUMMARY] std::vector<LayerOfHits, std::allocator<LayerOfHits> >::o...           nan   \n",
       "       [SUMMARY] .TAU application  => [CONTEXT] .TAU application  => [SAMP...           nan   \n",
       "       [SUMMARY] __svml_satan2_cout_rare                                                nan   \n",
       "       [SUMMARY] .TAU application  => [CONTEXT] .TAU application  => [SAMP...           nan   \n",
       "\n",
       "                                                                               Subcalls  \n",
       "thread region                                                                            \n",
       "0      [SUMMARY] .TAU application  => [CONTEXT] .TAU application  => [SAMP...       nan  \n",
       "       [SUMMARY] Track::charge() const                                              nan  \n",
       "       [SUMMARY] .TAU application  => [CONTEXT] .TAU application  => [SAMP...       nan  \n",
       "       [SUMMARY] Track::Status::Status()                                            nan  \n",
       "       [SUMMARY] .TAU application  => [CONTEXT] .TAU application  => [SAMP...       nan  \n",
       "       [SUMMARY] void _INTERNALaa2588cd::KHMult_imp<Matriplex::Matriplex<f...       nan  \n",
       "       [SUMMARY] std::vector<LayerOfHits, std::allocator<LayerOfHits> >::o...       nan  \n",
       "       [SUMMARY] .TAU application  => [CONTEXT] .TAU application  => [SAMP...       nan  \n",
       "       [SUMMARY] __svml_satan2_cout_rare                                            nan  \n",
       "       [SUMMARY] .TAU application  => [CONTEXT] .TAU application  => [SAMP...       nan  "
      ]
     },
     "execution_count": 5,
     "metadata": {},
     "output_type": "execute_result"
    }
   ],
   "source": [
    "add_metric_to_scaling_data(metric_data, add_CPI)\n",
    "add_metric_to_scaling_data(metric_data, add_IPC)\n",
    "add_metric_to_scaling_data(metric_data, add_L1_missrate)\n",
    "add_metric_to_scaling_data(metric_data, add_L2_missrate)\n",
    "add_metric_to_scaling_data(metric_data, add_L3_missrate)\n",
    "print_available_metrics(metric_data, scaling=True)\n",
    "\n",
    "metric_data[1]['DERIVED_IPC'].sort_values(by='Inclusive',ascending=False).head(10)"
   ]
  },
  {
   "cell_type": "markdown",
   "metadata": {},
   "source": [
    "## Scaling Results\n",
    "\n",
    "In this section we demo some scaling results with several different metrics.\n",
    "\n",
    "We use the scaling plot function to plot the data vs thread count.\n",
    "scaling_plot(data, inclusive=True, plot=True, function=\"\\[SUMMARY\\] .TAU application$\", metric='PAPI_TOT_CYC', max=False)\n",
    "* data = the full dictionary of scaling data \n",
    "* inclusive = determines if the inclusive data or exclusive data will be used\n",
    "* plot = true makes a plot false does not\n",
    "* function = the string that will be searched for to plot. Default looks at the whole application\n",
    "* metric = the metric choosen from the above list\n",
    "* max = use the max value or average value across the threads"
   ]
  },
  {
   "cell_type": "markdown",
   "metadata": {},
   "source": [
    "### Scaling with total cycles vs the thread count\n",
    "Here we plot the cycle count for each thread count as a proxy for execution time. We use the max cycle count rather than the average as this number will limit the time of execution."
   ]
  },
  {
   "cell_type": "code",
   "execution_count": 6,
   "metadata": {},
   "outputs": [
    {
     "data": {
      "image/png": "[encoded data removed]",
      "text/plain": [
       "<Figure size 432x288 with 1 Axes>"
      ]
     },
     "metadata": {},
     "output_type": "display_data"
    }
   ],
   "source": [
    "thread_list, tot_cyc_list = scaling_plot(metric_data, max=True)"
   ]
  },
  {
   "cell_type": "markdown",
   "metadata": {},
   "source": [
    "### Cycles per thread for each thread count\n",
    "Here we show load balancing with a series of plots showing the cycle count per thread. We have one plot for each thread count used"
   ]
  },
  {
   "cell_type": "code",
   "execution_count": 7,
   "metadata": {},
   "outputs": [
    {
     "name": "stdout",
     "output_type": "stream",
     "text": [
      "1\n"
     ]
    },
    {
     "data": {
      "image/png": "[encoded data removed]",
      "text/plain": [
       "<Figure size 432x288 with 1 Axes>"
      ]
     },
     "metadata": {},
     "output_type": "display_data"
    },
    {
     "name": "stdout",
     "output_type": "stream",
     "text": [
      "8\n"
     ]
    },
    {
     "data": {
      "image/png": "[encoded data removed]",
      "text/plain": [
       "<Figure size 432x288 with 1 Axes>"
      ]
     },
     "metadata": {},
     "output_type": "display_data"
    },
    {
     "name": "stdout",
     "output_type": "stream",
     "text": [
      "16\n"
     ]
    },
    {
     "data": {
      "image/png": "[encoded data removed]",
      "text/plain": [
       "<Figure size 432x288 with 1 Axes>"
      ]
     },
     "metadata": {},
     "output_type": "display_data"
    },
    {
     "name": "stdout",
     "output_type": "stream",
     "text": [
      "32\n"
     ]
    },
    {
     "data": {
      "image/png": "[encoded data removed]",
      "text/plain": [
       "<Figure size 432x288 with 1 Axes>"
      ]
     },
     "metadata": {},
     "output_type": "display_data"
    },
    {
     "name": "stdout",
     "output_type": "stream",
     "text": [
      "48\n"
     ]
    },
    {
     "data": {
      "image/png": "[encoded data removed]",
      "text/plain": [
       "<Figure size 432x288 with 1 Axes>"
      ]
     },
     "metadata": {},
     "output_type": "display_data"
    },
    {
     "name": "stdout",
     "output_type": "stream",
     "text": [
      "56\n"
     ]
    },
    {
     "data": {
      "image/png": "[encoded data removed]",
      "text/plain": [
       "<Figure size 432x288 with 1 Axes>"
      ]
     },
     "metadata": {},
     "output_type": "display_data"
    }
   ],
   "source": [
    "thread_cyc_data = get_thread_level_metric_scaling(metric_data, metric='PAPI_TOT_CYC')\n",
    "\n",
    "for kt in thread_list:\n",
    "    print kt\n",
    "    data = list(thread_cyc_data[kt])\n",
    "    matplotlib.pyplot.bar(range(len(data)), data)\n",
    "    matplotlib.pyplot.ylim(ymax=50000000000) \n",
    "    matplotlib.pyplot.show()"
   ]
  },
  {
   "cell_type": "markdown",
   "metadata": {},
   "source": [
    "### L1 Missrate vs thread count\n",
    "Similar to above these cells show the L1 missrates. In this case we want to get the plotting data for L1 acceses and misses but comupte the miss rate before plotting, so we set plot=False"
   ]
  },
  {
   "cell_type": "code",
   "execution_count": 8,
   "metadata": {},
   "outputs": [
    {
     "data": {
      "image/png": "[encoded data removed]",
      "text/plain": [
       "<Figure size 432x288 with 1 Axes>"
      ]
     },
     "metadata": {},
     "output_type": "display_data"
    }
   ],
   "source": [
    "thread_list, L1A_data = scaling_plot(metric_data, plot=False, metric='PAPI_LST_INS')\n",
    "thread_list, L1M_data = scaling_plot(metric_data, plot=False, metric='PAPI_L1_TCM')\n",
    "    \n",
    "L1_MR_list = [L1M_data[i] / L1A_data[i] for i in range(len(thread_list))]\n",
    "\n",
    "plt = matplotlib.pyplot.plot(thread_list, L1_MR_list)"
   ]
  },
  {
   "cell_type": "markdown",
   "metadata": {},
   "source": [
    "### L1 Miss rate by each thread of each thread count"
   ]
  },
  {
   "cell_type": "code",
   "execution_count": 9,
   "metadata": {},
   "outputs": [
    {
     "name": "stdout",
     "output_type": "stream",
     "text": [
      "thread\n",
      "0   6.96e+12\n",
      "Name: Inclusive, dtype: float64\n",
      "thread\n",
      "0   2.55e+12\n",
      "1   6.33e+11\n",
      "2   6.33e+11\n",
      "3   6.29e+11\n",
      "4   6.34e+11\n",
      "5   6.32e+11\n",
      "6   6.32e+11\n",
      "7   6.31e+11\n",
      "Name: Inclusive, dtype: float64\n",
      "thread\n",
      "0    2.15e+12\n",
      "1    3.23e+11\n",
      "2    3.22e+11\n",
      "3    3.24e+11\n",
      "4    3.26e+11\n",
      "5    3.27e+11\n",
      "6    3.24e+11\n",
      "7    3.24e+11\n",
      "8    3.22e+11\n",
      "9    3.24e+11\n",
      "10   3.21e+11\n",
      "11   3.20e+11\n",
      "12   3.24e+11\n",
      "13   3.23e+11\n",
      "14   3.22e+11\n",
      "15   3.23e+11\n",
      "Name: Inclusive, dtype: float64\n",
      "thread\n",
      "0    7.17e+12\n",
      "1    1.81e+11\n",
      "2    1.80e+11\n",
      "3    1.81e+11\n",
      "4    1.81e+11\n",
      "5    1.81e+11\n",
      "6    1.80e+11\n",
      "7    1.81e+11\n",
      "8    1.81e+11\n",
      "9    1.79e+11\n",
      "10   1.82e+11\n",
      "11   1.81e+11\n",
      "12   1.82e+11\n",
      "13   1.82e+11\n",
      "14   1.82e+11\n",
      "15   1.81e+11\n",
      "16   1.81e+11\n",
      "17   1.80e+11\n",
      "18   1.82e+11\n",
      "19   1.80e+11\n",
      "20   1.81e+11\n",
      "21   1.81e+11\n",
      "22   1.82e+11\n",
      "23   1.81e+11\n",
      "24   1.81e+11\n",
      "25   1.82e+11\n",
      "26   1.81e+11\n",
      "27   1.81e+11\n",
      "28   1.82e+11\n",
      "29   1.82e+11\n",
      "30   1.82e+11\n",
      "31   1.80e+11\n",
      "Name: Inclusive, dtype: float64\n",
      "thread\n",
      "0    1.88e+13\n",
      "1    1.25e+11\n",
      "2    1.25e+11\n",
      "3    1.25e+11\n",
      "4    1.23e+11\n",
      "5    1.24e+11\n",
      "6    1.22e+11\n",
      "7    1.25e+11\n",
      "8    1.23e+11\n",
      "9    1.24e+11\n",
      "10   1.26e+11\n",
      "11   1.23e+11\n",
      "12   1.23e+11\n",
      "13   1.23e+11\n",
      "14   1.24e+11\n",
      "15   1.22e+11\n",
      "16   1.26e+11\n",
      "17   1.25e+11\n",
      "18   1.23e+11\n",
      "19   1.24e+11\n",
      "20   1.23e+11\n",
      "21   1.23e+11\n",
      "22   1.23e+11\n",
      "23   1.22e+11\n",
      "24   1.23e+11\n",
      "25   1.24e+11\n",
      "26   1.24e+11\n",
      "27   1.23e+11\n",
      "28   1.23e+11\n",
      "29   1.23e+11\n",
      "30   1.23e+11\n",
      "31   1.24e+11\n",
      "32   1.25e+11\n",
      "33   1.25e+11\n",
      "34   1.24e+11\n",
      "35   1.24e+11\n",
      "36   1.24e+11\n",
      "37   1.26e+11\n",
      "38   1.22e+11\n",
      "39   1.26e+11\n",
      "40   1.25e+11\n",
      "41   1.24e+11\n",
      "42   1.25e+11\n",
      "43   1.26e+11\n",
      "44   1.23e+11\n",
      "45   1.26e+11\n",
      "46   1.24e+11\n",
      "47   1.25e+11\n",
      "Name: Inclusive, dtype: float64\n",
      "thread\n",
      "0    3.30e+13\n",
      "1    1.07e+11\n",
      "2    1.09e+11\n",
      "3    1.08e+11\n",
      "4    1.09e+11\n",
      "5    1.09e+11\n",
      "6    1.09e+11\n",
      "7    1.09e+11\n",
      "8    1.09e+11\n",
      "9    1.08e+11\n",
      "10   1.09e+11\n",
      "11   1.08e+11\n",
      "12   1.07e+11\n",
      "13   1.08e+11\n",
      "14   1.08e+11\n",
      "15   1.08e+11\n",
      "16   1.08e+11\n",
      "17   1.09e+11\n",
      "18   1.07e+11\n",
      "19   1.07e+11\n",
      "20   1.08e+11\n",
      "21   1.06e+11\n",
      "22   1.07e+11\n",
      "23   1.08e+11\n",
      "24   1.06e+11\n",
      "25   1.06e+11\n",
      "26   1.07e+11\n",
      "27   1.08e+11\n",
      "28   1.06e+11\n",
      "29   1.06e+11\n",
      "30   1.07e+11\n",
      "31   1.07e+11\n",
      "32   1.06e+11\n",
      "33   1.06e+11\n",
      "34   1.08e+11\n",
      "35   1.08e+11\n",
      "36   1.07e+11\n",
      "37   1.07e+11\n",
      "38   1.06e+11\n",
      "39   1.09e+11\n",
      "40   1.08e+11\n",
      "41   1.07e+11\n",
      "42   1.07e+11\n",
      "43   1.07e+11\n",
      "44   1.08e+11\n",
      "45   1.07e+11\n",
      "46   1.08e+11\n",
      "47   1.07e+11\n",
      "48   1.05e+11\n",
      "49   1.07e+11\n",
      "50   1.07e+11\n",
      "51   1.09e+11\n",
      "52   1.07e+11\n",
      "53   1.07e+11\n",
      "54   1.08e+11\n",
      "55   1.07e+11\n",
      "Name: Inclusive, dtype: float64\n",
      "1\n"
     ]
    },
    {
     "data": {
      "image/png": "[encoded data removed]",
      "text/plain": [
       "<Figure size 432x288 with 1 Axes>"
      ]
     },
     "metadata": {},
     "output_type": "display_data"
    },
    {
     "name": "stdout",
     "output_type": "stream",
     "text": [
      "8\n"
     ]
    },
    {
     "data": {
      "image/png": "[encoded data removed]",
      "text/plain": [
       "<Figure size 432x288 with 1 Axes>"
      ]
     },
     "metadata": {},
     "output_type": "display_data"
    },
    {
     "name": "stdout",
     "output_type": "stream",
     "text": [
      "16\n"
     ]
    },
    {
     "data": {
      "image/png": "[encoded data removed]",
      "text/plain": [
       "<Figure size 432x288 with 1 Axes>"
      ]
     },
     "metadata": {},
     "output_type": "display_data"
    },
    {
     "name": "stdout",
     "output_type": "stream",
     "text": [
      "32\n"
     ]
    },
    {
     "data": {
      "image/png": "[encoded data removed]",
      "text/plain": [
       "<Figure size 432x288 with 1 Axes>"
      ]
     },
     "metadata": {},
     "output_type": "display_data"
    },
    {
     "name": "stdout",
     "output_type": "stream",
     "text": [
      "48\n"
     ]
    },
    {
     "data": {
      "image/png": "[encoded data removed]",
      "text/plain": [
       "<Figure size 432x288 with 1 Axes>"
      ]
     },
     "metadata": {},
     "output_type": "display_data"
    },
    {
     "name": "stdout",
     "output_type": "stream",
     "text": [
      "56\n"
     ]
    },
    {
     "data": {
      "image/png": "[encoded data removed]",
      "text/plain": [
       "<Figure size 432x288 with 1 Axes>"
      ]
     },
     "metadata": {},
     "output_type": "display_data"
    }
   ],
   "source": [
    "thread_L1A_data = get_thread_level_metric_scaling(metric_data, metric='PAPI_LST_INS')\n",
    "thread_L1M_data = get_thread_level_metric_scaling(metric_data, metric='PAPI_L1_TCM')\n",
    "\n",
    "MR_data = {}\n",
    "for kt in thread_list:\n",
    "#     print(thread_L1M_data[kt])\n",
    "    print(thread_L1A_data[kt])\n",
    "    MR_data[kt] = thread_L1M_data[kt] / thread_L1A_data[kt]\n",
    "    \n",
    "for kt in thread_list:\n",
    "    print kt\n",
    "    data = list(MR_data[kt])\n",
    "    matplotlib.pyplot.bar(range(len(data)), data)\n",
    "    matplotlib.pyplot.ylim(ymax=0.05)\n",
    "    matplotlib.pyplot.show()"
   ]
  },
  {
   "cell_type": "markdown",
   "metadata": {},
   "source": [
    "### L1 Top 10 bad miss rates"
   ]
  },
  {
   "cell_type": "code",
   "execution_count": 23,
   "metadata": {},
   "outputs": [
    {
     "name": "stdout",
     "output_type": "stream",
     "text": [
      "[1, 8, 16, 32, 48, 56]\n"
     ]
    }
   ],
   "source": [
    "L1_data = select_metric_from_scaling(metric_data, 'DERIVED_L1_MISSRATE')\n",
    "L1_MR_dict = {}\n",
    "for n_thr in thread_list:\n",
    "    L1_MR_dict[n_thr] = filter_libs_out(L1_data[n_thr]).sort_values(by='Inclusive',ascending=False)[[\"Inclusive\"]]\n",
    "print thread_list"
   ]
  },
  {
   "cell_type": "code",
   "execution_count": 27,
   "metadata": {},
   "outputs": [
    {
     "data": {
      "text/html": [
       "<div>\n",
       "<style scoped>\n",
       "    .dataframe tbody tr th:only-of-type {\n",
       "        vertical-align: middle;\n",
       "    }\n",
       "\n",
       "    .dataframe tbody tr th {\n",
       "        vertical-align: top;\n",
       "    }\n",
       "\n",
       "    .dataframe thead th {\n",
       "        text-align: right;\n",
       "    }\n",
       "</style>\n",
       "<table border=\"1\" class=\"dataframe\">\n",
       "  <thead>\n",
       "    <tr style=\"text-align: right;\">\n",
       "      <th></th>\n",
       "      <th></th>\n",
       "      <th>Inclusive</th>\n",
       "    </tr>\n",
       "    <tr>\n",
       "      <th>thread</th>\n",
       "      <th>region</th>\n",
       "      <th></th>\n",
       "    </tr>\n",
       "  </thead>\n",
       "  <tbody>\n",
       "    <tr>\n",
       "      <th rowspan=\"2\" valign=\"top\">0</th>\n",
       "      <th>[SUMMARY] .TAU application  =&gt; [CONTEXT] .TAU application  =&gt; [SAMPLE] __lll_lock_wait_private</th>\n",
       "      <td>2.90e+01</td>\n",
       "    </tr>\n",
       "    <tr>\n",
       "      <th>[SUMMARY] __lll_lock_wait_private</th>\n",
       "      <td>2.90e+01</td>\n",
       "    </tr>\n",
       "    <tr>\n",
       "      <th rowspan=\"2\" valign=\"top\">6</th>\n",
       "      <th>[SUMMARY] Matriplex::Matriplex&lt;float, 6, 1, 8&gt;::At(int, int, int)</th>\n",
       "      <td>2.09e-01</td>\n",
       "    </tr>\n",
       "    <tr>\n",
       "      <th>[SUMMARY] .TAU application  =&gt; [CONTEXT] .TAU application  =&gt; [SAMPLE] Matriplex::Matriplex&lt;float, 6, 1, 8&gt;::At(int, int, int)</th>\n",
       "      <td>2.09e-01</td>\n",
       "    </tr>\n",
       "    <tr>\n",
       "      <th rowspan=\"2\" valign=\"top\">10</th>\n",
       "      <th>[SUMMARY] LayerOfHits::set_phi_bin(int, int, int&amp;, int&amp;)</th>\n",
       "      <td>1.73e-01</td>\n",
       "    </tr>\n",
       "    <tr>\n",
       "      <th>[SUMMARY] .TAU application  =&gt; [CONTEXT] .TAU application  =&gt; [SAMPLE] LayerOfHits::set_phi_bin(int, int, int&amp;, int&amp;)</th>\n",
       "      <td>1.73e-01</td>\n",
       "    </tr>\n",
       "    <tr>\n",
       "      <th rowspan=\"2\" valign=\"top\">0</th>\n",
       "      <th>[SUMMARY] .TAU application  =&gt; [CONTEXT] .TAU application  =&gt; [SAMPLE] Event::relabel_bad_seedtracks()</th>\n",
       "      <td>1.14e-01</td>\n",
       "    </tr>\n",
       "    <tr>\n",
       "      <th>[SUMMARY] Event::relabel_bad_seedtracks()</th>\n",
       "      <td>1.14e-01</td>\n",
       "    </tr>\n",
       "    <tr>\n",
       "      <th rowspan=\"2\" valign=\"top\">13</th>\n",
       "      <th>[SUMMARY] .TAU application  =&gt; [CONTEXT] .TAU application  =&gt; [SAMPLE] __lll_lock_wait_private</th>\n",
       "      <td>1.02e-01</td>\n",
       "    </tr>\n",
       "    <tr>\n",
       "      <th>[SUMMARY] __lll_lock_wait_private</th>\n",
       "      <td>1.02e-01</td>\n",
       "    </tr>\n",
       "  </tbody>\n",
       "</table>\n",
       "</div>"
      ],
      "text/plain": [
       "                                                                               Inclusive\n",
       "thread region                                                                           \n",
       "0      [SUMMARY] .TAU application  => [CONTEXT] .TAU application  => [SAMP...   2.90e+01\n",
       "       [SUMMARY] __lll_lock_wait_private                                        2.90e+01\n",
       "6      [SUMMARY] Matriplex::Matriplex<float, 6, 1, 8>::At(int, int, int)        2.09e-01\n",
       "       [SUMMARY] .TAU application  => [CONTEXT] .TAU application  => [SAMP...   2.09e-01\n",
       "10     [SUMMARY] LayerOfHits::set_phi_bin(int, int, int&, int&)                 1.73e-01\n",
       "       [SUMMARY] .TAU application  => [CONTEXT] .TAU application  => [SAMP...   1.73e-01\n",
       "0      [SUMMARY] .TAU application  => [CONTEXT] .TAU application  => [SAMP...   1.14e-01\n",
       "       [SUMMARY] Event::relabel_bad_seedtracks()                                1.14e-01\n",
       "13     [SUMMARY] .TAU application  => [CONTEXT] .TAU application  => [SAMP...   1.02e-01\n",
       "       [SUMMARY] __lll_lock_wait_private                                        1.02e-01"
      ]
     },
     "execution_count": 27,
     "metadata": {},
     "output_type": "execute_result"
    }
   ],
   "source": [
    "THREAD_COUNT = 16\n",
    "L1_MR_dict[THREAD_COUNT].head(10)"
   ]
  },
  {
   "cell_type": "markdown",
   "metadata": {},
   "source": [
    "### L2 Missrate vs thread count\n",
    "Similar to above these cells show the L2 missrates."
   ]
  },
  {
   "cell_type": "code",
   "execution_count": 11,
   "metadata": {},
   "outputs": [
    {
     "data": {
      "image/png": "[encoded data removed]",
      "text/plain": [
       "<Figure size 432x288 with 1 Axes>"
      ]
     },
     "metadata": {},
     "output_type": "display_data"
    }
   ],
   "source": [
    "thread_list, L2A_data = scaling_plot(metric_data, plot=False, metric='PAPI_L2_TCA')\n",
    "thread_list, L2M_data = scaling_plot(metric_data, plot=False, metric='PAPI_L2_TCM')\n",
    "    \n",
    "L2_MR_list = [L2M_data[i] / L2A_data[i] for i in range(len(thread_list))]\n",
    "\n",
    "plt = matplotlib.pyplot.plot(thread_list, L2_MR_list)"
   ]
  },
  {
   "cell_type": "code",
   "execution_count": 12,
   "metadata": {},
   "outputs": [
    {
     "name": "stdout",
     "output_type": "stream",
     "text": [
      "1\n"
     ]
    },
    {
     "data": {
      "image/png": "[encoded data removed]",
      "text/plain": [
       "<Figure size 432x288 with 1 Axes>"
      ]
     },
     "metadata": {},
     "output_type": "display_data"
    },
    {
     "name": "stdout",
     "output_type": "stream",
     "text": [
      "8\n"
     ]
    },
    {
     "data": {
      "image/png": "[encoded data removed]",
      "text/plain": [
       "<Figure size 432x288 with 1 Axes>"
      ]
     },
     "metadata": {},
     "output_type": "display_data"
    },
    {
     "name": "stdout",
     "output_type": "stream",
     "text": [
      "16\n"
     ]
    },
    {
     "data": {
      "image/png": "[encoded data removed]",
      "text/plain": [
       "<Figure size 432x288 with 1 Axes>"
      ]
     },
     "metadata": {},
     "output_type": "display_data"
    },
    {
     "name": "stdout",
     "output_type": "stream",
     "text": [
      "32\n"
     ]
    },
    {
     "data": {
      "image/png": "[encoded data removed]",
      "text/plain": [
       "<Figure size 432x288 with 1 Axes>"
      ]
     },
     "metadata": {},
     "output_type": "display_data"
    },
    {
     "name": "stdout",
     "output_type": "stream",
     "text": [
      "48\n"
     ]
    },
    {
     "data": {
      "image/png": "[encoded data removed]",
      "text/plain": [
       "<Figure size 432x288 with 1 Axes>"
      ]
     },
     "metadata": {},
     "output_type": "display_data"
    },
    {
     "name": "stdout",
     "output_type": "stream",
     "text": [
      "56\n"
     ]
    },
    {
     "data": {
      "image/png": "[encoded data removed]",
      "text/plain": [
       "<Figure size 432x288 with 1 Axes>"
      ]
     },
     "metadata": {},
     "output_type": "display_data"
    }
   ],
   "source": [
    "thread_L2A_data = get_thread_level_metric_scaling(select_metric_from_scaling(metric_data, 'PAPI_L2_TCA'))\n",
    "thread_L2M_data = get_thread_level_metric_scaling(select_metric_from_scaling(metric_data, 'PAPI_L2_TCM'))\n",
    "\n",
    "\n",
    "L2_MR_data = {}\n",
    "for kt in thread_list:\n",
    "    L2_MR_data[kt] = thread_L2M_data[kt] / thread_L2A_data[kt]\n",
    "    \n",
    "for kt in thread_list:\n",
    "    print kt\n",
    "    data = list(L2_MR_data[kt])\n",
    "    matplotlib.pyplot.bar(range(len(data)), data)\n",
    "    matplotlib.pyplot.ylim(ymax=0.2)\n",
    "    matplotlib.pyplot.show()"
   ]
  },
  {
   "cell_type": "markdown",
   "metadata": {},
   "source": [
    "### L2 Top 10 bad miss rates"
   ]
  },
  {
   "cell_type": "code",
   "execution_count": 28,
   "metadata": {},
   "outputs": [
    {
     "name": "stdout",
     "output_type": "stream",
     "text": [
      "[1, 8, 16, 32, 48, 56]\n"
     ]
    }
   ],
   "source": [
    "L2_data = select_metric_from_scaling(metric_data, 'DERIVED_L2_MISSRATE')\n",
    "L2_MR_dict = {}\n",
    "for n_thr in thread_list:\n",
    "    L2_MR_dict[n_thr] = filter_libs_out(L2_data[n_thr]).sort_values(by='Inclusive',ascending=False)[[\"Inclusive\"]]\n",
    "print thread_list"
   ]
  },
  {
   "cell_type": "code",
   "execution_count": 29,
   "metadata": {},
   "outputs": [
    {
     "data": {
      "text/html": [
       "<div>\n",
       "<style scoped>\n",
       "    .dataframe tbody tr th:only-of-type {\n",
       "        vertical-align: middle;\n",
       "    }\n",
       "\n",
       "    .dataframe tbody tr th {\n",
       "        vertical-align: top;\n",
       "    }\n",
       "\n",
       "    .dataframe thead th {\n",
       "        text-align: right;\n",
       "    }\n",
       "</style>\n",
       "<table border=\"1\" class=\"dataframe\">\n",
       "  <thead>\n",
       "    <tr style=\"text-align: right;\">\n",
       "      <th></th>\n",
       "      <th></th>\n",
       "      <th>Inclusive</th>\n",
       "    </tr>\n",
       "    <tr>\n",
       "      <th>thread</th>\n",
       "      <th>region</th>\n",
       "      <th></th>\n",
       "    </tr>\n",
       "  </thead>\n",
       "  <tbody>\n",
       "    <tr>\n",
       "      <th rowspan=\"10\" valign=\"top\">0</th>\n",
       "      <th>[SUMMARY] .TAU application  =&gt; [CONTEXT] .TAU application  =&gt; [SAMPLE] Event::relabel_bad_seedtracks()</th>\n",
       "      <td>2.85e+00</td>\n",
       "    </tr>\n",
       "    <tr>\n",
       "      <th>[SUMMARY] Event::relabel_bad_seedtracks()</th>\n",
       "      <td>2.85e+00</td>\n",
       "    </tr>\n",
       "    <tr>\n",
       "      <th>[SUMMARY] .TAU application  =&gt; [CONTEXT] .TAU application  =&gt; [SAMPLE] Track::Status::Status()</th>\n",
       "      <td>2.66e+00</td>\n",
       "    </tr>\n",
       "    <tr>\n",
       "      <th>[SUMMARY] Track::Status::Status()</th>\n",
       "      <td>2.66e+00</td>\n",
       "    </tr>\n",
       "    <tr>\n",
       "      <th>[SUMMARY] __GI___libc_free</th>\n",
       "      <td>1.99e+00</td>\n",
       "    </tr>\n",
       "    <tr>\n",
       "      <th>[SUMMARY] .TAU application  =&gt; [CONTEXT] .TAU application  =&gt; [SAMPLE] __GI___libc_free</th>\n",
       "      <td>1.99e+00</td>\n",
       "    </tr>\n",
       "    <tr>\n",
       "      <th>[SUMMARY] _int_free</th>\n",
       "      <td>1.97e+00</td>\n",
       "    </tr>\n",
       "    <tr>\n",
       "      <th>[SUMMARY] .TAU application  =&gt; [CONTEXT] .TAU application  =&gt; [SAMPLE] _int_free</th>\n",
       "      <td>1.97e+00</td>\n",
       "    </tr>\n",
       "    <tr>\n",
       "      <th>[SUMMARY] .TAU application  =&gt; [CONTEXT] .TAU application  =&gt; [SAMPLE] Track::canReachRadius(float) const</th>\n",
       "      <td>1.95e+00</td>\n",
       "    </tr>\n",
       "    <tr>\n",
       "      <th>[SUMMARY] Track::canReachRadius(float) const</th>\n",
       "      <td>1.95e+00</td>\n",
       "    </tr>\n",
       "  </tbody>\n",
       "</table>\n",
       "</div>"
      ],
      "text/plain": [
       "                                                                               Inclusive\n",
       "thread region                                                                           \n",
       "0      [SUMMARY] .TAU application  => [CONTEXT] .TAU application  => [SAMP...   2.85e+00\n",
       "       [SUMMARY] Event::relabel_bad_seedtracks()                                2.85e+00\n",
       "       [SUMMARY] .TAU application  => [CONTEXT] .TAU application  => [SAMP...   2.66e+00\n",
       "       [SUMMARY] Track::Status::Status()                                        2.66e+00\n",
       "       [SUMMARY] __GI___libc_free                                               1.99e+00\n",
       "       [SUMMARY] .TAU application  => [CONTEXT] .TAU application  => [SAMP...   1.99e+00\n",
       "       [SUMMARY] _int_free                                                      1.97e+00\n",
       "       [SUMMARY] .TAU application  => [CONTEXT] .TAU application  => [SAMP...   1.97e+00\n",
       "       [SUMMARY] .TAU application  => [CONTEXT] .TAU application  => [SAMP...   1.95e+00\n",
       "       [SUMMARY] Track::canReachRadius(float) const                             1.95e+00"
      ]
     },
     "execution_count": 29,
     "metadata": {},
     "output_type": "execute_result"
    }
   ],
   "source": [
    "THREAD_COUNT = 16\n",
    "L2_MR_dict[THREAD_COUNT].head(10)"
   ]
  },
  {
   "cell_type": "markdown",
   "metadata": {},
   "source": [
    "### L3 Missrate vs thread count\n",
    "Similar to above these cells show the L3 missrates."
   ]
  },
  {
   "cell_type": "code",
   "execution_count": 13,
   "metadata": {},
   "outputs": [
    {
     "data": {
      "image/png": "[encoded data removed]",
      "text/plain": [
       "<Figure size 432x288 with 1 Axes>"
      ]
     },
     "metadata": {},
     "output_type": "display_data"
    }
   ],
   "source": [
    "if application == 'talapas_scaling':\n",
    "    thread_list, LLA_data = scaling_plot(metric_data, plot=False, metric='PAPI_L3_TCA')\n",
    "    thread_list, LLM_data = scaling_plot(metric_data, plot=False, metric='PAPI_L3_TCM')\n",
    "else:\n",
    "    thread_list, LLA_data = scaling_plot(metric_data, plot=False, metric='PAPI_NATIVE_LLC_REFERENCES')\n",
    "    thread_list, LLM_data = scaling_plot(metric_data, plot=False, metric='PAPI_NATIVE_LLC_MISSES')\n",
    "    \n",
    "LL_MR_list = [LLM_data[i] / LLA_data[i] for i in range(len(thread_list))]\n",
    "\n",
    "plt = matplotlib.pyplot.plot(thread_list, LL_MR_list)"
   ]
  },
  {
   "cell_type": "code",
   "execution_count": 14,
   "metadata": {},
   "outputs": [
    {
     "name": "stdout",
     "output_type": "stream",
     "text": [
      "1\n"
     ]
    },
    {
     "data": {
      "image/png": "[encoded data removed]",
      "text/plain": [
       "<Figure size 432x288 with 1 Axes>"
      ]
     },
     "metadata": {},
     "output_type": "display_data"
    },
    {
     "name": "stdout",
     "output_type": "stream",
     "text": [
      "8\n"
     ]
    },
    {
     "data": {
      "image/png": "[encoded data removed]",
      "text/plain": [
       "<Figure size 432x288 with 1 Axes>"
      ]
     },
     "metadata": {},
     "output_type": "display_data"
    },
    {
     "name": "stdout",
     "output_type": "stream",
     "text": [
      "16\n"
     ]
    },
    {
     "data": {
      "image/png": "[encoded data removed]",
      "text/plain": [
       "<Figure size 432x288 with 1 Axes>"
      ]
     },
     "metadata": {},
     "output_type": "display_data"
    },
    {
     "name": "stdout",
     "output_type": "stream",
     "text": [
      "32\n"
     ]
    },
    {
     "data": {
      "image/png": "[encoded data removed]",
      "text/plain": [
       "<Figure size 432x288 with 1 Axes>"
      ]
     },
     "metadata": {},
     "output_type": "display_data"
    },
    {
     "name": "stdout",
     "output_type": "stream",
     "text": [
      "48\n"
     ]
    },
    {
     "data": {
      "image/png": "[encoded data removed]",
      "text/plain": [
       "<Figure size 432x288 with 1 Axes>"
      ]
     },
     "metadata": {},
     "output_type": "display_data"
    },
    {
     "name": "stdout",
     "output_type": "stream",
     "text": [
      "56\n"
     ]
    },
    {
     "data": {
      "image/png": "[encoded data removed]",
      "text/plain": [
       "<Figure size 432x288 with 1 Axes>"
      ]
     },
     "metadata": {},
     "output_type": "display_data"
    }
   ],
   "source": [
    "if application == 'talapas_scaling':\n",
    "    thread_LLA_data = get_thread_level_metric_scaling(metric_data, metric='PAPI_L3_TCA')\n",
    "    thread_LLM_data = get_thread_level_metric_scaling(metric_data, metric='PAPI_L3_TCM')\n",
    "else:\n",
    "    thread_LLA_data = get_thread_level_metric_scaling(metric_data, metric='PAPI_NATIVE_LLC_REFERENCES')\n",
    "    thread_LLM_data = get_thread_level_metric_scaling(metric_data, metric='PAPI_NATIVE_LLC_MISSES')\n",
    "\n",
    "\n",
    "LL_MR_data = {}\n",
    "for kt in thread_list:\n",
    "    LL_MR_data[kt] = thread_LLM_data[kt] / thread_LLA_data[kt]\n",
    "    \n",
    "for kt in thread_list:\n",
    "    print kt\n",
    "    data = list(LL_MR_data[kt])\n",
    "    matplotlib.pyplot.bar(range(len(data)), data)\n",
    "    matplotlib.pyplot.ylim(ymax=0.2)\n",
    "    matplotlib.pyplot.show()"
   ]
  },
  {
   "cell_type": "markdown",
   "metadata": {},
   "source": [
    "### L1 Top 10 bad miss rates"
   ]
  },
  {
   "cell_type": "code",
   "execution_count": 30,
   "metadata": {},
   "outputs": [
    {
     "name": "stdout",
     "output_type": "stream",
     "text": [
      "[1, 8, 16, 32, 48, 56]\n"
     ]
    }
   ],
   "source": [
    "L3_data = select_metric_from_scaling(metric_data, 'DERIVED_L3_MISSRATE')\n",
    "L3_MR_dict = {}\n",
    "for n_thr in thread_list:\n",
    "    L3_MR_dict[n_thr] = filter_libs_out(L3_data[n_thr]).sort_values(by='Inclusive',ascending=False)[[\"Inclusive\"]]\n",
    "print thread_list"
   ]
  },
  {
   "cell_type": "code",
   "execution_count": 32,
   "metadata": {},
   "outputs": [
    {
     "data": {
      "text/html": [
       "<div>\n",
       "<style scoped>\n",
       "    .dataframe tbody tr th:only-of-type {\n",
       "        vertical-align: middle;\n",
       "    }\n",
       "\n",
       "    .dataframe tbody tr th {\n",
       "        vertical-align: top;\n",
       "    }\n",
       "\n",
       "    .dataframe thead th {\n",
       "        text-align: right;\n",
       "    }\n",
       "</style>\n",
       "<table border=\"1\" class=\"dataframe\">\n",
       "  <thead>\n",
       "    <tr style=\"text-align: right;\">\n",
       "      <th></th>\n",
       "      <th></th>\n",
       "      <th>Inclusive</th>\n",
       "    </tr>\n",
       "    <tr>\n",
       "      <th>thread</th>\n",
       "      <th>region</th>\n",
       "      <th></th>\n",
       "    </tr>\n",
       "  </thead>\n",
       "  <tbody>\n",
       "    <tr>\n",
       "      <th rowspan=\"2\" valign=\"top\">16</th>\n",
       "      <th>[SUMMARY] (anonymous namespace)::SubtractFirst2(Matriplex::Matriplex&lt;float, 3, 1, 8&gt; const&amp;, Matriplex::Matriplex&lt;float, 6, 1, 8&gt; const&amp;, Matriplex::Matriplex&lt;float, 2, 1, 8&gt;&amp;)</th>\n",
       "      <td>1.10e+00</td>\n",
       "    </tr>\n",
       "    <tr>\n",
       "      <th>[SUMMARY] .TAU application  =&gt; [CONTEXT] .TAU application  =&gt; [SAMPLE] (anonymous namespace)::SubtractFirst2(Matriplex::Matriplex&lt;float, 3, 1, 8&gt; const&amp;, Matriplex::Matriplex&lt;float, 6, 1, 8&gt; const&amp;, Matriplex::Matriplex&lt;float, 2, 1, 8&gt;&amp;)</th>\n",
       "      <td>1.10e+00</td>\n",
       "    </tr>\n",
       "    <tr>\n",
       "      <th rowspan=\"2\" valign=\"top\">19</th>\n",
       "      <th>[SUMMARY] __svml_logf8_mask_e9</th>\n",
       "      <td>1.04e+00</td>\n",
       "    </tr>\n",
       "    <tr>\n",
       "      <th>[SUMMARY] .TAU application  =&gt; [CONTEXT] .TAU application  =&gt; [SAMPLE] __svml_logf8_mask_e9</th>\n",
       "      <td>1.04e+00</td>\n",
       "    </tr>\n",
       "    <tr>\n",
       "      <th rowspan=\"2\" valign=\"top\">28</th>\n",
       "      <th>[SUMMARY] atan2f</th>\n",
       "      <td>9.42e-01</td>\n",
       "    </tr>\n",
       "    <tr>\n",
       "      <th>[SUMMARY] .TAU application  =&gt; [CONTEXT] .TAU application  =&gt; [SAMPLE] atan2f</th>\n",
       "      <td>9.42e-01</td>\n",
       "    </tr>\n",
       "    <tr>\n",
       "      <th rowspan=\"2\" valign=\"top\">22</th>\n",
       "      <th>[SUMMARY] .TAU application  =&gt; [CONTEXT] .TAU application  =&gt; [SAMPLE] (anonymous namespace)::AddIntoUpperLeft2x2(Matriplex::MatriplexSym&lt;float, 6, 8&gt; const&amp;, Matriplex::MatriplexSym&lt;float, 3, 8&gt; const&amp;, Matriplex::MatriplexSym&lt;float, 2, 8&gt;&amp;)</th>\n",
       "      <td>9.15e-01</td>\n",
       "    </tr>\n",
       "    <tr>\n",
       "      <th>[SUMMARY] (anonymous namespace)::AddIntoUpperLeft2x2(Matriplex::MatriplexSym&lt;float, 6, 8&gt; const&amp;, Matriplex::MatriplexSym&lt;float, 3, 8&gt; const&amp;, Matriplex::MatriplexSym&lt;float, 2, 8&gt;&amp;)</th>\n",
       "      <td>9.15e-01</td>\n",
       "    </tr>\n",
       "    <tr>\n",
       "      <th rowspan=\"2\" valign=\"top\">0</th>\n",
       "      <th>[SUMMARY] .TAU application  =&gt; [CONTEXT] .TAU application  =&gt; [SAMPLE] TrackState::pz() const</th>\n",
       "      <td>8.59e-01</td>\n",
       "    </tr>\n",
       "    <tr>\n",
       "      <th>[SUMMARY] TrackState::pz() const</th>\n",
       "      <td>8.59e-01</td>\n",
       "    </tr>\n",
       "  </tbody>\n",
       "</table>\n",
       "</div>"
      ],
      "text/plain": [
       "                                                                               Inclusive\n",
       "thread region                                                                           \n",
       "16     [SUMMARY] (anonymous namespace)::SubtractFirst2(Matriplex::Matriple...   1.10e+00\n",
       "       [SUMMARY] .TAU application  => [CONTEXT] .TAU application  => [SAMP...   1.10e+00\n",
       "19     [SUMMARY] __svml_logf8_mask_e9                                           1.04e+00\n",
       "       [SUMMARY] .TAU application  => [CONTEXT] .TAU application  => [SAMP...   1.04e+00\n",
       "28     [SUMMARY] atan2f                                                         9.42e-01\n",
       "       [SUMMARY] .TAU application  => [CONTEXT] .TAU application  => [SAMP...   9.42e-01\n",
       "22     [SUMMARY] .TAU application  => [CONTEXT] .TAU application  => [SAMP...   9.15e-01\n",
       "       [SUMMARY] (anonymous namespace)::AddIntoUpperLeft2x2(Matriplex::Mat...   9.15e-01\n",
       "0      [SUMMARY] .TAU application  => [CONTEXT] .TAU application  => [SAMP...   8.59e-01\n",
       "       [SUMMARY] TrackState::pz() const                                         8.59e-01"
      ]
     },
     "execution_count": 32,
     "metadata": {},
     "output_type": "execute_result"
    }
   ],
   "source": [
    "THREAD_COUNT = 32\n",
    "L3_MR_dict[THREAD_COUNT].head(10)"
   ]
  },
  {
   "cell_type": "markdown",
   "metadata": {},
   "source": [
    "###  Resource Stalls vs thread count\n",
    "Similar to above these cells show the Resource Stalls. In this case we have nothing to compute, so we simply call the function. Future work includes exploring the different types of stalls."
   ]
  },
  {
   "cell_type": "code",
   "execution_count": 15,
   "metadata": {},
   "outputs": [
    {
     "data": {
      "image/png": "[encoded data removed]",
      "text/plain": [
       "<Figure size 432x288 with 1 Axes>"
      ]
     },
     "metadata": {},
     "output_type": "display_data"
    }
   ],
   "source": [
    "thread_list, res_stall_data = scaling_plot(metric_data, metric='PAPI_RES_STL')"
   ]
  },
  {
   "cell_type": "code",
   "execution_count": 16,
   "metadata": {},
   "outputs": [
    {
     "name": "stdout",
     "output_type": "stream",
     "text": [
      "1\n"
     ]
    },
    {
     "data": {
      "image/png": "[encoded data removed]",
      "text/plain": [
       "<Figure size 432x288 with 1 Axes>"
      ]
     },
     "metadata": {},
     "output_type": "display_data"
    },
    {
     "name": "stdout",
     "output_type": "stream",
     "text": [
      "8\n"
     ]
    },
    {
     "data": {
      "image/png": "[encoded data removed]",
      "text/plain": [
       "<Figure size 432x288 with 1 Axes>"
      ]
     },
     "metadata": {},
     "output_type": "display_data"
    },
    {
     "name": "stdout",
     "output_type": "stream",
     "text": [
      "16\n"
     ]
    },
    {
     "data": {
      "image/png": "[encoded data removed]",
      "text/plain": [
       "<Figure size 432x288 with 1 Axes>"
      ]
     },
     "metadata": {},
     "output_type": "display_data"
    },
    {
     "name": "stdout",
     "output_type": "stream",
     "text": [
      "32\n"
     ]
    },
    {
     "data": {
      "image/png": "[encoded data removed]",
      "text/plain": [
       "<Figure size 432x288 with 1 Axes>"
      ]
     },
     "metadata": {},
     "output_type": "display_data"
    },
    {
     "name": "stdout",
     "output_type": "stream",
     "text": [
      "48\n"
     ]
    },
    {
     "data": {
      "image/png": "[encoded data removed]",
      "text/plain": [
       "<Figure size 432x288 with 1 Axes>"
      ]
     },
     "metadata": {},
     "output_type": "display_data"
    },
    {
     "name": "stdout",
     "output_type": "stream",
     "text": [
      "56\n"
     ]
    },
    {
     "data": {
      "image/png": "[encoded data removed]",
      "text/plain": [
       "<Figure size 432x288 with 1 Axes>"
      ]
     },
     "metadata": {},
     "output_type": "display_data"
    }
   ],
   "source": [
    "thread_stall_data = get_thread_level_metric_scaling(metric_data, metric='PAPI_RES_STL')\n",
    "    \n",
    "for kt in thread_list:\n",
    "    print kt\n",
    "    data = list(thread_stall_data[kt])\n",
    "    matplotlib.pyplot.bar(range(len(data)), data)\n",
    "    matplotlib.pyplot.ylim(ymax=6000000000)\n",
    "    matplotlib.pyplot.show()"
   ]
  },
  {
   "cell_type": "code",
   "execution_count": null,
   "metadata": {},
   "outputs": [],
   "source": []
  },
  {
   "cell_type": "code",
   "execution_count": null,
   "metadata": {},
   "outputs": [],
   "source": []
  }
 ],
 "metadata": {
  "kernelspec": {
   "display_name": "Python 2",
   "language": "python",
   "name": "python2"
  },
  "language_info": {
   "codemirror_mode": {
    "name": "ipython",
    "version": 2
   },
   "file_extension": ".py",
   "mimetype": "text/x-python",
   "name": "python",
   "nbconvert_exporter": "python",
   "pygments_lexer": "ipython2",
   "version": "2.7.14"
  }
 },
 "nbformat": 4,
 "nbformat_minor": 2
}
