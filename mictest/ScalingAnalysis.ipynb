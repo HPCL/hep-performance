{
 "cells": [
  {
   "cell_type": "markdown",
   "metadata": {},
   "source": [
    "# Hotspot Calculations for HEP\n",
    "\n",
    "Author: Brain Gravelle (gravelle@cs.uoregon.edu)\n",
    "\n",
    "\n",
    "All this is using the taucmdr python libraries from paratools\n",
    "http://taucommander.paratools.com/\n"
   ]
  },
  {
   "cell_type": "markdown",
   "metadata": {},
   "source": [
    "## Imports"
   ]
  },
  {
   "cell_type": "code",
   "execution_count": 1,
   "metadata": {},
   "outputs": [
    {
     "data": {
      "text/html": [
       "<style>.container { width:100% !important; }</style>"
      ],
      "text/plain": [
       "<IPython.core.display.HTML object>"
      ]
     },
     "metadata": {},
     "output_type": "display_data"
    }
   ],
   "source": [
    "# A couple of scripts to set the environent and import data from a .tau set of results\n",
    "from utilities import *\n",
    "from metrics import *\n",
    "# Plotting, notebook settings:\n",
    "%matplotlib inline  \n",
    "#plt.rcParams.update({'font.size': 16})\n",
    "import numbers\n",
    "from IPython.core.display import display, HTML\n",
    "display(HTML(\"<style>.container { width:100% !important; }</style>\"))\n",
    "pd.set_option('display.float_format', lambda x: '%.2e' % x)\n",
    "pd.set_option('display.max_columns',100)\n",
    "pd.set_option('max_colwidth', 70)"
   ]
  },
  {
   "cell_type": "markdown",
   "metadata": {},
   "source": [
    "## Getting Data\n",
    "\n",
    "TAU Commander uses TAU to run the application and measure it using runtime sampling techniques (similar to Intel VTune). Many customization options are available. For example, we may consider each function regardless of calling context, or we may decide to enable callpath profiling to see each context separately.\n",
    "\n",
    "From the talapas_scaling application the following experiments are available. These use Talapas (with 28 thread Broadwell processors) and the build-ce (realistic) option for mkFit\n",
    "* manual_scaling_Large_talapas\t\t\n",
    "* manual_scaling_Large_talapas_fullnode\t\n",
    "* manual_scaling_TTbar70_talapas\t\t\n",
    "* manual_scaling_TTbar70_talapas_fullnode\n",
    "* manual_scaling_TTbar35_talapas\n",
    "* manual_scaling_TTbar35_talapas_fullnode\n"
   ]
  },
  {
   "cell_type": "markdown",
   "metadata": {},
   "source": [
    "### Importing Scaling Data"
   ]
  },
  {
   "cell_type": "code",
   "execution_count": 2,
   "metadata": {},
   "outputs": [
    {
     "name": "stdout",
     "output_type": "stream",
     "text": [
      "Possible missing metric: \n",
      "nthread = 32 \n",
      "metric = PAPI_NATIVE_UOPS_RETIRED:PACKED_SIMD\n"
     ]
    }
   ],
   "source": [
    "# application = \"talapas_scaling\"\n",
    "# experiment  = \"manual_scaling_TTbar70_talapas\"\n",
    "\n",
    "application = \"cori_scaling\"\n",
    "experiment  = \"manual_scaling_TTbar35\"\n",
    "\n",
    "path = \".tau/\" + application + \"/\" + experiment + \"/\"\n",
    "# note that this function takes a long time to run, so only rerun if you must\n",
    "metric_data = get_pandas_scaling(path)\n",
    "# metric_data = remove_erroneous_threads(metric_data,  [1, 8, 16, 32, 48, 56])\n",
    "metric_data = remove_erroneous_threads(metric_data,  [1, 8, 16, 32, 64, 128, 256])"
   ]
  },
  {
   "cell_type": "code",
   "execution_count": 3,
   "metadata": {},
   "outputs": [
    {
     "name": "stdout",
     "output_type": "stream",
     "text": [
      "[64, 32, 1, 8, 128, 256, 16]\n",
      "PAPI_BR_INS\n",
      "PAPI_NATIVE_UOPS_RETIRED:SCALAR_SIMD\n",
      "PAPI_L2_TCA\n",
      "PAPI_NATIVE_LLC_MISSES\n",
      "PAPI_TLB_DM\n",
      "PAPI_NATIVE_LLC_REFERENCES\n",
      "PAPI_RES_STL\n",
      "PAPI_L2_TCM\n",
      "PAPI_TOT_INS\n",
      "PAPI_NATIVE_UOPS_RETIRED:PACKED_SIMD\n",
      "PAPI_LST_INS\n",
      "PAPI_BR_CN\n",
      "PAPI_BR_UCN\n",
      "PAPI_L1_TCM\n",
      "PAPI_BR_MSP\n",
      "PAPI_TOT_CYC\n",
      "Index([u'Calls', u'Exclusive', u'Inclusive', u'ProfileCalls', u'Subcalls'], dtype='object')\n",
      "\n",
      "[u'context', u'thread', u'region']\n",
      "\n",
      "TAU_MAX_THREADS                                    300\n",
      "TAU_CUDA_BINARY_EXE                                None\n",
      "TAU_MEASURE_TAU                                    off\n",
      "Memory Size                                        98876884 kB\n",
      "TAU_TRACK_SIGNALS                                  off\n",
      "TAU_TRACK_IO_PARAMS                                off\n",
      "CPU MHz                                            1401.000\n",
      "Local Time                                         2018-04-15T17:59:21-07:00\n",
      "CPU Type                                           Intel(R) Xeon Phi(TM) CPU 7250 @ 1.40GHz\n",
      "TAU_OUTPUT_CUDA_CSV                                off\n",
      "TAU_EBS_INCLUSIVE                                  0 usec\n",
      "Node Name                                          nid05481\n",
      "TAU_CALLPATH_DEPTH                                 100\n",
      "CPU Cores                                          68\n",
      "OS Machine                                         x86_64\n",
      "TAU_SAMPLING                                       on\n",
      "Cache Size                                         1024 KB\n",
      "TAU_PAPI_MULTIPLEXING                              off\n",
      "TAU_EBS_KEEP_UNRESOLVED_ADDR                       off\n",
      "TAU_THROTTLE                                       on\n",
      "TAU Architecture                                   default\n",
      "TAU_COMPENSATE                                     off\n",
      "TAU_CALLSITE_DEPTH                                 1\n",
      "TAU_SHOW_MEMORY_FUNCTIONS                          off\n",
      "OS Version                                         #1 SMP Mon Mar 12 16:50:27 UTC 2018 (3.0.103)\n",
      "Starting Timestamp                                 1523840361177749\n",
      "TAU_SIGNALS_GDB                                    off\n",
      "TAU Version                                        2.26.1-git\n",
      "TAU_TRACK_MEMORY_LEAKS                             off\n",
      "TAU_MEMDBG_PROTECT_FREE                            off\n",
      "TAU Config                                          -bfd=download -papi=/opt/cray/pe/papi/5.5.1.3/ -c++=icpc -cc=icc -fortran=intel -tbb -unwind=download -useropt=-DTAU_MAX_THREADS=300\n",
      "TAU_EBS_SAMPLES_DROPPED_TAU_3                      0\n",
      "TAU_EBS_SAMPLES_DROPPED_TAU_2                      0\n",
      "TAU_EBS_SAMPLES_DROPPED_TAU_1                      0\n",
      "TAU_EBS_SAMPLES_DROPPED_TAU_0                      0\n",
      "TAU_EBS_SAMPLES_DROPPED_TAU_7                      0\n",
      "TAU_EBS_SAMPLES_DROPPED_TAU_6                      0\n",
      "TAU_EBS_SAMPLES_DROPPED_TAU_5                      0\n",
      "TAU_EBS_SAMPLES_DROPPED_TAU_4                      0\n",
      "TAU_OPENMP_RUNTIME_EVENTS                          on\n",
      "TAU_BFD_LOOKUP                                     on\n",
      "TAU_MEMDBG_PROTECT_BELOW                           off\n",
      "TAU_THROTTLE_NUMCALLS                              100000\n",
      "TAU_EBS_PERIOD                                     10000\n",
      "OS Name                                            Linux\n",
      "Hostname                                           nid05481\n",
      "Metric Name                                        TIME\n",
      "Timestamp                                          1523840361438478\n",
      "TAU_TRACK_CUDA_SASS                                off\n",
      "TAU_TRACK_UNIFIED_MEMORY                           off\n",
      "username                                           gravelle\n",
      "TAU_OPENMP_RUNTIME                                 on\n",
      "TAU_TRACE_FORMAT                                   tau\n",
      "TAU_OPENMP_RUNTIME_STATES                          off\n",
      "pid                                                204561\n",
      "TAU_MEMDBG_PROTECT_ABOVE                           off\n",
      "Ending Timestamp                                   1523840373788118\n",
      "TAU_PROFILE_FORMAT                                 profile\n",
      "Executable                                         /global/u2/g/gravelle/mictest_sampling/mkFit/mkFit\n",
      "TAU_TRACK_CUDA_INSTRUCTIONS                        None\n",
      "TAU Makefile                                       /global/homes/g/gravelle/tau2/x86_64/lib/Makefile.tau-icpc-papi-tbb\n",
      "TAU_TRACK_HEADROOM                                 off\n",
      "CPU Vendor                                         GenuineIntel\n",
      "TAU_PROFILE                                        on\n",
      "TAU_TRACK_CUDA_CDP                                 off\n",
      "Command Line                                       mkFit --cmssw-n2seeds --input-file /global/homes/g/gravelle/mictest_sampling/TTbar35PU-memoryFile.fv3.clean.writeAll.recT.072617.bin --build-ce --num-thr 8 --num-events 100 --silent\n",
      "TAU_TRACK_HEAP                                     off\n",
      "TAU_CALLPATH                                       on\n",
      "tid                                                204561\n",
      "TAU_TRACE                                          off\n",
      "TAU_THROTTLE_PERCALL                               10\n",
      "TAU_EBS_SAMPLES_DROPPED_SUSPENDED_0                0\n",
      "TAU_EBS_SAMPLES_DROPPED_SUSPENDED_1                0\n",
      "TAU_EBS_SAMPLES_DROPPED_SUSPENDED_2                0\n",
      "TAU_EBS_SAMPLES_DROPPED_SUSPENDED_3                0\n",
      "TAU_EBS_SAMPLES_DROPPED_SUSPENDED_4                0\n",
      "TAU_EBS_SAMPLES_DROPPED_SUSPENDED_5                0\n",
      "TAU_EBS_SAMPLES_DROPPED_SUSPENDED_6                0\n",
      "TAU_EBS_SAMPLES_DROPPED_SUSPENDED_7                0\n",
      "TAU_IBM_BG_HWP_COUNTERS                            off\n",
      "UTC Time                                           2018-04-16T00:59:21Z\n",
      "CWD                                                /global/u2/g/gravelle/mictest_sampling/.tau/cori_scaling/manual_scaling_TTbar35/2_92\n",
      "TAU_TRACK_MEMORY_FOOTPRINT                         off\n",
      "TAU_EBS_UNWIND                                     off\n",
      "TAU_CUPTI_API                                      runtime\n",
      "OS Release                                         4.4.49-92.11.1_3.0-cray_ari_c\n",
      "TAU_EBS_SAMPLES_TAKEN_1                            1220\n",
      "TAU_EBS_SAMPLES_TAKEN_0                            1220\n",
      "TAU_EBS_SAMPLES_TAKEN_3                            1220\n",
      "TAU_EBS_SAMPLES_TAKEN_2                            1220\n",
      "TAU_EBS_SAMPLES_TAKEN_5                            1220\n",
      "TAU_EBS_SAMPLES_TAKEN_4                            1220\n",
      "TAU_EBS_SAMPLES_TAKEN_7                            1220\n",
      "TAU_EBS_SAMPLES_TAKEN_6                            1220\n"
     ]
    },
    {
     "data": {
      "text/html": [
       "<div>\n",
       "<style scoped>\n",
       "    .dataframe tbody tr th:only-of-type {\n",
       "        vertical-align: middle;\n",
       "    }\n",
       "\n",
       "    .dataframe tbody tr th {\n",
       "        vertical-align: top;\n",
       "    }\n",
       "\n",
       "    .dataframe thead th {\n",
       "        text-align: right;\n",
       "    }\n",
       "</style>\n",
       "<table border=\"1\" class=\"dataframe\">\n",
       "  <thead>\n",
       "    <tr style=\"text-align: right;\">\n",
       "      <th></th>\n",
       "      <th></th>\n",
       "      <th></th>\n",
       "      <th>Inclusive</th>\n",
       "    </tr>\n",
       "    <tr>\n",
       "      <th>context</th>\n",
       "      <th>thread</th>\n",
       "      <th>region</th>\n",
       "      <th></th>\n",
       "    </tr>\n",
       "  </thead>\n",
       "  <tbody>\n",
       "    <tr>\n",
       "      <th rowspan=\"10\" valign=\"top\">0</th>\n",
       "      <th>1</th>\n",
       "      <th>[SUMMARY] syscall</th>\n",
       "      <td>7.55e+08</td>\n",
       "    </tr>\n",
       "    <tr>\n",
       "      <th>3</th>\n",
       "      <th>[SUMMARY] syscall</th>\n",
       "      <td>7.34e+08</td>\n",
       "    </tr>\n",
       "    <tr>\n",
       "      <th>0</th>\n",
       "      <th>[SUMMARY] Event::clean_cms_seedtracks()</th>\n",
       "      <td>7.17e+08</td>\n",
       "    </tr>\n",
       "    <tr>\n",
       "      <th>4</th>\n",
       "      <th>[SUMMARY] syscall</th>\n",
       "      <td>7.17e+08</td>\n",
       "    </tr>\n",
       "    <tr>\n",
       "      <th>6</th>\n",
       "      <th>[SUMMARY] syscall</th>\n",
       "      <td>6.97e+08</td>\n",
       "    </tr>\n",
       "    <tr>\n",
       "      <th>2</th>\n",
       "      <th>[SUMMARY] syscall</th>\n",
       "      <td>6.88e+08</td>\n",
       "    </tr>\n",
       "    <tr>\n",
       "      <th>5</th>\n",
       "      <th>[SUMMARY] syscall</th>\n",
       "      <td>6.70e+08</td>\n",
       "    </tr>\n",
       "    <tr>\n",
       "      <th>7</th>\n",
       "      <th>[SUMMARY] syscall</th>\n",
       "      <td>6.36e+08</td>\n",
       "    </tr>\n",
       "    <tr>\n",
       "      <th rowspan=\"2\" valign=\"top\">0</th>\n",
       "      <th>[SUMMARY] std::__detail::_Mod_range_hashing::operator()(unsigned long, unsigned long) const</th>\n",
       "      <td>5.85e+08</td>\n",
       "    </tr>\n",
       "    <tr>\n",
       "      <th>[SUMMARY] __read_nocancel</th>\n",
       "      <td>4.72e+08</td>\n",
       "    </tr>\n",
       "  </tbody>\n",
       "</table>\n",
       "</div>"
      ],
      "text/plain": [
       "                                                                                       Inclusive\n",
       "context thread region                                                                           \n",
       "0       1      [SUMMARY] syscall                                                        7.55e+08\n",
       "        3      [SUMMARY] syscall                                                        7.34e+08\n",
       "        0      [SUMMARY] Event::clean_cms_seedtracks()                                  7.17e+08\n",
       "        4      [SUMMARY] syscall                                                        7.17e+08\n",
       "        6      [SUMMARY] syscall                                                        6.97e+08\n",
       "        2      [SUMMARY] syscall                                                        6.88e+08\n",
       "        5      [SUMMARY] syscall                                                        6.70e+08\n",
       "        7      [SUMMARY] syscall                                                        6.36e+08\n",
       "        0      [SUMMARY] std::__detail::_Mod_range_hashing::operator()(unsigned lo...   5.85e+08\n",
       "               [SUMMARY] __read_nocancel                                                4.72e+08"
      ]
     },
     "execution_count": 3,
     "metadata": {},
     "output_type": "execute_result"
    }
   ],
   "source": [
    "print(metric_data.keys())\n",
    "print_available_metrics(metric_data,True)\n",
    "select_metric_from_scaling(metric_data, 'PAPI_L2_TCA')\n",
    "\n",
    "# level_inds = {'trial': 0, 'rank': 1, 'context': 2, 'thread': 3, 'region': 4}\n",
    "print(metric_data[8]['PAPI_TOT_INS'].columns)\n",
    "print(\"\")\n",
    "print(metric_data[8]['PAPI_TOT_INS'].index.names)\n",
    "print(\"\")\n",
    "print_metadata(metric_data[8])\n",
    "\n",
    "metric_data[8]['PAPI_TOT_INS'].sort_values(by='Inclusive',ascending=False)[[\"Inclusive\"]].head(10)"
   ]
  },
  {
   "cell_type": "code",
   "execution_count": 4,
   "metadata": {},
   "outputs": [],
   "source": [
    "# Use this section to verify the scaling functions\n",
    "# reads one exampple of the 8 thread PAPI_TOT_INS to show that the numbers are closeto above\n",
    "\n",
    "# application = \"test\"\n",
    "# experiment  = \"test\"\n",
    "\n",
    "# path = \".tau/\" + application + \"/\" + experiment + \"/\"\n",
    "# t = get_pandas(path)\n",
    "\n",
    "\n",
    "# # level_inds = {'trial': 0, 'rank': 1, 'context': 2, 'thread': 3, 'region': 4}\n",
    "# print(t['PAPI_TOT_INS'].columns)\n",
    "# print(\"\")\n",
    "# print(t['PAPI_TOT_INS'].index.names)\n",
    "# print(\"\")\n",
    "# print_metadata(t)\n",
    "\n",
    "# t['PAPI_TOT_INS'].sort_values(by='Inclusive',ascending=False)[[\"Inclusive\"]].head(10)"
   ]
  },
  {
   "cell_type": "markdown",
   "metadata": {},
   "source": [
    "## Adding metrics\n",
    "\n",
    "metrics are available in metrics.py. At this time the following can be added:\n",
    "* add_IPC(metrics)          - Instructions per Cycle\n",
    "* add_CPI(metrics)          - Cycles per instruction\n",
    "* add_VIPC(metrics)         - vector instructions per cycle\n",
    "* add_VIPI(metrics)         - vector instructions per instruction (i.e. fraction of total)\n",
    "* add_L1_missrate(metrics)  - miss rate for L1 cache\n",
    "\n",
    "for scaling data please use the add_metric_to_scaling_data(data, metric_func) function to add a metric"
   ]
  },
  {
   "cell_type": "code",
   "execution_count": 5,
   "metadata": {},
   "outputs": [
    {
     "name": "stdout",
     "output_type": "stream",
     "text": [
      "ERROR adding L3 MR to metric dictionary\n",
      "ERROR adding L3 MR to metric dictionary\n",
      "ERROR adding L3 MR to metric dictionary\n",
      "ERROR adding L3 MR to metric dictionary\n",
      "ERROR adding L3 MR to metric dictionary\n",
      "ERROR adding L3 MR to metric dictionary\n",
      "ERROR adding L3 MR to metric dictionary\n",
      "ERROR adding metric to thread count: 64\n",
      "ERROR adding metric to thread count: 32\n",
      "ERROR adding metric to thread count: 1\n",
      "ERROR adding metric to thread count: 8\n",
      "ERROR adding metric to thread count: 128\n",
      "ERROR adding metric to thread count: 256\n",
      "ERROR adding metric to thread count: 16\n",
      "PAPI_BR_INS\n",
      "PAPI_NATIVE_UOPS_RETIRED:SCALAR_SIMD\n",
      "PAPI_L2_TCA\n",
      "PAPI_NATIVE_LLC_MISSES\n",
      "PAPI_TLB_DM\n",
      "PAPI_NATIVE_LLC_REFERENCES\n",
      "DERIVED_L1_MISSRATE\n",
      "PAPI_RES_STL\n",
      "DERIVED_L2_MISSRATE\n",
      "PAPI_L2_TCM\n",
      "PAPI_TOT_INS\n",
      "PAPI_NATIVE_UOPS_RETIRED:PACKED_SIMD\n",
      "DERIVED_CPI\n",
      "PAPI_LST_INS\n",
      "PAPI_BR_CN\n",
      "PAPI_BR_UCN\n",
      "PAPI_L1_TCM\n",
      "PAPI_BR_MSP\n",
      "PAPI_TOT_CYC\n"
     ]
    },
    {
     "data": {
      "text/html": [
       "<div>\n",
       "<style scoped>\n",
       "    .dataframe tbody tr th:only-of-type {\n",
       "        vertical-align: middle;\n",
       "    }\n",
       "\n",
       "    .dataframe tbody tr th {\n",
       "        vertical-align: top;\n",
       "    }\n",
       "\n",
       "    .dataframe thead th {\n",
       "        text-align: right;\n",
       "    }\n",
       "</style>\n",
       "<table border=\"1\" class=\"dataframe\">\n",
       "  <thead>\n",
       "    <tr style=\"text-align: right;\">\n",
       "      <th></th>\n",
       "      <th></th>\n",
       "      <th>Calls</th>\n",
       "      <th>Exclusive</th>\n",
       "      <th>Inclusive</th>\n",
       "      <th>ProfileCalls</th>\n",
       "      <th>Subcalls</th>\n",
       "    </tr>\n",
       "    <tr>\n",
       "      <th>thread</th>\n",
       "      <th>region</th>\n",
       "      <th></th>\n",
       "      <th></th>\n",
       "      <th></th>\n",
       "      <th></th>\n",
       "      <th></th>\n",
       "    </tr>\n",
       "  </thead>\n",
       "  <tbody>\n",
       "    <tr>\n",
       "      <th rowspan=\"10\" valign=\"top\">0</th>\n",
       "      <th>[SUMMARY] (anonymous namespace)::AddIntoUpperLeft2x2(Matriplex::MatriplexSym&lt;float, 6, 8&gt; const&amp;, Matriplex::MatriplexSym&lt;float, 3, 8&gt; const&amp;, Matriplex::MatriplexSym&lt;float, 2, 8&gt;&amp;)</th>\n",
       "      <td>1.55e+00</td>\n",
       "      <td>5.83e-01</td>\n",
       "      <td>5.83e-01</td>\n",
       "      <td>nan</td>\n",
       "      <td>nan</td>\n",
       "    </tr>\n",
       "    <tr>\n",
       "      <th>[SUMMARY] (anonymous namespace)::Chi2Similarity(Matriplex::Matriplex&lt;float, 2, 1, 8&gt; const&amp;, Matriplex::MatriplexSym&lt;float, 2, 8&gt; const&amp;, Matriplex::Matriplex&lt;float, 1, 1, 8&gt;&amp;)</th>\n",
       "      <td>9.75e-01</td>\n",
       "      <td>4.15e-01</td>\n",
       "      <td>4.15e-01</td>\n",
       "      <td>nan</td>\n",
       "      <td>nan</td>\n",
       "    </tr>\n",
       "    <tr>\n",
       "      <th>[SUMMARY] (anonymous namespace)::MultHelixProp(Matriplex::Matriplex&lt;float, 6, 6, 8&gt; const&amp;, Matriplex::MatriplexSym&lt;float, 6, 8&gt; const&amp;, Matriplex::Matriplex&lt;float, 6, 6, 8&gt;&amp;)</th>\n",
       "      <td>1.07e+00</td>\n",
       "      <td>3.84e-01</td>\n",
       "      <td>3.84e-01</td>\n",
       "      <td>nan</td>\n",
       "      <td>nan</td>\n",
       "    </tr>\n",
       "    <tr>\n",
       "      <th>[SUMMARY] (anonymous namespace)::MultHelixPropEndcap(Matriplex::Matriplex&lt;float, 6, 6, 8&gt; const&amp;, Matriplex::MatriplexSym&lt;float, 6, 8&gt; const&amp;, Matriplex::Matriplex&lt;float, 6, 6, 8&gt;&amp;)</th>\n",
       "      <td>9.14e-01</td>\n",
       "      <td>3.50e-01</td>\n",
       "      <td>3.50e-01</td>\n",
       "      <td>nan</td>\n",
       "      <td>nan</td>\n",
       "    </tr>\n",
       "    <tr>\n",
       "      <th>[SUMMARY] (anonymous namespace)::MultHelixPropTransp(Matriplex::Matriplex&lt;float, 6, 6, 8&gt; const&amp;, Matriplex::Matriplex&lt;float, 6, 6, 8&gt; const&amp;, Matriplex::MatriplexSym&lt;float, 6, 8&gt;&amp;)</th>\n",
       "      <td>1.14e+00</td>\n",
       "      <td>3.66e-01</td>\n",
       "      <td>3.66e-01</td>\n",
       "      <td>nan</td>\n",
       "      <td>nan</td>\n",
       "    </tr>\n",
       "    <tr>\n",
       "      <th>[SUMMARY] (anonymous namespace)::MultHelixPropTranspEndcap(Matriplex::Matriplex&lt;float, 6, 6, 8&gt; const&amp;, Matriplex::Matriplex&lt;float, 6, 6, 8&gt; const&amp;, Matriplex::MatriplexSym&lt;float, 6, 8&gt;&amp;)</th>\n",
       "      <td>9.07e-01</td>\n",
       "      <td>3.17e-01</td>\n",
       "      <td>3.17e-01</td>\n",
       "      <td>nan</td>\n",
       "      <td>nan</td>\n",
       "    </tr>\n",
       "    <tr>\n",
       "      <th>[SUMMARY] (anonymous namespace)::SubtractFirst2(Matriplex::Matriplex&lt;float, 3, 1, 8&gt; const&amp;, Matriplex::Matriplex&lt;float, 6, 1, 8&gt; const&amp;, Matriplex::Matriplex&lt;float, 2, 1, 8&gt;&amp;)</th>\n",
       "      <td>8.40e-01</td>\n",
       "      <td>2.81e-01</td>\n",
       "      <td>2.81e-01</td>\n",
       "      <td>nan</td>\n",
       "      <td>nan</td>\n",
       "    </tr>\n",
       "    <tr>\n",
       "      <th>[SUMMARY] (anonymous namespace)::sortCandListByHitsChi2(MkFinder::IdxChi2List const&amp;, MkFinder::IdxChi2List const&amp;)</th>\n",
       "      <td>1.06e+00</td>\n",
       "      <td>3.96e-01</td>\n",
       "      <td>3.96e-01</td>\n",
       "      <td>nan</td>\n",
       "      <td>nan</td>\n",
       "    </tr>\n",
       "    <tr>\n",
       "      <th>[SUMMARY] CandCloner::ProcessSeedRange(int, int)</th>\n",
       "      <td>1.03e+00</td>\n",
       "      <td>3.82e-01</td>\n",
       "      <td>3.82e-01</td>\n",
       "      <td>nan</td>\n",
       "      <td>nan</td>\n",
       "    </tr>\n",
       "    <tr>\n",
       "      <th>[SUMMARY] CandCloner::add_cand(int, MkFinder::IdxChi2List const&amp;)</th>\n",
       "      <td>1.11e+00</td>\n",
       "      <td>3.71e-01</td>\n",
       "      <td>3.71e-01</td>\n",
       "      <td>nan</td>\n",
       "      <td>nan</td>\n",
       "    </tr>\n",
       "  </tbody>\n",
       "</table>\n",
       "</div>"
      ],
      "text/plain": [
       "                                                                                 Calls  \\\n",
       "thread region                                                                            \n",
       "0      [SUMMARY] (anonymous namespace)::AddIntoUpperLeft2x2(Matriplex::Mat... 1.55e+00   \n",
       "       [SUMMARY] (anonymous namespace)::Chi2Similarity(Matriplex::Matriple... 9.75e-01   \n",
       "       [SUMMARY] (anonymous namespace)::MultHelixProp(Matriplex::Matriplex... 1.07e+00   \n",
       "       [SUMMARY] (anonymous namespace)::MultHelixPropEndcap(Matriplex::Mat... 9.14e-01   \n",
       "       [SUMMARY] (anonymous namespace)::MultHelixPropTransp(Matriplex::Mat... 1.14e+00   \n",
       "       [SUMMARY] (anonymous namespace)::MultHelixPropTranspEndcap(Matriple... 9.07e-01   \n",
       "       [SUMMARY] (anonymous namespace)::SubtractFirst2(Matriplex::Matriple... 8.40e-01   \n",
       "       [SUMMARY] (anonymous namespace)::sortCandListByHitsChi2(MkFinder::I... 1.06e+00   \n",
       "       [SUMMARY] CandCloner::ProcessSeedRange(int, int)                       1.03e+00   \n",
       "       [SUMMARY] CandCloner::add_cand(int, MkFinder::IdxChi2List const&)      1.11e+00   \n",
       "\n",
       "                                                                               Exclusive  \\\n",
       "thread region                                                                              \n",
       "0      [SUMMARY] (anonymous namespace)::AddIntoUpperLeft2x2(Matriplex::Mat...   5.83e-01   \n",
       "       [SUMMARY] (anonymous namespace)::Chi2Similarity(Matriplex::Matriple...   4.15e-01   \n",
       "       [SUMMARY] (anonymous namespace)::MultHelixProp(Matriplex::Matriplex...   3.84e-01   \n",
       "       [SUMMARY] (anonymous namespace)::MultHelixPropEndcap(Matriplex::Mat...   3.50e-01   \n",
       "       [SUMMARY] (anonymous namespace)::MultHelixPropTransp(Matriplex::Mat...   3.66e-01   \n",
       "       [SUMMARY] (anonymous namespace)::MultHelixPropTranspEndcap(Matriple...   3.17e-01   \n",
       "       [SUMMARY] (anonymous namespace)::SubtractFirst2(Matriplex::Matriple...   2.81e-01   \n",
       "       [SUMMARY] (anonymous namespace)::sortCandListByHitsChi2(MkFinder::I...   3.96e-01   \n",
       "       [SUMMARY] CandCloner::ProcessSeedRange(int, int)                         3.82e-01   \n",
       "       [SUMMARY] CandCloner::add_cand(int, MkFinder::IdxChi2List const&)        3.71e-01   \n",
       "\n",
       "                                                                               Inclusive  \\\n",
       "thread region                                                                              \n",
       "0      [SUMMARY] (anonymous namespace)::AddIntoUpperLeft2x2(Matriplex::Mat...   5.83e-01   \n",
       "       [SUMMARY] (anonymous namespace)::Chi2Similarity(Matriplex::Matriple...   4.15e-01   \n",
       "       [SUMMARY] (anonymous namespace)::MultHelixProp(Matriplex::Matriplex...   3.84e-01   \n",
       "       [SUMMARY] (anonymous namespace)::MultHelixPropEndcap(Matriplex::Mat...   3.50e-01   \n",
       "       [SUMMARY] (anonymous namespace)::MultHelixPropTransp(Matriplex::Mat...   3.66e-01   \n",
       "       [SUMMARY] (anonymous namespace)::MultHelixPropTranspEndcap(Matriple...   3.17e-01   \n",
       "       [SUMMARY] (anonymous namespace)::SubtractFirst2(Matriplex::Matriple...   2.81e-01   \n",
       "       [SUMMARY] (anonymous namespace)::sortCandListByHitsChi2(MkFinder::I...   3.96e-01   \n",
       "       [SUMMARY] CandCloner::ProcessSeedRange(int, int)                         3.82e-01   \n",
       "       [SUMMARY] CandCloner::add_cand(int, MkFinder::IdxChi2List const&)        3.71e-01   \n",
       "\n",
       "                                                                               ProfileCalls  \\\n",
       "thread region                                                                                 \n",
       "0      [SUMMARY] (anonymous namespace)::AddIntoUpperLeft2x2(Matriplex::Mat...           nan   \n",
       "       [SUMMARY] (anonymous namespace)::Chi2Similarity(Matriplex::Matriple...           nan   \n",
       "       [SUMMARY] (anonymous namespace)::MultHelixProp(Matriplex::Matriplex...           nan   \n",
       "       [SUMMARY] (anonymous namespace)::MultHelixPropEndcap(Matriplex::Mat...           nan   \n",
       "       [SUMMARY] (anonymous namespace)::MultHelixPropTransp(Matriplex::Mat...           nan   \n",
       "       [SUMMARY] (anonymous namespace)::MultHelixPropTranspEndcap(Matriple...           nan   \n",
       "       [SUMMARY] (anonymous namespace)::SubtractFirst2(Matriplex::Matriple...           nan   \n",
       "       [SUMMARY] (anonymous namespace)::sortCandListByHitsChi2(MkFinder::I...           nan   \n",
       "       [SUMMARY] CandCloner::ProcessSeedRange(int, int)                                 nan   \n",
       "       [SUMMARY] CandCloner::add_cand(int, MkFinder::IdxChi2List const&)                nan   \n",
       "\n",
       "                                                                               Subcalls  \n",
       "thread region                                                                            \n",
       "0      [SUMMARY] (anonymous namespace)::AddIntoUpperLeft2x2(Matriplex::Mat...       nan  \n",
       "       [SUMMARY] (anonymous namespace)::Chi2Similarity(Matriplex::Matriple...       nan  \n",
       "       [SUMMARY] (anonymous namespace)::MultHelixProp(Matriplex::Matriplex...       nan  \n",
       "       [SUMMARY] (anonymous namespace)::MultHelixPropEndcap(Matriplex::Mat...       nan  \n",
       "       [SUMMARY] (anonymous namespace)::MultHelixPropTransp(Matriplex::Mat...       nan  \n",
       "       [SUMMARY] (anonymous namespace)::MultHelixPropTranspEndcap(Matriple...       nan  \n",
       "       [SUMMARY] (anonymous namespace)::SubtractFirst2(Matriplex::Matriple...       nan  \n",
       "       [SUMMARY] (anonymous namespace)::sortCandListByHitsChi2(MkFinder::I...       nan  \n",
       "       [SUMMARY] CandCloner::ProcessSeedRange(int, int)                             nan  \n",
       "       [SUMMARY] CandCloner::add_cand(int, MkFinder::IdxChi2List const&)            nan  "
      ]
     },
     "execution_count": 5,
     "metadata": {},
     "output_type": "execute_result"
    }
   ],
   "source": [
    "add_metric_to_scaling_data(metric_data, add_CPI)\n",
    "add_metric_to_scaling_data(metric_data, add_L1_missrate)\n",
    "add_metric_to_scaling_data(metric_data, add_L2_missrate)\n",
    "add_metric_to_scaling_data(metric_data, add_L3_missrate)\n",
    "print_available_metrics(metric_data, scaling=True)\n",
    "\n",
    "metric_data[1]['DERIVED_CPI'].head(10)"
   ]
  },
  {
   "cell_type": "markdown",
   "metadata": {},
   "source": [
    "## Scaling Results\n",
    "\n",
    "In this section we demo some scaling results with total_clock cycles"
   ]
  },
  {
   "cell_type": "code",
   "execution_count": 6,
   "metadata": {},
   "outputs": [
    {
     "name": "stdout",
     "output_type": "stream",
     "text": [
      "[1, 8, 16, 32, 64, 128, 256]\n"
     ]
    },
    {
     "data": {
      "image/png": "[encoded data removed]",
      "text/plain": [
       "<Figure size 432x288 with 1 Axes>"
      ]
     },
     "metadata": {},
     "output_type": "display_data"
    }
   ],
   "source": [
    "tot_cyc_data = select_metric_from_scaling(metric_data, 'PAPI_TOT_CYC')\n",
    "# for kt in tot_cyc_data:\n",
    "#     # tot_cyc_list = tot_cyc_data[kt].groupby(['thread'])['Inclusive'].sum()\n",
    "#     tot_cyc_list = tot_cyc_data[kt]['Inclusive'].sum()\n",
    "#     print tot_cyc_list\n",
    "    \n",
    "thread_list  = sorted(tot_cyc_data.keys())\n",
    "print(thread_list)\n",
    "tot_cyc_list = [tot_cyc_data[kt]['Inclusive'].sum() for kt in thread_list]\n",
    "\n",
    "plt = matplotlib.pyplot.plot(thread_list, tot_cyc_list)"
   ]
  },
  {
   "cell_type": "code",
   "execution_count": 18,
   "metadata": {},
   "outputs": [
    {
     "name": "stdout",
     "output_type": "stream",
     "text": [
      "1\n"
     ]
    },
    {
     "data": {
      "image/png": "[encoded data removed]",
      "text/plain": [
       "<Figure size 432x288 with 1 Axes>"
      ]
     },
     "metadata": {},
     "output_type": "display_data"
    },
    {
     "name": "stdout",
     "output_type": "stream",
     "text": [
      "8\n"
     ]
    },
    {
     "data": {
      "image/png": "[encoded data removed]",
      "text/plain": [
       "<Figure size 432x288 with 1 Axes>"
      ]
     },
     "metadata": {},
     "output_type": "display_data"
    },
    {
     "name": "stdout",
     "output_type": "stream",
     "text": [
      "16\n"
     ]
    },
    {
     "data": {
      "image/png": "[encoded data removed]",
      "text/plain": [
       "<Figure size 432x288 with 1 Axes>"
      ]
     },
     "metadata": {},
     "output_type": "display_data"
    },
    {
     "name": "stdout",
     "output_type": "stream",
     "text": [
      "32\n"
     ]
    },
    {
     "data": {
      "image/png": "[encoded data removed]",
      "text/plain": [
       "<Figure size 432x288 with 1 Axes>"
      ]
     },
     "metadata": {},
     "output_type": "display_data"
    },
    {
     "name": "stdout",
     "output_type": "stream",
     "text": [
      "64\n"
     ]
    },
    {
     "data": {
      "image/png": "[encoded data removed]",
      "text/plain": [
       "<Figure size 432x288 with 1 Axes>"
      ]
     },
     "metadata": {},
     "output_type": "display_data"
    },
    {
     "name": "stdout",
     "output_type": "stream",
     "text": [
      "128\n"
     ]
    },
    {
     "data": {
      "image/png": "[encoded data removed]",
      "text/plain": [
       "<Figure size 432x288 with 1 Axes>"
      ]
     },
     "metadata": {},
     "output_type": "display_data"
    },
    {
     "name": "stdout",
     "output_type": "stream",
     "text": [
      "256\n"
     ]
    },
    {
     "data": {
      "image/png": "[encoded data removed]",
      "text/plain": [
       "<Figure size 432x288 with 1 Axes>"
      ]
     },
     "metadata": {},
     "output_type": "display_data"
    }
   ],
   "source": [
    "thread_cyc_data = get_thread_level_metric_scaling(tot_cyc_data)\n",
    "\n",
    "plt_list=[]\n",
    "for kt in thread_list:\n",
    "    print kt\n",
    "    data = list(thread_cyc_data[kt])\n",
    "    matplotlib.pyplot.bar(range(len(data)), data)\n",
    "    matplotlib.pyplot.show()"
   ]
  },
  {
   "cell_type": "code",
   "execution_count": null,
   "metadata": {},
   "outputs": [],
   "source": [
    "for kt in thread_list:\n",
    "    cycles_var = scaling_plot_test(tot_cyc_data[kt],inclusive=True,sort=False,plot=True)"
   ]
  },
  {
   "cell_type": "code",
   "execution_count": null,
   "metadata": {},
   "outputs": [],
   "source": [
    "l1_mr = select_metric_from_scaling(metric_data, 'DERIVED_L1_MISSRATE')\n",
    "for kt in thread_list:\n",
    "    cycles_var = scaling_plot(l1_mr[kt],inclusive=True,sort=False,plot=True)"
   ]
  },
  {
   "cell_type": "code",
   "execution_count": null,
   "metadata": {},
   "outputs": [],
   "source": [
    "print \"Thread 12\"\n",
    "thread_12 = l1_mr[32].xs(12, level='thread').sort_values(by='Inclusive',ascending=False,axis=0)\n",
    "thread_12.head(20)"
   ]
  },
  {
   "cell_type": "code",
   "execution_count": null,
   "metadata": {},
   "outputs": [],
   "source": [
    "print \"Thread 0\"\n",
    "thread_0 = l1_mr[32].xs(0, level='thread').sort_values(by='Inclusive',ascending=False,axis=0)\n",
    "thread_0.head(20)"
   ]
  },
  {
   "cell_type": "code",
   "execution_count": null,
   "metadata": {},
   "outputs": [],
   "source": [
    "print \"Thread 1\"\n",
    "thread_1 = l1_mr[32].xs(1, level='thread').sort_values(by='Inclusive',ascending=False,axis=0)\n",
    "thread_1.head(20)"
   ]
  },
  {
   "cell_type": "code",
   "execution_count": null,
   "metadata": {},
   "outputs": [],
   "source": [
    "res_stl = select_metric_from_scaling(metric_data, 'PAPI_RES_STL')\n",
    "for kt in thread_list:\n",
    "    cycles_var = scaling_plot(res_stl[kt],inclusive=True,sort=False,plot=True)"
   ]
  },
  {
   "cell_type": "code",
   "execution_count": null,
   "metadata": {},
   "outputs": [],
   "source": [
    "l2_mr = select_metric_from_scaling(metric_data, 'DERIVED_L2_MISSRATE')\n",
    "for kt in thread_list:\n",
    "    cycles_var = scaling_plot(l2_mr[kt],inclusive=True,sort=False,plot=True)"
   ]
  },
  {
   "cell_type": "code",
   "execution_count": null,
   "metadata": {},
   "outputs": [],
   "source": [
    "l3_mr = select_metric_from_scaling(metric_data, 'DERIVED_L3_MISSRATE')\n",
    "for kt in thread_list:\n",
    "    cycles_var = scaling_plot(l3_mr[kt],inclusive=True,sort=False,plot=True)"
   ]
  },
  {
   "cell_type": "code",
   "execution_count": null,
   "metadata": {},
   "outputs": [],
   "source": [
    "print([tot_cyc_data[kt]['Inclusive'].max() for kt in thread_list])"
   ]
  },
  {
   "cell_type": "code",
   "execution_count": null,
   "metadata": {},
   "outputs": [],
   "source": []
  }
 ],
 "metadata": {
  "kernelspec": {
   "display_name": "Python 2",
   "language": "python",
   "name": "python2"
  },
  "language_info": {
   "codemirror_mode": {
    "name": "ipython",
    "version": 2
   },
   "file_extension": ".py",
   "mimetype": "text/x-python",
   "name": "python",
   "nbconvert_exporter": "python",
   "pygments_lexer": "ipython2",
   "version": "2.7.14"
  }
 },
 "nbformat": 4,
 "nbformat_minor": 2
}
