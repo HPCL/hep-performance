{
 "cells": [
  {
   "cell_type": "markdown",
   "metadata": {},
   "source": [
    "# Hotspot Calculations for HEP\n",
    "\n",
    "Author: Brain Gravelle (gravelle@cs.uoregon.edu)\n",
    "\n",
    "\n",
    "All this is using the taucmdr python libraries from paratools\n",
    "http://taucommander.paratools.com/\n"
   ]
  },
  {
   "cell_type": "markdown",
   "metadata": {},
   "source": [
    "## Imports"
   ]
  },
  {
   "cell_type": "code",
   "execution_count": 1,
   "metadata": {},
   "outputs": [
    {
     "data": {
      "text/html": [
       "<style>.container { width:100% !important; }</style>"
      ],
      "text/plain": [
       "<IPython.core.display.HTML object>"
      ]
     },
     "metadata": {},
     "output_type": "display_data"
    }
   ],
   "source": [
    "# A couple of scripts to set the environent and import data from a .tau set of results\n",
    "from utilities import *\n",
    "from metrics import *\n",
    "# Plotting, notebook settings:\n",
    "%matplotlib inline  \n",
    "#plt.rcParams.update({'font.size': 16})\n",
    "import numbers\n",
    "from IPython.core.display import display, HTML\n",
    "display(HTML(\"<style>.container { width:100% !important; }</style>\"))\n",
    "pd.set_option('display.float_format', lambda x: '%.2e' % x)\n",
    "pd.set_option('display.max_columns',100)\n",
    "pd.set_option('max_colwidth', 70)"
   ]
  },
  {
   "cell_type": "markdown",
   "metadata": {},
   "source": [
    "## Getting Data\n",
    "\n",
    "TAU Commander uses TAU to run the application and measure it using runtime sampling techniques (similar to Intel VTune). Many customization options are available. For example, we may consider each function regardless of calling context, or we may decide to enable callpath profiling to see each context separately.\n",
    "\n",
    "From the talapas_scaling application the following experiments are available. These use Talapas (with 28 thread Broadwell processors) and the build-ce (realistic) option for mkFit\n",
    "* manual_scaling_Large_talapas\t\t\n",
    "* manual_scaling_Large_talapas_fullnode\t\n",
    "* manual_scaling_TTbar70_talapas\t\t\n",
    "* manual_scaling_TTbar70_talapas_fullnode\n",
    "* manual_scaling_TTbar35_talapas\n",
    "* manual_scaling_TTbar35_talapas_fullnode\n"
   ]
  },
  {
   "cell_type": "markdown",
   "metadata": {},
   "source": [
    "### Importing Scaling Data"
   ]
  },
  {
   "cell_type": "code",
   "execution_count": 2,
   "metadata": {},
   "outputs": [
    {
     "name": "stdout",
     "output_type": "stream",
     "text": [
      "Possible missing metric: \n",
      "nthread = 56 \n",
      "metric = PAPI_LST_INS\n"
     ]
    }
   ],
   "source": [
    "application = \"talapas_scaling\"\n",
    "experiment  = \"manual_scaling_TTbar70_talapas\"\n",
    "\n",
    "path = \".tau/\" + application + \"/\" + experiment + \"/\"\n",
    "# note that this function takes a long time to run, so only rerun if you must\n",
    "metric_data = get_pandas_scaling(path)\n",
    "metric_data = remove_erroneous_threads(metric_data,  [1, 8, 16, 32, 48, 56])"
   ]
  },
  {
   "cell_type": "code",
   "execution_count": 3,
   "metadata": {},
   "outputs": [
    {
     "name": "stdout",
     "output_type": "stream",
     "text": [
      "[32, 1, 48, 8, 16, 56]\n",
      "PAPI_BR_INS\n",
      "PAPI_L3_TCA\n",
      "PAPI_L2_TCA\n",
      "PAPI_DP_OPS\n",
      "PAPI_TLB_DM\n",
      "PAPI_RES_STL\n",
      "PAPI_VEC_DP\n",
      "PAPI_L3_TCM\n",
      "PAPI_L2_TCM\n",
      "PAPI_TOT_INS\n",
      "PAPI_TLB_IM\n",
      "PAPI_SP_OPS\n",
      "PAPI_LST_INS\n",
      "PAPI_VEC_SP\n",
      "PAPI_BR_CN\n",
      "PAPI_L1_TCM\n",
      "PAPI_BR_MSP\n",
      "PAPI_TOT_CYC\n",
      "Index([u'Calls', u'Exclusive', u'Inclusive', u'ProfileCalls', u'Subcalls'], dtype='object')\n",
      "\n",
      "[u'context', u'thread', u'region']\n",
      "\n",
      "TAU_MAX_THREADS                                    112\n",
      "TAU_CUDA_BINARY_EXE                                None\n",
      "TAU_MEASURE_TAU                                    off\n",
      "Memory Size                                        131916412 kB\n",
      "TAU_TRACK_SIGNALS                                  off\n",
      "TAU_TRACK_IO_PARAMS                                off\n",
      "CPU MHz                                            1200.062\n",
      "Local Time                                         2018-04-09T21:24:19-07:00\n",
      "CPU Type                                           Intel(R) Xeon(R) CPU E5-2690 v4 @ 2.60GHz\n",
      "TAU_OUTPUT_CUDA_CSV                                off\n",
      "TAU_EBS_INCLUSIVE                                  0 usec\n",
      "Node Name                                          n057\n",
      "TAU_CALLPATH_DEPTH                                 100\n",
      "CPU Cores                                          14\n",
      "OS Machine                                         x86_64\n",
      "TAU_SAMPLING                                       on\n",
      "Cache Size                                         35840 KB\n",
      "TAU_PAPI_MULTIPLEXING                              off\n",
      "TAU_EBS_KEEP_UNRESOLVED_ADDR                       off\n",
      "TAU_THROTTLE                                       on\n",
      "TAU Architecture                                   default\n",
      "TAU_COMPENSATE                                     off\n",
      "TAU_CALLSITE_DEPTH                                 1\n",
      "TAU_SHOW_MEMORY_FUNCTIONS                          off\n",
      "OS Version                                         #1 SMP Sun Jan 14 10:36:03 EST 2018\n",
      "Starting Timestamp                                 1523334259408066\n",
      "TAU_SIGNALS_GDB                                    off\n",
      "TAU Version                                        2.27-git\n",
      "TAU_TRACK_MEMORY_LEAKS                             off\n",
      "TAU_MEMDBG_PROTECT_FREE                            off\n",
      "TAU Config                                          -tag=05c9fa46 -arch=x86_64 -cc=icc -c++=icpc -fortran=intel -bfd=/gpfs/projects/hpcl/shared/taucmdr-enterprise/system/binutils/7af21441 -papi=/packages/papi/5.5.1 -unwind=/gpfs/projects/hpcl/shared/taucmdr-enterprise/system/libunwind/743af2e8 -tbb -useropt=-O2#-g#-DTAU_MAX_THREADS=112#-DTAU_MAX_METRICS=2#-DTAU_MAX_COUNTERS=2\n",
      "TAU_EBS_SAMPLES_DROPPED_TAU_3                      0\n",
      "TAU_EBS_SAMPLES_DROPPED_TAU_2                      0\n",
      "TAU_EBS_SAMPLES_DROPPED_TAU_1                      0\n",
      "TAU_EBS_SAMPLES_DROPPED_TAU_0                      0\n",
      "TAU_EBS_SAMPLES_DROPPED_TAU_7                      0\n",
      "TAU_EBS_SAMPLES_DROPPED_TAU_6                      0\n",
      "TAU_EBS_SAMPLES_DROPPED_TAU_5                      0\n",
      "TAU_EBS_SAMPLES_DROPPED_TAU_4                      0\n",
      "TAU_OPENMP_RUNTIME_EVENTS                          on\n",
      "TAU_BFD_LOOKUP                                     on\n",
      "TAU_MEMDBG_PROTECT_BELOW                           off\n",
      "TAU_THROTTLE_NUMCALLS                              100000\n",
      "TAU_EBS_PERIOD                                     10000\n",
      "OS Name                                            Linux\n",
      "Hostname                                           n057\n",
      "Metric Name                                        TIME\n",
      "Timestamp                                          1523334259425886\n",
      "TAU_TRACK_CUDA_SASS                                off\n",
      "TAU_TRACK_UNIFIED_MEMORY                           off\n",
      "username                                           bgravell\n",
      "TAU_OPENMP_RUNTIME                                 on\n",
      "TAU_TRACE_FORMAT                                   tau\n",
      "TAU_OPENMP_RUNTIME_STATES                          off\n",
      "pid                                                31770\n",
      "TAU_MEMDBG_PROTECT_ABOVE                           off\n",
      "Ending Timestamp                                   1523334267609944\n",
      "TAU_PROFILE_FORMAT                                 profile\n",
      "Executable                                         /gpfs/projects/hpcl/bgravell/mictest_sampling/mkFit/mkFit\n",
      "TAU_TRACK_CUDA_INSTRUCTIONS                        None\n",
      "TAU Makefile                                       /gpfs/projects/hpcl/shared/taucmdr-enterprise/system/tau/tau-2.27/x86_64/lib/Makefile.tau-05c9fa46-icpc-papi-tbb\n",
      "TAU_TRACK_HEADROOM                                 off\n",
      "CPU Vendor                                         GenuineIntel\n",
      "TAU_PROFILE                                        on\n",
      "TAU_TRACK_CUDA_CDP                                 off\n",
      "Command Line                                       mkFit --cmssw-n2seeds --input-file /projects/hpcl/bgravell/mictest_sampling/TTbar70PU-memoryFile.fv3.clean.writeAll.recT.072617.bin --build-ce --num-thr 8 --num-events 100 --silent\n",
      "TAU_TRACK_HEAP                                     off\n",
      "TAU_CALLPATH                                       on\n",
      "tid                                                31770\n",
      "TAU_TRACE                                          off\n",
      "TAU_THROTTLE_PERCALL                               10\n",
      "TAU_EBS_SAMPLES_DROPPED_SUSPENDED_0                0\n",
      "TAU_EBS_SAMPLES_DROPPED_SUSPENDED_1                0\n",
      "TAU_EBS_SAMPLES_DROPPED_SUSPENDED_2                0\n",
      "TAU_EBS_SAMPLES_DROPPED_SUSPENDED_3                0\n",
      "TAU_EBS_SAMPLES_DROPPED_SUSPENDED_4                0\n",
      "TAU_EBS_SAMPLES_DROPPED_SUSPENDED_5                0\n",
      "TAU_EBS_SAMPLES_DROPPED_SUSPENDED_6                0\n",
      "TAU_EBS_SAMPLES_DROPPED_SUSPENDED_7                0\n",
      "TAU_IBM_BG_HWP_COUNTERS                            off\n",
      "UTC Time                                           2018-04-10T04:24:19Z\n",
      "CWD                                                /gpfs/projects/hpcl/bgravell/mictest_sampling/.tau/mictest_sampling/manual_scaling_TTbar70_talapas/185\n",
      "TAU_TRACK_MEMORY_FOOTPRINT                         off\n",
      "TAU_EBS_UNWIND                                     off\n",
      "TAU_CUPTI_API                                      runtime\n",
      "OS Release                                         3.10.0-693.17.1.el7.x86_64\n",
      "TAU_EBS_SAMPLES_TAKEN_1                            816\n",
      "TAU_EBS_SAMPLES_TAKEN_0                            816\n",
      "TAU_EBS_SAMPLES_TAKEN_3                            816\n",
      "TAU_EBS_SAMPLES_TAKEN_2                            816\n",
      "TAU_EBS_SAMPLES_TAKEN_5                            816\n",
      "TAU_EBS_SAMPLES_TAKEN_4                            816\n",
      "TAU_EBS_SAMPLES_TAKEN_7                            816\n",
      "TAU_EBS_SAMPLES_TAKEN_6                            816\n"
     ]
    },
    {
     "data": {
      "text/html": [
       "<div>\n",
       "<style scoped>\n",
       "    .dataframe tbody tr th:only-of-type {\n",
       "        vertical-align: middle;\n",
       "    }\n",
       "\n",
       "    .dataframe tbody tr th {\n",
       "        vertical-align: top;\n",
       "    }\n",
       "\n",
       "    .dataframe thead th {\n",
       "        text-align: right;\n",
       "    }\n",
       "</style>\n",
       "<table border=\"1\" class=\"dataframe\">\n",
       "  <thead>\n",
       "    <tr style=\"text-align: right;\">\n",
       "      <th></th>\n",
       "      <th></th>\n",
       "      <th></th>\n",
       "      <th>Inclusive</th>\n",
       "    </tr>\n",
       "    <tr>\n",
       "      <th>context</th>\n",
       "      <th>thread</th>\n",
       "      <th>region</th>\n",
       "      <th></th>\n",
       "    </tr>\n",
       "  </thead>\n",
       "  <tbody>\n",
       "    <tr>\n",
       "      <th rowspan=\"10\" valign=\"top\">0</th>\n",
       "      <th>0</th>\n",
       "      <th>[SUMMARY] MkFinder::SelectHitIndices(LayerOfHits const&amp;, int)</th>\n",
       "      <td>2.77e+09</td>\n",
       "    </tr>\n",
       "    <tr>\n",
       "      <th>4</th>\n",
       "      <th>[SUMMARY] syscall</th>\n",
       "      <td>1.61e+09</td>\n",
       "    </tr>\n",
       "    <tr>\n",
       "      <th>1</th>\n",
       "      <th>[SUMMARY] syscall</th>\n",
       "      <td>1.59e+09</td>\n",
       "    </tr>\n",
       "    <tr>\n",
       "      <th>6</th>\n",
       "      <th>[SUMMARY] syscall</th>\n",
       "      <td>1.53e+09</td>\n",
       "    </tr>\n",
       "    <tr>\n",
       "      <th>0</th>\n",
       "      <th>[SUMMARY] __svml_sincosf8_l9</th>\n",
       "      <td>1.52e+09</td>\n",
       "    </tr>\n",
       "    <tr>\n",
       "      <th>7</th>\n",
       "      <th>[SUMMARY] syscall</th>\n",
       "      <td>1.49e+09</td>\n",
       "    </tr>\n",
       "    <tr>\n",
       "      <th>3</th>\n",
       "      <th>[SUMMARY] syscall</th>\n",
       "      <td>1.49e+09</td>\n",
       "    </tr>\n",
       "    <tr>\n",
       "      <th>5</th>\n",
       "      <th>[SUMMARY] syscall</th>\n",
       "      <td>1.47e+09</td>\n",
       "    </tr>\n",
       "    <tr>\n",
       "      <th>2</th>\n",
       "      <th>[SUMMARY] syscall</th>\n",
       "      <td>1.38e+09</td>\n",
       "    </tr>\n",
       "    <tr>\n",
       "      <th>0</th>\n",
       "      <th>[SUMMARY] Event::clean_cms_seedtracks()</th>\n",
       "      <td>1.36e+09</td>\n",
       "    </tr>\n",
       "  </tbody>\n",
       "</table>\n",
       "</div>"
      ],
      "text/plain": [
       "                                                                               Inclusive\n",
       "context thread region                                                                   \n",
       "0       0      [SUMMARY] MkFinder::SelectHitIndices(LayerOfHits const&, int)    2.77e+09\n",
       "        4      [SUMMARY] syscall                                                1.61e+09\n",
       "        1      [SUMMARY] syscall                                                1.59e+09\n",
       "        6      [SUMMARY] syscall                                                1.53e+09\n",
       "        0      [SUMMARY] __svml_sincosf8_l9                                     1.52e+09\n",
       "        7      [SUMMARY] syscall                                                1.49e+09\n",
       "        3      [SUMMARY] syscall                                                1.49e+09\n",
       "        5      [SUMMARY] syscall                                                1.47e+09\n",
       "        2      [SUMMARY] syscall                                                1.38e+09\n",
       "        0      [SUMMARY] Event::clean_cms_seedtracks()                          1.36e+09"
      ]
     },
     "execution_count": 3,
     "metadata": {},
     "output_type": "execute_result"
    }
   ],
   "source": [
    "print(metric_data.keys())\n",
    "print_available_metrics(metric_data,True)\n",
    "select_metric_from_scaling(metric_data, 'PAPI_L2_TCA')\n",
    "\n",
    "# level_inds = {'trial': 0, 'rank': 1, 'context': 2, 'thread': 3, 'region': 4}\n",
    "print(metric_data[8]['PAPI_TOT_INS'].columns)\n",
    "print(\"\")\n",
    "print(metric_data[8]['PAPI_TOT_INS'].index.names)\n",
    "print(\"\")\n",
    "print_metadata(metric_data[8])\n",
    "\n",
    "metric_data[8]['PAPI_TOT_INS'].sort_values(by='Inclusive',ascending=False)[[\"Inclusive\"]].head(10)"
   ]
  },
  {
   "cell_type": "code",
   "execution_count": 4,
   "metadata": {},
   "outputs": [],
   "source": [
    "# Use this section to verify the scaling functions\n",
    "# reads one exampple of the 8 thread PAPI_TOT_INS to show that the numbers are closeto above\n",
    "\n",
    "# application = \"test\"\n",
    "# experiment  = \"test\"\n",
    "\n",
    "# path = \".tau/\" + application + \"/\" + experiment + \"/\"\n",
    "# t = get_pandas(path)\n",
    "\n",
    "\n",
    "# # level_inds = {'trial': 0, 'rank': 1, 'context': 2, 'thread': 3, 'region': 4}\n",
    "# print(t['PAPI_TOT_INS'].columns)\n",
    "# print(\"\")\n",
    "# print(t['PAPI_TOT_INS'].index.names)\n",
    "# print(\"\")\n",
    "# print_metadata(t)\n",
    "\n",
    "# t['PAPI_TOT_INS'].sort_values(by='Inclusive',ascending=False)[[\"Inclusive\"]].head(10)"
   ]
  },
  {
   "cell_type": "markdown",
   "metadata": {},
   "source": [
    "## Adding metrics\n",
    "\n",
    "metrics are available in metrics.py. At this time the following can be added:\n",
    "* add_IPC(metrics)          - Instructions per Cycle\n",
    "* add_CPI(metrics)          - Cycles per instruction\n",
    "* add_VIPC(metrics)         - vector instructions per cycle\n",
    "* add_VIPI(metrics)         - vector instructions per instruction (i.e. fraction of total)\n",
    "* add_L1_missrate(metrics)  - miss rate for L1 cache\n",
    "\n",
    "for scaling data please use the add_metric_to_scaling_data(data, metric_func) function to add a metric"
   ]
  },
  {
   "cell_type": "code",
   "execution_count": 5,
   "metadata": {},
   "outputs": [
    {
     "name": "stdout",
     "output_type": "stream",
     "text": [
      "PAPI_BR_INS\n",
      "PAPI_L3_TCA\n",
      "PAPI_L2_TCA\n",
      "PAPI_DP_OPS\n",
      "DERIVED_CPI\n",
      "PAPI_TLB_DM\n",
      "PAPI_RES_STL\n",
      "PAPI_VEC_DP\n",
      "PAPI_L3_TCM\n",
      "PAPI_L2_TCM\n",
      "PAPI_TOT_INS\n",
      "PAPI_TLB_IM\n",
      "PAPI_SP_OPS\n",
      "PAPI_LST_INS\n",
      "PAPI_VEC_SP\n",
      "PAPI_BR_CN\n",
      "PAPI_L1_TCM\n",
      "PAPI_BR_MSP\n",
      "PAPI_TOT_CYC\n"
     ]
    },
    {
     "data": {
      "text/html": [
       "<div>\n",
       "<style scoped>\n",
       "    .dataframe tbody tr th:only-of-type {\n",
       "        vertical-align: middle;\n",
       "    }\n",
       "\n",
       "    .dataframe tbody tr th {\n",
       "        vertical-align: top;\n",
       "    }\n",
       "\n",
       "    .dataframe thead th {\n",
       "        text-align: right;\n",
       "    }\n",
       "</style>\n",
       "<table border=\"1\" class=\"dataframe\">\n",
       "  <thead>\n",
       "    <tr style=\"text-align: right;\">\n",
       "      <th></th>\n",
       "      <th></th>\n",
       "      <th>Calls</th>\n",
       "      <th>Exclusive</th>\n",
       "      <th>Inclusive</th>\n",
       "      <th>ProfileCalls</th>\n",
       "      <th>Subcalls</th>\n",
       "    </tr>\n",
       "    <tr>\n",
       "      <th>thread</th>\n",
       "      <th>region</th>\n",
       "      <th></th>\n",
       "      <th></th>\n",
       "      <th></th>\n",
       "      <th></th>\n",
       "      <th></th>\n",
       "    </tr>\n",
       "  </thead>\n",
       "  <tbody>\n",
       "    <tr>\n",
       "      <th rowspan=\"10\" valign=\"top\">0</th>\n",
       "      <th>[SUMMARY] (anonymous namespace)::Chi2Similarity(Matriplex::Matriplex&lt;float, 2, 1, 8&gt; const&amp;, Matriplex::MatriplexSym&lt;float, 2, 8&gt; const&amp;, Matriplex::Matriplex&lt;float, 1, 1, 8&gt;&amp;)</th>\n",
       "      <td>1.61e+00</td>\n",
       "      <td>8.01e-01</td>\n",
       "      <td>8.01e-01</td>\n",
       "      <td>nan</td>\n",
       "      <td>nan</td>\n",
       "    </tr>\n",
       "    <tr>\n",
       "      <th>[SUMMARY] (anonymous namespace)::MultHelixProp(Matriplex::Matriplex&lt;float, 6, 6, 8&gt; const&amp;, Matriplex::MatriplexSym&lt;float, 6, 8&gt; const&amp;, Matriplex::Matriplex&lt;float, 6, 6, 8&gt;&amp;)</th>\n",
       "      <td>1.12e+00</td>\n",
       "      <td>5.81e-01</td>\n",
       "      <td>5.81e-01</td>\n",
       "      <td>nan</td>\n",
       "      <td>nan</td>\n",
       "    </tr>\n",
       "    <tr>\n",
       "      <th>[SUMMARY] (anonymous namespace)::MultHelixPropEndcap(Matriplex::Matriplex&lt;float, 6, 6, 8&gt; const&amp;, Matriplex::MatriplexSym&lt;float, 6, 8&gt; const&amp;, Matriplex::Matriplex&lt;float, 6, 6, 8&gt;&amp;)</th>\n",
       "      <td>1.10e+00</td>\n",
       "      <td>5.52e-01</td>\n",
       "      <td>5.52e-01</td>\n",
       "      <td>nan</td>\n",
       "      <td>nan</td>\n",
       "    </tr>\n",
       "    <tr>\n",
       "      <th>[SUMMARY] (anonymous namespace)::MultHelixPropTranspEndcap(Matriplex::Matriplex&lt;float, 6, 6, 8&gt; const&amp;, Matriplex::Matriplex&lt;float, 6, 6, 8&gt; const&amp;, Matriplex::MatriplexSym&lt;float, 6, 8&gt;&amp;)</th>\n",
       "      <td>1.06e+00</td>\n",
       "      <td>5.35e-01</td>\n",
       "      <td>5.35e-01</td>\n",
       "      <td>nan</td>\n",
       "      <td>nan</td>\n",
       "    </tr>\n",
       "    <tr>\n",
       "      <th>[SUMMARY] (anonymous namespace)::sortCandListByHitsChi2(MkFinder::IdxChi2List const&amp;, MkFinder::IdxChi2List const&amp;)</th>\n",
       "      <td>9.73e-01</td>\n",
       "      <td>4.94e-01</td>\n",
       "      <td>4.94e-01</td>\n",
       "      <td>nan</td>\n",
       "      <td>nan</td>\n",
       "    </tr>\n",
       "    <tr>\n",
       "      <th>[SUMMARY] CandCloner::ProcessSeedRange(int, int)</th>\n",
       "      <td>9.72e-01</td>\n",
       "      <td>4.94e-01</td>\n",
       "      <td>4.94e-01</td>\n",
       "      <td>nan</td>\n",
       "      <td>nan</td>\n",
       "    </tr>\n",
       "    <tr>\n",
       "      <th>[SUMMARY] CandCloner::add_cand(int, MkFinder::IdxChi2List const&amp;)</th>\n",
       "      <td>1.44e+00</td>\n",
       "      <td>7.13e-01</td>\n",
       "      <td>7.13e-01</td>\n",
       "      <td>nan</td>\n",
       "      <td>nan</td>\n",
       "    </tr>\n",
       "    <tr>\n",
       "      <th>[SUMMARY] Event::clean_cms_seedtracks()</th>\n",
       "      <td>9.58e-01</td>\n",
       "      <td>6.28e-01</td>\n",
       "      <td>6.28e-01</td>\n",
       "      <td>nan</td>\n",
       "      <td>nan</td>\n",
       "    </tr>\n",
       "    <tr>\n",
       "      <th>[SUMMARY] FMA(__m256 const&amp;, __m256 const&amp;, __m256 const&amp;)</th>\n",
       "      <td>1.02e+00</td>\n",
       "      <td>5.18e-01</td>\n",
       "      <td>5.18e-01</td>\n",
       "      <td>nan</td>\n",
       "      <td>nan</td>\n",
       "    </tr>\n",
       "    <tr>\n",
       "      <th>[SUMMARY] HitOnTrack* std::__copy_move&lt;false, false, std::random_access_iterator_tag&gt;::__copy_m&lt;HitOnTrack const*, HitOnTrack*&gt;(HitOnTrack const*, HitOnTrack const*, HitOnTrack*)</th>\n",
       "      <td>8.08e-01</td>\n",
       "      <td>3.99e-01</td>\n",
       "      <td>3.99e-01</td>\n",
       "      <td>nan</td>\n",
       "      <td>nan</td>\n",
       "    </tr>\n",
       "  </tbody>\n",
       "</table>\n",
       "</div>"
      ],
      "text/plain": [
       "                                                                                 Calls  \\\n",
       "thread region                                                                            \n",
       "0      [SUMMARY] (anonymous namespace)::Chi2Similarity(Matriplex::Matriple... 1.61e+00   \n",
       "       [SUMMARY] (anonymous namespace)::MultHelixProp(Matriplex::Matriplex... 1.12e+00   \n",
       "       [SUMMARY] (anonymous namespace)::MultHelixPropEndcap(Matriplex::Mat... 1.10e+00   \n",
       "       [SUMMARY] (anonymous namespace)::MultHelixPropTranspEndcap(Matriple... 1.06e+00   \n",
       "       [SUMMARY] (anonymous namespace)::sortCandListByHitsChi2(MkFinder::I... 9.73e-01   \n",
       "       [SUMMARY] CandCloner::ProcessSeedRange(int, int)                       9.72e-01   \n",
       "       [SUMMARY] CandCloner::add_cand(int, MkFinder::IdxChi2List const&)      1.44e+00   \n",
       "       [SUMMARY] Event::clean_cms_seedtracks()                                9.58e-01   \n",
       "       [SUMMARY] FMA(__m256 const&, __m256 const&, __m256 const&)             1.02e+00   \n",
       "       [SUMMARY] HitOnTrack* std::__copy_move<false, false, std::random_ac... 8.08e-01   \n",
       "\n",
       "                                                                               Exclusive  \\\n",
       "thread region                                                                              \n",
       "0      [SUMMARY] (anonymous namespace)::Chi2Similarity(Matriplex::Matriple...   8.01e-01   \n",
       "       [SUMMARY] (anonymous namespace)::MultHelixProp(Matriplex::Matriplex...   5.81e-01   \n",
       "       [SUMMARY] (anonymous namespace)::MultHelixPropEndcap(Matriplex::Mat...   5.52e-01   \n",
       "       [SUMMARY] (anonymous namespace)::MultHelixPropTranspEndcap(Matriple...   5.35e-01   \n",
       "       [SUMMARY] (anonymous namespace)::sortCandListByHitsChi2(MkFinder::I...   4.94e-01   \n",
       "       [SUMMARY] CandCloner::ProcessSeedRange(int, int)                         4.94e-01   \n",
       "       [SUMMARY] CandCloner::add_cand(int, MkFinder::IdxChi2List const&)        7.13e-01   \n",
       "       [SUMMARY] Event::clean_cms_seedtracks()                                  6.28e-01   \n",
       "       [SUMMARY] FMA(__m256 const&, __m256 const&, __m256 const&)               5.18e-01   \n",
       "       [SUMMARY] HitOnTrack* std::__copy_move<false, false, std::random_ac...   3.99e-01   \n",
       "\n",
       "                                                                               Inclusive  \\\n",
       "thread region                                                                              \n",
       "0      [SUMMARY] (anonymous namespace)::Chi2Similarity(Matriplex::Matriple...   8.01e-01   \n",
       "       [SUMMARY] (anonymous namespace)::MultHelixProp(Matriplex::Matriplex...   5.81e-01   \n",
       "       [SUMMARY] (anonymous namespace)::MultHelixPropEndcap(Matriplex::Mat...   5.52e-01   \n",
       "       [SUMMARY] (anonymous namespace)::MultHelixPropTranspEndcap(Matriple...   5.35e-01   \n",
       "       [SUMMARY] (anonymous namespace)::sortCandListByHitsChi2(MkFinder::I...   4.94e-01   \n",
       "       [SUMMARY] CandCloner::ProcessSeedRange(int, int)                         4.94e-01   \n",
       "       [SUMMARY] CandCloner::add_cand(int, MkFinder::IdxChi2List const&)        7.13e-01   \n",
       "       [SUMMARY] Event::clean_cms_seedtracks()                                  6.28e-01   \n",
       "       [SUMMARY] FMA(__m256 const&, __m256 const&, __m256 const&)               5.18e-01   \n",
       "       [SUMMARY] HitOnTrack* std::__copy_move<false, false, std::random_ac...   3.99e-01   \n",
       "\n",
       "                                                                               ProfileCalls  \\\n",
       "thread region                                                                                 \n",
       "0      [SUMMARY] (anonymous namespace)::Chi2Similarity(Matriplex::Matriple...           nan   \n",
       "       [SUMMARY] (anonymous namespace)::MultHelixProp(Matriplex::Matriplex...           nan   \n",
       "       [SUMMARY] (anonymous namespace)::MultHelixPropEndcap(Matriplex::Mat...           nan   \n",
       "       [SUMMARY] (anonymous namespace)::MultHelixPropTranspEndcap(Matriple...           nan   \n",
       "       [SUMMARY] (anonymous namespace)::sortCandListByHitsChi2(MkFinder::I...           nan   \n",
       "       [SUMMARY] CandCloner::ProcessSeedRange(int, int)                                 nan   \n",
       "       [SUMMARY] CandCloner::add_cand(int, MkFinder::IdxChi2List const&)                nan   \n",
       "       [SUMMARY] Event::clean_cms_seedtracks()                                          nan   \n",
       "       [SUMMARY] FMA(__m256 const&, __m256 const&, __m256 const&)                       nan   \n",
       "       [SUMMARY] HitOnTrack* std::__copy_move<false, false, std::random_ac...           nan   \n",
       "\n",
       "                                                                               Subcalls  \n",
       "thread region                                                                            \n",
       "0      [SUMMARY] (anonymous namespace)::Chi2Similarity(Matriplex::Matriple...       nan  \n",
       "       [SUMMARY] (anonymous namespace)::MultHelixProp(Matriplex::Matriplex...       nan  \n",
       "       [SUMMARY] (anonymous namespace)::MultHelixPropEndcap(Matriplex::Mat...       nan  \n",
       "       [SUMMARY] (anonymous namespace)::MultHelixPropTranspEndcap(Matriple...       nan  \n",
       "       [SUMMARY] (anonymous namespace)::sortCandListByHitsChi2(MkFinder::I...       nan  \n",
       "       [SUMMARY] CandCloner::ProcessSeedRange(int, int)                             nan  \n",
       "       [SUMMARY] CandCloner::add_cand(int, MkFinder::IdxChi2List const&)            nan  \n",
       "       [SUMMARY] Event::clean_cms_seedtracks()                                      nan  \n",
       "       [SUMMARY] FMA(__m256 const&, __m256 const&, __m256 const&)                   nan  \n",
       "       [SUMMARY] HitOnTrack* std::__copy_move<false, false, std::random_ac...       nan  "
      ]
     },
     "execution_count": 5,
     "metadata": {},
     "output_type": "execute_result"
    }
   ],
   "source": [
    "add_metric_to_scaling_data(metric_data, add_CPI)\n",
    "print_available_metrics(metric_data, scaling=True)\n",
    "\n",
    "metric_data[1]['DERIVED_CPI'].head(10)"
   ]
  },
  {
   "cell_type": "markdown",
   "metadata": {},
   "source": [
    "## Scaling Results\n",
    "\n",
    "In this section we demo some scaling results with total_clock cycles"
   ]
  },
  {
   "cell_type": "code",
   "execution_count": 29,
   "metadata": {},
   "outputs": [
    {
     "data": {
      "image/png": "[encoded data removed]",
      "text/plain": [
       "<Figure size 432x288 with 1 Axes>"
      ]
     },
     "metadata": {},
     "output_type": "display_data"
    }
   ],
   "source": [
    "tot_cyc_data = select_metric_from_scaling(metric_data, 'PAPI_TOT_CYC')\n",
    "# for kt in tot_cyc_data:\n",
    "#     # tot_cyc_list = tot_cyc_data[kt].groupby(['thread'])['Inclusive'].sum()\n",
    "#     tot_cyc_list = tot_cyc_data[kt]['Inclusive'].sum()\n",
    "#     print tot_cyc_list\n",
    "    \n",
    "thread_list  = sorted(tot_cyc_data.keys())\n",
    "tot_cyc_list = [tot_cyc_data[kt]['Inclusive'].sum() for kt in thread_list]\n",
    "\n",
    "plt = matplotlib.pyplot.plot(thread_list, tot_cyc_list)"
   ]
  },
  {
   "cell_type": "code",
   "execution_count": null,
   "metadata": {},
   "outputs": [
    {
     "data": {
      "image/png": "[encoded data removed]",
      "text/plain": [
       "<Figure size 1080x504 with 1 Axes>"
      ]
     },
     "metadata": {},
     "output_type": "display_data"
    },
    {
     "data": {
      "image/png": "[encoded data removed]",
      "text/plain": [
       "<Figure size 1080x504 with 1 Axes>"
      ]
     },
     "metadata": {},
     "output_type": "display_data"
    },
    {
     "data": {
      "image/png": "[encoded data removed]",
      "text/plain": [
       "<Figure size 1080x504 with 1 Axes>"
      ]
     },
     "metadata": {},
     "output_type": "display_data"
    },
    {
     "data": {
      "image/png": "[encoded data removed]",
      "text/plain": [
       "<Figure size 1080x504 with 1 Axes>"
      ]
     },
     "metadata": {},
     "output_type": "display_data"
    },
    {
     "data": {
      "image/png": "[encoded data removed]",
      "text/plain": [
       "<Figure size 1080x504 with 1 Axes>"
      ]
     },
     "metadata": {},
     "output_type": "display_data"
    }
   ],
   "source": [
    "for kt in thread_list:\n",
    "    cycles_var = thread_variance(tot_cyc_data[kt],inclusive=True,sort=False,plot=True)"
   ]
  },
  {
   "cell_type": "code",
   "execution_count": null,
   "metadata": {},
   "outputs": [],
   "source": []
  }
 ],
 "metadata": {
  "kernelspec": {
   "display_name": "Python 2",
   "language": "python",
   "name": "python2"
  },
  "language_info": {
   "codemirror_mode": {
    "name": "ipython",
    "version": 2
   },
   "file_extension": ".py",
   "mimetype": "text/x-python",
   "name": "python",
   "nbconvert_exporter": "python",
   "pygments_lexer": "ipython2",
   "version": "2.7.14"
  }
 },
 "nbformat": 4,
 "nbformat_minor": 2
}
