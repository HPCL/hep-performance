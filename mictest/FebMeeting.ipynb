{
 "cells": [
  {
   "cell_type": "markdown",
   "metadata": {},
   "source": [
    "# Performance Analaysis of HEP codes (examples)\n",
    "\n",
    "Authors: Brain Gravelle (gravelle@cs.uoregon.edu), Boyana Norris (norris@cs.uoregon.edu)\n",
    "\n",
    "\n",
    "## 1. Prerequisites\n",
    "\n",
    "These examples are based on the TAU and taucmdr tools from Paratools\n",
    "http://taucommander.paratools.com/. Note that the analysis functionality is new and not yet publically available."
   ]
  },
  {
   "cell_type": "code",
   "execution_count": 3,
   "metadata": {},
   "outputs": [
    {
     "data": {
      "text/html": [
       "<style>.container { width:100% !important; }</style>"
      ],
      "text/plain": [
       "<IPython.core.display.HTML object>"
      ]
     },
     "metadata": {},
     "output_type": "display_data"
    }
   ],
   "source": [
    "# A couple of scripts to set the environent and import data from a .tau set of results\n",
    "from utilities import *\n",
    "from metrics import *\n",
    "# Plotting, notebook settings:\n",
    "%matplotlib inline  \n",
    "#plt.rcParams.update({'font.size': 16})\n",
    "from IPython.core.display import display, HTML\n",
    "display(HTML(\"<style>.container { width:100% !important; }</style>\"))"
   ]
  },
  {
   "cell_type": "markdown",
   "metadata": {},
   "source": [
    "## 2. Performance data \n",
    "\n",
    "TAU Commander uses TAU to run the application and measure it using runtime sampling techniques (similar to Intel VTune). Many customization options are available. For example, we may consider each function regardless of calling context, or we may decide to enable callpath profiling to see each context separately.\n",
    "\n",
    "Available experiments:\n",
    "* multi - data based on a toy version of the program.\n",
    "* realistic  - data based on a run of the program with the TT35PU... input file, 10 threads, and 100 events\n",
    "* event_scaling_TT35  - data based on a run of the program with the TT35PU... input file, 10 threads, and events ranging from 10 to 100\n",
    "* TT70  - data based on a run of the program with the TT70PU... input file, 10 threads, and 100 events\n",
    "* event_scaling_TT35  - data based on a run of the program with the TT70PU... input file, 10 threads, and events ranging from 10 to 100\n",
    "* note that the event scaling runs don't have a function to properly load the data yet\n",
    "\n",
    "\n",
    "### Simple explorations"
   ]
  },
  {
   "cell_type": "code",
   "execution_count": 4,
   "metadata": {},
   "outputs": [
    {
     "ename": "NameError",
     "evalue": "name 'load_perf_data' is not defined",
     "output_type": "error",
     "traceback": [
      "\u001b[0;31m---------------------------------------------------------------------------\u001b[0m",
      "\u001b[0;31mNameError\u001b[0m                                 Traceback (most recent call last)",
      "\u001b[0;32m<ipython-input-4-005583812889>\u001b[0m in \u001b[0;36m<module>\u001b[0;34m()\u001b[0m\n\u001b[1;32m      2\u001b[0m \u001b[0mexperiment\u001b[0m  \u001b[0;34m=\u001b[0m \u001b[0;34m\"realistic\"\u001b[0m\u001b[0;34m\u001b[0m\u001b[0m\n\u001b[1;32m      3\u001b[0m \u001b[0;34m\u001b[0m\u001b[0m\n\u001b[0;32m----> 4\u001b[0;31m \u001b[0mexpr_intervals\u001b[0m \u001b[0;34m=\u001b[0m \u001b[0mload_perf_data\u001b[0m\u001b[0;34m(\u001b[0m\u001b[0mapplication\u001b[0m\u001b[0;34m=\u001b[0m\u001b[0;34m\"mictest_sampling\"\u001b[0m\u001b[0;34m,\u001b[0m\u001b[0mexperiment\u001b[0m\u001b[0;34m=\u001b[0m\u001b[0;34m\"realistic\"\u001b[0m\u001b[0;34m)\u001b[0m\u001b[0;34m\u001b[0m\u001b[0m\n\u001b[0m\u001b[1;32m      5\u001b[0m \u001b[0;34m\u001b[0m\u001b[0m\n\u001b[1;32m      6\u001b[0m \u001b[0;31m#level_inds = {'trial': 0, 'rank': 1, 'context': 2, 'thread': 3, 'region': 4}\u001b[0m\u001b[0;34m\u001b[0m\u001b[0;34m\u001b[0m\u001b[0m\n",
      "\u001b[0;31mNameError\u001b[0m: name 'load_perf_data' is not defined"
     ]
    }
   ],
   "source": [
    "expr_intervals = load_perf_data(application=\"mictest_sampling\",experiment=\"realistic\")\n",
    "\n",
    "#level_inds = {'trial': 0, 'rank': 1, 'context': 2, 'thread': 3, 'region': 4}\n",
    "print(expr_intervals.keys())\n",
    "print(\"\")\n",
    "print(expr_intervals['PAPI_TOT_INS'].columns)\n",
    "print(\"\")\n",
    "print(expr_intervals['PAPI_TOT_INS'].index.names)\n",
    "print(\"\")\n",
    "print_metadata(expr_intervals)\n",
    "\n",
    "expr_intervals['PAPI_TOT_INS'].sort_values(by='Inclusive',ascending=False)[[\"Inclusive\"]].head(10)"
   ]
  },
  {
   "cell_type": "markdown",
   "metadata": {},
   "source": [
    "### Importing Scaling Data\n",
    "No data yet, so don't use this"
   ]
  },
  {
   "cell_type": "code",
   "execution_count": 3,
   "metadata": {
    "collapsed": true
   },
   "outputs": [],
   "source": [
    "# scale_intervals = get_pandas_scaling('.tau/mictest_sampling/scaling/')\n",
    "\n",
    "#level_inds = {'trial': 0, 'rank': 1, 'context': 2, 'thread': 3, 'region': 4}\n",
    "# print(scale_intervals.keys())\n",
    "\n",
    "# print(scale_intervals[10].keys())\n",
    "# print(scale_intervals[10]['PAPI_TOT_INS'].columns)\n",
    "# print(scale_intervals[10]['PAPI_TOT_INS'].index.names)\n",
    "\n",
    "# scale_intervals[10]['PAPI_TOT_INS'][[\"Inclusive\"]].head(10)"
   ]
  },
  {
   "cell_type": "markdown",
   "metadata": {},
   "source": [
    "## Adding metrics\n",
    "\n",
    "TODO figure this out\n",
    "  - scale function\n",
    "  - separate threads\n",
    "\n",
    "These are functions that can add metrics to the dictionary"
   ]
  },
  {
   "cell_type": "code",
   "execution_count": 4,
   "metadata": {},
   "outputs": [
    {
     "name": "stdout",
     "output_type": "stream",
     "text": [
      "['PAPI_NATIVE_UOPS_RETIRED:SCALAR_SIMD', 'PAPI_L2_TCA', 'PAPI_NATIVE_LLC_MISSES', 'PAPI_RES_STL', 'PAPI_L2_TCM', 'PAPI_TOT_INS', 'PAPI_NATIVE_UOPS_RETIRED:PACKED_SIMD', 'DERIVED_CPI', 'PAPI_LST_INS', 'PAPI_NATIVE_LLC_REFERENCES', 'PAPI_L1_TCM', 'PAPI_TOT_CYC', 'METADATA']\n"
     ]
    },
    {
     "data": {
      "text/html": [
       "<div>\n",
       "<style scoped>\n",
       "    .dataframe tbody tr th:only-of-type {\n",
       "        vertical-align: middle;\n",
       "    }\n",
       "\n",
       "    .dataframe tbody tr th {\n",
       "        vertical-align: top;\n",
       "    }\n",
       "\n",
       "    .dataframe thead th {\n",
       "        text-align: right;\n",
       "    }\n",
       "</style>\n",
       "<table border=\"1\" class=\"dataframe\">\n",
       "  <thead>\n",
       "    <tr style=\"text-align: right;\">\n",
       "      <th></th>\n",
       "      <th></th>\n",
       "      <th></th>\n",
       "      <th>Calls</th>\n",
       "      <th>Exclusive</th>\n",
       "      <th>Inclusive</th>\n",
       "      <th>ProfileCalls</th>\n",
       "      <th>Subcalls</th>\n",
       "    </tr>\n",
       "    <tr>\n",
       "      <th>context</th>\n",
       "      <th>thread</th>\n",
       "      <th>region</th>\n",
       "      <th></th>\n",
       "      <th></th>\n",
       "      <th></th>\n",
       "      <th></th>\n",
       "      <th></th>\n",
       "    </tr>\n",
       "  </thead>\n",
       "  <tbody>\n",
       "    <tr>\n",
       "      <th rowspan=\"10\" valign=\"top\">0</th>\n",
       "      <th rowspan=\"10\" valign=\"top\">0</th>\n",
       "      <th>[SUMMARY] (anonymous namespace)::MultHelixProp(Matriplex::Matriplex&lt;float, 6, 6, 8&gt; const&amp;, Matriplex::MatriplexSym&lt;float, 6, 8&gt; const&amp;, Matriplex::Matriplex&lt;float, 6, 6, 8&gt;&amp;)</th>\n",
       "      <td>1.000000</td>\n",
       "      <td>1.530762</td>\n",
       "      <td>1.530762</td>\n",
       "      <td>NaN</td>\n",
       "      <td>NaN</td>\n",
       "    </tr>\n",
       "    <tr>\n",
       "      <th>[SUMMARY] (anonymous namespace)::MultHelixPropEndcap(Matriplex::Matriplex&lt;float, 6, 6, 8&gt; const&amp;, Matriplex::MatriplexSym&lt;float, 6, 8&gt; const&amp;, Matriplex::Matriplex&lt;float, 6, 6, 8&gt;&amp;)</th>\n",
       "      <td>1.000000</td>\n",
       "      <td>2.295919</td>\n",
       "      <td>2.295919</td>\n",
       "      <td>NaN</td>\n",
       "      <td>NaN</td>\n",
       "    </tr>\n",
       "    <tr>\n",
       "      <th>[SUMMARY] (anonymous namespace)::MultHelixPropTranspEndcap(Matriplex::Matriplex&lt;float, 6, 6, 8&gt; const&amp;, Matriplex::Matriplex&lt;float, 6, 6, 8&gt; const&amp;, Matriplex::MatriplexSym&lt;float, 6, 8&gt;&amp;)</th>\n",
       "      <td>2.000000</td>\n",
       "      <td>2.746569</td>\n",
       "      <td>2.746569</td>\n",
       "      <td>NaN</td>\n",
       "      <td>NaN</td>\n",
       "    </tr>\n",
       "    <tr>\n",
       "      <th>[SUMMARY] Event::clean_cms_seedtracks()</th>\n",
       "      <td>0.862069</td>\n",
       "      <td>1.410070</td>\n",
       "      <td>1.410070</td>\n",
       "      <td>NaN</td>\n",
       "      <td>NaN</td>\n",
       "    </tr>\n",
       "    <tr>\n",
       "      <th>[SUMMARY] FMA(__m256 const&amp;, __m256 const&amp;, __m256 const&amp;)</th>\n",
       "      <td>3.000000</td>\n",
       "      <td>9.215263</td>\n",
       "      <td>9.215263</td>\n",
       "      <td>NaN</td>\n",
       "      <td>NaN</td>\n",
       "    </tr>\n",
       "    <tr>\n",
       "      <th>[SUMMARY] Hit::Hit()</th>\n",
       "      <td>1.000000</td>\n",
       "      <td>1.553591</td>\n",
       "      <td>1.553591</td>\n",
       "      <td>NaN</td>\n",
       "      <td>NaN</td>\n",
       "    </tr>\n",
       "    <tr>\n",
       "      <th>[SUMMARY] HitOnTrack::HitOnTrack()</th>\n",
       "      <td>1.500000</td>\n",
       "      <td>2.085337</td>\n",
       "      <td>2.085337</td>\n",
       "      <td>NaN</td>\n",
       "      <td>NaN</td>\n",
       "    </tr>\n",
       "    <tr>\n",
       "      <th>[SUMMARY] LayerOfHits::SuckInHits(std::vector&lt;Hit, std::allocator&lt;Hit&gt; &gt; const&amp;)</th>\n",
       "      <td>0.500000</td>\n",
       "      <td>0.787866</td>\n",
       "      <td>0.787866</td>\n",
       "      <td>NaN</td>\n",
       "      <td>NaN</td>\n",
       "    </tr>\n",
       "    <tr>\n",
       "      <th>[SUMMARY] Matriplex::Matriplex&lt;int, 1, 1, 8&gt;::operator()(int, int, int)</th>\n",
       "      <td>1.000000</td>\n",
       "      <td>1.863106</td>\n",
       "      <td>1.863106</td>\n",
       "      <td>NaN</td>\n",
       "      <td>NaN</td>\n",
       "    </tr>\n",
       "    <tr>\n",
       "      <th>[SUMMARY] Matriplex::MatriplexSym&lt;float, 3, 8&gt;::SlurpIn(char const*, int*, int)</th>\n",
       "      <td>1.000000</td>\n",
       "      <td>1.481942</td>\n",
       "      <td>1.481942</td>\n",
       "      <td>NaN</td>\n",
       "      <td>NaN</td>\n",
       "    </tr>\n",
       "  </tbody>\n",
       "</table>\n",
       "</div>"
      ],
      "text/plain": [
       "                                                                      Calls  \\\n",
       "context thread region                                                         \n",
       "0       0      [SUMMARY] (anonymous namespace)::MultHelixProp(...  1.000000   \n",
       "               [SUMMARY] (anonymous namespace)::MultHelixPropE...  1.000000   \n",
       "               [SUMMARY] (anonymous namespace)::MultHelixPropT...  2.000000   \n",
       "               [SUMMARY] Event::clean_cms_seedtracks()             0.862069   \n",
       "               [SUMMARY] FMA(__m256 const&, __m256 const&, __m...  3.000000   \n",
       "               [SUMMARY] Hit::Hit()                                1.000000   \n",
       "               [SUMMARY] HitOnTrack::HitOnTrack()                  1.500000   \n",
       "               [SUMMARY] LayerOfHits::SuckInHits(std::vector<H...  0.500000   \n",
       "               [SUMMARY] Matriplex::Matriplex<int, 1, 1, 8>::o...  1.000000   \n",
       "               [SUMMARY] Matriplex::MatriplexSym<float, 3, 8>:...  1.000000   \n",
       "\n",
       "                                                                   Exclusive  \\\n",
       "context thread region                                                          \n",
       "0       0      [SUMMARY] (anonymous namespace)::MultHelixProp(...   1.530762   \n",
       "               [SUMMARY] (anonymous namespace)::MultHelixPropE...   2.295919   \n",
       "               [SUMMARY] (anonymous namespace)::MultHelixPropT...   2.746569   \n",
       "               [SUMMARY] Event::clean_cms_seedtracks()              1.410070   \n",
       "               [SUMMARY] FMA(__m256 const&, __m256 const&, __m...   9.215263   \n",
       "               [SUMMARY] Hit::Hit()                                 1.553591   \n",
       "               [SUMMARY] HitOnTrack::HitOnTrack()                   2.085337   \n",
       "               [SUMMARY] LayerOfHits::SuckInHits(std::vector<H...   0.787866   \n",
       "               [SUMMARY] Matriplex::Matriplex<int, 1, 1, 8>::o...   1.863106   \n",
       "               [SUMMARY] Matriplex::MatriplexSym<float, 3, 8>:...   1.481942   \n",
       "\n",
       "                                                                   Inclusive  \\\n",
       "context thread region                                                          \n",
       "0       0      [SUMMARY] (anonymous namespace)::MultHelixProp(...   1.530762   \n",
       "               [SUMMARY] (anonymous namespace)::MultHelixPropE...   2.295919   \n",
       "               [SUMMARY] (anonymous namespace)::MultHelixPropT...   2.746569   \n",
       "               [SUMMARY] Event::clean_cms_seedtracks()              1.410070   \n",
       "               [SUMMARY] FMA(__m256 const&, __m256 const&, __m...   9.215263   \n",
       "               [SUMMARY] Hit::Hit()                                 1.553591   \n",
       "               [SUMMARY] HitOnTrack::HitOnTrack()                   2.085337   \n",
       "               [SUMMARY] LayerOfHits::SuckInHits(std::vector<H...   0.787866   \n",
       "               [SUMMARY] Matriplex::Matriplex<int, 1, 1, 8>::o...   1.863106   \n",
       "               [SUMMARY] Matriplex::MatriplexSym<float, 3, 8>:...   1.481942   \n",
       "\n",
       "                                                                   ProfileCalls  \\\n",
       "context thread region                                                             \n",
       "0       0      [SUMMARY] (anonymous namespace)::MultHelixProp(...           NaN   \n",
       "               [SUMMARY] (anonymous namespace)::MultHelixPropE...           NaN   \n",
       "               [SUMMARY] (anonymous namespace)::MultHelixPropT...           NaN   \n",
       "               [SUMMARY] Event::clean_cms_seedtracks()                      NaN   \n",
       "               [SUMMARY] FMA(__m256 const&, __m256 const&, __m...           NaN   \n",
       "               [SUMMARY] Hit::Hit()                                         NaN   \n",
       "               [SUMMARY] HitOnTrack::HitOnTrack()                           NaN   \n",
       "               [SUMMARY] LayerOfHits::SuckInHits(std::vector<H...           NaN   \n",
       "               [SUMMARY] Matriplex::Matriplex<int, 1, 1, 8>::o...           NaN   \n",
       "               [SUMMARY] Matriplex::MatriplexSym<float, 3, 8>:...           NaN   \n",
       "\n",
       "                                                                   Subcalls  \n",
       "context thread region                                                        \n",
       "0       0      [SUMMARY] (anonymous namespace)::MultHelixProp(...       NaN  \n",
       "               [SUMMARY] (anonymous namespace)::MultHelixPropE...       NaN  \n",
       "               [SUMMARY] (anonymous namespace)::MultHelixPropT...       NaN  \n",
       "               [SUMMARY] Event::clean_cms_seedtracks()                  NaN  \n",
       "               [SUMMARY] FMA(__m256 const&, __m256 const&, __m...       NaN  \n",
       "               [SUMMARY] Hit::Hit()                                     NaN  \n",
       "               [SUMMARY] HitOnTrack::HitOnTrack()                       NaN  \n",
       "               [SUMMARY] LayerOfHits::SuckInHits(std::vector<H...       NaN  \n",
       "               [SUMMARY] Matriplex::Matriplex<int, 1, 1, 8>::o...       NaN  \n",
       "               [SUMMARY] Matriplex::MatriplexSym<float, 3, 8>:...       NaN  "
      ]
     },
     "execution_count": 4,
     "metadata": {},
     "output_type": "execute_result"
    }
   ],
   "source": [
    "add_CPI(expr_intervals)\n",
    "print(expr_intervals.keys())\n",
    "\n",
    "expr_intervals['DERIVED_CPI'].head(10)"
   ]
  },
  {
   "cell_type": "markdown",
   "metadata": {},
   "source": [
    "### Metric Generation\n",
    "\n",
    "gen_metric generates the boring bits of the metric adding function\n",
    "* List the metrics you will use\n",
    "* provide a name for the new metric\n",
    "* paste into metrics.py\n",
    "* implement the math bit"
   ]
  },
  {
   "cell_type": "code",
   "execution_count": 5,
   "metadata": {},
   "outputs": [
    {
     "name": "stdout",
     "output_type": "stream",
     "text": [
      "def add_VECTOR_PER_MISS(metrics):\n",
      "\tif (not metrics.has_key(PAPI_NATIVE_UOPS_RETIRED_PACKED_SIMD)):\n",
      "\t\tprint 'ERROR adding VECTOR_PER_MISS to metric dictionary'\n",
      "\t\treturn False\ta0 = metrics[PAPI_NATIVE_UOPS_RETIRED_PACKED_SIMD].copy()\n",
      "\ta0.index = a0.index.droplevel()\n",
      "\tu0 = a0.unstack()\n",
      "\tif (not metrics.has_key(PAPI_L1_TCM)):\n",
      "\t\tprint 'ERROR adding VECTOR_PER_MISS to metric dictionary'\n",
      "\t\treturn False\ta1 = metrics[PAPI_L1_TCM].copy()\n",
      "\ta1.index = a1.index.droplevel()\n",
      "\tu1 = a1.unstack()\n",
      "\tmetrics[VECTOR_PER_MISS] = \"PLEASE IMPLEMENT THIS PART\"\n",
      "\n",
      "\treturn True\n",
      "\n",
      "\n",
      "\n"
     ]
    }
   ],
   "source": [
    "print(gen_metric(['PAPI_NATIVE_UOPS_RETIRED_PACKED_SIMD', 'PAPI_L1_TCM'], \"VECTOR_PER_MISS\"))"
   ]
  },
  {
   "cell_type": "markdown",
   "metadata": {},
   "source": [
    "## Interesting bits\n",
    "\n",
    "This is where the stuff is actually calculated."
   ]
  },
  {
   "cell_type": "code",
   "execution_count": 6,
   "metadata": {},
   "outputs": [
    {
     "name": "stdout",
     "output_type": "stream",
     "text": [
      "selected metric: PAPI_TOT_CYC\n",
      "\n",
      "Hotspot Analysis Summary\n",
      "================================================================================\n",
      "The code regions with largest inclusive time are: \n",
      "1: [SUMMARY] syscall  (2644723369)\n",
      "2: [SUMMARY] std::__detail::_Mod_range_hashing::operator()(unsigned long, unsigned long) const  (1778095163)\n",
      "3: [SUMMARY] _int_free  (1231159555)\n",
      "4: [SUMMARY] _int_malloc  (1219269406)\n",
      "5: [SUMMARY] __GI___libc_malloc  (1202496560)\n",
      "6: [SUMMARY] Event::clean_cms_seedtracks()  (1112271578)\n",
      "7: [SUMMARY] UNRESOLVED /storage/packages/intel/vtune_amplifier_xe_2017.5.0.526192/lib64/libstdc++.so.6.0.20 (881792500)\n",
      "8: [SUMMARY] std::_Hashtable<int, std::pair<int const, int>, std::allocator<std::pair<int const, int> >, std::__detail::_Select1st, std::equal_to<int>, std::hash<int>, std::__detail::_Mod_range_hashing, std::__detail::_Default_ranged_hash, std::__detail::_Prime_rehash_policy, std::__detail::_Hashtable_traits<false, false, true> >::_M_insert_unique_node(unsigned long, unsigned long, std::__detail::_Hash_node<std::pair<int const, int>, false>*)  (728935318)\n",
      "9: [SUMMARY] __intel_mic_avx512f_memset  (657456121)\n",
      "10: [SUMMARY] malloc_consolidate  (627882012)\n",
      "================================================================================\n",
      "Hotspot Analysis Summary\n",
      "================================================================================\n",
      "The code regions with largest inclusive time are: \n",
      "1: [SUMMARY] _int_free  (1231159555)\n",
      "2: [SUMMARY] _int_malloc  (1219269406)\n",
      "3: [SUMMARY] __GI___libc_malloc  (1202496560)\n",
      "4: [SUMMARY] Event::clean_cms_seedtracks()  (1112271578)\n",
      "5: [SUMMARY] UNRESOLVED /storage/packages/intel/vtune_amplifier_xe_2017.5.0.526192/lib64/libstdc++.so.6.0.20 (881792500)\n",
      "6: [SUMMARY] __intel_mic_avx512f_memset  (657456121)\n",
      "7: [SUMMARY] malloc_consolidate  (627882012)\n",
      "8: [SUMMARY] MkFinder::SelectHitIndices(LayerOfHits const&, int)  (503503986)\n",
      "9: [SUMMARY] __svml_sincosf8_l9  (332896727)\n",
      "10: [SUMMARY] __GI___libc_free  (330621773)\n"
     ]
    }
   ],
   "source": [
    "# levels: 0=trial, 1=node, 2=context, 3=thread, 4=region name -- deprecated\n",
    "# levels: 0=rank, 1=context, 2=thread, 3=region name -- deprecated\n",
    "\n",
    "       \n",
    "n=10\n",
    "\n",
    "def get_hotspots(metric):\n",
    "    print('selected metric: %s\\n' %metric)\n",
    "    hotspots(expr_intervals[metric], n, 1)\n",
    "\n",
    "    print('='*80)\n",
    "\n",
    "    filtered_dfs = filter_libs_out(expr_intervals[metric])\n",
    "    hotspots(filtered_dfs, n, 1)\n",
    "    \n",
    "get_hotspots('PAPI_TOT_CYC')\n",
    "\n"
   ]
  },
  {
   "cell_type": "code",
   "execution_count": 7,
   "metadata": {},
   "outputs": [
    {
     "name": "stdout",
     "output_type": "stream",
     "text": [
      "selected metric: DERIVED_CPI\n",
      "\n",
      "Hotspot Analysis Summary\n",
      "================================================================================\n",
      "The code regions with largest inclusive time are: \n",
      "1: [SUMMARY] __GI___sched_yield  (1383.3555433316772)\n",
      "2: [SUMMARY] Matriplex::Matriplex<float, 6, 1, 8>::CopyOut(int, float*) const  (337.8687114599183)\n",
      "3: [SUMMARY] FMA(__m256 const&, __m256 const&, __m256 const&)  (143.3827012750045)\n",
      "4: [SUMMARY] helixAtRFromIterativeCCS(Matriplex::Matriplex<float, 6, 1, 8> const&, Matriplex::Matriplex<int, 1, 1, 8> const&, Matriplex::Matriplex<float, 6, 1, 8>&, Matriplex::Matriplex<float, 1, 1, 8> const&, Matriplex::Matriplex<float, 6, 6, 8>&, int, bool)  (140.12204158515513)\n",
      "5: [SUMMARY] (anonymous namespace)::MultHelixPropEndcap(Matriplex::Matriplex<float, 6, 6, 8> const&, Matriplex::MatriplexSym<float, 6, 8> const&, Matriplex::Matriplex<float, 6, 6, 8>&)  (33.74236172284297)\n",
      "6: [SUMMARY] Matriplex::MatriplexSym<float, 6, 8>::CopyIn(int, float const*)  (30.655652580671333)\n",
      "7: [SUMMARY] _INTERNAL_27_______src_tbb_scheduler_cpp_dbc24cd9::__TBB_machine_pause(int)  (28.928121495919243)\n",
      "8: [SUMMARY] std::abs(float)  (23.734556870200365)\n",
      "9: [SUMMARY] LayerOfHits::SuckInHits(std::vector<Hit, std::allocator<Hit> > const&)  (23.71464616063725)\n",
      "10: [SUMMARY] Matriplex::MatriplexSym<float, 3, 8>::CopyIn(int, float const*)  (22.081609691864763)\n",
      "================================================================================\n",
      "Hotspot Analysis Summary\n",
      "================================================================================\n",
      "The code regions with largest inclusive time are: \n",
      "1: [SUMMARY] __GI___sched_yield  (1383.3555433316772)\n",
      "2: [SUMMARY] Matriplex::Matriplex<float, 6, 1, 8>::CopyOut(int, float*) const  (337.8687114599183)\n",
      "3: [SUMMARY] FMA(__m256 const&, __m256 const&, __m256 const&)  (143.3827012750045)\n",
      "4: [SUMMARY] helixAtRFromIterativeCCS(Matriplex::Matriplex<float, 6, 1, 8> const&, Matriplex::Matriplex<int, 1, 1, 8> const&, Matriplex::Matriplex<float, 6, 1, 8>&, Matriplex::Matriplex<float, 1, 1, 8> const&, Matriplex::Matriplex<float, 6, 6, 8>&, int, bool)  (140.12204158515513)\n",
      "5: [SUMMARY] (anonymous namespace)::MultHelixPropEndcap(Matriplex::Matriplex<float, 6, 6, 8> const&, Matriplex::MatriplexSym<float, 6, 8> const&, Matriplex::Matriplex<float, 6, 6, 8>&)  (33.74236172284297)\n",
      "6: [SUMMARY] Matriplex::MatriplexSym<float, 6, 8>::CopyIn(int, float const*)  (30.655652580671333)\n",
      "7: [SUMMARY] Matriplex::MatriplexSym<float, 3, 8>::CopyIn(int, float const*)  (22.081609691864763)\n",
      "8: [SUMMARY] applyMaterialEffects(Matriplex::Matriplex<float, 1, 1, 8> const&, Matriplex::Matriplex<float, 1, 1, 8> const&, Matriplex::MatriplexSym<float, 6, 8>&, Matriplex::Matriplex<float, 6, 1, 8>&, int)  (16.92444969622049)\n",
      "9: [SUMMARY] __libm_atan2f_l9  (15.143440882479089)\n",
      "10: [SUMMARY] Matriplex::CramerInverterSym<float, 2, 8>::Invert(Matriplex::MatriplexSym<float, 2, 8>&)  (11.207221958173653)\n"
     ]
    }
   ],
   "source": [
    "get_hotspots('DERIVED_CPI')"
   ]
  },
  {
   "cell_type": "code",
   "execution_count": 17,
   "metadata": {},
   "outputs": [
    {
     "name": "stdout",
     "output_type": "stream",
     "text": [
      "selected metric: DERIVED_L1_MISSRATE\n",
      "\n",
      "Hotspot Analysis Summary\n",
      "================================================================================\n",
      "The code regions with largest standard deviation are: \n",
      "1: [SUMMARY] void _INTERNAL1f3c31c2::helixAtRFromIterativeCCS_impl<Matriplex::Matriplex<float, 6, 1, 16>, Matriplex::Matriplex<int, 1, 1, 16>, Matriplex::Matriplex<float, 6, 1, 16>, Matriplex::Matriplex<float, 1, 1, 16>, Matriplex::Matriplex<float, 6, 6, 16> >(Matriplex::Matriplex<float, 6, 1, 16> const&, Matriplex::Matriplex<int, 1, 1, 16> const&, Matriplex::Matriplex<float, 6, 1, 16>&, Matriplex::Matriplex<float, 1, 1, 16> const&, Matriplex::Matriplex<float, 6, 6, 16>&, int, int, int, bool)  (0.224730558282)\n",
      "2: [SUMMARY] _INTERNAL_27_______src_tbb_scheduler_cpp_dbc24cd9::__TBB_machine_pause(int)  (0.0612775331484)\n",
      "3: [SUMMARY] __intel_mic_avx512f_memset  (0.0539007582363)\n",
      "4: [SUMMARY] Matriplex::MatriplexSym<float, 3, 16>::SlurpIn(char const*, __m512i&)  (0.0532490464803)\n",
      "5: [SUMMARY] __intel_mic_avx512f_memcpy  (0.0464728354125)\n",
      "6: [SUMMARY] Matriplex::MatriplexSym<float, 6, 16>::Subtract(Matriplex::MatriplexSym<float, 6, 16> const&, Matriplex::MatriplexSym<float, 6, 16> const&)  (0.0464710890961)\n",
      "7: [SUMMARY] tbb::internal::custom_scheduler<tbb::internal::IntelSchedulerTraits>::receive_or_steal_task(long&)  (0.0427222716334)\n",
      "8: [SUMMARY] (anonymous namespace)::MultHelixPropTransp(Matriplex::Matriplex<float, 6, 6, 16> const&, Matriplex::Matriplex<float, 6, 6, 16> const&, Matriplex::MatriplexSym<float, 6, 16>&)  (0.0416660946102)\n",
      "9: [SUMMARY] Matriplex::MatriplexSym<float, 6, 16>::SlurpIn(char const*, __m512i&)  (0.0411050265931)\n",
      "10: [SUMMARY] syscall  (0.037050999918)\n",
      "================================================================================\n",
      "Hotspot Analysis Summary\n",
      "================================================================================\n",
      "The code regions with largest standard deviation are: \n",
      "1: [SUMMARY] void _INTERNAL1f3c31c2::helixAtRFromIterativeCCS_impl<Matriplex::Matriplex<float, 6, 1, 16>, Matriplex::Matriplex<int, 1, 1, 16>, Matriplex::Matriplex<float, 6, 1, 16>, Matriplex::Matriplex<float, 1, 1, 16>, Matriplex::Matriplex<float, 6, 6, 16> >(Matriplex::Matriplex<float, 6, 1, 16> const&, Matriplex::Matriplex<int, 1, 1, 16> const&, Matriplex::Matriplex<float, 6, 1, 16>&, Matriplex::Matriplex<float, 1, 1, 16> const&, Matriplex::Matriplex<float, 6, 6, 16>&, int, int, int, bool)  (0.224730558282)\n",
      "2: [SUMMARY] __intel_mic_avx512f_memset  (0.0539007582363)\n",
      "3: [SUMMARY] Matriplex::MatriplexSym<float, 3, 16>::SlurpIn(char const*, __m512i&)  (0.0532490464803)\n",
      "4: [SUMMARY] __intel_mic_avx512f_memcpy  (0.0464728354125)\n",
      "5: [SUMMARY] Matriplex::MatriplexSym<float, 6, 16>::Subtract(Matriplex::MatriplexSym<float, 6, 16> const&, Matriplex::MatriplexSym<float, 6, 16> const&)  (0.0464710890961)\n",
      "6: [SUMMARY] (anonymous namespace)::MultHelixPropTransp(Matriplex::Matriplex<float, 6, 6, 16> const&, Matriplex::Matriplex<float, 6, 6, 16> const&, Matriplex::MatriplexSym<float, 6, 16>&)  (0.0416660946102)\n",
      "7: [SUMMARY] Matriplex::MatriplexSym<float, 6, 16>::SlurpIn(char const*, __m512i&)  (0.0411050265931)\n",
      "8: [SUMMARY] sincos4(float, float&, float&)  (0.0352059848643)\n",
      "9: [SUMMARY] Matriplex::Matriplex<float, 3, 1, 16>::SlurpIn(char const*, __m512i&)  (0.0312676698754)\n",
      "10: [SUMMARY] Matriplex::MatriplexSym<float, 6, 16>::CopyOut(int, float*) const  (0.0310795958304)\n"
     ]
    }
   ],
   "source": [
    "add_L1_missrate(expr_intervals)\n",
    "get_hotspots('DERIVED_L1_MISSRATE')"
   ]
  },
  {
   "cell_type": "code",
   "execution_count": 18,
   "metadata": {},
   "outputs": [
    {
     "name": "stdout",
     "output_type": "stream",
     "text": [
      "selected metric: PAPI_NATIVE_UOPS_RETIRED:SCALAR_SIMD\n",
      "\n",
      "Hotspot Analysis Summary\n",
      "================================================================================\n",
      "The code regions with largest standard deviation are: \n",
      "1: [SUMMARY] __read_nocancel  (336101904)\n",
      "2: [SUMMARY] Event::resetLayerHitMap(bool)  (5005640)\n",
      "3: [SUMMARY] make_validation_tree(char const*, std::vector<Track, std::allocator<Track> >&, std::vector<Track, std::allocator<Track> >&)  (4877635)\n",
      "4: [SUMMARY] void std::__uninitialized_default_n_1<false>::__uninit_default_n<Hit*, unsigned long>(Hit*, unsigned long)  (4655578)\n",
      "5: [SUMMARY] std::vector<Hit, std::allocator<Hit> >::size() const  (4235558)\n",
      "6: [SUMMARY] ROOT::Math::SVector<float, 3u>::SVector()  (2695292)\n",
      "7: [SUMMARY] std::vector<HitID, std::allocator<HitID> >::size() const  (1925263)\n",
      "8: [SUMMARY] _IO_file_xsgetn  (1925188)\n",
      "9: [SUMMARY] Matriplex::MatriplexSym<float, 3, 16>::SlurpIn(char const*, __m512i&)  (1540212)\n",
      "10: [SUMMARY] ROOT::Math::SMatrix<float, 6u, 6u, ROOT::Math::MatRepSym<float, 6u> >::SMatrix()  (1540149)\n",
      "================================================================================\n",
      "Hotspot Analysis Summary\n",
      "================================================================================\n",
      "The code regions with largest standard deviation are: \n",
      "1: [SUMMARY] __read_nocancel  (336101904)\n",
      "2: [SUMMARY] Event::resetLayerHitMap(bool)  (5005640)\n",
      "3: [SUMMARY] ROOT::Math::SVector<float, 3u>::SVector()  (2695292)\n",
      "4: [SUMMARY] _IO_file_xsgetn  (1925188)\n",
      "5: [SUMMARY] Matriplex::MatriplexSym<float, 3, 16>::SlurpIn(char const*, __m512i&)  (1540212)\n",
      "6: [SUMMARY] ROOT::Math::SMatrix<float, 6u, 6u, ROOT::Math::MatRepSym<float, 6u> >::SMatrix()  (1540149)\n",
      "7: [SUMMARY] propagateHelixToRMPlex(Matriplex::MatriplexSym<float, 6, 16> const&, Matriplex::Matriplex<float, 6, 1, 16> const&, Matriplex::Matriplex<int, 1, 1, 16> const&, Matriplex::Matriplex<float, 3, 1, 16> const&, Matriplex::MatriplexSym<float, 6, 16>&, Matriplex::Matriplex<float, 6, 1, 16>&, int, bool)  (1155165)\n",
      "8: [SUMMARY] __GI__IO_fread  (1155143)\n",
      "9: [SUMMARY] ROOT::Math::SVector<float, 6u>::SVector()  (770131)\n",
      "10: [SUMMARY] __munmap  (770124)\n"
     ]
    }
   ],
   "source": [
    "get_hotspots('PAPI_NATIVE_UOPS_RETIRED:SCALAR_SIMD')"
   ]
  },
  {
   "cell_type": "code",
   "execution_count": null,
   "metadata": {
    "collapsed": true
   },
   "outputs": [],
   "source": []
  }
 ],
 "metadata": {
  "kernelspec": {
   "display_name": "Python 2",
   "language": "python",
   "name": "python2"
  },
  "language_info": {
   "codemirror_mode": {
    "name": "ipython",
    "version": 2
   },
   "file_extension": ".py",
   "mimetype": "text/x-python",
   "name": "python",
   "nbconvert_exporter": "python",
   "pygments_lexer": "ipython2",
   "version": "2.7.14"
  }
 },
 "nbformat": 4,
 "nbformat_minor": 2
}
