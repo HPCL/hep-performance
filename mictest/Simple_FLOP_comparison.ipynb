{
 "cells": [
  {
   "cell_type": "markdown",
   "metadata": {},
   "source": [
    "# Scaling Analysis Examples TTbar70\n",
    "\n",
    "Authors: Brain Gravelle and Boyana Norris\n",
    "\n",
    "\n",
    "All this is using the taucmdr python libraries from paratools\n",
    "http://taucommander.paratools.com/\n",
    "\n",
    "<a href='#top'>top</a><br>\n",
    "<a href='#data'>Loading Data</a><br>\n",
    "<a href='#metrics'>Metrics</a><br>\n",
    "<a href='#corr'>Correlations</a><br>\n",
    "<a href='#stl_sb'>Store Buffer Stalls</a><br>\n",
    "<a href='#fetch_stalls'>Fetch Stalls</a><br>\n",
    "<a href='#l3'>l3 misses</a><br>"
   ]
  },
  {
   "cell_type": "markdown",
   "metadata": {},
   "source": [
    "## Imports\n",
    "This section imports necessary libraies, the metrics.py and utilities.py files and sets up the window.\n",
    "\n",
    "\n",
    "<a id='top'></a>"
   ]
  },
  {
   "cell_type": "code",
   "execution_count": 29,
   "metadata": {},
   "outputs": [
    {
     "data": {
      "text/html": [
       "<style>.container { width:100% !important; }</style>"
      ],
      "text/plain": [
       "<IPython.core.display.HTML object>"
      ]
     },
     "metadata": {},
     "output_type": "display_data"
    }
   ],
   "source": [
    "# A couple of scripts to set the environent and import data from a .tau set of results\n",
    "from utilities import *\n",
    "from metrics import *\n",
    "# Plotting, notebook settings:\n",
    "%matplotlib inline  \n",
    "#plt.rcParams.update({'font.size': 16})\n",
    "import numbers\n",
    "from IPython.core.display import display, HTML\n",
    "display(HTML(\"<style>.container { width:100% !important; }</style>\"))\n",
    "pd.set_option('display.float_format', lambda x: '%.2e' % x)\n",
    "pd.set_option('display.max_columns',100)\n",
    "pd.set_option('max_colwidth', 70)\n",
    "\n",
    "from IPython.core.interactiveshell import InteractiveShell\n",
    "InteractiveShell.ast_node_interactivity = \"all\"\n",
    "\n",
    "import copy, shelve"
   ]
  },
  {
   "cell_type": "code",
   "execution_count": 30,
   "metadata": {},
   "outputs": [
    {
     "name": "stdout",
     "output_type": "stream",
     "text": [
      "['PAPI_SP_OPS', 'METADATA']\n",
      "['PAPI_SP_OPS', 'METADATA']\n"
     ]
    }
   ],
   "source": [
    "application = \"tau_mictest\"\n",
    "exp1 = \"TAU__SKL-SP_CMSSW_TTbar_PU70_NVU16_NTH1_HS100\"\n",
    "exp2 = \"TAU__SKL-SP_CMSSW_TTbar_PU70_NVU16_NTH1_HS9\"\n",
    "\n",
    "HS100 = load_perf_data(application,exp1,nolibs=False,scaling=False,callpaths=True)\n",
    "#original_metric_data = remove_erroneous_threads(original_metric_data,  [4, 8, 16, 32, 48, 64, 80, 96, 112, 128, 144, 160, 176, 192, 208, 224, 240, 256])\n",
    "\n",
    "HS9   = load_perf_data(application,exp2,nolibs=False,scaling=False,callpaths=True)\n",
    "\n",
    "print HS100.keys()\n",
    "print HS9.keys()\n"
   ]
  },
  {
   "cell_type": "code",
   "execution_count": 31,
   "metadata": {},
   "outputs": [
    {
     "data": {
      "text/html": [
       "<div>\n",
       "<style scoped>\n",
       "    .dataframe tbody tr th:only-of-type {\n",
       "        vertical-align: middle;\n",
       "    }\n",
       "\n",
       "    .dataframe tbody tr th {\n",
       "        vertical-align: top;\n",
       "    }\n",
       "\n",
       "    .dataframe thead th {\n",
       "        text-align: right;\n",
       "    }\n",
       "</style>\n",
       "<table border=\"1\" class=\"dataframe\">\n",
       "  <thead>\n",
       "    <tr style=\"text-align: right;\">\n",
       "      <th></th>\n",
       "      <th></th>\n",
       "      <th></th>\n",
       "      <th></th>\n",
       "      <th>Exclusive</th>\n",
       "    </tr>\n",
       "    <tr>\n",
       "      <th>rank</th>\n",
       "      <th>context</th>\n",
       "      <th>thread</th>\n",
       "      <th>region</th>\n",
       "      <th></th>\n",
       "    </tr>\n",
       "  </thead>\n",
       "  <tbody>\n",
       "    <tr>\n",
       "      <th rowspan=\"5\" valign=\"top\">0</th>\n",
       "      <th rowspan=\"5\" valign=\"top\">0</th>\n",
       "      <th rowspan=\"5\" valign=\"top\">0</th>\n",
       "      <th>[SUMMARY] .TAU application  =&gt; [CONTEXT] .TAU application  =&gt; [SAMPLE] __svml_sincosf16_z0</th>\n",
       "      <td>78932581476</td>\n",
       "    </tr>\n",
       "    <tr>\n",
       "      <th>[SUMMARY] __svml_sincosf16_z0</th>\n",
       "      <td>78932581476</td>\n",
       "    </tr>\n",
       "    <tr>\n",
       "      <th>[SUMMARY] .TAU application  =&gt; [CONTEXT] .TAU application  =&gt; [SAMPLE] void _INTERNAL2f0d72f6::helixAtRFromIterativeCCS_impl&lt;Matriplex::Matriplex&lt;float, 6, 1, 16&gt;, Matriplex::Matriplex&lt;int, 1, 1, 16&gt;, Matriplex::Matriplex&lt;float, 6, 1, 16&gt;, Matriplex::Matriplex&lt;float, 1, 1, 16&gt;, Matriplex::Matriplex&lt;float, 6, 6, 16&gt; &gt;(Matriplex::Matriplex&lt;float, 6, 1, 16&gt; const&amp;, Matriplex::Matriplex&lt;int, 1, 1, 16&gt; const&amp;, Matriplex::Matriplex&lt;float, 1, 1, 16&gt; const&amp;, Matriplex::Matriplex&lt;float, 6, 1, 16&gt;&amp;, Matriplex::Matriplex&lt;float, 6, 6, 16&gt;&amp;, int, int, int, mkfit::PropagationFlags)</th>\n",
       "      <td>78695262863</td>\n",
       "    </tr>\n",
       "    <tr>\n",
       "      <th>[SUMMARY] void _INTERNAL2f0d72f6::helixAtRFromIterativeCCS_impl&lt;Matriplex::Matriplex&lt;float, 6, 1, 16&gt;, Matriplex::Matriplex&lt;int, 1, 1, 16&gt;, Matriplex::Matriplex&lt;float, 6, 1, 16&gt;, Matriplex::Matriplex&lt;float, 1, 1, 16&gt;, Matriplex::Matriplex&lt;float, 6, 6, 16&gt; &gt;(Matriplex::Matriplex&lt;float, 6, 1, 16&gt; const&amp;, Matriplex::Matriplex&lt;int, 1, 1, 16&gt; const&amp;, Matriplex::Matriplex&lt;float, 1, 1, 16&gt; const&amp;, Matriplex::Matriplex&lt;float, 6, 1, 16&gt;&amp;, Matriplex::Matriplex&lt;float, 6, 6, 16&gt;&amp;, int, int, int, mkfit::PropagationFlags)</th>\n",
       "      <td>78695262863</td>\n",
       "    </tr>\n",
       "    <tr>\n",
       "      <th>[SUMMARY] .TAU application  =&gt; [CONTEXT] .TAU application  =&gt; [SAMPLE] __svml_ssincos_cout_rare_internal</th>\n",
       "      <td>73395510875</td>\n",
       "    </tr>\n",
       "  </tbody>\n",
       "</table>\n",
       "</div>"
      ],
      "text/plain": [
       "                                                                                              Exclusive\n",
       "rank context thread region                                                                             \n",
       "0    0       0      [SUMMARY] .TAU application  => [CONTEXT] .TAU application  => [SAMP...  78932581476\n",
       "                    [SUMMARY] __svml_sincosf16_z0                                           78932581476\n",
       "                    [SUMMARY] .TAU application  => [CONTEXT] .TAU application  => [SAMP...  78695262863\n",
       "                    [SUMMARY] void _INTERNAL2f0d72f6::helixAtRFromIterativeCCS_impl<Mat...  78695262863\n",
       "                    [SUMMARY] .TAU application  => [CONTEXT] .TAU application  => [SAMP...  73395510875"
      ]
     },
     "execution_count": 31,
     "metadata": {},
     "output_type": "execute_result"
    }
   ],
   "source": [
    "hs100_sorted = HS100['PAPI_SP_OPS'][['Exclusive']].sort_values(by='Exclusive',ascending=False)\n",
    "hs100_sorted.head(5)"
   ]
  },
  {
   "cell_type": "code",
   "execution_count": 32,
   "metadata": {},
   "outputs": [
    {
     "data": {
      "text/html": [
       "<div>\n",
       "<style scoped>\n",
       "    .dataframe tbody tr th:only-of-type {\n",
       "        vertical-align: middle;\n",
       "    }\n",
       "\n",
       "    .dataframe tbody tr th {\n",
       "        vertical-align: top;\n",
       "    }\n",
       "\n",
       "    .dataframe thead th {\n",
       "        text-align: right;\n",
       "    }\n",
       "</style>\n",
       "<table border=\"1\" class=\"dataframe\">\n",
       "  <thead>\n",
       "    <tr style=\"text-align: right;\">\n",
       "      <th></th>\n",
       "      <th></th>\n",
       "      <th></th>\n",
       "      <th></th>\n",
       "      <th>Exclusive</th>\n",
       "    </tr>\n",
       "    <tr>\n",
       "      <th>rank</th>\n",
       "      <th>context</th>\n",
       "      <th>thread</th>\n",
       "      <th>region</th>\n",
       "      <th></th>\n",
       "    </tr>\n",
       "  </thead>\n",
       "  <tbody>\n",
       "    <tr>\n",
       "      <th rowspan=\"5\" valign=\"top\">0</th>\n",
       "      <th rowspan=\"5\" valign=\"top\">0</th>\n",
       "      <th rowspan=\"5\" valign=\"top\">0</th>\n",
       "      <th>[SUMMARY] void _INTERNAL2f0d72f6::helixAtRFromIterativeCCS_impl&lt;Matriplex::Matriplex&lt;float, 6, 1, 16&gt;, Matriplex::Matriplex&lt;int, 1, 1, 16&gt;, Matriplex::Matriplex&lt;float, 6, 1, 16&gt;, Matriplex::Matriplex&lt;float, 1, 1, 16&gt;, Matriplex::Matriplex&lt;float, 6, 6, 16&gt; &gt;(Matriplex::Matriplex&lt;float, 6, 1, 16&gt; const&amp;, Matriplex::Matriplex&lt;int, 1, 1, 16&gt; const&amp;, Matriplex::Matriplex&lt;float, 1, 1, 16&gt; const&amp;, Matriplex::Matriplex&lt;float, 6, 1, 16&gt;&amp;, Matriplex::Matriplex&lt;float, 6, 6, 16&gt;&amp;, int, int, int, mkfit::PropagationFlags)</th>\n",
       "      <td>83048373841</td>\n",
       "    </tr>\n",
       "    <tr>\n",
       "      <th>[SUMMARY] .TAU application  =&gt; [CONTEXT] .TAU application  =&gt; [SAMPLE] void _INTERNAL2f0d72f6::helixAtRFromIterativeCCS_impl&lt;Matriplex::Matriplex&lt;float, 6, 1, 16&gt;, Matriplex::Matriplex&lt;int, 1, 1, 16&gt;, Matriplex::Matriplex&lt;float, 6, 1, 16&gt;, Matriplex::Matriplex&lt;float, 1, 1, 16&gt;, Matriplex::Matriplex&lt;float, 6, 6, 16&gt; &gt;(Matriplex::Matriplex&lt;float, 6, 1, 16&gt; const&amp;, Matriplex::Matriplex&lt;int, 1, 1, 16&gt; const&amp;, Matriplex::Matriplex&lt;float, 1, 1, 16&gt; const&amp;, Matriplex::Matriplex&lt;float, 6, 1, 16&gt;&amp;, Matriplex::Matriplex&lt;float, 6, 6, 16&gt;&amp;, int, int, int, mkfit::PropagationFlags)</th>\n",
       "      <td>83048373841</td>\n",
       "    </tr>\n",
       "    <tr>\n",
       "      <th>[SUMMARY] .TAU application  =&gt; [CONTEXT] .TAU application  =&gt; [SAMPLE] __svml_sincosf16_z0</th>\n",
       "      <td>55469670444</td>\n",
       "    </tr>\n",
       "    <tr>\n",
       "      <th>[SUMMARY] __svml_sincosf16_z0</th>\n",
       "      <td>55469670444</td>\n",
       "    </tr>\n",
       "    <tr>\n",
       "      <th>[SUMMARY] .TAU application  =&gt; [CONTEXT] .TAU application  =&gt; [SAMPLE] __svml_ssincos_cout_rare_internal</th>\n",
       "      <td>43355015392</td>\n",
       "    </tr>\n",
       "  </tbody>\n",
       "</table>\n",
       "</div>"
      ],
      "text/plain": [
       "                                                                                              Exclusive\n",
       "rank context thread region                                                                             \n",
       "0    0       0      [SUMMARY] void _INTERNAL2f0d72f6::helixAtRFromIterativeCCS_impl<Mat...  83048373841\n",
       "                    [SUMMARY] .TAU application  => [CONTEXT] .TAU application  => [SAMP...  83048373841\n",
       "                    [SUMMARY] .TAU application  => [CONTEXT] .TAU application  => [SAMP...  55469670444\n",
       "                    [SUMMARY] __svml_sincosf16_z0                                           55469670444\n",
       "                    [SUMMARY] .TAU application  => [CONTEXT] .TAU application  => [SAMP...  43355015392"
      ]
     },
     "execution_count": 32,
     "metadata": {},
     "output_type": "execute_result"
    }
   ],
   "source": [
    "hs9_sorted = HS9['PAPI_SP_OPS'][['Exclusive']].sort_values(by='Exclusive',ascending=False)\n",
    "hs9_sorted.head(5)"
   ]
  },
  {
   "cell_type": "code",
   "execution_count": 36,
   "metadata": {},
   "outputs": [
    {
     "data": {
      "text/html": [
       "<div>\n",
       "<style scoped>\n",
       "    .dataframe tbody tr th:only-of-type {\n",
       "        vertical-align: middle;\n",
       "    }\n",
       "\n",
       "    .dataframe tbody tr th {\n",
       "        vertical-align: top;\n",
       "    }\n",
       "\n",
       "    .dataframe thead th {\n",
       "        text-align: right;\n",
       "    }\n",
       "</style>\n",
       "<table border=\"1\" class=\"dataframe\">\n",
       "  <thead>\n",
       "    <tr style=\"text-align: right;\">\n",
       "      <th></th>\n",
       "      <th></th>\n",
       "      <th></th>\n",
       "      <th></th>\n",
       "      <th>Exclusive</th>\n",
       "    </tr>\n",
       "    <tr>\n",
       "      <th>rank</th>\n",
       "      <th>context</th>\n",
       "      <th>thread</th>\n",
       "      <th>region</th>\n",
       "      <th></th>\n",
       "    </tr>\n",
       "  </thead>\n",
       "  <tbody>\n",
       "    <tr>\n",
       "      <th rowspan=\"20\" valign=\"top\">0</th>\n",
       "      <th rowspan=\"20\" valign=\"top\">0</th>\n",
       "      <th rowspan=\"20\" valign=\"top\">0</th>\n",
       "      <th>[SUMMARY] __svml_ssincos_cout_rare_internal</th>\n",
       "      <td>3.00e+10</td>\n",
       "    </tr>\n",
       "    <tr>\n",
       "      <th>[SUMMARY] .TAU application  =&gt; [CONTEXT] .TAU application  =&gt; [SAMPLE] __svml_ssincos_cout_rare_internal</th>\n",
       "      <td>3.00e+10</td>\n",
       "    </tr>\n",
       "    <tr>\n",
       "      <th>[SUMMARY] __svml_sincosf16_z0</th>\n",
       "      <td>2.35e+10</td>\n",
       "    </tr>\n",
       "    <tr>\n",
       "      <th>[SUMMARY] .TAU application  =&gt; [CONTEXT] .TAU application  =&gt; [SAMPLE] __svml_sincosf16_z0</th>\n",
       "      <td>2.35e+10</td>\n",
       "    </tr>\n",
       "    <tr>\n",
       "      <th>[SUMMARY] .TAU application  =&gt; [CONTEXT] .TAU application  =&gt; [SAMPLE] (anonymous namespace)::MultHelixProp(Matriplex::Matriplex&lt;float, 6, 6, 16&gt; const&amp;, Matriplex::MatriplexSym&lt;float, 6, 16&gt; const&amp;, Matriplex::Matriplex&lt;float, 6, 6, 16&gt;&amp;)</th>\n",
       "      <td>1.42e+10</td>\n",
       "    </tr>\n",
       "    <tr>\n",
       "      <th>[SUMMARY] (anonymous namespace)::MultHelixProp(Matriplex::Matriplex&lt;float, 6, 6, 16&gt; const&amp;, Matriplex::MatriplexSym&lt;float, 6, 16&gt; const&amp;, Matriplex::Matriplex&lt;float, 6, 6, 16&gt;&amp;)</th>\n",
       "      <td>1.42e+10</td>\n",
       "    </tr>\n",
       "    <tr>\n",
       "      <th>[SUMMARY] .TAU application  =&gt; [CONTEXT] .TAU application  =&gt; [SAMPLE] (anonymous namespace)::MultHelixPropTransp(Matriplex::Matriplex&lt;float, 6, 6, 16&gt; const&amp;, Matriplex::Matriplex&lt;float, 6, 6, 16&gt; const&amp;, Matriplex::MatriplexSym&lt;float, 6, 16&gt;&amp;)</th>\n",
       "      <td>1.23e+10</td>\n",
       "    </tr>\n",
       "    <tr>\n",
       "      <th>[SUMMARY] (anonymous namespace)::MultHelixPropTransp(Matriplex::Matriplex&lt;float, 6, 6, 16&gt; const&amp;, Matriplex::Matriplex&lt;float, 6, 6, 16&gt; const&amp;, Matriplex::MatriplexSym&lt;float, 6, 16&gt;&amp;)</th>\n",
       "      <td>1.23e+10</td>\n",
       "    </tr>\n",
       "    <tr>\n",
       "      <th>[SUMMARY] Matriplex::MatriplexSym&lt;float, 6, 16&gt;::SlurpIn(char const*, int*, int)</th>\n",
       "      <td>1.22e+10</td>\n",
       "    </tr>\n",
       "    <tr>\n",
       "      <th>[SUMMARY] .TAU application  =&gt; [CONTEXT] .TAU application  =&gt; [SAMPLE] Matriplex::MatriplexSym&lt;float, 6, 16&gt;::SlurpIn(char const*, int*, int)</th>\n",
       "      <td>1.22e+10</td>\n",
       "    </tr>\n",
       "    <tr>\n",
       "      <th>[SUMMARY] std::sqrt(float)</th>\n",
       "      <td>9.98e+09</td>\n",
       "    </tr>\n",
       "    <tr>\n",
       "      <th>[SUMMARY] .TAU application  =&gt; [CONTEXT] .TAU application  =&gt; [SAMPLE] std::sqrt(float)</th>\n",
       "      <td>9.98e+09</td>\n",
       "    </tr>\n",
       "    <tr>\n",
       "      <th>[SUMMARY] .TAU application  =&gt; [CONTEXT] .TAU application  =&gt; [SAMPLE] Matriplex::MatriplexSym&lt;float, 6, 16&gt;::CopyOut(int, float*) const</th>\n",
       "      <td>9.15e+09</td>\n",
       "    </tr>\n",
       "    <tr>\n",
       "      <th>[SUMMARY] Matriplex::MatriplexSym&lt;float, 6, 16&gt;::CopyOut(int, float*) const</th>\n",
       "      <td>9.15e+09</td>\n",
       "    </tr>\n",
       "    <tr>\n",
       "      <th>[SUMMARY] Matriplex::MatriplexSym&lt;float, 6, 16&gt;::Subtract(Matriplex::MatriplexSym&lt;float, 6, 16&gt; const&amp;, Matriplex::MatriplexSym&lt;float, 6, 16&gt; const&amp;)</th>\n",
       "      <td>6.68e+09</td>\n",
       "    </tr>\n",
       "    <tr>\n",
       "      <th>[SUMMARY] .TAU application  =&gt; [CONTEXT] .TAU application  =&gt; [SAMPLE] Matriplex::MatriplexSym&lt;float, 6, 16&gt;::Subtract(Matriplex::MatriplexSym&lt;float, 6, 16&gt; const&amp;, Matriplex::MatriplexSym&lt;float, 6, 16&gt; const&amp;)</th>\n",
       "      <td>6.68e+09</td>\n",
       "    </tr>\n",
       "    <tr>\n",
       "      <th>[SUMMARY] .TAU application  =&gt; [CONTEXT] .TAU application  =&gt; [SAMPLE] mkfit::Track::Track(mkfit::Track const&amp;)</th>\n",
       "      <td>6.17e+09</td>\n",
       "    </tr>\n",
       "    <tr>\n",
       "      <th>[SUMMARY] mkfit::Track::Track(mkfit::Track const&amp;)</th>\n",
       "      <td>6.17e+09</td>\n",
       "    </tr>\n",
       "    <tr>\n",
       "      <th>[SUMMARY] .TAU application  =&gt; [CONTEXT] .TAU application  =&gt; [SAMPLE] Matriplex::Matriplex&lt;float, 6, 6, 16&gt;::operator()(int, int, int)</th>\n",
       "      <td>4.67e+09</td>\n",
       "    </tr>\n",
       "    <tr>\n",
       "      <th>[SUMMARY] Matriplex::Matriplex&lt;float, 6, 6, 16&gt;::operator()(int, int, int)</th>\n",
       "      <td>4.67e+09</td>\n",
       "    </tr>\n",
       "  </tbody>\n",
       "</table>\n",
       "</div>"
      ],
      "text/plain": [
       "                                                                                            Exclusive\n",
       "rank context thread region                                                                           \n",
       "0    0       0      [SUMMARY] __svml_ssincos_cout_rare_internal                              3.00e+10\n",
       "                    [SUMMARY] .TAU application  => [CONTEXT] .TAU application  => [SAMP...   3.00e+10\n",
       "                    [SUMMARY] __svml_sincosf16_z0                                            2.35e+10\n",
       "                    [SUMMARY] .TAU application  => [CONTEXT] .TAU application  => [SAMP...   2.35e+10\n",
       "                    [SUMMARY] .TAU application  => [CONTEXT] .TAU application  => [SAMP...   1.42e+10\n",
       "                    [SUMMARY] (anonymous namespace)::MultHelixProp(Matriplex::Matriplex...   1.42e+10\n",
       "                    [SUMMARY] .TAU application  => [CONTEXT] .TAU application  => [SAMP...   1.23e+10\n",
       "                    [SUMMARY] (anonymous namespace)::MultHelixPropTransp(Matriplex::Mat...   1.23e+10\n",
       "                    [SUMMARY] Matriplex::MatriplexSym<float, 6, 16>::SlurpIn(char const...   1.22e+10\n",
       "                    [SUMMARY] .TAU application  => [CONTEXT] .TAU application  => [SAMP...   1.22e+10\n",
       "                    [SUMMARY] std::sqrt(float)                                               9.98e+09\n",
       "                    [SUMMARY] .TAU application  => [CONTEXT] .TAU application  => [SAMP...   9.98e+09\n",
       "                    [SUMMARY] .TAU application  => [CONTEXT] .TAU application  => [SAMP...   9.15e+09\n",
       "                    [SUMMARY] Matriplex::MatriplexSym<float, 6, 16>::CopyOut(int, float...   9.15e+09\n",
       "                    [SUMMARY] Matriplex::MatriplexSym<float, 6, 16>::Subtract(Matriplex...   6.68e+09\n",
       "                    [SUMMARY] .TAU application  => [CONTEXT] .TAU application  => [SAMP...   6.68e+09\n",
       "                    [SUMMARY] .TAU application  => [CONTEXT] .TAU application  => [SAMP...   6.17e+09\n",
       "                    [SUMMARY] mkfit::Track::Track(mkfit::Track const&)                       6.17e+09\n",
       "                    [SUMMARY] .TAU application  => [CONTEXT] .TAU application  => [SAMP...   4.67e+09\n",
       "                    [SUMMARY] Matriplex::Matriplex<float, 6, 6, 16>::operator()(int, in...   4.67e+09"
      ]
     },
     "execution_count": 36,
     "metadata": {},
     "output_type": "execute_result"
    }
   ],
   "source": [
    "METRIC='PAPI_SP_OPS'\n",
    "func = 'KHC'\n",
    "\n",
    "diff = hs100_sorted - hs9_sorted\n",
    "diff_sorted = diff.sort_values(by='Exclusive',ascending=False)\n",
    "diff_sorted.head(20)"
   ]
  },
  {
   "cell_type": "code",
   "execution_count": 37,
   "metadata": {},
   "outputs": [
    {
     "data": {
      "text/html": [
       "<div>\n",
       "<style scoped>\n",
       "    .dataframe tbody tr th:only-of-type {\n",
       "        vertical-align: middle;\n",
       "    }\n",
       "\n",
       "    .dataframe tbody tr th {\n",
       "        vertical-align: top;\n",
       "    }\n",
       "\n",
       "    .dataframe thead th {\n",
       "        text-align: right;\n",
       "    }\n",
       "</style>\n",
       "<table border=\"1\" class=\"dataframe\">\n",
       "  <thead>\n",
       "    <tr style=\"text-align: right;\">\n",
       "      <th></th>\n",
       "      <th>Exclusive</th>\n",
       "    </tr>\n",
       "    <tr>\n",
       "      <th>region</th>\n",
       "      <th></th>\n",
       "    </tr>\n",
       "  </thead>\n",
       "  <tbody>\n",
       "    <tr>\n",
       "      <th>[SUMMARY] .TAU application  =&gt; [CONTEXT] .TAU application  =&gt; [SAMPLE] (anonymous namespace)::KHC(Matriplex::Matriplex&lt;float, 6, 6, 16&gt; const&amp;, Matriplex::MatriplexSym&lt;float, 6, 16&gt; const&amp;, Matriplex::MatriplexSym&lt;float, 6, 16&gt;&amp;)</th>\n",
       "      <td>1.40e+09</td>\n",
       "    </tr>\n",
       "    <tr>\n",
       "      <th>[SUMMARY] (anonymous namespace)::KHC(Matriplex::Matriplex&lt;float, 6, 6, 16&gt; const&amp;, Matriplex::MatriplexSym&lt;float, 6, 16&gt; const&amp;, Matriplex::MatriplexSym&lt;float, 6, 16&gt;&amp;)</th>\n",
       "      <td>1.40e+09</td>\n",
       "    </tr>\n",
       "  </tbody>\n",
       "</table>\n",
       "</div>"
      ],
      "text/plain": [
       "                                                                        Exclusive\n",
       "region                                                                           \n",
       "[SUMMARY] .TAU application  => [CONTEXT] .TAU application  => [SAMP...   1.40e+09\n",
       "[SUMMARY] (anonymous namespace)::KHC(Matriplex::Matriplex<float, 6,...   1.40e+09"
      ]
     },
     "execution_count": 37,
     "metadata": {},
     "output_type": "execute_result"
    }
   ],
   "source": [
    "diff_searched = get_func_level_metric(diff, func=func, avg=True)\n",
    "diff_searched.head(20)"
   ]
  },
  {
   "cell_type": "code",
   "execution_count": 38,
   "metadata": {},
   "outputs": [
    {
     "data": {
      "text/html": [
       "<div>\n",
       "<style scoped>\n",
       "    .dataframe tbody tr th:only-of-type {\n",
       "        vertical-align: middle;\n",
       "    }\n",
       "\n",
       "    .dataframe tbody tr th {\n",
       "        vertical-align: top;\n",
       "    }\n",
       "\n",
       "    .dataframe thead th {\n",
       "        text-align: right;\n",
       "    }\n",
       "</style>\n",
       "<table border=\"1\" class=\"dataframe\">\n",
       "  <thead>\n",
       "    <tr style=\"text-align: right;\">\n",
       "      <th></th>\n",
       "      <th>Exclusive</th>\n",
       "    </tr>\n",
       "    <tr>\n",
       "      <th>region</th>\n",
       "      <th></th>\n",
       "    </tr>\n",
       "  </thead>\n",
       "  <tbody>\n",
       "    <tr>\n",
       "      <th>[SUMMARY] (anonymous namespace)::KHC(Matriplex::Matriplex&lt;float, 6, 6, 16&gt; const&amp;, Matriplex::MatriplexSym&lt;float, 6, 16&gt; const&amp;, Matriplex::MatriplexSym&lt;float, 6, 16&gt;&amp;)</th>\n",
       "      <td>14551325140</td>\n",
       "    </tr>\n",
       "    <tr>\n",
       "      <th>[SUMMARY] .TAU application  =&gt; [CONTEXT] .TAU application  =&gt; [SAMPLE] (anonymous namespace)::KHC(Matriplex::Matriplex&lt;float, 6, 6, 16&gt; const&amp;, Matriplex::MatriplexSym&lt;float, 6, 16&gt; const&amp;, Matriplex::MatriplexSym&lt;float, 6, 16&gt;&amp;)</th>\n",
       "      <td>14551325140</td>\n",
       "    </tr>\n",
       "  </tbody>\n",
       "</table>\n",
       "</div>"
      ],
      "text/plain": [
       "                                                                          Exclusive\n",
       "region                                                                             \n",
       "[SUMMARY] (anonymous namespace)::KHC(Matriplex::Matriplex<float, 6,...  14551325140\n",
       "[SUMMARY] .TAU application  => [CONTEXT] .TAU application  => [SAMP...  14551325140"
      ]
     },
     "execution_count": 38,
     "metadata": {},
     "output_type": "execute_result"
    }
   ],
   "source": [
    "hs9_searched = get_func_level_metric(hs9_sorted, func=func, avg=True)\n",
    "hs9_searched.head(20)"
   ]
  },
  {
   "cell_type": "code",
   "execution_count": 39,
   "metadata": {},
   "outputs": [
    {
     "data": {
      "text/html": [
       "<div>\n",
       "<style scoped>\n",
       "    .dataframe tbody tr th:only-of-type {\n",
       "        vertical-align: middle;\n",
       "    }\n",
       "\n",
       "    .dataframe tbody tr th {\n",
       "        vertical-align: top;\n",
       "    }\n",
       "\n",
       "    .dataframe thead th {\n",
       "        text-align: right;\n",
       "    }\n",
       "</style>\n",
       "<table border=\"1\" class=\"dataframe\">\n",
       "  <thead>\n",
       "    <tr style=\"text-align: right;\">\n",
       "      <th></th>\n",
       "      <th>Exclusive</th>\n",
       "    </tr>\n",
       "    <tr>\n",
       "      <th>region</th>\n",
       "      <th></th>\n",
       "    </tr>\n",
       "  </thead>\n",
       "  <tbody>\n",
       "    <tr>\n",
       "      <th>[SUMMARY] .TAU application  =&gt; [CONTEXT] .TAU application  =&gt; [SAMPLE] (anonymous namespace)::KHC(Matriplex::Matriplex&lt;float, 6, 6, 16&gt; const&amp;, Matriplex::MatriplexSym&lt;float, 6, 16&gt; const&amp;, Matriplex::MatriplexSym&lt;float, 6, 16&gt;&amp;)</th>\n",
       "      <td>15946816868</td>\n",
       "    </tr>\n",
       "    <tr>\n",
       "      <th>[SUMMARY] (anonymous namespace)::KHC(Matriplex::Matriplex&lt;float, 6, 6, 16&gt; const&amp;, Matriplex::MatriplexSym&lt;float, 6, 16&gt; const&amp;, Matriplex::MatriplexSym&lt;float, 6, 16&gt;&amp;)</th>\n",
       "      <td>15946816868</td>\n",
       "    </tr>\n",
       "  </tbody>\n",
       "</table>\n",
       "</div>"
      ],
      "text/plain": [
       "                                                                          Exclusive\n",
       "region                                                                             \n",
       "[SUMMARY] .TAU application  => [CONTEXT] .TAU application  => [SAMP...  15946816868\n",
       "[SUMMARY] (anonymous namespace)::KHC(Matriplex::Matriplex<float, 6,...  15946816868"
      ]
     },
     "execution_count": 39,
     "metadata": {},
     "output_type": "execute_result"
    }
   ],
   "source": [
    "hs100_searched = get_func_level_metric(hs100_sorted, func=func, avg=True)\n",
    "hs100_searched.head(20)"
   ]
  },
  {
   "cell_type": "code",
   "execution_count": null,
   "metadata": {},
   "outputs": [],
   "source": []
  }
 ],
 "metadata": {
  "kernelspec": {
   "display_name": "Python 2",
   "language": "python",
   "name": "python2"
  },
  "language_info": {
   "codemirror_mode": {
    "name": "ipython",
    "version": 2
   },
   "file_extension": ".py",
   "mimetype": "text/x-python",
   "name": "python",
   "nbconvert_exporter": "python",
   "pygments_lexer": "ipython2",
   "version": "2.7.14"
  }
 },
 "nbformat": 4,
 "nbformat_minor": 2
}
