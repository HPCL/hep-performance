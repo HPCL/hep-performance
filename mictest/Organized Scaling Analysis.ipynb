{
 "cells": [
  {
   "cell_type": "markdown",
   "metadata": {},
   "source": [
    "# Scaling Analysis Talapas TTbar70\n",
    "\n",
    "Author: Brain Gravelle (gravelle@cs.uoregon.edu)\n",
    "\n",
    "\n",
    "All this is using the taucmdr python libraries from paratools\n",
    "http://taucommander.paratools.com/\n",
    "\n",
    "<a href='#top'>top</a><br>\n",
    "<a href='#data'>Loading Data</a><br>\n",
    "<a href='#metrics'>Metrics</a><br>\n",
    "<a href='#corr'>Correlations</a><br>\n",
    "<a href='#stl_sb'>Store Buffer Stalls</a><br>\n",
    "<a href='#fetch_stalls'>Fetch Stalls</a><br>\n",
    "<a href='#l3'>l3 misses</a><br>"
   ]
  },
  {
   "cell_type": "markdown",
   "metadata": {},
   "source": [
    "## Imports\n",
    "This section imports necessary libraies, the metrics.py and utilities.py files and sets up the window.\n",
    "\n",
    "\n",
    "<a id='top'></a>"
   ]
  },
  {
   "cell_type": "code",
   "execution_count": 1,
   "metadata": {},
   "outputs": [
    {
     "data": {
      "text/html": [
       "<style>.container { width:100% !important; }</style>"
      ],
      "text/plain": [
       "<IPython.core.display.HTML object>"
      ]
     },
     "metadata": {},
     "output_type": "display_data"
    }
   ],
   "source": [
    "# A couple of scripts to set the environent and import data from a .tau set of results\n",
    "from utilities import *\n",
    "from metrics import *\n",
    "# Plotting, notebook settings:\n",
    "%matplotlib inline  \n",
    "#plt.rcParams.update({'font.size': 16})\n",
    "import numbers\n",
    "from IPython.core.display import display, HTML\n",
    "display(HTML(\"<style>.container { width:100% !important; }</style>\"))\n",
    "pd.set_option('display.float_format', lambda x: '%.2e' % x)\n",
    "pd.set_option('display.max_columns',100)\n",
    "pd.set_option('max_colwidth', 70)\n",
    "\n",
    "from IPython.core.interactiveshell import InteractiveShell\n",
    "InteractiveShell.ast_node_interactivity = \"all\"\n",
    "\n",
    "import copy"
   ]
  },
  {
   "cell_type": "markdown",
   "metadata": {},
   "source": [
    "## Getting Data\n",
    "<a id='data'></a>\n",
    "\n",
    "TAU Commander uses TAU to run the application and measure it using runtime sampling techniques (similar to Intel VTune). Many customization options are available. For example, we may consider each function regardless of calling context, or we may decide to enable callpath profiling to see each context separately.\n",
    "\n",
    "From the talapas_scaling application the following experiments are available. These use Talapas (with 28 thread Broadwell processors) and the build-ce (realistic) option for mkFit. The first six experiments use the --num-thr option to set the thread count which is intended to perform threading within the events. the last two add the --num-ev-thr option to set the event threads, so that all threads are used to process events in parallel and each event is processed by a single thread. \n",
    "* manual_scaling_Large_talapas\t\t\n",
    "* manual_scaling_Large_talapas_fullnode\t\n",
    "* manual_scaling_TTbar70_talapas\t\t\n",
    "* manual_scaling_TTbar70_talapas_fullnode\n",
    "* manual_scaling_TTbar35_talapas\n",
    "* manual_scaling_TTbar35_talapas_fullnode\n",
    "* ev_thr_scaling_Large_talapas\n",
    "* ev_thr_scaling_Large_talapas_fullnode\n",
    "\n",
    "Additionally available in the cori_scaling application are the following. These were run on NERSC's Cori on the KNL with the default memory settings (quad - 1 NUMA domain, cache - MCDRAM as direct mapped cache). See http://www.nersc.gov/users/computational-systems/cori/running-jobs/advanced-running-jobs-options/ for more info on the KNL modes. Similar to the talapas scaling they use the build-ce option and threading within each event.\n",
    "* manual_scaling_TTbar35\n",
    "* manual_scaling_TTbar70\n",
    "* manual_scaling_Large\n",
    "* mixed_thr_scaling_Large - this is bad\n"
   ]
  },
  {
   "cell_type": "markdown",
   "metadata": {},
   "source": [
    "### Importing Scaling Data - Talapas TTbar70 is current\n",
    "Here we import the data. In this case we are using Cori data from the experiments with the threads working within each event using the TTbar70 file. Note that this box will take an hour or more to run; please go enjoy a coffee while you wait."
   ]
  },
  {
   "cell_type": "code",
   "execution_count": 107,
   "metadata": {},
   "outputs": [
    {
     "name": "stdout",
     "output_type": "stream",
     "text": [
      "Found: 900 trials with 166 errors\n",
      "\n",
      "\n"
     ]
    }
   ],
   "source": [
    "application = \"talapas_scaling\"\n",
    "experiment  = \"manual_scaling_TTbar70_talapas_fullnode\"\n",
    "# experiment  = \"manual_scaling_Large_talapas\"\n",
    "# experiment = \"ev_thr_scaling_Large_talapas\"\n",
    "\n",
    "# application = \"cori_scaling\"\n",
    "# experiment  = \"manual_scaling_TTbar35\"\n",
    "# experiment  = \"manual_scaling_TTbar70\"\n",
    "# experiment  = \"manual_scaling_Large\"\n",
    "# experiment  = \"mixed_thr_scaling_Large\"\n",
    "\n",
    "path = \".tau/\" + application + \"/\" + experiment + \"/\"\n",
    "# note that this function takes a long time to run, so only rerun if you must\n",
    "\n",
    "metric_data = get_pandas_scaling(path, callpaths=True)\n",
    "    \n",
    "if application == \"talapas_scaling\":\n",
    "    metric_data = remove_erroneous_threads(metric_data,  [1, 8, 16, 32, 48, 56])\n",
    "elif application == \"cori_scaling\":\n",
    "    print(metric_data.keys())\n",
    "    metric_data = remove_erroneous_threads(metric_data,  [1, 4, 8, 16, 32, 48, 64, 80, 96, 112, 128, 144, 160, 176, 192, 208, 224, 240, 256])"
   ]
  },
  {
   "cell_type": "markdown",
   "metadata": {},
   "source": [
    "## Adding metrics\n",
    "<a id='metrics'></a>\n",
    "\n",
    "metrics are available in metrics.py. At this time the following can be added:\n",
    "* add_IPC(metrics)          - Instructions per Cycle\n",
    "* add_CPI(metrics)          - Cycles per instruction\n",
    "* add_VIPC(metrics)         - vector instructions per cycle\n",
    "* add_VIPI(metrics)         - vector instructions per instruction (i.e. fraction of total)\n",
    "* add_L1_missrate(metrics)  - miss rate for L1 cache\n",
    "\n",
    "for scaling data please use the add_metric_to_scaling_data(data, metric_func) function to add a metric\n",
    "\n",
    "Here we add some predeefined metrics and print the top 10 functions with the best IPC"
   ]
  },
  {
   "cell_type": "code",
   "execution_count": 139,
   "metadata": {},
   "outputs": [],
   "source": [
    "# New Metric (Not working yet)\n",
    "def add_DERIVED_SP_VOPO(metrics):\n",
    "    if (not metrics.has_key('PAPI_SP_OPS')):\n",
    "        print 'ERROR adding DERIVED_SP_VOPO to metric dictionary'\n",
    "        return False\n",
    "    a0 = metrics['PAPI_SP_OPS'].copy()\n",
    "    a0.index = a0.index.droplevel()\n",
    "    u0 = a0.unstack()\n",
    "    if (not metrics.has_key('PAPI_NATIVE_FP_ARITH:128B_PACKED_SINGLE')):\n",
    "        print 'ERROR adding DERIVED_SP_VOPO to metric dictionary'\n",
    "        return False\n",
    "    a1 = metrics['PAPI_NATIVE_FP_ARITH:128B_PACKED_SINGLE'].copy()\n",
    "    a1.index = a1.index.droplevel()\n",
    "    u1 = a1.unstack()\n",
    "    if (not metrics.has_key('PAPI_NATIVE_FP_ARITH:256B_PACKED_SINGLE')):\n",
    "        print 'ERROR adding DERIVED_SP_VOPO to metric dictionary'\n",
    "        return False\n",
    "    a2 = metrics['PAPI_NATIVE_FP_ARITH:256B_PACKED_SINGLE'].copy()\n",
    "    a2.index = a2.index.droplevel()\n",
    "    u2 = a2.unstack()\n",
    "    metrics['DERIVED_SP_VOPO'] = ((u1 + u2) / (u0)).stack()\n",
    "\n",
    "    return True"
   ]
  },
  {
   "cell_type": "code",
   "execution_count": 146,
   "metadata": {},
   "outputs": [
    {
     "name": "stdout",
     "output_type": "stream",
     "text": [
      "PAPI_L2_TCA\n",
      "PAPI_TLB_DM\n",
      "PAPI_VEC_DP\n",
      "PAPI_L2_TCM\n",
      "DERIVED_CPI\n",
      "PAPI_NATIVE_FP_ARITH:256B_PACKED_SINGLE\n",
      "PAPI_L1_TCM\n",
      "PAPI_BR_MSP\n",
      "PAPI_NATIVE_MACHINE_CLEARS:COUNT\n",
      "PAPI_DP_OPS\n",
      "PAPI_RES_STL\n",
      "PAPI_TOT_INS\n",
      "PAPI_VEC_SP\n",
      "PAPI_BR_CN\n",
      "PAPI_L3_TCA\n",
      "PAPI_TLB_IM\n",
      "PAPI_NATIVE_FP_ARITH:128B_PACKED_SINGLE\n",
      "DERIVED_L1_MISSRATE\n",
      "PAPI_L3_TCM\n",
      "DERIVED_L3_MISSRATE\n",
      "PAPI_NATIVE_FP_ARITH:SCALAR_DOUBLE\n",
      "PAPI_NATIVE_RESOURCE_STALLS:SB\n",
      "PAPI_NATIVE_FP_ARITH:SCALAR_SINGLE\n",
      "PAPI_BR_INS\n",
      "DERIVED_L2_MISSRATE\n",
      "DERIVED_SP_VOPO\n",
      "PAPI_NATIVE_FP_ARITH:128B_PACKED_DOUBLE\n",
      "DERIVED_BRANCH_MR\n",
      "DERIVED_IPC\n",
      "PAPI_LST_INS\n",
      "PAPI_NATIVE_UOPS_RETIRED:STALL_CYCLES\n",
      "PAPI_SP_OPS\n",
      "PAPI_NATIVE_FP_ARITH:256B_PACKED_DOUBLE\n",
      "PAPI_TOT_CYC\n",
      "[32, 48, 56, 8, 16]\n"
     ]
    }
   ],
   "source": [
    "add_metric_to_scaling_data(metric_data, add_CPI)\n",
    "add_metric_to_scaling_data(metric_data, add_IPC)\n",
    "add_metric_to_scaling_data(metric_data, add_L1_missrate)\n",
    "add_metric_to_scaling_data(metric_data, add_L2_missrate)\n",
    "\n",
    "if application == 'cori_scaling': \n",
    "    llc = True\n",
    "    add_metric_to_scaling_data(metric_data, add_VIPI)\n",
    "else: \n",
    "    llc = False\n",
    "#     add_metric_to_scaling_data(metric_data, add_DERIVED_SP_VOPO)\n",
    "    \n",
    "add_metric_to_scaling_data(metric_data, add_L3_missrate, llc)\n",
    "add_metric_to_scaling_data(metric_data, add_DERIVED_BRANCH_MR)\n",
    "\n",
    "print_available_metrics(metric_data, scaling=True)\n",
    "print(metric_data.keys())\n",
    "# To test\n",
    "# metric_data[32]['DERIVED_SP_VOPO'].sort_values(by='Exclusive',ascending=False).head(10)"
   ]
  },
  {
   "cell_type": "markdown",
   "metadata": {},
   "source": [
    "#### Combining metrics"
   ]
  },
  {
   "cell_type": "code",
   "execution_count": 147,
   "metadata": {},
   "outputs": [],
   "source": [
    "THREAD_COUNT = 32\n",
    "\n",
    "alldata = combine_metrics(metric_data[THREAD_COUNT],inc_exc='Exclusive')"
   ]
  },
  {
   "cell_type": "markdown",
   "metadata": {},
   "source": [
    "## Scaling Results\n",
    "\n",
    "In this section we carefully walk through an analysis of the application to find areas of interest.\n",
    "\n",
    "We begin by looking at correlations of data to determine metrics of interest and then move on to ploting those metric. In this analysis we primarily use PAPI_TOT_CYC as a proxy for the time it takes a function to complete."
   ]
  },
  {
   "cell_type": "markdown",
   "metadata": {},
   "source": [
    "## Correlations\n",
    "<a id='corr'></a>"
   ]
  },
  {
   "cell_type": "code",
   "execution_count": 148,
   "metadata": {},
   "outputs": [],
   "source": [
    "cm = sns.light_palette(\"yellow\", as_cmap=True)\n",
    "\n",
    "def get_corr(alldata, method='pearson', metrics=['PAPI_TOT_CYC', 'PAPI_TOT_INS']):\n",
    "    correlations = alldata.corr(method).fillna(0)[metrics]    # Other methods: 'kendall', 'spearman'\n",
    "    return correlations.style.format(\"{:.2%}\").background_gradient(cmap=cm)\n",
    "    \n",
    "pcorr = get_corr(alldata)\n",
    "kcorr = get_corr(alldata, method='kendall')\n",
    "scorr = get_corr(alldata, method='spearman')"
   ]
  },
  {
   "cell_type": "code",
   "execution_count": 143,
   "metadata": {},
   "outputs": [
    {
     "data": {
      "text/html": [
       "<style  type=\"text/css\" >\n",
       "    #T_5087dae6_593e_11e8_a23a_e2002d409401row0_col0 {\n",
       "            background-color:  #ffff00;\n",
       "        }    #T_5087dae6_593e_11e8_a23a_e2002d409401row0_col1 {\n",
       "            background-color:  #ffff2a;\n",
       "        }    #T_5087dae6_593e_11e8_a23a_e2002d409401row0_col2 {\n",
       "            background-color:  #ffff00;\n",
       "        }    #T_5087dae6_593e_11e8_a23a_e2002d409401row0_col3 {\n",
       "            background-color:  #ffff07;\n",
       "        }    #T_5087dae6_593e_11e8_a23a_e2002d409401row0_col4 {\n",
       "            background-color:  #ffff00;\n",
       "        }    #T_5087dae6_593e_11e8_a23a_e2002d409401row0_col5 {\n",
       "            background-color:  #ffff00;\n",
       "        }    #T_5087dae6_593e_11e8_a23a_e2002d409401row1_col0 {\n",
       "            background-color:  #ffff0b;\n",
       "        }    #T_5087dae6_593e_11e8_a23a_e2002d409401row1_col1 {\n",
       "            background-color:  #ffff23;\n",
       "        }    #T_5087dae6_593e_11e8_a23a_e2002d409401row1_col2 {\n",
       "            background-color:  #ffff08;\n",
       "        }    #T_5087dae6_593e_11e8_a23a_e2002d409401row1_col3 {\n",
       "            background-color:  #ffff09;\n",
       "        }    #T_5087dae6_593e_11e8_a23a_e2002d409401row1_col4 {\n",
       "            background-color:  #ffff00;\n",
       "        }    #T_5087dae6_593e_11e8_a23a_e2002d409401row1_col5 {\n",
       "            background-color:  #ffff00;\n",
       "        }    #T_5087dae6_593e_11e8_a23a_e2002d409401row2_col0 {\n",
       "            background-color:  #ffff5d;\n",
       "        }    #T_5087dae6_593e_11e8_a23a_e2002d409401row2_col1 {\n",
       "            background-color:  #ffff10;\n",
       "        }    #T_5087dae6_593e_11e8_a23a_e2002d409401row2_col2 {\n",
       "            background-color:  #ffff0e;\n",
       "        }    #T_5087dae6_593e_11e8_a23a_e2002d409401row2_col3 {\n",
       "            background-color:  #ffff0d;\n",
       "        }    #T_5087dae6_593e_11e8_a23a_e2002d409401row2_col4 {\n",
       "            background-color:  #ffff01;\n",
       "        }    #T_5087dae6_593e_11e8_a23a_e2002d409401row2_col5 {\n",
       "            background-color:  #ffff01;\n",
       "        }    #T_5087dae6_593e_11e8_a23a_e2002d409401row3_col0 {\n",
       "            background-color:  #ffff91;\n",
       "        }    #T_5087dae6_593e_11e8_a23a_e2002d409401row3_col1 {\n",
       "            background-color:  #ffff40;\n",
       "        }    #T_5087dae6_593e_11e8_a23a_e2002d409401row3_col2 {\n",
       "            background-color:  #ffff13;\n",
       "        }    #T_5087dae6_593e_11e8_a23a_e2002d409401row3_col3 {\n",
       "            background-color:  #ffff14;\n",
       "        }    #T_5087dae6_593e_11e8_a23a_e2002d409401row3_col4 {\n",
       "            background-color:  #ffff03;\n",
       "        }    #T_5087dae6_593e_11e8_a23a_e2002d409401row3_col5 {\n",
       "            background-color:  #ffff03;\n",
       "        }    #T_5087dae6_593e_11e8_a23a_e2002d409401row4_col0 {\n",
       "            background-color:  #ffff2a;\n",
       "        }    #T_5087dae6_593e_11e8_a23a_e2002d409401row4_col1 {\n",
       "            background-color:  #ffff06;\n",
       "        }    #T_5087dae6_593e_11e8_a23a_e2002d409401row4_col2 {\n",
       "            background-color:  #ffff0a;\n",
       "        }    #T_5087dae6_593e_11e8_a23a_e2002d409401row4_col3 {\n",
       "            background-color:  #ffff08;\n",
       "        }    #T_5087dae6_593e_11e8_a23a_e2002d409401row4_col4 {\n",
       "            background-color:  #ffff00;\n",
       "        }    #T_5087dae6_593e_11e8_a23a_e2002d409401row4_col5 {\n",
       "            background-color:  #ffff00;\n",
       "        }    #T_5087dae6_593e_11e8_a23a_e2002d409401row5_col0 {\n",
       "            background-color:  #ffffd2;\n",
       "        }    #T_5087dae6_593e_11e8_a23a_e2002d409401row5_col1 {\n",
       "            background-color:  #ffffbf;\n",
       "        }    #T_5087dae6_593e_11e8_a23a_e2002d409401row5_col2 {\n",
       "            background-color:  #ffffc1;\n",
       "        }    #T_5087dae6_593e_11e8_a23a_e2002d409401row5_col3 {\n",
       "            background-color:  #ffffd5;\n",
       "        }    #T_5087dae6_593e_11e8_a23a_e2002d409401row5_col4 {\n",
       "            background-color:  #ffffb6;\n",
       "        }    #T_5087dae6_593e_11e8_a23a_e2002d409401row5_col5 {\n",
       "            background-color:  #ffffd1;\n",
       "        }    #T_5087dae6_593e_11e8_a23a_e2002d409401row6_col0 {\n",
       "            background-color:  #ffff4d;\n",
       "        }    #T_5087dae6_593e_11e8_a23a_e2002d409401row6_col1 {\n",
       "            background-color:  #ffffb2;\n",
       "        }    #T_5087dae6_593e_11e8_a23a_e2002d409401row6_col2 {\n",
       "            background-color:  #ffff27;\n",
       "        }    #T_5087dae6_593e_11e8_a23a_e2002d409401row6_col3 {\n",
       "            background-color:  #ffff28;\n",
       "        }    #T_5087dae6_593e_11e8_a23a_e2002d409401row6_col4 {\n",
       "            background-color:  #ffff1c;\n",
       "        }    #T_5087dae6_593e_11e8_a23a_e2002d409401row6_col5 {\n",
       "            background-color:  #ffff1e;\n",
       "        }    #T_5087dae6_593e_11e8_a23a_e2002d409401row7_col0 {\n",
       "            background-color:  #ffff19;\n",
       "        }    #T_5087dae6_593e_11e8_a23a_e2002d409401row7_col1 {\n",
       "            background-color:  #ffff0d;\n",
       "        }    #T_5087dae6_593e_11e8_a23a_e2002d409401row7_col2 {\n",
       "            background-color:  #ffff07;\n",
       "        }    #T_5087dae6_593e_11e8_a23a_e2002d409401row7_col3 {\n",
       "            background-color:  #ffff09;\n",
       "        }    #T_5087dae6_593e_11e8_a23a_e2002d409401row7_col4 {\n",
       "            background-color:  #ffff00;\n",
       "        }    #T_5087dae6_593e_11e8_a23a_e2002d409401row7_col5 {\n",
       "            background-color:  #ffff01;\n",
       "        }    #T_5087dae6_593e_11e8_a23a_e2002d409401row8_col0 {\n",
       "            background-color:  #ffff12;\n",
       "        }    #T_5087dae6_593e_11e8_a23a_e2002d409401row8_col1 {\n",
       "            background-color:  #ffff2c;\n",
       "        }    #T_5087dae6_593e_11e8_a23a_e2002d409401row8_col2 {\n",
       "            background-color:  #ffff0b;\n",
       "        }    #T_5087dae6_593e_11e8_a23a_e2002d409401row8_col3 {\n",
       "            background-color:  #ffff0e;\n",
       "        }    #T_5087dae6_593e_11e8_a23a_e2002d409401row8_col4 {\n",
       "            background-color:  #ffff01;\n",
       "        }    #T_5087dae6_593e_11e8_a23a_e2002d409401row8_col5 {\n",
       "            background-color:  #ffff01;\n",
       "        }    #T_5087dae6_593e_11e8_a23a_e2002d409401row9_col0 {\n",
       "            background-color:  #ffff7d;\n",
       "        }    #T_5087dae6_593e_11e8_a23a_e2002d409401row9_col1 {\n",
       "            background-color:  #ffff1d;\n",
       "        }    #T_5087dae6_593e_11e8_a23a_e2002d409401row9_col2 {\n",
       "            background-color:  #ffff0b;\n",
       "        }    #T_5087dae6_593e_11e8_a23a_e2002d409401row9_col3 {\n",
       "            background-color:  #ffff0a;\n",
       "        }    #T_5087dae6_593e_11e8_a23a_e2002d409401row9_col4 {\n",
       "            background-color:  #ffff01;\n",
       "        }    #T_5087dae6_593e_11e8_a23a_e2002d409401row9_col5 {\n",
       "            background-color:  #ffff01;\n",
       "        }    #T_5087dae6_593e_11e8_a23a_e2002d409401row10_col0 {\n",
       "            background-color:  #ffff8e;\n",
       "        }    #T_5087dae6_593e_11e8_a23a_e2002d409401row10_col1 {\n",
       "            background-color:  #ffff3a;\n",
       "        }    #T_5087dae6_593e_11e8_a23a_e2002d409401row10_col2 {\n",
       "            background-color:  #ffff12;\n",
       "        }    #T_5087dae6_593e_11e8_a23a_e2002d409401row10_col3 {\n",
       "            background-color:  #ffff13;\n",
       "        }    #T_5087dae6_593e_11e8_a23a_e2002d409401row10_col4 {\n",
       "            background-color:  #ffff02;\n",
       "        }    #T_5087dae6_593e_11e8_a23a_e2002d409401row10_col5 {\n",
       "            background-color:  #ffff03;\n",
       "        }    #T_5087dae6_593e_11e8_a23a_e2002d409401row11_col0 {\n",
       "            background-color:  #ffff2d;\n",
       "        }    #T_5087dae6_593e_11e8_a23a_e2002d409401row11_col1 {\n",
       "            background-color:  #ffff00;\n",
       "        }    #T_5087dae6_593e_11e8_a23a_e2002d409401row11_col2 {\n",
       "            background-color:  #ffff06;\n",
       "        }    #T_5087dae6_593e_11e8_a23a_e2002d409401row11_col3 {\n",
       "            background-color:  #ffff00;\n",
       "        }    #T_5087dae6_593e_11e8_a23a_e2002d409401row11_col4 {\n",
       "            background-color:  #ffff00;\n",
       "        }    #T_5087dae6_593e_11e8_a23a_e2002d409401row11_col5 {\n",
       "            background-color:  #ffff00;\n",
       "        }    #T_5087dae6_593e_11e8_a23a_e2002d409401row12_col0 {\n",
       "            background-color:  #ffff09;\n",
       "        }    #T_5087dae6_593e_11e8_a23a_e2002d409401row12_col1 {\n",
       "            background-color:  #ffff31;\n",
       "        }    #T_5087dae6_593e_11e8_a23a_e2002d409401row12_col2 {\n",
       "            background-color:  #ffff05;\n",
       "        }    #T_5087dae6_593e_11e8_a23a_e2002d409401row12_col3 {\n",
       "            background-color:  #ffff08;\n",
       "        }    #T_5087dae6_593e_11e8_a23a_e2002d409401row12_col4 {\n",
       "            background-color:  #ffff00;\n",
       "        }    #T_5087dae6_593e_11e8_a23a_e2002d409401row12_col5 {\n",
       "            background-color:  #ffff00;\n",
       "        }    #T_5087dae6_593e_11e8_a23a_e2002d409401row13_col0 {\n",
       "            background-color:  #ffffac;\n",
       "        }    #T_5087dae6_593e_11e8_a23a_e2002d409401row13_col1 {\n",
       "            background-color:  #ffffa0;\n",
       "        }    #T_5087dae6_593e_11e8_a23a_e2002d409401row13_col2 {\n",
       "            background-color:  #ffff9a;\n",
       "        }    #T_5087dae6_593e_11e8_a23a_e2002d409401row13_col3 {\n",
       "            background-color:  #ffff9b;\n",
       "        }    #T_5087dae6_593e_11e8_a23a_e2002d409401row13_col4 {\n",
       "            background-color:  #ffff82;\n",
       "        }    #T_5087dae6_593e_11e8_a23a_e2002d409401row13_col5 {\n",
       "            background-color:  #ffff81;\n",
       "        }    #T_5087dae6_593e_11e8_a23a_e2002d409401row14_col0 {\n",
       "            background-color:  #ffff49;\n",
       "        }    #T_5087dae6_593e_11e8_a23a_e2002d409401row14_col1 {\n",
       "            background-color:  #ffffb1;\n",
       "        }    #T_5087dae6_593e_11e8_a23a_e2002d409401row14_col2 {\n",
       "            background-color:  #ffff15;\n",
       "        }    #T_5087dae6_593e_11e8_a23a_e2002d409401row14_col3 {\n",
       "            background-color:  #ffff16;\n",
       "        }    #T_5087dae6_593e_11e8_a23a_e2002d409401row14_col4 {\n",
       "            background-color:  #ffff0b;\n",
       "        }    #T_5087dae6_593e_11e8_a23a_e2002d409401row14_col5 {\n",
       "            background-color:  #ffff0b;\n",
       "        }    #T_5087dae6_593e_11e8_a23a_e2002d409401row15_col0 {\n",
       "            background-color:  #ffff30;\n",
       "        }    #T_5087dae6_593e_11e8_a23a_e2002d409401row15_col1 {\n",
       "            background-color:  #ffff08;\n",
       "        }    #T_5087dae6_593e_11e8_a23a_e2002d409401row15_col2 {\n",
       "            background-color:  #ffff05;\n",
       "        }    #T_5087dae6_593e_11e8_a23a_e2002d409401row15_col3 {\n",
       "            background-color:  #ffff08;\n",
       "        }    #T_5087dae6_593e_11e8_a23a_e2002d409401row15_col4 {\n",
       "            background-color:  #ffff00;\n",
       "        }    #T_5087dae6_593e_11e8_a23a_e2002d409401row15_col5 {\n",
       "            background-color:  #ffff00;\n",
       "        }    #T_5087dae6_593e_11e8_a23a_e2002d409401row16_col0 {\n",
       "            background-color:  #ffff12;\n",
       "        }    #T_5087dae6_593e_11e8_a23a_e2002d409401row16_col1 {\n",
       "            background-color:  #ffff24;\n",
       "        }    #T_5087dae6_593e_11e8_a23a_e2002d409401row16_col2 {\n",
       "            background-color:  #ffff0a;\n",
       "        }    #T_5087dae6_593e_11e8_a23a_e2002d409401row16_col3 {\n",
       "            background-color:  #ffff09;\n",
       "        }    #T_5087dae6_593e_11e8_a23a_e2002d409401row16_col4 {\n",
       "            background-color:  #ffff01;\n",
       "        }    #T_5087dae6_593e_11e8_a23a_e2002d409401row16_col5 {\n",
       "            background-color:  #ffff00;\n",
       "        }    #T_5087dae6_593e_11e8_a23a_e2002d409401row17_col0 {\n",
       "            background-color:  #ffff34;\n",
       "        }    #T_5087dae6_593e_11e8_a23a_e2002d409401row17_col1 {\n",
       "            background-color:  #ffff70;\n",
       "        }    #T_5087dae6_593e_11e8_a23a_e2002d409401row17_col2 {\n",
       "            background-color:  #ffff0e;\n",
       "        }    #T_5087dae6_593e_11e8_a23a_e2002d409401row17_col3 {\n",
       "            background-color:  #ffff0e;\n",
       "        }    #T_5087dae6_593e_11e8_a23a_e2002d409401row17_col4 {\n",
       "            background-color:  #ffff02;\n",
       "        }    #T_5087dae6_593e_11e8_a23a_e2002d409401row17_col5 {\n",
       "            background-color:  #ffff02;\n",
       "        }    #T_5087dae6_593e_11e8_a23a_e2002d409401row18_col0 {\n",
       "            background-color:  #ffff45;\n",
       "        }    #T_5087dae6_593e_11e8_a23a_e2002d409401row18_col1 {\n",
       "            background-color:  #ffffaf;\n",
       "        }    #T_5087dae6_593e_11e8_a23a_e2002d409401row18_col2 {\n",
       "            background-color:  #ffff22;\n",
       "        }    #T_5087dae6_593e_11e8_a23a_e2002d409401row18_col3 {\n",
       "            background-color:  #ffff25;\n",
       "        }    #T_5087dae6_593e_11e8_a23a_e2002d409401row18_col4 {\n",
       "            background-color:  #ffff18;\n",
       "        }    #T_5087dae6_593e_11e8_a23a_e2002d409401row18_col5 {\n",
       "            background-color:  #ffff1b;\n",
       "        }    #T_5087dae6_593e_11e8_a23a_e2002d409401row19_col0 {\n",
       "            background-color:  #ffffe5;\n",
       "        }    #T_5087dae6_593e_11e8_a23a_e2002d409401row19_col1 {\n",
       "            background-color:  #ffffd4;\n",
       "        }    #T_5087dae6_593e_11e8_a23a_e2002d409401row19_col2 {\n",
       "            background-color:  #ffffe5;\n",
       "        }    #T_5087dae6_593e_11e8_a23a_e2002d409401row19_col3 {\n",
       "            background-color:  #ffffe5;\n",
       "        }    #T_5087dae6_593e_11e8_a23a_e2002d409401row19_col4 {\n",
       "            background-color:  #ffffe5;\n",
       "        }    #T_5087dae6_593e_11e8_a23a_e2002d409401row19_col5 {\n",
       "            background-color:  #ffffe5;\n",
       "        }    #T_5087dae6_593e_11e8_a23a_e2002d409401row20_col0 {\n",
       "            background-color:  #ffff35;\n",
       "        }    #T_5087dae6_593e_11e8_a23a_e2002d409401row20_col1 {\n",
       "            background-color:  #ffff0a;\n",
       "        }    #T_5087dae6_593e_11e8_a23a_e2002d409401row20_col2 {\n",
       "            background-color:  #ffff0d;\n",
       "        }    #T_5087dae6_593e_11e8_a23a_e2002d409401row20_col3 {\n",
       "            background-color:  #ffff0b;\n",
       "        }    #T_5087dae6_593e_11e8_a23a_e2002d409401row20_col4 {\n",
       "            background-color:  #ffff01;\n",
       "        }    #T_5087dae6_593e_11e8_a23a_e2002d409401row20_col5 {\n",
       "            background-color:  #ffff01;\n",
       "        }    #T_5087dae6_593e_11e8_a23a_e2002d409401row21_col0 {\n",
       "            background-color:  #ffffcc;\n",
       "        }    #T_5087dae6_593e_11e8_a23a_e2002d409401row21_col1 {\n",
       "            background-color:  #ffff9e;\n",
       "        }    #T_5087dae6_593e_11e8_a23a_e2002d409401row21_col2 {\n",
       "            background-color:  #ffffb7;\n",
       "        }    #T_5087dae6_593e_11e8_a23a_e2002d409401row21_col3 {\n",
       "            background-color:  #ffffb9;\n",
       "        }    #T_5087dae6_593e_11e8_a23a_e2002d409401row21_col4 {\n",
       "            background-color:  #ffffa7;\n",
       "        }    #T_5087dae6_593e_11e8_a23a_e2002d409401row21_col5 {\n",
       "            background-color:  #ffffaa;\n",
       "        }    #T_5087dae6_593e_11e8_a23a_e2002d409401row22_col0 {\n",
       "            background-color:  #ffffa0;\n",
       "        }    #T_5087dae6_593e_11e8_a23a_e2002d409401row22_col1 {\n",
       "            background-color:  #ffffa4;\n",
       "        }    #T_5087dae6_593e_11e8_a23a_e2002d409401row22_col2 {\n",
       "            background-color:  #ffff12;\n",
       "        }    #T_5087dae6_593e_11e8_a23a_e2002d409401row22_col3 {\n",
       "            background-color:  #ffff14;\n",
       "        }    #T_5087dae6_593e_11e8_a23a_e2002d409401row22_col4 {\n",
       "            background-color:  #ffff02;\n",
       "        }    #T_5087dae6_593e_11e8_a23a_e2002d409401row22_col5 {\n",
       "            background-color:  #ffff03;\n",
       "        }    #T_5087dae6_593e_11e8_a23a_e2002d409401row23_col0 {\n",
       "            background-color:  #ffff31;\n",
       "        }    #T_5087dae6_593e_11e8_a23a_e2002d409401row23_col1 {\n",
       "            background-color:  #ffff0a;\n",
       "        }    #T_5087dae6_593e_11e8_a23a_e2002d409401row23_col2 {\n",
       "            background-color:  #ffff0e;\n",
       "        }    #T_5087dae6_593e_11e8_a23a_e2002d409401row23_col3 {\n",
       "            background-color:  #ffff0f;\n",
       "        }    #T_5087dae6_593e_11e8_a23a_e2002d409401row23_col4 {\n",
       "            background-color:  #ffff02;\n",
       "        }    #T_5087dae6_593e_11e8_a23a_e2002d409401row23_col5 {\n",
       "            background-color:  #ffff02;\n",
       "        }    #T_5087dae6_593e_11e8_a23a_e2002d409401row24_col0 {\n",
       "            background-color:  #ffff80;\n",
       "        }    #T_5087dae6_593e_11e8_a23a_e2002d409401row24_col1 {\n",
       "            background-color:  #ffffe5;\n",
       "        }    #T_5087dae6_593e_11e8_a23a_e2002d409401row24_col2 {\n",
       "            background-color:  #ffff18;\n",
       "        }    #T_5087dae6_593e_11e8_a23a_e2002d409401row24_col3 {\n",
       "            background-color:  #ffff1a;\n",
       "        }    #T_5087dae6_593e_11e8_a23a_e2002d409401row24_col4 {\n",
       "            background-color:  #ffff0b;\n",
       "        }    #T_5087dae6_593e_11e8_a23a_e2002d409401row24_col5 {\n",
       "            background-color:  #ffff0c;\n",
       "        }    #T_5087dae6_593e_11e8_a23a_e2002d409401row25_col0 {\n",
       "            background-color:  #ffff3d;\n",
       "        }    #T_5087dae6_593e_11e8_a23a_e2002d409401row25_col1 {\n",
       "            background-color:  #ffff08;\n",
       "        }    #T_5087dae6_593e_11e8_a23a_e2002d409401row25_col2 {\n",
       "            background-color:  #ffff05;\n",
       "        }    #T_5087dae6_593e_11e8_a23a_e2002d409401row25_col3 {\n",
       "            background-color:  #ffff07;\n",
       "        }    #T_5087dae6_593e_11e8_a23a_e2002d409401row25_col4 {\n",
       "            background-color:  #ffff00;\n",
       "        }    #T_5087dae6_593e_11e8_a23a_e2002d409401row25_col5 {\n",
       "            background-color:  #ffff00;\n",
       "        }    #T_5087dae6_593e_11e8_a23a_e2002d409401row26_col0 {\n",
       "            background-color:  #ffffe5;\n",
       "        }    #T_5087dae6_593e_11e8_a23a_e2002d409401row26_col1 {\n",
       "            background-color:  #ffffb8;\n",
       "        }    #T_5087dae6_593e_11e8_a23a_e2002d409401row26_col2 {\n",
       "            background-color:  #ffffd5;\n",
       "        }    #T_5087dae6_593e_11e8_a23a_e2002d409401row26_col3 {\n",
       "            background-color:  #ffffd6;\n",
       "        }    #T_5087dae6_593e_11e8_a23a_e2002d409401row26_col4 {\n",
       "            background-color:  #ffffd3;\n",
       "        }    #T_5087dae6_593e_11e8_a23a_e2002d409401row26_col5 {\n",
       "            background-color:  #ffffd3;\n",
       "        }    #T_5087dae6_593e_11e8_a23a_e2002d409401row27_col0 {\n",
       "            background-color:  #ffff8e;\n",
       "        }    #T_5087dae6_593e_11e8_a23a_e2002d409401row27_col1 {\n",
       "            background-color:  #ffff43;\n",
       "        }    #T_5087dae6_593e_11e8_a23a_e2002d409401row27_col2 {\n",
       "            background-color:  #ffff6e;\n",
       "        }    #T_5087dae6_593e_11e8_a23a_e2002d409401row27_col3 {\n",
       "            background-color:  #ffff72;\n",
       "        }    #T_5087dae6_593e_11e8_a23a_e2002d409401row27_col4 {\n",
       "            background-color:  #ffff5f;\n",
       "        }    #T_5087dae6_593e_11e8_a23a_e2002d409401row27_col5 {\n",
       "            background-color:  #ffff65;\n",
       "        }    #T_5087dae6_593e_11e8_a23a_e2002d409401row28_col0 {\n",
       "            background-color:  #ffffb3;\n",
       "        }    #T_5087dae6_593e_11e8_a23a_e2002d409401row28_col1 {\n",
       "            background-color:  #ffffb5;\n",
       "        }    #T_5087dae6_593e_11e8_a23a_e2002d409401row28_col2 {\n",
       "            background-color:  #ffffa3;\n",
       "        }    #T_5087dae6_593e_11e8_a23a_e2002d409401row28_col3 {\n",
       "            background-color:  #ffffb9;\n",
       "        }    #T_5087dae6_593e_11e8_a23a_e2002d409401row28_col4 {\n",
       "            background-color:  #ffff8f;\n",
       "        }    #T_5087dae6_593e_11e8_a23a_e2002d409401row28_col5 {\n",
       "            background-color:  #ffffaa;\n",
       "        }    #T_5087dae6_593e_11e8_a23a_e2002d409401row29_col0 {\n",
       "            background-color:  #ffffb7;\n",
       "        }    #T_5087dae6_593e_11e8_a23a_e2002d409401row29_col1 {\n",
       "            background-color:  #ffffab;\n",
       "        }    #T_5087dae6_593e_11e8_a23a_e2002d409401row29_col2 {\n",
       "            background-color:  #ffff25;\n",
       "        }    #T_5087dae6_593e_11e8_a23a_e2002d409401row29_col3 {\n",
       "            background-color:  #ffff27;\n",
       "        }    #T_5087dae6_593e_11e8_a23a_e2002d409401row29_col4 {\n",
       "            background-color:  #ffff15;\n",
       "        }    #T_5087dae6_593e_11e8_a23a_e2002d409401row29_col5 {\n",
       "            background-color:  #ffff17;\n",
       "        }    #T_5087dae6_593e_11e8_a23a_e2002d409401row30_col0 {\n",
       "            background-color:  #ffff09;\n",
       "        }    #T_5087dae6_593e_11e8_a23a_e2002d409401row30_col1 {\n",
       "            background-color:  #ffff15;\n",
       "        }    #T_5087dae6_593e_11e8_a23a_e2002d409401row30_col2 {\n",
       "            background-color:  #ffff05;\n",
       "        }    #T_5087dae6_593e_11e8_a23a_e2002d409401row30_col3 {\n",
       "            background-color:  #ffff09;\n",
       "        }    #T_5087dae6_593e_11e8_a23a_e2002d409401row30_col4 {\n",
       "            background-color:  #ffff00;\n",
       "        }    #T_5087dae6_593e_11e8_a23a_e2002d409401row30_col5 {\n",
       "            background-color:  #ffff00;\n",
       "        }    #T_5087dae6_593e_11e8_a23a_e2002d409401row31_col0 {\n",
       "            background-color:  #ffff21;\n",
       "        }    #T_5087dae6_593e_11e8_a23a_e2002d409401row31_col1 {\n",
       "            background-color:  #ffff06;\n",
       "        }    #T_5087dae6_593e_11e8_a23a_e2002d409401row31_col2 {\n",
       "            background-color:  #ffff05;\n",
       "        }    #T_5087dae6_593e_11e8_a23a_e2002d409401row31_col3 {\n",
       "            background-color:  #ffff06;\n",
       "        }    #T_5087dae6_593e_11e8_a23a_e2002d409401row31_col4 {\n",
       "            background-color:  #ffff00;\n",
       "        }    #T_5087dae6_593e_11e8_a23a_e2002d409401row31_col5 {\n",
       "            background-color:  #ffff00;\n",
       "        }    #T_5087dae6_593e_11e8_a23a_e2002d409401row32_col0 {\n",
       "            background-color:  #ffff3a;\n",
       "        }    #T_5087dae6_593e_11e8_a23a_e2002d409401row32_col1 {\n",
       "            background-color:  #ffff9f;\n",
       "        }    #T_5087dae6_593e_11e8_a23a_e2002d409401row32_col2 {\n",
       "            background-color:  #ffff15;\n",
       "        }    #T_5087dae6_593e_11e8_a23a_e2002d409401row32_col3 {\n",
       "            background-color:  #ffff17;\n",
       "        }    #T_5087dae6_593e_11e8_a23a_e2002d409401row32_col4 {\n",
       "            background-color:  #ffff0b;\n",
       "        }    #T_5087dae6_593e_11e8_a23a_e2002d409401row32_col5 {\n",
       "            background-color:  #ffff0c;\n",
       "        }    #T_5087dae6_593e_11e8_a23a_e2002d409401row33_col0 {\n",
       "            background-color:  #ffffb8;\n",
       "        }    #T_5087dae6_593e_11e8_a23a_e2002d409401row33_col1 {\n",
       "            background-color:  #ffffae;\n",
       "        }    #T_5087dae6_593e_11e8_a23a_e2002d409401row33_col2 {\n",
       "            background-color:  #ffffad;\n",
       "        }    #T_5087dae6_593e_11e8_a23a_e2002d409401row33_col3 {\n",
       "            background-color:  #ffffb8;\n",
       "        }    #T_5087dae6_593e_11e8_a23a_e2002d409401row33_col4 {\n",
       "            background-color:  #ffff9c;\n",
       "        }    #T_5087dae6_593e_11e8_a23a_e2002d409401row33_col5 {\n",
       "            background-color:  #ffffa8;\n",
       "        }</style>  \n",
       "<table id=\"T_5087dae6_593e_11e8_a23a_e2002d409401\" > \n",
       "<thead>    <tr> \n",
       "        <th class=\"blank level0\" ></th> \n",
       "        <th class=\"col_heading level0 col0\" >p_PAPI_TOT_CYC</th> \n",
       "        <th class=\"col_heading level0 col1\" >p_PAPI_RES_STL</th> \n",
       "        <th class=\"col_heading level0 col2\" >k_PAPI_TOT_CYC</th> \n",
       "        <th class=\"col_heading level0 col3\" >k_PAPI_RES_STL</th> \n",
       "        <th class=\"col_heading level0 col4\" >s_PAPI_TOT_CYC</th> \n",
       "        <th class=\"col_heading level0 col5\" >s_PAPI_RES_STL</th> \n",
       "    </tr></thead> \n",
       "<tbody>    <tr> \n",
       "        <th id=\"T_5087dae6_593e_11e8_a23a_e2002d409401level0_row0\" class=\"row_heading level0 row0\" >PAPI_TOT_CYC</th> \n",
       "        <td id=\"T_5087dae6_593e_11e8_a23a_e2002d409401row0_col0\" class=\"data row0 col0\" >100.00%</td> \n",
       "        <td id=\"T_5087dae6_593e_11e8_a23a_e2002d409401row0_col1\" class=\"data row0 col1\" >75.27%</td> \n",
       "        <td id=\"T_5087dae6_593e_11e8_a23a_e2002d409401row0_col2\" class=\"data row0 col2\" >100.00%</td> \n",
       "        <td id=\"T_5087dae6_593e_11e8_a23a_e2002d409401row0_col3\" class=\"data row0 col3\" >95.87%</td> \n",
       "        <td id=\"T_5087dae6_593e_11e8_a23a_e2002d409401row0_col4\" class=\"data row0 col4\" >100.00%</td> \n",
       "        <td id=\"T_5087dae6_593e_11e8_a23a_e2002d409401row0_col5\" class=\"data row0 col5\" >99.68%</td> \n",
       "    </tr>    <tr> \n",
       "        <th id=\"T_5087dae6_593e_11e8_a23a_e2002d409401level0_row1\" class=\"row_heading level0 row1\" >PAPI_L2_TCA</th> \n",
       "        <td id=\"T_5087dae6_593e_11e8_a23a_e2002d409401row1_col0\" class=\"data row1 col0\" >93.90%</td> \n",
       "        <td id=\"T_5087dae6_593e_11e8_a23a_e2002d409401row1_col1\" class=\"data row1 col1\" >79.39%</td> \n",
       "        <td id=\"T_5087dae6_593e_11e8_a23a_e2002d409401row1_col2\" class=\"data row1 col2\" >94.96%</td> \n",
       "        <td id=\"T_5087dae6_593e_11e8_a23a_e2002d409401row1_col3\" class=\"data row1 col3\" >94.83%</td> \n",
       "        <td id=\"T_5087dae6_593e_11e8_a23a_e2002d409401row1_col4\" class=\"data row1 col4\" >99.55%</td> \n",
       "        <td id=\"T_5087dae6_593e_11e8_a23a_e2002d409401row1_col5\" class=\"data row1 col5\" >99.52%</td> \n",
       "    </tr>    <tr> \n",
       "        <th id=\"T_5087dae6_593e_11e8_a23a_e2002d409401level0_row2\" class=\"row_heading level0 row2\" >PAPI_TLB_DM</th> \n",
       "        <td id=\"T_5087dae6_593e_11e8_a23a_e2002d409401row2_col0\" class=\"data row2 col0\" >49.36%</td> \n",
       "        <td id=\"T_5087dae6_593e_11e8_a23a_e2002d409401row2_col1\" class=\"data row2 col1\" >90.57%</td> \n",
       "        <td id=\"T_5087dae6_593e_11e8_a23a_e2002d409401row2_col2\" class=\"data row2 col2\" >91.89%</td> \n",
       "        <td id=\"T_5087dae6_593e_11e8_a23a_e2002d409401row2_col3\" class=\"data row2 col3\" >92.94%</td> \n",
       "        <td id=\"T_5087dae6_593e_11e8_a23a_e2002d409401row2_col4\" class=\"data row2 col4\" >98.98%</td> \n",
       "        <td id=\"T_5087dae6_593e_11e8_a23a_e2002d409401row2_col5\" class=\"data row2 col5\" >99.19%</td> \n",
       "    </tr>    <tr> \n",
       "        <th id=\"T_5087dae6_593e_11e8_a23a_e2002d409401level0_row3\" class=\"row_heading level0 row3\" >PAPI_VEC_DP</th> \n",
       "        <td id=\"T_5087dae6_593e_11e8_a23a_e2002d409401row3_col0\" class=\"data row3 col0\" >21.12%</td> \n",
       "        <td id=\"T_5087dae6_593e_11e8_a23a_e2002d409401row3_col1\" class=\"data row3 col1\" >62.78%</td> \n",
       "        <td id=\"T_5087dae6_593e_11e8_a23a_e2002d409401row3_col2\" class=\"data row3 col2\" >89.09%</td> \n",
       "        <td id=\"T_5087dae6_593e_11e8_a23a_e2002d409401row3_col3\" class=\"data row3 col3\" >89.07%</td> \n",
       "        <td id=\"T_5087dae6_593e_11e8_a23a_e2002d409401row3_col4\" class=\"data row3 col4\" >98.27%</td> \n",
       "        <td id=\"T_5087dae6_593e_11e8_a23a_e2002d409401row3_col5\" class=\"data row3 col5\" >98.31%</td> \n",
       "    </tr>    <tr> \n",
       "        <th id=\"T_5087dae6_593e_11e8_a23a_e2002d409401level0_row4\" class=\"row_heading level0 row4\" >PAPI_L2_TCM</th> \n",
       "        <td id=\"T_5087dae6_593e_11e8_a23a_e2002d409401row4_col0\" class=\"data row4 col0\" >76.68%</td> \n",
       "        <td id=\"T_5087dae6_593e_11e8_a23a_e2002d409401row4_col1\" class=\"data row4 col1\" >96.25%</td> \n",
       "        <td id=\"T_5087dae6_593e_11e8_a23a_e2002d409401row4_col2\" class=\"data row4 col2\" >94.24%</td> \n",
       "        <td id=\"T_5087dae6_593e_11e8_a23a_e2002d409401row4_col3\" class=\"data row4 col3\" >95.37%</td> \n",
       "        <td id=\"T_5087dae6_593e_11e8_a23a_e2002d409401row4_col4\" class=\"data row4 col4\" >99.43%</td> \n",
       "        <td id=\"T_5087dae6_593e_11e8_a23a_e2002d409401row4_col5\" class=\"data row4 col5\" >99.62%</td> \n",
       "    </tr>    <tr> \n",
       "        <th id=\"T_5087dae6_593e_11e8_a23a_e2002d409401level0_row5\" class=\"row_heading level0 row5\" >DERIVED_CPI</th> \n",
       "        <td id=\"T_5087dae6_593e_11e8_a23a_e2002d409401row5_col0\" class=\"data row5 col0\" >-13.82%</td> \n",
       "        <td id=\"T_5087dae6_593e_11e8_a23a_e2002d409401row5_col1\" class=\"data row5 col1\" >-9.75%</td> \n",
       "        <td id=\"T_5087dae6_593e_11e8_a23a_e2002d409401row5_col2\" class=\"data row5 col2\" >-11.35%</td> \n",
       "        <td id=\"T_5087dae6_593e_11e8_a23a_e2002d409401row5_col3\" class=\"data row5 col3\" >-15.95%</td> \n",
       "        <td id=\"T_5087dae6_593e_11e8_a23a_e2002d409401row5_col4\" class=\"data row5 col4\" >-16.46%</td> \n",
       "        <td id=\"T_5087dae6_593e_11e8_a23a_e2002d409401row5_col5\" class=\"data row5 col5\" >-23.51%</td> \n",
       "    </tr>    <tr> \n",
       "        <th id=\"T_5087dae6_593e_11e8_a23a_e2002d409401level0_row6\" class=\"row_heading level0 row6\" >PAPI_NATIVE_FP_ARITH:256B_PACKED_SINGLE</th> \n",
       "        <td id=\"T_5087dae6_593e_11e8_a23a_e2002d409401row6_col0\" class=\"data row6 col0\" >58.46%</td> \n",
       "        <td id=\"T_5087dae6_593e_11e8_a23a_e2002d409401row6_col1\" class=\"data row6 col1\" >-2.68%</td> \n",
       "        <td id=\"T_5087dae6_593e_11e8_a23a_e2002d409401row6_col2\" class=\"data row6 col2\" >77.54%</td> \n",
       "        <td id=\"T_5087dae6_593e_11e8_a23a_e2002d409401row6_col3\" class=\"data row6 col3\" >77.79%</td> \n",
       "        <td id=\"T_5087dae6_593e_11e8_a23a_e2002d409401row6_col4\" class=\"data row6 col4\" >82.01%</td> \n",
       "        <td id=\"T_5087dae6_593e_11e8_a23a_e2002d409401row6_col5\" class=\"data row6 col5\" >82.20%</td> \n",
       "    </tr>    <tr> \n",
       "        <th id=\"T_5087dae6_593e_11e8_a23a_e2002d409401level0_row7\" class=\"row_heading level0 row7\" >PAPI_L1_TCM</th> \n",
       "        <td id=\"T_5087dae6_593e_11e8_a23a_e2002d409401row7_col0\" class=\"data row7 col0\" >86.26%</td> \n",
       "        <td id=\"T_5087dae6_593e_11e8_a23a_e2002d409401row7_col1\" class=\"data row7 col1\" >92.72%</td> \n",
       "        <td id=\"T_5087dae6_593e_11e8_a23a_e2002d409401row7_col2\" class=\"data row7 col2\" >95.58%</td> \n",
       "        <td id=\"T_5087dae6_593e_11e8_a23a_e2002d409401row7_col3\" class=\"data row7 col3\" >95.01%</td> \n",
       "        <td id=\"T_5087dae6_593e_11e8_a23a_e2002d409401row7_col4\" class=\"data row7 col4\" >99.45%</td> \n",
       "        <td id=\"T_5087dae6_593e_11e8_a23a_e2002d409401row7_col5\" class=\"data row7 col5\" >99.31%</td> \n",
       "    </tr>    <tr> \n",
       "        <th id=\"T_5087dae6_593e_11e8_a23a_e2002d409401level0_row8\" class=\"row_heading level0 row8\" >PAPI_BR_MSP</th> \n",
       "        <td id=\"T_5087dae6_593e_11e8_a23a_e2002d409401row8_col0\" class=\"data row8 col0\" >89.86%</td> \n",
       "        <td id=\"T_5087dae6_593e_11e8_a23a_e2002d409401row8_col1\" class=\"data row8 col1\" >74.24%</td> \n",
       "        <td id=\"T_5087dae6_593e_11e8_a23a_e2002d409401row8_col2\" class=\"data row8 col2\" >93.35%</td> \n",
       "        <td id=\"T_5087dae6_593e_11e8_a23a_e2002d409401row8_col3\" class=\"data row8 col3\" >92.03%</td> \n",
       "        <td id=\"T_5087dae6_593e_11e8_a23a_e2002d409401row8_col4\" class=\"data row8 col4\" >99.23%</td> \n",
       "        <td id=\"T_5087dae6_593e_11e8_a23a_e2002d409401row8_col5\" class=\"data row8 col5\" >98.94%</td> \n",
       "    </tr>    <tr> \n",
       "        <th id=\"T_5087dae6_593e_11e8_a23a_e2002d409401level0_row9\" class=\"row_heading level0 row9\" >PAPI_NATIVE_MACHINE_CLEARS:COUNT</th> \n",
       "        <td id=\"T_5087dae6_593e_11e8_a23a_e2002d409401row9_col0\" class=\"data row9 col0\" >31.79%</td> \n",
       "        <td id=\"T_5087dae6_593e_11e8_a23a_e2002d409401row9_col1\" class=\"data row9 col1\" >83.35%</td> \n",
       "        <td id=\"T_5087dae6_593e_11e8_a23a_e2002d409401row9_col2\" class=\"data row9 col2\" >93.60%</td> \n",
       "        <td id=\"T_5087dae6_593e_11e8_a23a_e2002d409401row9_col3\" class=\"data row9 col3\" >94.42%</td> \n",
       "        <td id=\"T_5087dae6_593e_11e8_a23a_e2002d409401row9_col4\" class=\"data row9 col4\" >99.32%</td> \n",
       "        <td id=\"T_5087dae6_593e_11e8_a23a_e2002d409401row9_col5\" class=\"data row9 col5\" >99.45%</td> \n",
       "    </tr>    <tr> \n",
       "        <th id=\"T_5087dae6_593e_11e8_a23a_e2002d409401level0_row10\" class=\"row_heading level0 row10\" >PAPI_DP_OPS</th> \n",
       "        <td id=\"T_5087dae6_593e_11e8_a23a_e2002d409401row10_col0\" class=\"data row10 col0\" >22.72%</td> \n",
       "        <td id=\"T_5087dae6_593e_11e8_a23a_e2002d409401row10_col1\" class=\"data row10 col1\" >66.41%</td> \n",
       "        <td id=\"T_5087dae6_593e_11e8_a23a_e2002d409401row10_col2\" class=\"data row10 col2\" >89.45%</td> \n",
       "        <td id=\"T_5087dae6_593e_11e8_a23a_e2002d409401row10_col3\" class=\"data row10 col3\" >89.32%</td> \n",
       "        <td id=\"T_5087dae6_593e_11e8_a23a_e2002d409401row10_col4\" class=\"data row10 col4\" >98.37%</td> \n",
       "        <td id=\"T_5087dae6_593e_11e8_a23a_e2002d409401row10_col5\" class=\"data row10 col5\" >98.38%</td> \n",
       "    </tr>    <tr> \n",
       "        <th id=\"T_5087dae6_593e_11e8_a23a_e2002d409401level0_row11\" class=\"row_heading level0 row11\" >PAPI_RES_STL</th> \n",
       "        <td id=\"T_5087dae6_593e_11e8_a23a_e2002d409401row11_col0\" class=\"data row11 col0\" >75.27%</td> \n",
       "        <td id=\"T_5087dae6_593e_11e8_a23a_e2002d409401row11_col1\" class=\"data row11 col1\" >100.00%</td> \n",
       "        <td id=\"T_5087dae6_593e_11e8_a23a_e2002d409401row11_col2\" class=\"data row11 col2\" >95.87%</td> \n",
       "        <td id=\"T_5087dae6_593e_11e8_a23a_e2002d409401row11_col3\" class=\"data row11 col3\" >100.00%</td> \n",
       "        <td id=\"T_5087dae6_593e_11e8_a23a_e2002d409401row11_col4\" class=\"data row11 col4\" >99.68%</td> \n",
       "        <td id=\"T_5087dae6_593e_11e8_a23a_e2002d409401row11_col5\" class=\"data row11 col5\" >100.00%</td> \n",
       "    </tr>    <tr> \n",
       "        <th id=\"T_5087dae6_593e_11e8_a23a_e2002d409401level0_row12\" class=\"row_heading level0 row12\" >PAPI_TOT_INS</th> \n",
       "        <td id=\"T_5087dae6_593e_11e8_a23a_e2002d409401row12_col0\" class=\"data row12 col0\" >94.67%</td> \n",
       "        <td id=\"T_5087dae6_593e_11e8_a23a_e2002d409401row12_col1\" class=\"data row12 col1\" >72.02%</td> \n",
       "        <td id=\"T_5087dae6_593e_11e8_a23a_e2002d409401row12_col2\" class=\"data row12 col2\" >96.73%</td> \n",
       "        <td id=\"T_5087dae6_593e_11e8_a23a_e2002d409401row12_col3\" class=\"data row12 col3\" >95.53%</td> \n",
       "        <td id=\"T_5087dae6_593e_11e8_a23a_e2002d409401row12_col4\" class=\"data row12 col4\" >99.80%</td> \n",
       "        <td id=\"T_5087dae6_593e_11e8_a23a_e2002d409401row12_col5\" class=\"data row12 col5\" >99.63%</td> \n",
       "    </tr>    <tr> \n",
       "        <th id=\"T_5087dae6_593e_11e8_a23a_e2002d409401level0_row13\" class=\"row_heading level0 row13\" >DERIVED_IPC</th> \n",
       "        <td id=\"T_5087dae6_593e_11e8_a23a_e2002d409401row13_col0\" class=\"data row13 col0\" >6.71%</td> \n",
       "        <td id=\"T_5087dae6_593e_11e8_a23a_e2002d409401row13_col1\" class=\"data row13 col1\" >7.65%</td> \n",
       "        <td id=\"T_5087dae6_593e_11e8_a23a_e2002d409401row13_col2\" class=\"data row13 col2\" >11.35%</td> \n",
       "        <td id=\"T_5087dae6_593e_11e8_a23a_e2002d409401row13_col3\" class=\"data row13 col3\" >15.95%</td> \n",
       "        <td id=\"T_5087dae6_593e_11e8_a23a_e2002d409401row13_col4\" class=\"data row13 col4\" >16.46%</td> \n",
       "        <td id=\"T_5087dae6_593e_11e8_a23a_e2002d409401row13_col5\" class=\"data row13 col5\" >23.51%</td> \n",
       "    </tr>    <tr> \n",
       "        <th id=\"T_5087dae6_593e_11e8_a23a_e2002d409401level0_row14\" class=\"row_heading level0 row14\" >PAPI_VEC_SP</th> \n",
       "        <td id=\"T_5087dae6_593e_11e8_a23a_e2002d409401row14_col0\" class=\"data row14 col0\" >60.32%</td> \n",
       "        <td id=\"T_5087dae6_593e_11e8_a23a_e2002d409401row14_col1\" class=\"data row14 col1\" >-1.92%</td> \n",
       "        <td id=\"T_5087dae6_593e_11e8_a23a_e2002d409401row14_col2\" class=\"data row14 col2\" >87.90%</td> \n",
       "        <td id=\"T_5087dae6_593e_11e8_a23a_e2002d409401row14_col3\" class=\"data row14 col3\" >87.84%</td> \n",
       "        <td id=\"T_5087dae6_593e_11e8_a23a_e2002d409401row14_col4\" class=\"data row14 col4\" >92.94%</td> \n",
       "        <td id=\"T_5087dae6_593e_11e8_a23a_e2002d409401row14_col5\" class=\"data row14 col5\" >93.32%</td> \n",
       "    </tr>    <tr> \n",
       "        <th id=\"T_5087dae6_593e_11e8_a23a_e2002d409401level0_row15\" class=\"row_heading level0 row15\" >PAPI_BR_CN</th> \n",
       "        <td id=\"T_5087dae6_593e_11e8_a23a_e2002d409401row15_col0\" class=\"data row15 col0\" >73.97%</td> \n",
       "        <td id=\"T_5087dae6_593e_11e8_a23a_e2002d409401row15_col1\" class=\"data row15 col1\" >95.25%</td> \n",
       "        <td id=\"T_5087dae6_593e_11e8_a23a_e2002d409401row15_col2\" class=\"data row15 col2\" >96.43%</td> \n",
       "        <td id=\"T_5087dae6_593e_11e8_a23a_e2002d409401row15_col3\" class=\"data row15 col3\" >95.16%</td> \n",
       "        <td id=\"T_5087dae6_593e_11e8_a23a_e2002d409401row15_col4\" class=\"data row15 col4\" >99.76%</td> \n",
       "        <td id=\"T_5087dae6_593e_11e8_a23a_e2002d409401row15_col5\" class=\"data row15 col5\" >99.53%</td> \n",
       "    </tr>    <tr> \n",
       "        <th id=\"T_5087dae6_593e_11e8_a23a_e2002d409401level0_row16\" class=\"row_heading level0 row16\" >PAPI_L3_TCA</th> \n",
       "        <td id=\"T_5087dae6_593e_11e8_a23a_e2002d409401row16_col0\" class=\"data row16 col0\" >90.06%</td> \n",
       "        <td id=\"T_5087dae6_593e_11e8_a23a_e2002d409401row16_col1\" class=\"data row16 col1\" >79.13%</td> \n",
       "        <td id=\"T_5087dae6_593e_11e8_a23a_e2002d409401row16_col2\" class=\"data row16 col2\" >93.87%</td> \n",
       "        <td id=\"T_5087dae6_593e_11e8_a23a_e2002d409401row16_col3\" class=\"data row16 col3\" >95.01%</td> \n",
       "        <td id=\"T_5087dae6_593e_11e8_a23a_e2002d409401row16_col4\" class=\"data row16 col4\" >99.36%</td> \n",
       "        <td id=\"T_5087dae6_593e_11e8_a23a_e2002d409401row16_col5\" class=\"data row16 col5\" >99.58%</td> \n",
       "    </tr>    <tr> \n",
       "        <th id=\"T_5087dae6_593e_11e8_a23a_e2002d409401level0_row17\" class=\"row_heading level0 row17\" >PAPI_TLB_IM</th> \n",
       "        <td id=\"T_5087dae6_593e_11e8_a23a_e2002d409401row17_col0\" class=\"data row17 col0\" >71.42%</td> \n",
       "        <td id=\"T_5087dae6_593e_11e8_a23a_e2002d409401row17_col1\" class=\"data row17 col1\" >34.93%</td> \n",
       "        <td id=\"T_5087dae6_593e_11e8_a23a_e2002d409401row17_col2\" class=\"data row17 col2\" >91.36%</td> \n",
       "        <td id=\"T_5087dae6_593e_11e8_a23a_e2002d409401row17_col3\" class=\"data row17 col3\" >92.36%</td> \n",
       "        <td id=\"T_5087dae6_593e_11e8_a23a_e2002d409401row17_col4\" class=\"data row17 col4\" >98.51%</td> \n",
       "        <td id=\"T_5087dae6_593e_11e8_a23a_e2002d409401row17_col5\" class=\"data row17 col5\" >98.62%</td> \n",
       "    </tr>    <tr> \n",
       "        <th id=\"T_5087dae6_593e_11e8_a23a_e2002d409401level0_row18\" class=\"row_heading level0 row18\" >PAPI_NATIVE_FP_ARITH:128B_PACKED_SINGLE</th> \n",
       "        <td id=\"T_5087dae6_593e_11e8_a23a_e2002d409401row18_col0\" class=\"data row18 col0\" >62.21%</td> \n",
       "        <td id=\"T_5087dae6_593e_11e8_a23a_e2002d409401row18_col1\" class=\"data row18 col1\" >-0.35%</td> \n",
       "        <td id=\"T_5087dae6_593e_11e8_a23a_e2002d409401row18_col2\" class=\"data row18 col2\" >79.86%</td> \n",
       "        <td id=\"T_5087dae6_593e_11e8_a23a_e2002d409401row18_col3\" class=\"data row18 col3\" >79.63%</td> \n",
       "        <td id=\"T_5087dae6_593e_11e8_a23a_e2002d409401row18_col4\" class=\"data row18 col4\" >83.95%</td> \n",
       "        <td id=\"T_5087dae6_593e_11e8_a23a_e2002d409401row18_col5\" class=\"data row18 col5\" >83.88%</td> \n",
       "    </tr>    <tr> \n",
       "        <th id=\"T_5087dae6_593e_11e8_a23a_e2002d409401level0_row19\" class=\"row_heading level0 row19\" >DERIVED_L1_MISSRATE</th> \n",
       "        <td id=\"T_5087dae6_593e_11e8_a23a_e2002d409401row19_col0\" class=\"data row19 col0\" >-24.73%</td> \n",
       "        <td id=\"T_5087dae6_593e_11e8_a23a_e2002d409401row19_col1\" class=\"data row19 col1\" >-22.11%</td> \n",
       "        <td id=\"T_5087dae6_593e_11e8_a23a_e2002d409401row19_col2\" class=\"data row19 col2\" >-32.68%</td> \n",
       "        <td id=\"T_5087dae6_593e_11e8_a23a_e2002d409401row19_col3\" class=\"data row19 col3\" >-24.86%</td> \n",
       "        <td id=\"T_5087dae6_593e_11e8_a23a_e2002d409401row19_col4\" class=\"data row19 col4\" >-47.29%</td> \n",
       "        <td id=\"T_5087dae6_593e_11e8_a23a_e2002d409401row19_col5\" class=\"data row19 col5\" >-36.21%</td> \n",
       "    </tr>    <tr> \n",
       "        <th id=\"T_5087dae6_593e_11e8_a23a_e2002d409401level0_row20\" class=\"row_heading level0 row20\" >PAPI_L3_TCM</th> \n",
       "        <td id=\"T_5087dae6_593e_11e8_a23a_e2002d409401row20_col0\" class=\"data row20 col0\" >71.12%</td> \n",
       "        <td id=\"T_5087dae6_593e_11e8_a23a_e2002d409401row20_col1\" class=\"data row20 col1\" >93.87%</td> \n",
       "        <td id=\"T_5087dae6_593e_11e8_a23a_e2002d409401row20_col2\" class=\"data row20 col2\" >92.54%</td> \n",
       "        <td id=\"T_5087dae6_593e_11e8_a23a_e2002d409401row20_col3\" class=\"data row20 col3\" >94.07%</td> \n",
       "        <td id=\"T_5087dae6_593e_11e8_a23a_e2002d409401row20_col4\" class=\"data row20 col4\" >99.10%</td> \n",
       "        <td id=\"T_5087dae6_593e_11e8_a23a_e2002d409401row20_col5\" class=\"data row20 col5\" >99.41%</td> \n",
       "    </tr>    <tr> \n",
       "        <th id=\"T_5087dae6_593e_11e8_a23a_e2002d409401level0_row21\" class=\"row_heading level0 row21\" >DERIVED_L3_MISSRATE</th> \n",
       "        <td id=\"T_5087dae6_593e_11e8_a23a_e2002d409401row21_col0\" class=\"data row21 col0\" >-11.07%</td> \n",
       "        <td id=\"T_5087dae6_593e_11e8_a23a_e2002d409401row21_col1\" class=\"data row21 col1\" >9.19%</td> \n",
       "        <td id=\"T_5087dae6_593e_11e8_a23a_e2002d409401row21_col2\" class=\"data row21 col2\" >-5.34%</td> \n",
       "        <td id=\"T_5087dae6_593e_11e8_a23a_e2002d409401row21_col3\" class=\"data row21 col3\" >-0.88%</td> \n",
       "        <td id=\"T_5087dae6_593e_11e8_a23a_e2002d409401row21_col4\" class=\"data row21 col4\" >-7.49%</td> \n",
       "        <td id=\"T_5087dae6_593e_11e8_a23a_e2002d409401row21_col5\" class=\"data row21 col5\" >-0.98%</td> \n",
       "    </tr>    <tr> \n",
       "        <th id=\"T_5087dae6_593e_11e8_a23a_e2002d409401level0_row22\" class=\"row_heading level0 row22\" >PAPI_NATIVE_FP_ARITH:SCALAR_DOUBLE</th> \n",
       "        <td id=\"T_5087dae6_593e_11e8_a23a_e2002d409401row22_col0\" class=\"data row22 col0\" >12.83%</td> \n",
       "        <td id=\"T_5087dae6_593e_11e8_a23a_e2002d409401row22_col1\" class=\"data row22 col1\" >5.85%</td> \n",
       "        <td id=\"T_5087dae6_593e_11e8_a23a_e2002d409401row22_col2\" class=\"data row22 col2\" >89.45%</td> \n",
       "        <td id=\"T_5087dae6_593e_11e8_a23a_e2002d409401row22_col3\" class=\"data row22 col3\" >89.11%</td> \n",
       "        <td id=\"T_5087dae6_593e_11e8_a23a_e2002d409401row22_col4\" class=\"data row22 col4\" >98.37%</td> \n",
       "        <td id=\"T_5087dae6_593e_11e8_a23a_e2002d409401row22_col5\" class=\"data row22 col5\" >98.33%</td> \n",
       "    </tr>    <tr> \n",
       "        <th id=\"T_5087dae6_593e_11e8_a23a_e2002d409401level0_row23\" class=\"row_heading level0 row23\" >PAPI_NATIVE_RESOURCE_STALLS:SB</th> \n",
       "        <td id=\"T_5087dae6_593e_11e8_a23a_e2002d409401row23_col0\" class=\"data row23 col0\" >73.09%</td> \n",
       "        <td id=\"T_5087dae6_593e_11e8_a23a_e2002d409401row23_col1\" class=\"data row23 col1\" >94.30%</td> \n",
       "        <td id=\"T_5087dae6_593e_11e8_a23a_e2002d409401row23_col2\" class=\"data row23 col2\" >91.40%</td> \n",
       "        <td id=\"T_5087dae6_593e_11e8_a23a_e2002d409401row23_col3\" class=\"data row23 col3\" >91.62%</td> \n",
       "        <td id=\"T_5087dae6_593e_11e8_a23a_e2002d409401row23_col4\" class=\"data row23 col4\" >98.81%</td> \n",
       "        <td id=\"T_5087dae6_593e_11e8_a23a_e2002d409401row23_col5\" class=\"data row23 col5\" >98.86%</td> \n",
       "    </tr>    <tr> \n",
       "        <th id=\"T_5087dae6_593e_11e8_a23a_e2002d409401level0_row24\" class=\"row_heading level0 row24\" >PAPI_NATIVE_FP_ARITH:SCALAR_SINGLE</th> \n",
       "        <td id=\"T_5087dae6_593e_11e8_a23a_e2002d409401row24_col0\" class=\"data row24 col0\" >30.65%</td> \n",
       "        <td id=\"T_5087dae6_593e_11e8_a23a_e2002d409401row24_col1\" class=\"data row24 col1\" >-32.36%</td> \n",
       "        <td id=\"T_5087dae6_593e_11e8_a23a_e2002d409401row24_col2\" class=\"data row24 col2\" >85.84%</td> \n",
       "        <td id=\"T_5087dae6_593e_11e8_a23a_e2002d409401row24_col3\" class=\"data row24 col3\" >85.68%</td> \n",
       "        <td id=\"T_5087dae6_593e_11e8_a23a_e2002d409401row24_col4\" class=\"data row24 col4\" >92.52%</td> \n",
       "        <td id=\"T_5087dae6_593e_11e8_a23a_e2002d409401row24_col5\" class=\"data row24 col5\" >92.73%</td> \n",
       "    </tr>    <tr> \n",
       "        <th id=\"T_5087dae6_593e_11e8_a23a_e2002d409401level0_row25\" class=\"row_heading level0 row25\" >PAPI_BR_INS</th> \n",
       "        <td id=\"T_5087dae6_593e_11e8_a23a_e2002d409401row25_col0\" class=\"data row25 col0\" >66.55%</td> \n",
       "        <td id=\"T_5087dae6_593e_11e8_a23a_e2002d409401row25_col1\" class=\"data row25 col1\" >95.32%</td> \n",
       "        <td id=\"T_5087dae6_593e_11e8_a23a_e2002d409401row25_col2\" class=\"data row25 col2\" >96.61%</td> \n",
       "        <td id=\"T_5087dae6_593e_11e8_a23a_e2002d409401row25_col3\" class=\"data row25 col3\" >95.89%</td> \n",
       "        <td id=\"T_5087dae6_593e_11e8_a23a_e2002d409401row25_col4\" class=\"data row25 col4\" >99.78%</td> \n",
       "        <td id=\"T_5087dae6_593e_11e8_a23a_e2002d409401row25_col5\" class=\"data row25 col5\" >99.65%</td> \n",
       "    </tr>    <tr> \n",
       "        <th id=\"T_5087dae6_593e_11e8_a23a_e2002d409401level0_row26\" class=\"row_heading level0 row26\" >DERIVED_L2_MISSRATE</th> \n",
       "        <td id=\"T_5087dae6_593e_11e8_a23a_e2002d409401row26_col0\" class=\"data row26 col0\" >-24.05%</td> \n",
       "        <td id=\"T_5087dae6_593e_11e8_a23a_e2002d409401row26_col1\" class=\"data row26 col1\" >-6.23%</td> \n",
       "        <td id=\"T_5087dae6_593e_11e8_a23a_e2002d409401row26_col2\" class=\"data row26 col2\" >-23.08%</td> \n",
       "        <td id=\"T_5087dae6_593e_11e8_a23a_e2002d409401row26_col3\" class=\"data row26 col3\" >-16.18%</td> \n",
       "        <td id=\"T_5087dae6_593e_11e8_a23a_e2002d409401row26_col4\" class=\"data row26 col4\" >-35.10%</td> \n",
       "        <td id=\"T_5087dae6_593e_11e8_a23a_e2002d409401row26_col5\" class=\"data row26 col5\" >-25.14%</td> \n",
       "    </tr>    <tr> \n",
       "        <th id=\"T_5087dae6_593e_11e8_a23a_e2002d409401level0_row27\" class=\"row_heading level0 row27\" >PAPI_NATIVE_FP_ARITH:128B_PACKED_DOUBLE</th> \n",
       "        <td id=\"T_5087dae6_593e_11e8_a23a_e2002d409401row27_col0\" class=\"data row27 col0\" >22.71%</td> \n",
       "        <td id=\"T_5087dae6_593e_11e8_a23a_e2002d409401row27_col1\" class=\"data row27 col1\" >61.64%</td> \n",
       "        <td id=\"T_5087dae6_593e_11e8_a23a_e2002d409401row27_col2\" class=\"data row27 col2\" >36.67%</td> \n",
       "        <td id=\"T_5087dae6_593e_11e8_a23a_e2002d409401row27_col3\" class=\"data row27 col3\" >37.79%</td> \n",
       "        <td id=\"T_5087dae6_593e_11e8_a23a_e2002d409401row27_col4\" class=\"data row27 col4\" >38.97%</td> \n",
       "        <td id=\"T_5087dae6_593e_11e8_a23a_e2002d409401row27_col5\" class=\"data row27 col5\" >40.09%</td> \n",
       "    </tr>    <tr> \n",
       "        <th id=\"T_5087dae6_593e_11e8_a23a_e2002d409401level0_row28\" class=\"row_heading level0 row28\" >DERIVED_BRANCH_MR</th> \n",
       "        <td id=\"T_5087dae6_593e_11e8_a23a_e2002d409401row28_col0\" class=\"data row28 col0\" >2.57%</td> \n",
       "        <td id=\"T_5087dae6_593e_11e8_a23a_e2002d409401row28_col1\" class=\"data row28 col1\" >-4.38%</td> \n",
       "        <td id=\"T_5087dae6_593e_11e8_a23a_e2002d409401row28_col2\" class=\"data row28 col2\" >5.69%</td> \n",
       "        <td id=\"T_5087dae6_593e_11e8_a23a_e2002d409401row28_col3\" class=\"data row28 col3\" >-0.74%</td> \n",
       "        <td id=\"T_5087dae6_593e_11e8_a23a_e2002d409401row28_col4\" class=\"data row28 col4\" >8.07%</td> \n",
       "        <td id=\"T_5087dae6_593e_11e8_a23a_e2002d409401row28_col5\" class=\"data row28 col5\" >-0.97%</td> \n",
       "    </tr>    <tr> \n",
       "        <th id=\"T_5087dae6_593e_11e8_a23a_e2002d409401level0_row29\" class=\"row_heading level0 row29\" >DERIVED_SP_VOPO</th> \n",
       "        <td id=\"T_5087dae6_593e_11e8_a23a_e2002d409401row29_col0\" class=\"data row29 col0\" >0.90%</td> \n",
       "        <td id=\"T_5087dae6_593e_11e8_a23a_e2002d409401row29_col1\" class=\"data row29 col1\" >1.51%</td> \n",
       "        <td id=\"T_5087dae6_593e_11e8_a23a_e2002d409401row29_col2\" class=\"data row29 col2\" >78.42%</td> \n",
       "        <td id=\"T_5087dae6_593e_11e8_a23a_e2002d409401row29_col3\" class=\"data row29 col3\" >78.55%</td> \n",
       "        <td id=\"T_5087dae6_593e_11e8_a23a_e2002d409401row29_col4\" class=\"data row29 col4\" >86.72%</td> \n",
       "        <td id=\"T_5087dae6_593e_11e8_a23a_e2002d409401row29_col5\" class=\"data row29 col5\" >86.58%</td> \n",
       "    </tr>    <tr> \n",
       "        <th id=\"T_5087dae6_593e_11e8_a23a_e2002d409401level0_row30\" class=\"row_heading level0 row30\" >PAPI_LST_INS</th> \n",
       "        <td id=\"T_5087dae6_593e_11e8_a23a_e2002d409401row30_col0\" class=\"data row30 col0\" >94.91%</td> \n",
       "        <td id=\"T_5087dae6_593e_11e8_a23a_e2002d409401row30_col1\" class=\"data row30 col1\" >87.96%</td> \n",
       "        <td id=\"T_5087dae6_593e_11e8_a23a_e2002d409401row30_col2\" class=\"data row30 col2\" >96.43%</td> \n",
       "        <td id=\"T_5087dae6_593e_11e8_a23a_e2002d409401row30_col3\" class=\"data row30 col3\" >95.10%</td> \n",
       "        <td id=\"T_5087dae6_593e_11e8_a23a_e2002d409401row30_col4\" class=\"data row30 col4\" >99.76%</td> \n",
       "        <td id=\"T_5087dae6_593e_11e8_a23a_e2002d409401row30_col5\" class=\"data row30 col5\" >99.57%</td> \n",
       "    </tr>    <tr> \n",
       "        <th id=\"T_5087dae6_593e_11e8_a23a_e2002d409401level0_row31\" class=\"row_heading level0 row31\" >PAPI_NATIVE_UOPS_RETIRED:STALL_CYCLES</th> \n",
       "        <td id=\"T_5087dae6_593e_11e8_a23a_e2002d409401row31_col0\" class=\"data row31 col0\" >81.65%</td> \n",
       "        <td id=\"T_5087dae6_593e_11e8_a23a_e2002d409401row31_col1\" class=\"data row31 col1\" >95.88%</td> \n",
       "        <td id=\"T_5087dae6_593e_11e8_a23a_e2002d409401row31_col2\" class=\"data row31 col2\" >96.63%</td> \n",
       "        <td id=\"T_5087dae6_593e_11e8_a23a_e2002d409401row31_col3\" class=\"data row31 col3\" >96.13%</td> \n",
       "        <td id=\"T_5087dae6_593e_11e8_a23a_e2002d409401row31_col4\" class=\"data row31 col4\" >99.79%</td> \n",
       "        <td id=\"T_5087dae6_593e_11e8_a23a_e2002d409401row31_col5\" class=\"data row31 col5\" >99.72%</td> \n",
       "    </tr>    <tr> \n",
       "        <th id=\"T_5087dae6_593e_11e8_a23a_e2002d409401level0_row32\" class=\"row_heading level0 row32\" >PAPI_SP_OPS</th> \n",
       "        <td id=\"T_5087dae6_593e_11e8_a23a_e2002d409401row32_col0\" class=\"data row32 col0\" >67.94%</td> \n",
       "        <td id=\"T_5087dae6_593e_11e8_a23a_e2002d409401row32_col1\" class=\"data row32 col1\" >8.11%</td> \n",
       "        <td id=\"T_5087dae6_593e_11e8_a23a_e2002d409401row32_col2\" class=\"data row32 col2\" >87.86%</td> \n",
       "        <td id=\"T_5087dae6_593e_11e8_a23a_e2002d409401row32_col3\" class=\"data row32 col3\" >87.34%</td> \n",
       "        <td id=\"T_5087dae6_593e_11e8_a23a_e2002d409401row32_col4\" class=\"data row32 col4\" >92.83%</td> \n",
       "        <td id=\"T_5087dae6_593e_11e8_a23a_e2002d409401row32_col5\" class=\"data row32 col5\" >92.59%</td> \n",
       "    </tr>    <tr> \n",
       "        <th id=\"T_5087dae6_593e_11e8_a23a_e2002d409401level0_row33\" class=\"row_heading level0 row33\" >PAPI_NATIVE_FP_ARITH:256B_PACKED_DOUBLE</th> \n",
       "        <td id=\"T_5087dae6_593e_11e8_a23a_e2002d409401row33_col0\" class=\"data row33 col0\" >0.00%</td> \n",
       "        <td id=\"T_5087dae6_593e_11e8_a23a_e2002d409401row33_col1\" class=\"data row33 col1\" >0.00%</td> \n",
       "        <td id=\"T_5087dae6_593e_11e8_a23a_e2002d409401row33_col2\" class=\"data row33 col2\" >0.00%</td> \n",
       "        <td id=\"T_5087dae6_593e_11e8_a23a_e2002d409401row33_col3\" class=\"data row33 col3\" >0.00%</td> \n",
       "        <td id=\"T_5087dae6_593e_11e8_a23a_e2002d409401row33_col4\" class=\"data row33 col4\" >0.00%</td> \n",
       "        <td id=\"T_5087dae6_593e_11e8_a23a_e2002d409401row33_col5\" class=\"data row33 col5\" >0.00%</td> \n",
       "    </tr></tbody> \n",
       "</table> "
      ],
      "text/plain": [
       "<pandas.io.formats.style.Styler at 0x1a232ff990>"
      ]
     },
     "execution_count": 143,
     "metadata": {},
     "output_type": "execute_result"
    }
   ],
   "source": [
    "metric_li = ['PAPI_TOT_CYC','PAPI_RES_STL']\n",
    "\n",
    "corrs = [alldata.corr('pearson').fillna(0)[metric_li], alldata.corr('kendall').fillna(0)[metric_li], alldata.corr('spearman').fillna(0)[metric_li]]\n",
    "\n",
    "corr_data = corrs[0][['PAPI_TOT_CYC']].copy()\n",
    "corr_data['p_' + metric_li[0]] = corr_data[metric_li[0]]\n",
    "corr_data['p_' + metric_li[1]] = corrs[0][metric_li[1]]\n",
    "\n",
    "corr_data['k_' + metric_li[0]] = corrs[1][metric_li[0]]\n",
    "corr_data['k_' + metric_li[1]] = corrs[1][metric_li[1]]\n",
    "\n",
    "corr_data['s_' + metric_li[0]] = corrs[2][metric_li[0]]\n",
    "corr_data['s_' + metric_li[1]] = corrs[2][metric_li[1]]\n",
    "\n",
    "corr_data.drop(['PAPI_TOT_CYC'],axis=1,inplace=True)\n",
    "\n",
    "corr_data.style.format(\"{:.2%}\").background_gradient(cmap=cm)"
   ]
  },
  {
   "cell_type": "markdown",
   "metadata": {},
   "source": [
    "### Correlation Take Aways\n",
    "\n",
    "At first glance the correlations seem to show that cache misses (although not necessarily the miss rates) are significantly related to the numebr of stalls that occur."
   ]
  },
  {
   "cell_type": "markdown",
   "metadata": {},
   "source": [
    "## Store Buffer Stalls\n",
    "<a id='stl_sb'></a>"
   ]
  },
  {
   "cell_type": "code",
   "execution_count": 169,
   "metadata": {
    "scrolled": false
   },
   "outputs": [
    {
     "data": {
      "image/png": "[encoded data removed]",
      "text/plain": [
       "<Figure size 432x288 with 1 Axes>"
      ]
     },
     "metadata": {},
     "output_type": "display_data"
    }
   ],
   "source": [
    "METRIC='PAPI_NATIVE_RESOURCE_STALLS:SB'\n",
    "thread_list, STL_SB_data = scaling_plot(metric_data, plot=False, metric=METRIC)\n",
    "    \n",
    "plt = matplotlib.pyplot.plot(thread_list, STL_SB_data)"
   ]
  },
  {
   "cell_type": "code",
   "execution_count": 173,
   "metadata": {},
   "outputs": [
    {
     "name": "stdout",
     "output_type": "stream",
     "text": [
      "8\n"
     ]
    },
    {
     "data": {
      "text/plain": [
       "<BarContainer object of 8 artists>"
      ]
     },
     "execution_count": 173,
     "metadata": {},
     "output_type": "execute_result"
    },
    {
     "data": {
      "text/plain": [
       "(0.0, 5000000000.0)"
      ]
     },
     "execution_count": 173,
     "metadata": {},
     "output_type": "execute_result"
    },
    {
     "data": {
      "image/png": "[encoded data removed]",
      "text/plain": [
       "<Figure size 432x288 with 1 Axes>"
      ]
     },
     "metadata": {},
     "output_type": "display_data"
    },
    {
     "name": "stdout",
     "output_type": "stream",
     "text": [
      "16\n"
     ]
    },
    {
     "data": {
      "text/plain": [
       "<BarContainer object of 16 artists>"
      ]
     },
     "execution_count": 173,
     "metadata": {},
     "output_type": "execute_result"
    },
    {
     "data": {
      "text/plain": [
       "(0.0, 5000000000.0)"
      ]
     },
     "execution_count": 173,
     "metadata": {},
     "output_type": "execute_result"
    },
    {
     "data": {
      "image/png": "[encoded data removed]",
      "text/plain": [
       "<Figure size 432x288 with 1 Axes>"
      ]
     },
     "metadata": {},
     "output_type": "display_data"
    },
    {
     "name": "stdout",
     "output_type": "stream",
     "text": [
      "32\n"
     ]
    },
    {
     "data": {
      "text/plain": [
       "<BarContainer object of 32 artists>"
      ]
     },
     "execution_count": 173,
     "metadata": {},
     "output_type": "execute_result"
    },
    {
     "data": {
      "text/plain": [
       "(0.0, 5000000000.0)"
      ]
     },
     "execution_count": 173,
     "metadata": {},
     "output_type": "execute_result"
    },
    {
     "data": {
      "image/png": "[encoded data removed]",
      "text/plain": [
       "<Figure size 432x288 with 1 Axes>"
      ]
     },
     "metadata": {},
     "output_type": "display_data"
    },
    {
     "name": "stdout",
     "output_type": "stream",
     "text": [
      "48\n"
     ]
    },
    {
     "data": {
      "text/plain": [
       "<BarContainer object of 48 artists>"
      ]
     },
     "execution_count": 173,
     "metadata": {},
     "output_type": "execute_result"
    },
    {
     "data": {
      "text/plain": [
       "(0.0, 5000000000.0)"
      ]
     },
     "execution_count": 173,
     "metadata": {},
     "output_type": "execute_result"
    },
    {
     "data": {
      "image/png": "[encoded data removed]",
      "text/plain": [
       "<Figure size 432x288 with 1 Axes>"
      ]
     },
     "metadata": {},
     "output_type": "display_data"
    },
    {
     "name": "stdout",
     "output_type": "stream",
     "text": [
      "56\n"
     ]
    },
    {
     "data": {
      "text/plain": [
       "<BarContainer object of 56 artists>"
      ]
     },
     "execution_count": 173,
     "metadata": {},
     "output_type": "execute_result"
    },
    {
     "data": {
      "text/plain": [
       "(0.0, 5000000000.0)"
      ]
     },
     "execution_count": 173,
     "metadata": {},
     "output_type": "execute_result"
    },
    {
     "data": {
      "image/png": "[encoded data removed]",
      "text/plain": [
       "<Figure size 432x288 with 1 Axes>"
      ]
     },
     "metadata": {},
     "output_type": "display_data"
    }
   ],
   "source": [
    "thread_STL_SB_data = get_thread_level_metric_scaling(metric_data, metric=METRIC)\n",
    "\n",
    "for kt in thread_list:\n",
    "    print kt\n",
    "    data = list(thread_STL_SB_data[kt])\n",
    "    matplotlib.pyplot.bar(range(len(data)), data)\n",
    "    matplotlib.pyplot.ylim(ymax=5e9)\n",
    "    matplotlib.pyplot.show()"
   ]
  },
  {
   "cell_type": "code",
   "execution_count": 175,
   "metadata": {},
   "outputs": [
    {
     "name": "stdout",
     "output_type": "stream",
     "text": [
      "[8, 16, 32, 48, 56]\n"
     ]
    }
   ],
   "source": [
    "STL_SB_data = select_metric_from_scaling(metric_data, METRIC)\n",
    "STL_SB_dict = {}\n",
    "for n_thr in thread_list:\n",
    "    STL_SB_dict[n_thr] = filter_libs_out(STL_SB_data[n_thr]).sort_values(by='Exclusive',ascending=False)[[\"Exclusive\"]]\n",
    "print thread_list"
   ]
  },
  {
   "cell_type": "code",
   "execution_count": 178,
   "metadata": {
    "scrolled": true
   },
   "outputs": [
    {
     "data": {
      "text/html": [
       "<div>\n",
       "<style scoped>\n",
       "    .dataframe tbody tr th:only-of-type {\n",
       "        vertical-align: middle;\n",
       "    }\n",
       "\n",
       "    .dataframe tbody tr th {\n",
       "        vertical-align: top;\n",
       "    }\n",
       "\n",
       "    .dataframe thead th {\n",
       "        text-align: right;\n",
       "    }\n",
       "</style>\n",
       "<table border=\"1\" class=\"dataframe\">\n",
       "  <thead>\n",
       "    <tr style=\"text-align: right;\">\n",
       "      <th></th>\n",
       "      <th>Exclusive</th>\n",
       "    </tr>\n",
       "    <tr>\n",
       "      <th>region</th>\n",
       "      <th></th>\n",
       "    </tr>\n",
       "  </thead>\n",
       "  <tbody>\n",
       "    <tr>\n",
       "      <th>[SUMMARY] MkFinder::SelectHitIndices(LayerOfHits const&amp;, int)</th>\n",
       "      <td>4.53e+07</td>\n",
       "    </tr>\n",
       "    <tr>\n",
       "      <th>[SUMMARY] __svml_sincosf8_l9</th>\n",
       "      <td>3.13e+07</td>\n",
       "    </tr>\n",
       "    <tr>\n",
       "      <th>[SUMMARY] .TAU application  =&gt; [CONTEXT] .TAU application  =&gt; [SAMPLE] __svml_sincosf8_l9</th>\n",
       "      <td>2.78e+07</td>\n",
       "    </tr>\n",
       "    <tr>\n",
       "      <th>[SUMMARY] MkFinder::FindCandidatesCloneEngine(LayerOfHits const&amp;, CandCloner&amp;, int, int, FindingFoos const&amp;)</th>\n",
       "      <td>1.85e+07</td>\n",
       "    </tr>\n",
       "    <tr>\n",
       "      <th>[SUMMARY] __read_nocancel</th>\n",
       "      <td>1.40e+07</td>\n",
       "    </tr>\n",
       "    <tr>\n",
       "      <th>[SUMMARY] Event::clean_cms_seedtracks()</th>\n",
       "      <td>1.27e+07</td>\n",
       "    </tr>\n",
       "    <tr>\n",
       "      <th>[SUMMARY] RadixSort::Sort(float const*, unsigned int)</th>\n",
       "      <td>1.20e+07</td>\n",
       "    </tr>\n",
       "    <tr>\n",
       "      <th>[SUMMARY] helixAtZ(Matriplex::Matriplex&lt;float, 6, 1, 8&gt; const&amp;, Matriplex::Matriplex&lt;int, 1, 1, 8&gt; const&amp;, Matriplex::Matriplex&lt;float, 6, 1, 8&gt;&amp;, Matriplex::Matriplex&lt;float, 1, 1, 8&gt; const&amp;, Matriplex::Matriplex&lt;float, 6, 6, 8&gt;&amp;, int, bool)</th>\n",
       "      <td>1.11e+07</td>\n",
       "    </tr>\n",
       "    <tr>\n",
       "      <th>[SUMMARY] void _INTERNALc4f9cdd2::helixAtRFromIterativeCCS_impl&lt;Matriplex::Matriplex&lt;float, 6, 1, 8&gt;, Matriplex::Matriplex&lt;int, 1, 1, 8&gt;, Matriplex::Matriplex&lt;float, 6, 1, 8&gt;, Matriplex::Matriplex&lt;float, 1, 1, 8&gt;, Matriplex::Matriplex&lt;float, 6, 6, 8&gt; &gt;(Matriplex::Matriplex&lt;float, 6, 1, 8&gt; const&amp;, Matriplex::Matriplex&lt;int, 1, 1, 8&gt; const&amp;, Matriplex::Matriplex&lt;float, 6, 1, 8&gt;&amp;, Matriplex::Matriplex&lt;float, 1, 1, 8&gt; const&amp;, Matriplex::Matriplex&lt;float, 6, 6, 8&gt;&amp;, int, int, int, bool)</th>\n",
       "      <td>1.05e+07</td>\n",
       "    </tr>\n",
       "    <tr>\n",
       "      <th>[SUMMARY] FMA(__m256 const&amp;, __m256 const&amp;, __m256 const&amp;)</th>\n",
       "      <td>1.01e+07</td>\n",
       "    </tr>\n",
       "  </tbody>\n",
       "</table>\n",
       "</div>"
      ],
      "text/plain": [
       "                                                                        Exclusive\n",
       "region                                                                           \n",
       "[SUMMARY] MkFinder::SelectHitIndices(LayerOfHits const&, int)            4.53e+07\n",
       "[SUMMARY] __svml_sincosf8_l9                                             3.13e+07\n",
       "[SUMMARY] .TAU application  => [CONTEXT] .TAU application  => [SAMP...   2.78e+07\n",
       "[SUMMARY] MkFinder::FindCandidatesCloneEngine(LayerOfHits const&, C...   1.85e+07\n",
       "[SUMMARY] __read_nocancel                                                1.40e+07\n",
       "[SUMMARY] Event::clean_cms_seedtracks()                                  1.27e+07\n",
       "[SUMMARY] RadixSort::Sort(float const*, unsigned int)                    1.20e+07\n",
       "[SUMMARY] helixAtZ(Matriplex::Matriplex<float, 6, 1, 8> const&, Mat...   1.11e+07\n",
       "[SUMMARY] void _INTERNALc4f9cdd2::helixAtRFromIterativeCCS_impl<Mat...   1.05e+07\n",
       "[SUMMARY] FMA(__m256 const&, __m256 const&, __m256 const&)               1.01e+07"
      ]
     },
     "execution_count": 178,
     "metadata": {},
     "output_type": "execute_result"
    }
   ],
   "source": [
    "THREAD_COUNT = 8\n",
    "func = 'NULL'\n",
    "# func = 'FindCandidatesCloneEngine' # NULL for nothing\n",
    "# func = 'SelectHitIndices' # NULL for nothing\n",
    "get_func_level_metric(STL_SB_dict[THREAD_COUNT], func=func, avg=True).head(10)"
   ]
  },
  {
   "cell_type": "code",
   "execution_count": 180,
   "metadata": {},
   "outputs": [
    {
     "data": {
      "text/html": [
       "<div>\n",
       "<style scoped>\n",
       "    .dataframe tbody tr th:only-of-type {\n",
       "        vertical-align: middle;\n",
       "    }\n",
       "\n",
       "    .dataframe tbody tr th {\n",
       "        vertical-align: top;\n",
       "    }\n",
       "\n",
       "    .dataframe thead th {\n",
       "        text-align: right;\n",
       "    }\n",
       "</style>\n",
       "<table border=\"1\" class=\"dataframe\">\n",
       "  <thead>\n",
       "    <tr style=\"text-align: right;\">\n",
       "      <th></th>\n",
       "      <th>PAPI_TOT_CYC</th>\n",
       "      <th>PAPI_NATIVE_RESOURCE_STALLS:SB</th>\n",
       "    </tr>\n",
       "    <tr>\n",
       "      <th>region</th>\n",
       "      <th></th>\n",
       "      <th></th>\n",
       "    </tr>\n",
       "  </thead>\n",
       "  <tbody>\n",
       "    <tr>\n",
       "      <th>[SUMMARY] MkFinder::SelectHitIndices(LayerOfHits const&amp;, int)</th>\n",
       "      <td>2.06e+08</td>\n",
       "      <td>1.27e+07</td>\n",
       "    </tr>\n",
       "    <tr>\n",
       "      <th>[SUMMARY] MkFinder::FindCandidatesCloneEngine(LayerOfHits const&amp;, CandCloner&amp;, int, int, FindingFoos const&amp;)</th>\n",
       "      <td>6.26e+07</td>\n",
       "      <td>3.50e+06</td>\n",
       "    </tr>\n",
       "    <tr>\n",
       "      <th>[SUMMARY] Matriplex::MatriplexSym&lt;float, 3, 8&gt;::SlurpIn(char const*, int*, int)</th>\n",
       "      <td>4.44e+07</td>\n",
       "      <td>3.41e+06</td>\n",
       "    </tr>\n",
       "    <tr>\n",
       "      <th>[SUMMARY] helixAtZ(Matriplex::Matriplex&lt;float, 6, 1, 8&gt; const&amp;, Matriplex::Matriplex&lt;int, 1, 1, 8&gt; const&amp;, Matriplex::Matriplex&lt;float, 6, 1, 8&gt;&amp;, Matriplex::Matriplex&lt;float, 1, 1, 8&gt; const&amp;, Matriplex::Matriplex&lt;float, 6, 6, 8&gt;&amp;, int, bool)</th>\n",
       "      <td>3.67e+07</td>\n",
       "      <td>2.56e+06</td>\n",
       "    </tr>\n",
       "    <tr>\n",
       "      <th>[SUMMARY] Event::clean_cms_seedtracks()</th>\n",
       "      <td>3.47e+07</td>\n",
       "      <td>4.90e+05</td>\n",
       "    </tr>\n",
       "    <tr>\n",
       "      <th>[SUMMARY] void _INTERNALc4f9cdd2::helixAtRFromIterativeCCS_impl&lt;Matriplex::Matriplex&lt;float, 6, 1, 8&gt;, Matriplex::Matriplex&lt;int, 1, 1, 8&gt;, Matriplex::Matriplex&lt;float, 6, 1, 8&gt;, Matriplex::Matriplex&lt;float, 1, 1, 8&gt;, Matriplex::Matriplex&lt;float, 6, 6, 8&gt; &gt;(Matriplex::Matriplex&lt;float, 6, 1, 8&gt; const&amp;, Matriplex::Matriplex&lt;int, 1, 1, 8&gt; const&amp;, Matriplex::Matriplex&lt;float, 6, 1, 8&gt;&amp;, Matriplex::Matriplex&lt;float, 1, 1, 8&gt; const&amp;, Matriplex::Matriplex&lt;float, 6, 6, 8&gt;&amp;, int, int, int, bool)</th>\n",
       "      <td>3.24e+07</td>\n",
       "      <td>2.11e+06</td>\n",
       "    </tr>\n",
       "    <tr>\n",
       "      <th>[SUMMARY] (anonymous namespace)::sortCandListByHitsChi2(MkFinder::IdxChi2List const&amp;, MkFinder::IdxChi2List const&amp;)</th>\n",
       "      <td>3.15e+07</td>\n",
       "      <td>1.67e+06</td>\n",
       "    </tr>\n",
       "    <tr>\n",
       "      <th>[SUMMARY] Matriplex::MatriplexSym&lt;float, 6, 8&gt;::CopyIn(int, float const*)</th>\n",
       "      <td>2.99e+07</td>\n",
       "      <td>1.79e+06</td>\n",
       "    </tr>\n",
       "    <tr>\n",
       "      <th>[SUMMARY] Track::Track(Track const&amp;)</th>\n",
       "      <td>2.83e+07</td>\n",
       "      <td>1.08e+06</td>\n",
       "    </tr>\n",
       "    <tr>\n",
       "      <th>[SUMMARY] Matriplex::MatriplexSym&lt;float, 6, 8&gt;::operator=(Matriplex::MatriplexSym&lt;float, 6, 8&gt; const&amp;)</th>\n",
       "      <td>2.67e+07</td>\n",
       "      <td>1.62e+06</td>\n",
       "    </tr>\n",
       "    <tr>\n",
       "      <th>[SUMMARY] (anonymous namespace)::MultHelixPropEndcap(Matriplex::Matriplex&lt;float, 6, 6, 8&gt; const&amp;, Matriplex::MatriplexSym&lt;float, 6, 8&gt; const&amp;, Matriplex::Matriplex&lt;float, 6, 6, 8&gt;&amp;)</th>\n",
       "      <td>2.62e+07</td>\n",
       "      <td>1.74e+06</td>\n",
       "    </tr>\n",
       "    <tr>\n",
       "      <th>[SUMMARY] Matriplex::MatriplexSym&lt;float, 6, 8&gt;::CopyOut(int, float*) const</th>\n",
       "      <td>2.49e+07</td>\n",
       "      <td>1.70e+06</td>\n",
       "    </tr>\n",
       "    <tr>\n",
       "      <th>[SUMMARY] Matriplex::Matriplex&lt;float, 6, 1, 8&gt;::CopyIn(int, float const*)</th>\n",
       "      <td>1.91e+07</td>\n",
       "      <td>6.54e+05</td>\n",
       "    </tr>\n",
       "    <tr>\n",
       "      <th>[SUMMARY] ROOT::Math::MatRepSym&lt;float, 6u&gt;::operator=(ROOT::Math::MatRepSym&lt;float, 6u&gt; const&amp;)</th>\n",
       "      <td>1.79e+07</td>\n",
       "      <td>5.43e+05</td>\n",
       "    </tr>\n",
       "    <tr>\n",
       "      <th>[SUMMARY] LayerOfHits::alloc_hits(int)</th>\n",
       "      <td>1.68e+07</td>\n",
       "      <td>2.51e+06</td>\n",
       "    </tr>\n",
       "    <tr>\n",
       "      <th>[SUMMARY] Track::getLastHitIdx() const</th>\n",
       "      <td>1.57e+07</td>\n",
       "      <td>1.65e+06</td>\n",
       "    </tr>\n",
       "    <tr>\n",
       "      <th>[SUMMARY] Matriplex::Matriplex&lt;float, 3, 1, 8&gt;::SlurpIn(char const*, int*, int)</th>\n",
       "      <td>1.55e+07</td>\n",
       "      <td>nan</td>\n",
       "    </tr>\n",
       "    <tr>\n",
       "      <th>[SUMMARY] Matriplex::MatriplexSym&lt;float, 3, 8&gt;::CopyIn(int, float const*)</th>\n",
       "      <td>1.50e+07</td>\n",
       "      <td>nan</td>\n",
       "    </tr>\n",
       "    <tr>\n",
       "      <th>[SUMMARY] Matriplex::Matriplex&lt;int, 1, 1, 8&gt;::operator()(int, int, int)</th>\n",
       "      <td>1.47e+07</td>\n",
       "      <td>nan</td>\n",
       "    </tr>\n",
       "    <tr>\n",
       "      <th>[SUMMARY] (anonymous namespace)::Chi2Similarity(Matriplex::Matriplex&lt;float, 2, 1, 8&gt; const&amp;, Matriplex::MatriplexSym&lt;float, 2, 8&gt; const&amp;, Matriplex::Matriplex&lt;float, 1, 1, 8&gt;&amp;)</th>\n",
       "      <td>1.46e+07</td>\n",
       "      <td>nan</td>\n",
       "    </tr>\n",
       "  </tbody>\n",
       "</table>\n",
       "</div>"
      ],
      "text/plain": [
       "                                                                        PAPI_TOT_CYC  \\\n",
       "region                                                                                 \n",
       "[SUMMARY] MkFinder::SelectHitIndices(LayerOfHits const&, int)               2.06e+08   \n",
       "[SUMMARY] MkFinder::FindCandidatesCloneEngine(LayerOfHits const&, C...      6.26e+07   \n",
       "[SUMMARY] Matriplex::MatriplexSym<float, 3, 8>::SlurpIn(char const*...      4.44e+07   \n",
       "[SUMMARY] helixAtZ(Matriplex::Matriplex<float, 6, 1, 8> const&, Mat...      3.67e+07   \n",
       "[SUMMARY] Event::clean_cms_seedtracks()                                     3.47e+07   \n",
       "[SUMMARY] void _INTERNALc4f9cdd2::helixAtRFromIterativeCCS_impl<Mat...      3.24e+07   \n",
       "[SUMMARY] (anonymous namespace)::sortCandListByHitsChi2(MkFinder::I...      3.15e+07   \n",
       "[SUMMARY] Matriplex::MatriplexSym<float, 6, 8>::CopyIn(int, float c...      2.99e+07   \n",
       "[SUMMARY] Track::Track(Track const&)                                        2.83e+07   \n",
       "[SUMMARY] Matriplex::MatriplexSym<float, 6, 8>::operator=(Matriplex...      2.67e+07   \n",
       "[SUMMARY] (anonymous namespace)::MultHelixPropEndcap(Matriplex::Mat...      2.62e+07   \n",
       "[SUMMARY] Matriplex::MatriplexSym<float, 6, 8>::CopyOut(int, float*...      2.49e+07   \n",
       "[SUMMARY] Matriplex::Matriplex<float, 6, 1, 8>::CopyIn(int, float c...      1.91e+07   \n",
       "[SUMMARY] ROOT::Math::MatRepSym<float, 6u>::operator=(ROOT::Math::M...      1.79e+07   \n",
       "[SUMMARY] LayerOfHits::alloc_hits(int)                                      1.68e+07   \n",
       "[SUMMARY] Track::getLastHitIdx() const                                      1.57e+07   \n",
       "[SUMMARY] Matriplex::Matriplex<float, 3, 1, 8>::SlurpIn(char const*...      1.55e+07   \n",
       "[SUMMARY] Matriplex::MatriplexSym<float, 3, 8>::CopyIn(int, float c...      1.50e+07   \n",
       "[SUMMARY] Matriplex::Matriplex<int, 1, 1, 8>::operator()(int, int, ...      1.47e+07   \n",
       "[SUMMARY] (anonymous namespace)::Chi2Similarity(Matriplex::Matriple...      1.46e+07   \n",
       "\n",
       "                                                                        PAPI_NATIVE_RESOURCE_STALLS:SB  \n",
       "region                                                                                                  \n",
       "[SUMMARY] MkFinder::SelectHitIndices(LayerOfHits const&, int)                                 1.27e+07  \n",
       "[SUMMARY] MkFinder::FindCandidatesCloneEngine(LayerOfHits const&, C...                        3.50e+06  \n",
       "[SUMMARY] Matriplex::MatriplexSym<float, 3, 8>::SlurpIn(char const*...                        3.41e+06  \n",
       "[SUMMARY] helixAtZ(Matriplex::Matriplex<float, 6, 1, 8> const&, Mat...                        2.56e+06  \n",
       "[SUMMARY] Event::clean_cms_seedtracks()                                                       4.90e+05  \n",
       "[SUMMARY] void _INTERNALc4f9cdd2::helixAtRFromIterativeCCS_impl<Mat...                        2.11e+06  \n",
       "[SUMMARY] (anonymous namespace)::sortCandListByHitsChi2(MkFinder::I...                        1.67e+06  \n",
       "[SUMMARY] Matriplex::MatriplexSym<float, 6, 8>::CopyIn(int, float c...                        1.79e+06  \n",
       "[SUMMARY] Track::Track(Track const&)                                                          1.08e+06  \n",
       "[SUMMARY] Matriplex::MatriplexSym<float, 6, 8>::operator=(Matriplex...                        1.62e+06  \n",
       "[SUMMARY] (anonymous namespace)::MultHelixPropEndcap(Matriplex::Mat...                        1.74e+06  \n",
       "[SUMMARY] Matriplex::MatriplexSym<float, 6, 8>::CopyOut(int, float*...                        1.70e+06  \n",
       "[SUMMARY] Matriplex::Matriplex<float, 6, 1, 8>::CopyIn(int, float c...                        6.54e+05  \n",
       "[SUMMARY] ROOT::Math::MatRepSym<float, 6u>::operator=(ROOT::Math::M...                        5.43e+05  \n",
       "[SUMMARY] LayerOfHits::alloc_hits(int)                                                        2.51e+06  \n",
       "[SUMMARY] Track::getLastHitIdx() const                                                        1.65e+06  \n",
       "[SUMMARY] Matriplex::Matriplex<float, 3, 1, 8>::SlurpIn(char const*...                             nan  \n",
       "[SUMMARY] Matriplex::MatriplexSym<float, 3, 8>::CopyIn(int, float c...                             nan  \n",
       "[SUMMARY] Matriplex::Matriplex<int, 1, 1, 8>::operator()(int, int, ...                             nan  \n",
       "[SUMMARY] (anonymous namespace)::Chi2Similarity(Matriplex::Matriple...                             nan  "
      ]
     },
     "execution_count": 180,
     "metadata": {},
     "output_type": "execute_result"
    }
   ],
   "source": [
    "stl_sb_data = copy.deepcopy(alldata)\n",
    "metric = METRIC\n",
    "\n",
    "for m in metric_data[THREAD_COUNT].keys():\n",
    "    if (not m == 'METADATA') and (not m == 'PAPI_TOT_CYC') and (not m == metric): stl_sb_data.drop([m],axis=1,inplace=True)\n",
    "\n",
    "def filter_libs_out(dfs):\n",
    "    dfs_filtered = dfs.groupby(level='region').filter(lambda x: ('.TAU application =>' not in x.name) and ('tbb' not in x.name) and ('syscall' not in x.name)  and ('std::' not in x.name))\n",
    "    return dfs_filtered        \n",
    "\n",
    "stl_sb_data = stl_sb_data.groupby(['region']).mean().sort_values(by='PAPI_TOT_CYC',ascending=False).head(100)\n",
    "stl_sb_data = filter_libs_out(stl_sb_data)\n",
    "stl_sb_data = stl_sb_data[stl_sb_data.index.get_level_values('region').str.contains('::')]\n",
    "# vipidata.sort_values(by=metric,ascending=True).head(20)\n",
    "stl_sb_data.head(20)"
   ]
  },
  {
   "cell_type": "markdown",
   "metadata": {},
   "source": [
    "## L2 Miss Count\n",
    "<a id='l2'></a>"
   ]
  },
  {
   "cell_type": "code",
   "execution_count": 158,
   "metadata": {
    "scrolled": false
   },
   "outputs": [
    {
     "data": {
      "image/png": "[encoded data removed]",
      "text/plain": [
       "<Figure size 432x288 with 1 Axes>"
      ]
     },
     "metadata": {},
     "output_type": "display_data"
    }
   ],
   "source": [
    "thread_list, L2_TCM_data = scaling_plot(metric_data, plot=False, metric='PAPI_L2_TCM')\n",
    "    \n",
    "plt = matplotlib.pyplot.plot(thread_list, L2_TCM_data)"
   ]
  },
  {
   "cell_type": "code",
   "execution_count": 162,
   "metadata": {},
   "outputs": [
    {
     "name": "stdout",
     "output_type": "stream",
     "text": [
      "8\n"
     ]
    },
    {
     "data": {
      "text/plain": [
       "<BarContainer object of 8 artists>"
      ]
     },
     "execution_count": 162,
     "metadata": {},
     "output_type": "execute_result"
    },
    {
     "data": {
      "text/plain": [
       "(0.0, 500000000.0)"
      ]
     },
     "execution_count": 162,
     "metadata": {},
     "output_type": "execute_result"
    },
    {
     "data": {
      "image/png": "[encoded data removed]",
      "text/plain": [
       "<Figure size 432x288 with 1 Axes>"
      ]
     },
     "metadata": {},
     "output_type": "display_data"
    },
    {
     "name": "stdout",
     "output_type": "stream",
     "text": [
      "16\n"
     ]
    },
    {
     "data": {
      "text/plain": [
       "<BarContainer object of 16 artists>"
      ]
     },
     "execution_count": 162,
     "metadata": {},
     "output_type": "execute_result"
    },
    {
     "data": {
      "text/plain": [
       "(0.0, 500000000.0)"
      ]
     },
     "execution_count": 162,
     "metadata": {},
     "output_type": "execute_result"
    },
    {
     "data": {
      "image/png": "[encoded data removed]",
      "text/plain": [
       "<Figure size 432x288 with 1 Axes>"
      ]
     },
     "metadata": {},
     "output_type": "display_data"
    },
    {
     "name": "stdout",
     "output_type": "stream",
     "text": [
      "32\n"
     ]
    },
    {
     "data": {
      "text/plain": [
       "<BarContainer object of 32 artists>"
      ]
     },
     "execution_count": 162,
     "metadata": {},
     "output_type": "execute_result"
    },
    {
     "data": {
      "text/plain": [
       "(0.0, 500000000.0)"
      ]
     },
     "execution_count": 162,
     "metadata": {},
     "output_type": "execute_result"
    },
    {
     "data": {
      "image/png": "[encoded data removed]",
      "text/plain": [
       "<Figure size 432x288 with 1 Axes>"
      ]
     },
     "metadata": {},
     "output_type": "display_data"
    },
    {
     "name": "stdout",
     "output_type": "stream",
     "text": [
      "48\n"
     ]
    },
    {
     "data": {
      "text/plain": [
       "<BarContainer object of 48 artists>"
      ]
     },
     "execution_count": 162,
     "metadata": {},
     "output_type": "execute_result"
    },
    {
     "data": {
      "text/plain": [
       "(0.0, 500000000.0)"
      ]
     },
     "execution_count": 162,
     "metadata": {},
     "output_type": "execute_result"
    },
    {
     "data": {
      "image/png": "[encoded data removed]",
      "text/plain": [
       "<Figure size 432x288 with 1 Axes>"
      ]
     },
     "metadata": {},
     "output_type": "display_data"
    },
    {
     "name": "stdout",
     "output_type": "stream",
     "text": [
      "56\n"
     ]
    },
    {
     "data": {
      "text/plain": [
       "<BarContainer object of 56 artists>"
      ]
     },
     "execution_count": 162,
     "metadata": {},
     "output_type": "execute_result"
    },
    {
     "data": {
      "text/plain": [
       "(0.0, 500000000.0)"
      ]
     },
     "execution_count": 162,
     "metadata": {},
     "output_type": "execute_result"
    },
    {
     "data": {
      "image/png": "[encoded data removed]",
      "text/plain": [
       "<Figure size 432x288 with 1 Axes>"
      ]
     },
     "metadata": {},
     "output_type": "display_data"
    }
   ],
   "source": [
    "thread_L2_TCM_data = get_thread_level_metric_scaling(metric_data, metric='PAPI_L2_TCM')\n",
    "\n",
    "for kt in thread_list:\n",
    "    print kt\n",
    "    data = list(thread_L2_TCM_data[kt])\n",
    "    matplotlib.pyplot.bar(range(len(data)), data)\n",
    "    matplotlib.pyplot.ylim(ymax=5e8)\n",
    "    matplotlib.pyplot.show()"
   ]
  },
  {
   "cell_type": "code",
   "execution_count": 164,
   "metadata": {},
   "outputs": [
    {
     "name": "stdout",
     "output_type": "stream",
     "text": [
      "[8, 16, 32, 48, 56]\n"
     ]
    }
   ],
   "source": [
    "L2_TCM_data = select_metric_from_scaling(metric_data, 'PAPI_L2_TCM')\n",
    "L2_TCM_dict = {}\n",
    "for n_thr in thread_list:\n",
    "    L2_TCM_dict[n_thr] = filter_libs_out(L2_TCM_data[n_thr]).sort_values(by='Exclusive',ascending=False)[[\"Exclusive\"]]\n",
    "print thread_list"
   ]
  },
  {
   "cell_type": "code",
   "execution_count": 165,
   "metadata": {
    "scrolled": true
   },
   "outputs": [
    {
     "data": {
      "text/html": [
       "<div>\n",
       "<style scoped>\n",
       "    .dataframe tbody tr th:only-of-type {\n",
       "        vertical-align: middle;\n",
       "    }\n",
       "\n",
       "    .dataframe tbody tr th {\n",
       "        vertical-align: top;\n",
       "    }\n",
       "\n",
       "    .dataframe thead th {\n",
       "        text-align: right;\n",
       "    }\n",
       "</style>\n",
       "<table border=\"1\" class=\"dataframe\">\n",
       "  <thead>\n",
       "    <tr style=\"text-align: right;\">\n",
       "      <th></th>\n",
       "      <th>Exclusive</th>\n",
       "    </tr>\n",
       "    <tr>\n",
       "      <th>region</th>\n",
       "      <th></th>\n",
       "    </tr>\n",
       "  </thead>\n",
       "  <tbody>\n",
       "    <tr>\n",
       "      <th>[SUMMARY] MkFinder::SelectHitIndices(LayerOfHits const&amp;, int)</th>\n",
       "      <td>1.87e+06</td>\n",
       "    </tr>\n",
       "    <tr>\n",
       "      <th>[SUMMARY] __svml_sincosf8_l9</th>\n",
       "      <td>1.25e+06</td>\n",
       "    </tr>\n",
       "    <tr>\n",
       "      <th>[SUMMARY] .TAU application  =&gt; [CONTEXT] .TAU application  =&gt; [SAMPLE] __svml_sincosf8_l9</th>\n",
       "      <td>1.14e+06</td>\n",
       "    </tr>\n",
       "    <tr>\n",
       "      <th>[SUMMARY] __GI___libc_malloc</th>\n",
       "      <td>9.06e+05</td>\n",
       "    </tr>\n",
       "    <tr>\n",
       "      <th>[SUMMARY] MkFinder::FindCandidatesCloneEngine(LayerOfHits const&amp;, CandCloner&amp;, int, int, FindingFoos const&amp;)</th>\n",
       "      <td>6.57e+05</td>\n",
       "    </tr>\n",
       "    <tr>\n",
       "      <th>[SUMMARY] __read_nocancel</th>\n",
       "      <td>6.33e+05</td>\n",
       "    </tr>\n",
       "    <tr>\n",
       "      <th>[SUMMARY] Event::clean_cms_seedtracks()</th>\n",
       "      <td>6.28e+05</td>\n",
       "    </tr>\n",
       "    <tr>\n",
       "      <th>[SUMMARY] _int_free</th>\n",
       "      <td>5.94e+05</td>\n",
       "    </tr>\n",
       "    <tr>\n",
       "      <th>[SUMMARY] __intel_avx_rep_memset</th>\n",
       "      <td>4.59e+05</td>\n",
       "    </tr>\n",
       "    <tr>\n",
       "      <th>[SUMMARY] _int_malloc</th>\n",
       "      <td>4.42e+05</td>\n",
       "    </tr>\n",
       "    <tr>\n",
       "      <th>[SUMMARY] malloc_consolidate</th>\n",
       "      <td>4.37e+05</td>\n",
       "    </tr>\n",
       "    <tr>\n",
       "      <th>[SUMMARY] RadixSort::Sort(float const*, unsigned int)</th>\n",
       "      <td>4.24e+05</td>\n",
       "    </tr>\n",
       "    <tr>\n",
       "      <th>[SUMMARY] void _INTERNALc4f9cdd2::helixAtRFromIterativeCCS_impl&lt;Matriplex::Matriplex&lt;float, 6, 1, 8&gt;, Matriplex::Matriplex&lt;int, 1, 1, 8&gt;, Matriplex::Matriplex&lt;float, 6, 1, 8&gt;, Matriplex::Matriplex&lt;float, 1, 1, 8&gt;, Matriplex::Matriplex&lt;float, 6, 6, 8&gt; &gt;(Matriplex::Matriplex&lt;float, 6, 1, 8&gt; const&amp;, Matriplex::Matriplex&lt;int, 1, 1, 8&gt; const&amp;, Matriplex::Matriplex&lt;float, 6, 1, 8&gt;&amp;, Matriplex::Matriplex&lt;float, 1, 1, 8&gt; const&amp;, Matriplex::Matriplex&lt;float, 6, 6, 8&gt;&amp;, int, int, int, bool)</th>\n",
       "      <td>4.10e+05</td>\n",
       "    </tr>\n",
       "    <tr>\n",
       "      <th>[SUMMARY] FMA(__m256 const&amp;, __m256 const&amp;, __m256 const&amp;)</th>\n",
       "      <td>3.83e+05</td>\n",
       "    </tr>\n",
       "    <tr>\n",
       "      <th>[SUMMARY] helixAtZ(Matriplex::Matriplex&lt;float, 6, 1, 8&gt; const&amp;, Matriplex::Matriplex&lt;int, 1, 1, 8&gt; const&amp;, Matriplex::Matriplex&lt;float, 6, 1, 8&gt;&amp;, Matriplex::Matriplex&lt;float, 1, 1, 8&gt; const&amp;, Matriplex::Matriplex&lt;float, 6, 6, 8&gt;&amp;, int, bool)</th>\n",
       "      <td>3.70e+05</td>\n",
       "    </tr>\n",
       "    <tr>\n",
       "      <th>[SUMMARY] Matriplex::MatriplexSym&lt;float, 6, 8&gt;::CopyIn(int, float const*)</th>\n",
       "      <td>3.21e+05</td>\n",
       "    </tr>\n",
       "    <tr>\n",
       "      <th>[SUMMARY] __GI___mprotect</th>\n",
       "      <td>3.16e+05</td>\n",
       "    </tr>\n",
       "    <tr>\n",
       "      <th>[SUMMARY] sysmalloc</th>\n",
       "      <td>2.90e+05</td>\n",
       "    </tr>\n",
       "    <tr>\n",
       "      <th>[SUMMARY] Matriplex::MatriplexSym&lt;float, 3, 8&gt;::SlurpIn(char const*, int*, int)</th>\n",
       "      <td>2.56e+05</td>\n",
       "    </tr>\n",
       "    <tr>\n",
       "      <th>[SUMMARY] LayerOfHits::alloc_hits(int)</th>\n",
       "      <td>2.53e+05</td>\n",
       "    </tr>\n",
       "  </tbody>\n",
       "</table>\n",
       "</div>"
      ],
      "text/plain": [
       "                                                                        Exclusive\n",
       "region                                                                           \n",
       "[SUMMARY] MkFinder::SelectHitIndices(LayerOfHits const&, int)            1.87e+06\n",
       "[SUMMARY] __svml_sincosf8_l9                                             1.25e+06\n",
       "[SUMMARY] .TAU application  => [CONTEXT] .TAU application  => [SAMP...   1.14e+06\n",
       "[SUMMARY] __GI___libc_malloc                                             9.06e+05\n",
       "[SUMMARY] MkFinder::FindCandidatesCloneEngine(LayerOfHits const&, C...   6.57e+05\n",
       "[SUMMARY] __read_nocancel                                                6.33e+05\n",
       "[SUMMARY] Event::clean_cms_seedtracks()                                  6.28e+05\n",
       "[SUMMARY] _int_free                                                      5.94e+05\n",
       "[SUMMARY] __intel_avx_rep_memset                                         4.59e+05\n",
       "[SUMMARY] _int_malloc                                                    4.42e+05\n",
       "[SUMMARY] malloc_consolidate                                             4.37e+05\n",
       "[SUMMARY] RadixSort::Sort(float const*, unsigned int)                    4.24e+05\n",
       "[SUMMARY] void _INTERNALc4f9cdd2::helixAtRFromIterativeCCS_impl<Mat...   4.10e+05\n",
       "[SUMMARY] FMA(__m256 const&, __m256 const&, __m256 const&)               3.83e+05\n",
       "[SUMMARY] helixAtZ(Matriplex::Matriplex<float, 6, 1, 8> const&, Mat...   3.70e+05\n",
       "[SUMMARY] Matriplex::MatriplexSym<float, 6, 8>::CopyIn(int, float c...   3.21e+05\n",
       "[SUMMARY] __GI___mprotect                                                3.16e+05\n",
       "[SUMMARY] sysmalloc                                                      2.90e+05\n",
       "[SUMMARY] Matriplex::MatriplexSym<float, 3, 8>::SlurpIn(char const*...   2.56e+05\n",
       "[SUMMARY] LayerOfHits::alloc_hits(int)                                   2.53e+05"
      ]
     },
     "execution_count": 165,
     "metadata": {},
     "output_type": "execute_result"
    }
   ],
   "source": [
    "THREAD_COUNT = 16\n",
    "func = 'NULL'\n",
    "# func = 'FindCandidatesCloneEngine' # NULL for nothing\n",
    "# func = 'SelectHitIndices' # NULL for nothing\n",
    "get_func_level_metric(L2_TCM_dict[THREAD_COUNT], func=func, avg=True).head(20)"
   ]
  },
  {
   "cell_type": "markdown",
   "metadata": {},
   "source": [
    "## L3 Miss Count\n",
    "<a id='l3'></a>"
   ]
  },
  {
   "cell_type": "code",
   "execution_count": 149,
   "metadata": {
    "scrolled": true
   },
   "outputs": [
    {
     "data": {
      "image/png": "[encoded data removed]",
      "text/plain": [
       "<Figure size 432x288 with 1 Axes>"
      ]
     },
     "metadata": {},
     "output_type": "display_data"
    }
   ],
   "source": [
    "thread_list, L3_TCM_data = scaling_plot(metric_data, plot=False, metric='PAPI_L3_TCM')\n",
    "    \n",
    "plt = matplotlib.pyplot.plot(thread_list, L3_TCM_data)"
   ]
  },
  {
   "cell_type": "code",
   "execution_count": 156,
   "metadata": {},
   "outputs": [
    {
     "name": "stdout",
     "output_type": "stream",
     "text": [
      "8\n"
     ]
    },
    {
     "data": {
      "text/plain": [
       "<BarContainer object of 8 artists>"
      ]
     },
     "execution_count": 156,
     "metadata": {},
     "output_type": "execute_result"
    },
    {
     "data": {
      "text/plain": [
       "(0.0, 200000000.0)"
      ]
     },
     "execution_count": 156,
     "metadata": {},
     "output_type": "execute_result"
    },
    {
     "data": {
      "image/png": "[encoded data removed]",
      "text/plain": [
       "<Figure size 432x288 with 1 Axes>"
      ]
     },
     "metadata": {},
     "output_type": "display_data"
    },
    {
     "name": "stdout",
     "output_type": "stream",
     "text": [
      "16\n"
     ]
    },
    {
     "data": {
      "text/plain": [
       "<BarContainer object of 16 artists>"
      ]
     },
     "execution_count": 156,
     "metadata": {},
     "output_type": "execute_result"
    },
    {
     "data": {
      "text/plain": [
       "(0.0, 200000000.0)"
      ]
     },
     "execution_count": 156,
     "metadata": {},
     "output_type": "execute_result"
    },
    {
     "data": {
      "image/png": "[encoded data removed]",
      "text/plain": [
       "<Figure size 432x288 with 1 Axes>"
      ]
     },
     "metadata": {},
     "output_type": "display_data"
    },
    {
     "name": "stdout",
     "output_type": "stream",
     "text": [
      "32\n"
     ]
    },
    {
     "data": {
      "text/plain": [
       "<BarContainer object of 32 artists>"
      ]
     },
     "execution_count": 156,
     "metadata": {},
     "output_type": "execute_result"
    },
    {
     "data": {
      "text/plain": [
       "(0.0, 200000000.0)"
      ]
     },
     "execution_count": 156,
     "metadata": {},
     "output_type": "execute_result"
    },
    {
     "data": {
      "image/png": "[encoded data removed]",
      "text/plain": [
       "<Figure size 432x288 with 1 Axes>"
      ]
     },
     "metadata": {},
     "output_type": "display_data"
    },
    {
     "name": "stdout",
     "output_type": "stream",
     "text": [
      "48\n"
     ]
    },
    {
     "data": {
      "text/plain": [
       "<BarContainer object of 48 artists>"
      ]
     },
     "execution_count": 156,
     "metadata": {},
     "output_type": "execute_result"
    },
    {
     "data": {
      "text/plain": [
       "(0.0, 200000000.0)"
      ]
     },
     "execution_count": 156,
     "metadata": {},
     "output_type": "execute_result"
    },
    {
     "data": {
      "image/png": "[encoded data removed]",
      "text/plain": [
       "<Figure size 432x288 with 1 Axes>"
      ]
     },
     "metadata": {},
     "output_type": "display_data"
    },
    {
     "name": "stdout",
     "output_type": "stream",
     "text": [
      "56\n"
     ]
    },
    {
     "data": {
      "text/plain": [
       "<BarContainer object of 56 artists>"
      ]
     },
     "execution_count": 156,
     "metadata": {},
     "output_type": "execute_result"
    },
    {
     "data": {
      "text/plain": [
       "(0.0, 200000000.0)"
      ]
     },
     "execution_count": 156,
     "metadata": {},
     "output_type": "execute_result"
    },
    {
     "data": {
      "image/png": "[encoded data removed]",
      "text/plain": [
       "<Figure size 432x288 with 1 Axes>"
      ]
     },
     "metadata": {},
     "output_type": "display_data"
    }
   ],
   "source": [
    "thread_L3_TCM_data = get_thread_level_metric_scaling(metric_data, metric='PAPI_L3_TCM')\n",
    "\n",
    "for kt in thread_list:\n",
    "    print kt\n",
    "    data = list(thread_L3_TCM_data[kt])\n",
    "    matplotlib.pyplot.bar(range(len(data)), data)\n",
    "    matplotlib.pyplot.ylim(ymax=2e8)\n",
    "    matplotlib.pyplot.show()"
   ]
  },
  {
   "cell_type": "code",
   "execution_count": 153,
   "metadata": {},
   "outputs": [
    {
     "name": "stdout",
     "output_type": "stream",
     "text": [
      "[8, 16, 32, 48, 56]\n"
     ]
    }
   ],
   "source": [
    "L3_TCM_data = select_metric_from_scaling(metric_data, 'PAPI_L3_TCM')\n",
    "L3_TCM_dict = {}\n",
    "for n_thr in thread_list:\n",
    "    L3_TCM_dict[n_thr] = filter_libs_out(L3_TCM_data[n_thr]).sort_values(by='Exclusive',ascending=False)[[\"Exclusive\"]]\n",
    "print thread_list"
   ]
  },
  {
   "cell_type": "code",
   "execution_count": 157,
   "metadata": {
    "scrolled": true
   },
   "outputs": [
    {
     "data": {
      "text/html": [
       "<div>\n",
       "<style scoped>\n",
       "    .dataframe tbody tr th:only-of-type {\n",
       "        vertical-align: middle;\n",
       "    }\n",
       "\n",
       "    .dataframe tbody tr th {\n",
       "        vertical-align: top;\n",
       "    }\n",
       "\n",
       "    .dataframe thead th {\n",
       "        text-align: right;\n",
       "    }\n",
       "</style>\n",
       "<table border=\"1\" class=\"dataframe\">\n",
       "  <thead>\n",
       "    <tr style=\"text-align: right;\">\n",
       "      <th></th>\n",
       "      <th>Exclusive</th>\n",
       "    </tr>\n",
       "    <tr>\n",
       "      <th>region</th>\n",
       "      <th></th>\n",
       "    </tr>\n",
       "  </thead>\n",
       "  <tbody>\n",
       "    <tr>\n",
       "      <th>[SUMMARY] MkFinder::SelectHitIndices(LayerOfHits const&amp;, int)</th>\n",
       "      <td>4.96e+05</td>\n",
       "    </tr>\n",
       "    <tr>\n",
       "      <th>[SUMMARY] Event::clean_cms_seedtracks()</th>\n",
       "      <td>3.08e+05</td>\n",
       "    </tr>\n",
       "    <tr>\n",
       "      <th>[SUMMARY] __svml_sincosf8_l9</th>\n",
       "      <td>2.90e+05</td>\n",
       "    </tr>\n",
       "    <tr>\n",
       "      <th>[SUMMARY] .TAU application  =&gt; [CONTEXT] .TAU application  =&gt; [SAMPLE] __svml_sincosf8_l9</th>\n",
       "      <td>2.61e+05</td>\n",
       "    </tr>\n",
       "    <tr>\n",
       "      <th>[SUMMARY] __GI___libc_malloc</th>\n",
       "      <td>2.52e+05</td>\n",
       "    </tr>\n",
       "    <tr>\n",
       "      <th>[SUMMARY] __read_nocancel</th>\n",
       "      <td>2.31e+05</td>\n",
       "    </tr>\n",
       "    <tr>\n",
       "      <th>[SUMMARY] _int_free</th>\n",
       "      <td>2.05e+05</td>\n",
       "    </tr>\n",
       "    <tr>\n",
       "      <th>[SUMMARY] RadixSort::Sort(float const*, unsigned int)</th>\n",
       "      <td>1.85e+05</td>\n",
       "    </tr>\n",
       "    <tr>\n",
       "      <th>[SUMMARY] _int_malloc</th>\n",
       "      <td>1.77e+05</td>\n",
       "    </tr>\n",
       "    <tr>\n",
       "      <th>[SUMMARY] MkFinder::FindCandidatesCloneEngine(LayerOfHits const&amp;, CandCloner&amp;, int, int, FindingFoos const&amp;)</th>\n",
       "      <td>1.68e+05</td>\n",
       "    </tr>\n",
       "    <tr>\n",
       "      <th>[SUMMARY] __libm_atan2f_l9</th>\n",
       "      <td>1.37e+05</td>\n",
       "    </tr>\n",
       "    <tr>\n",
       "      <th>[SUMMARY] __intel_avx_rep_memset</th>\n",
       "      <td>1.35e+05</td>\n",
       "    </tr>\n",
       "    <tr>\n",
       "      <th>[SUMMARY] malloc_consolidate</th>\n",
       "      <td>1.33e+05</td>\n",
       "    </tr>\n",
       "    <tr>\n",
       "      <th>[SUMMARY] LayerOfHits::empty_phi_bins(int, int, int, int)</th>\n",
       "      <td>1.31e+05</td>\n",
       "    </tr>\n",
       "    <tr>\n",
       "      <th>[SUMMARY] FMA(__m256 const&amp;, __m256 const&amp;, __m256 const&amp;)</th>\n",
       "      <td>1.13e+05</td>\n",
       "    </tr>\n",
       "    <tr>\n",
       "      <th>[SUMMARY] helixAtZ(Matriplex::Matriplex&lt;float, 6, 1, 8&gt; const&amp;, Matriplex::Matriplex&lt;int, 1, 1, 8&gt; const&amp;, Matriplex::Matriplex&lt;float, 6, 1, 8&gt;&amp;, Matriplex::Matriplex&lt;float, 1, 1, 8&gt; const&amp;, Matriplex::Matriplex&lt;float, 6, 6, 8&gt;&amp;, int, bool)</th>\n",
       "      <td>1.06e+05</td>\n",
       "    </tr>\n",
       "    <tr>\n",
       "      <th>[SUMMARY] __GI___mprotect</th>\n",
       "      <td>1.06e+05</td>\n",
       "    </tr>\n",
       "    <tr>\n",
       "      <th>[SUMMARY] void _INTERNALc4f9cdd2::helixAtRFromIterativeCCS_impl&lt;Matriplex::Matriplex&lt;float, 6, 1, 8&gt;, Matriplex::Matriplex&lt;int, 1, 1, 8&gt;, Matriplex::Matriplex&lt;float, 6, 1, 8&gt;, Matriplex::Matriplex&lt;float, 1, 1, 8&gt;, Matriplex::Matriplex&lt;float, 6, 6, 8&gt; &gt;(Matriplex::Matriplex&lt;float, 6, 1, 8&gt; const&amp;, Matriplex::Matriplex&lt;int, 1, 1, 8&gt; const&amp;, Matriplex::Matriplex&lt;float, 6, 1, 8&gt;&amp;, Matriplex::Matriplex&lt;float, 1, 1, 8&gt; const&amp;, Matriplex::Matriplex&lt;float, 6, 6, 8&gt;&amp;, int, int, int, bool)</th>\n",
       "      <td>1.00e+05</td>\n",
       "    </tr>\n",
       "    <tr>\n",
       "      <th>[SUMMARY] sysmalloc</th>\n",
       "      <td>9.06e+04</td>\n",
       "    </tr>\n",
       "    <tr>\n",
       "      <th>[SUMMARY] Matriplex::MatriplexSym&lt;float, 6, 8&gt;::CopyIn(int, float const*)</th>\n",
       "      <td>8.11e+04</td>\n",
       "    </tr>\n",
       "  </tbody>\n",
       "</table>\n",
       "</div>"
      ],
      "text/plain": [
       "                                                                        Exclusive\n",
       "region                                                                           \n",
       "[SUMMARY] MkFinder::SelectHitIndices(LayerOfHits const&, int)            4.96e+05\n",
       "[SUMMARY] Event::clean_cms_seedtracks()                                  3.08e+05\n",
       "[SUMMARY] __svml_sincosf8_l9                                             2.90e+05\n",
       "[SUMMARY] .TAU application  => [CONTEXT] .TAU application  => [SAMP...   2.61e+05\n",
       "[SUMMARY] __GI___libc_malloc                                             2.52e+05\n",
       "[SUMMARY] __read_nocancel                                                2.31e+05\n",
       "[SUMMARY] _int_free                                                      2.05e+05\n",
       "[SUMMARY] RadixSort::Sort(float const*, unsigned int)                    1.85e+05\n",
       "[SUMMARY] _int_malloc                                                    1.77e+05\n",
       "[SUMMARY] MkFinder::FindCandidatesCloneEngine(LayerOfHits const&, C...   1.68e+05\n",
       "[SUMMARY] __libm_atan2f_l9                                               1.37e+05\n",
       "[SUMMARY] __intel_avx_rep_memset                                         1.35e+05\n",
       "[SUMMARY] malloc_consolidate                                             1.33e+05\n",
       "[SUMMARY] LayerOfHits::empty_phi_bins(int, int, int, int)                1.31e+05\n",
       "[SUMMARY] FMA(__m256 const&, __m256 const&, __m256 const&)               1.13e+05\n",
       "[SUMMARY] helixAtZ(Matriplex::Matriplex<float, 6, 1, 8> const&, Mat...   1.06e+05\n",
       "[SUMMARY] __GI___mprotect                                                1.06e+05\n",
       "[SUMMARY] void _INTERNALc4f9cdd2::helixAtRFromIterativeCCS_impl<Mat...   1.00e+05\n",
       "[SUMMARY] sysmalloc                                                      9.06e+04\n",
       "[SUMMARY] Matriplex::MatriplexSym<float, 6, 8>::CopyIn(int, float c...   8.11e+04"
      ]
     },
     "execution_count": 157,
     "metadata": {},
     "output_type": "execute_result"
    }
   ],
   "source": [
    "THREAD_COUNT = 16\n",
    "func = 'NULL'\n",
    "# func = 'FindCandidatesCloneEngine' # NULL for nothing\n",
    "# func = 'SelectHitIndices' # NULL for nothing\n",
    "get_func_level_metric(L3_TCM_dict[THREAD_COUNT], func=func, avg=True).head(20)"
   ]
  },
  {
   "cell_type": "markdown",
   "metadata": {},
   "source": [
    "## Fetch Stalls\n",
    "<a id='fetch_stalls'></a>"
   ]
  },
  {
   "cell_type": "code",
   "execution_count": 116,
   "metadata": {},
   "outputs": [],
   "source": [
    "# thread_list, FETCH_STALL_data = scaling_plot(metric_data, plot=False, metric='PAPI_NATIVE_FETCH_STALL')\n",
    "    \n",
    "# plt = matplotlib.pyplot.plot(thread_list, FETCH_STALL_data)"
   ]
  },
  {
   "cell_type": "code",
   "execution_count": 117,
   "metadata": {},
   "outputs": [],
   "source": [
    "# thread_FETCH_STL_data = get_thread_level_metric_scaling(metric_data, metric='PAPI_NATIVE_FETCH_STALL')\n",
    "\n",
    "# for kt in thread_list:\n",
    "#     print kt\n",
    "#     data = list(thread_FETCH_STL_data[kt])\n",
    "#     matplotlib.pyplot.bar(range(len(data)), data)\n",
    "#     matplotlib.pyplot.ylim(ymax=2e9)\n",
    "#     matplotlib.pyplot.show()"
   ]
  },
  {
   "cell_type": "code",
   "execution_count": 118,
   "metadata": {},
   "outputs": [],
   "source": [
    "# FS_data = select_metric_from_scaling(metric_data, 'PAPI_NATIVE_FETCH_STALL')\n",
    "# FS_dict = {}\n",
    "# for n_thr in thread_list:\n",
    "#     FS_dict[n_thr] = filter_libs_out(FS_data[n_thr]).sort_values(by='Exclusive',ascending=False)[[\"Exclusive\"]]\n",
    "# print thread_list"
   ]
  },
  {
   "cell_type": "code",
   "execution_count": 119,
   "metadata": {},
   "outputs": [],
   "source": [
    "# THREAD_COUNT = 1\n",
    "# func = 'NULL'\n",
    "# # func = 'FindCandidatesCloneEngine' # NULL for nothing\n",
    "# # func = 'SelectHitIndices' # NULL for nothing\n",
    "# get_func_level_metric(FS_dict[THREAD_COUNT], func=func, avg=True).head(20)"
   ]
  },
  {
   "cell_type": "markdown",
   "metadata": {},
   "source": [
    "## Stalls per Cycle\n",
    "<a id='fetch_ratio'></a>"
   ]
  },
  {
   "cell_type": "code",
   "execution_count": 120,
   "metadata": {},
   "outputs": [],
   "source": [
    "# thread_list, FETCH_STALL_data = scaling_plot(metric_data, plot=False, metric='PAPI_NATIVE_FETCH_STALL')\n",
    "# thread_list, TOT_CYC_data = scaling_plot(metric_data, plot=False, metric='PAPI_TOT_CYC')\n",
    "    \n",
    "# FS_P_CYC_list = [FETCH_STALL_data[i] / TOT_CYC_data[i] for i in range(len(thread_list))]\n",
    "\n",
    "# plt = matplotlib.pyplot.plot(thread_list, FS_P_CYC_list)"
   ]
  },
  {
   "cell_type": "code",
   "execution_count": 121,
   "metadata": {},
   "outputs": [],
   "source": [
    "# thread_TOT_CYC_data = get_thread_level_metric_scaling(metric_data, metric='PAPI_TOT_CYC')\n",
    "# thread_FETCH_STL_data = get_thread_level_metric_scaling(metric_data, metric='PAPI_NATIVE_FETCH_STALL')\n",
    "\n",
    "# FS_P_CYC_data = {}\n",
    "# for kt in thread_list:\n",
    "# #     print(thread_L1M_data[kt])\n",
    "# #     print(thread_L1A_data[kt])\n",
    "#     FS_P_CYC_data[kt] = thread_FETCH_STL_data[kt] / thread_TOT_CYC_data[kt]\n",
    "     \n",
    "# for kt in thread_list:\n",
    "#     print kt\n",
    "#     data = list(FS_P_CYC_data[kt])\n",
    "#     matplotlib.pyplot.bar(range(len(data)), data)\n",
    "#     matplotlib.pyplot.ylim(ymax=0.2)\n",
    "#     matplotlib.pyplot.show()"
   ]
  },
  {
   "cell_type": "code",
   "execution_count": 122,
   "metadata": {},
   "outputs": [],
   "source": [
    "# FSTC_data = select_metric_from_scaling(metric_data, 'DERIVED_RATIO_FETCH_STL_TOT_CYC')\n",
    "# FSTC_dict = {}\n",
    "\n",
    "\n",
    "# def filter_libs_out_2(dfs):\n",
    "#     dfs_filtered = dfs.groupby(level='region').filter(lambda x: ('.TAU application ' not in x.name) and ('tbb' not in x.name) and ('syscall' not in x.name)  and ('std::' not in x.name))\n",
    "#     return dfs_filtered\n",
    "\n",
    "# for n_thr in thread_list:\n",
    "#     FSTC_dict[n_thr] = filter_libs_out_2(FSTC_data[n_thr]).sort_values(by='Exclusive',ascending=False)[[\"Exclusive\"]]\n",
    "# #     FSTC_dict[n_thr] = FSTC_data[n_thr].sort_values(by='Exclusive',ascending=False)[[\"Exclusive\"]]\n",
    "# print thread_list"
   ]
  },
  {
   "cell_type": "code",
   "execution_count": 123,
   "metadata": {},
   "outputs": [],
   "source": [
    "# THREAD_COUNT = 32\n",
    "# func = 'NULL'\n",
    "# # func = 'FindCandidatesCloneEngine' # NULL for nothing\n",
    "# # func = 'SelectHitIndices' # NULL for nothing\n",
    "# get_func_level_metric(FSTC_dict[THREAD_COUNT], func=func, avg=True).head(10)"
   ]
  },
  {
   "cell_type": "code",
   "execution_count": null,
   "metadata": {},
   "outputs": [],
   "source": []
  }
 ],
 "metadata": {
  "kernelspec": {
   "display_name": "Python 2",
   "language": "python",
   "name": "python2"
  },
  "language_info": {
   "codemirror_mode": {
    "name": "ipython",
    "version": 2
   },
   "file_extension": ".py",
   "mimetype": "text/x-python",
   "name": "python",
   "nbconvert_exporter": "python",
   "pygments_lexer": "ipython2",
   "version": "2.7.14"
  }
 },
 "nbformat": 4,
 "nbformat_minor": 2
}
