{
 "cells": [
  {
   "cell_type": "markdown",
   "metadata": {},
   "source": [
    "# TAU Commander Tutorial\n",
    "\n",
    "This notebook discusses how to use tau commander to collect and organize performance analysis data."
   ]
  },
  {
   "cell_type": "markdown",
   "metadata": {
    "collapsed": true
   },
   "source": [
    "## TAU Commander Hierarchy of Performance Measurements\n",
    "\n",
    "Tau Commander organizes performance measurement into a set of categories intended to simplify the process of setting up performance data gathering and encourage reuse of settings between experiments.\n",
    "\n",
    "* project - top level organization\n",
    "* target - hardware environment plus measurement libraries like Papi\n",
    "* application - program to test; defines what libraries and measurement techniques\n",
    "* measurements\n",
    "* experiments\n",
    "* trials"
   ]
  },
  {
   "cell_type": "markdown",
   "metadata": {},
   "source": [
    "## Project\n",
    "\n",
    "Basically this is the big umbrella that keeps everything together. It exists as a .tau directory in the folder where your software lives. Under this directory is a new installation of Tau, the measured data in folders that store standard TAU profile files, and XML/JSON files that help TAU remeber where it put everything.\n",
    "\n",
    "To initialize a project simply type the comand below."
   ]
  },
  {
   "cell_type": "code",
   "execution_count": null,
   "metadata": {
    "collapsed": true
   },
   "outputs": [],
   "source": [
    "tau init # to initialize a project\n",
    "tau dash # to view all the pieces that currently exist within the project"
   ]
  },
  {
   "cell_type": "markdown",
   "metadata": {},
   "source": [
    "## Target\n",
    "\n",
    "Target defines system information including OS, architecture, compilers, and papi libraries. Most of this information tau can figure out on its own, but it often needs help finding a papi installation. Also, if you want to use source instrumentation add the '--pdt' flag to let tau know."
   ]
  },
  {
   "cell_type": "code",
   "execution_count": null,
   "metadata": {
    "collapsed": true
   },
   "outputs": [],
   "source": [
    "tau target create grover_papi --papi /path/to/papi\n",
    "tau target create grover_papi --papi /path/to/papi --pdt"
   ]
  },
  {
   "cell_type": "markdown",
   "metadata": {},
   "source": [
    "## Application\n",
    "\n",
    "Application defines application specific needs such as openmp, MPI, TBB, etc."
   ]
  },
  {
   "cell_type": "code",
   "execution_count": null,
   "metadata": {
    "collapsed": true
   },
   "outputs": [],
   "source": [
    "tau application create mictest --linkage dynamic --tbb T"
   ]
  },
  {
   "cell_type": "markdown",
   "metadata": {},
   "source": [
    "## Measurements\n",
    "\n",
    "Measurements define what and how a run should record data. This includes sampling (currently recomended for this application) vs intrumentation, recording callpaths, how to store data, and most improtant what metric to measure. For TAU and our libraries to work correctly TIME must always be included and only one other metric should be measuremed at a time.\n",
    "\n",
    "Below we have some examples of defining measurements. The --callpath 100 option is assumed by default and tells tau to record callpaths to a depth of 100."
   ]
  },
  {
   "cell_type": "code",
   "execution_count": null,
   "metadata": {
    "collapsed": true
   },
   "outputs": [],
   "source": [
    "tau measurement create sample_ins_cyc --sample T --callsite T --metrics TIME PAPI_TOT_INS"
   ]
  },
  {
   "cell_type": "markdown",
   "metadata": {},
   "source": [
    "## Experiments\n",
    "\n",
    "Within a project Experiments are the primary organizational feature. Each experiment combines an application, target, and measurement so that it has all the information to run tau on your program. As a result, tau Makefiles are stored at the experiment level. \n"
   ]
  },
  {
   "cell_type": "code",
   "execution_count": null,
   "metadata": {
    "collapsed": true
   },
   "outputs": [],
   "source": [
    "tau experiment create mictest --application mictest --measurement sample_ins_cyc --target grover_papi"
   ]
  },
  {
   "cell_type": "markdown",
   "metadata": {},
   "source": [
    "## Trials\n",
    "\n",
    "Program runs are called Trials, each of which is associated with the experiment that is currently selected when the Trial is created. The trials in each experiment are numbered sequentially starting at 0"
   ]
  },
  {
   "cell_type": "code",
   "execution_count": null,
   "metadata": {
    "collapsed": true
   },
   "outputs": [],
   "source": [
    "tau trial create [CMD]"
   ]
  }
 ],
 "metadata": {
  "kernelspec": {
   "display_name": "Python 2",
   "language": "python",
   "name": "python2"
  },
  "language_info": {
   "codemirror_mode": {
    "name": "ipython",
    "version": 2
   },
   "file_extension": ".py",
   "mimetype": "text/x-python",
   "name": "python",
   "nbconvert_exporter": "python",
   "pygments_lexer": "ipython2",
   "version": "2.7.14"
  }
 },
 "nbformat": 4,
 "nbformat_minor": 2
}
