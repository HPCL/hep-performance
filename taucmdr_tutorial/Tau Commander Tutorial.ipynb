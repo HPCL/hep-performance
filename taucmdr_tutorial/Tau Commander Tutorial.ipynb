{
 "cells": [
  {
   "cell_type": "markdown",
   "metadata": {},
   "source": [
    "# TAU Commander Tutorial\n",
    "\n",
    "This notebook discusses how to use tau commander to collect and organize performance analysis data. This guide is intended as an overview of the taucommander tool from Paratools http://taucommander.paratools.com/ for users of the hep-performance repo; the authors of the taucommander have made much more torough user guides that I highly recommend."
   ]
  },
  {
   "cell_type": "markdown",
   "metadata": {
    "collapsed": true
   },
   "source": [
    "## TAU Commander Hierarchy of Performance Measurements\n",
    "\n",
    "Tau Commander organizes performance measurement into a set of categories intended to simplify the process of setting up performance data gathering and encourage reuse of settings between experiments.\n",
    "\n",
    "* project - top level organization\n",
    "* target - hardware environment plus measurement libraries like Papi\n",
    "* application - program to test; defines what libraries and measurement techniques\n",
    "* measurements\n",
    "* experiments\n",
    "* trials"
   ]
  },
  {
   "cell_type": "markdown",
   "metadata": {},
   "source": [
    "## Project\n",
    "\n",
    "Basically this is the big umbrella that keeps everything together. It exists as a .tau directory in the folder where your software lives. Under this directory is a new installation of Tau, the measured data in folders that store standard TAU profile files, and XML/JSON files that help TAU remeber where it put everything.\n",
    "\n",
    "To initialize a project simply type the comand below."
   ]
  },
  {
   "cell_type": "code",
   "execution_count": null,
   "metadata": {
    "collapsed": true
   },
   "outputs": [],
   "source": [
    "tau init # to initialize a project\n",
    "tau dash # to view all the pieces that currently exist within the project"
   ]
  },
  {
   "cell_type": "markdown",
   "metadata": {},
   "source": [
    "![alt text](dash.png \"Tau Dashboard\")"
   ]
  },
  {
   "cell_type": "markdown",
   "metadata": {},
   "source": [
    "## Target\n",
    "\n",
    "Target defines system information including OS, architecture, compilers, and papi libraries. Most of this information tau can figure out on its own, but it often needs help finding a papi installation. Also, if you want to use source instrumentation add the '--pdt' flag to let tau know."
   ]
  },
  {
   "cell_type": "code",
   "execution_count": null,
   "metadata": {
    "collapsed": true
   },
   "outputs": [],
   "source": [
    "tau target create grover_papi --papi /path/to/papi\n",
    "tau target create grover_papi --papi /path/to/papi --pdt"
   ]
  },
  {
   "cell_type": "markdown",
   "metadata": {},
   "source": [
    "## Application\n",
    "\n",
    "Application defines application specific needs such as openmp, MPI, TBB, etc.\n",
    "Note the 'T' after --tbb is for 'True'"
   ]
  },
  {
   "cell_type": "code",
   "execution_count": null,
   "metadata": {
    "collapsed": true
   },
   "outputs": [],
   "source": [
    "tau application create hello_word --linkage dynamic --tbb T"
   ]
  },
  {
   "cell_type": "markdown",
   "metadata": {},
   "source": [
    "## Measurements\n",
    "\n",
    "Measurements define what and how a run should record data. This includes sampling (currently recomended for this application) vs intrumentation, recording callpaths, how to store data, and most improtant what metric to measure. For TAU and our libraries to work correctly TIME must always be included and only one other metric should be measuremed at a time.\n",
    "\n",
    "Below we have some examples of defining measurements. The --callpath 100 option is assumed by default and tells tau to record callpaths to a depth of 100."
   ]
  },
  {
   "cell_type": "code",
   "execution_count": null,
   "metadata": {
    "collapsed": true
   },
   "outputs": [],
   "source": [
    "tau measurement create sample_ins_cyc --sample T --callsite T --metrics TIME PAPI_TOT_INS"
   ]
  },
  {
   "cell_type": "markdown",
   "metadata": {},
   "source": [
    "## Experiments\n",
    "\n",
    "Within a project Experiments are the primary organizational feature. Each experiment combines an application, target, and measurement so that it has all the information to run tau on your program. As a result, tau Makefiles are stored at the experiment level. \n"
   ]
  },
  {
   "cell_type": "code",
   "execution_count": null,
   "metadata": {
    "collapsed": true
   },
   "outputs": [],
   "source": [
    "tau experiment create mictest --application mictest --measurement sample_ins_cyc --target grover_papi"
   ]
  },
  {
   "cell_type": "markdown",
   "metadata": {},
   "source": [
    "## Trials\n",
    "\n",
    "Program runs are called Trials, each of which is associated with the experiment that is currently selected when the Trial is created. The trials in each experiment are numbered sequentially starting at 0 and the resulting data is stored as tau profiles."
   ]
  },
  {
   "cell_type": "code",
   "execution_count": null,
   "metadata": {
    "collapsed": true
   },
   "outputs": [],
   "source": [
    "tau trial create [CMD]\n",
    "tau trial create ./mkFit/mkFit --cmssw-n2seeds --input-file TTbar35PU-memoryFile.fv3.clean.writeAll.recT.072617.bin --build-ce --num-thr 10 --num-events 100"
   ]
  },
  {
   "cell_type": "markdown",
   "metadata": {},
   "source": [
    "## Workflow and Data Organization"
   ]
  },
  {
   "cell_type": "markdown",
   "metadata": {},
   "source": [
    " Once you decide to use Tau Performance Analysis for your program you can essentially follow this notebook from the top down.\n",
    " * Initialize the tau project\n",
    " * define the target system(s) and whether or not you wish to use pdt\n",
    " * define the application scenario (MPI, TBB, etc)\n",
    " * define all the measurements you want\n",
    " If you would like to go back later and add new measurements, systems or perhaps expand your program to include MPI this is a simple matter of creating new measurements, targets, OR applications\n",
    "   * changes to the above definitions will not impact the others\n",
    "   * Experiments on the other hand must be recreated if the underlying targets, measurements or applicaitons are altered"
   ]
  },
  {
   "cell_type": "markdown",
   "metadata": {},
   "source": [
    "When creating experiments the goal is to consider what types of runs you will want to measure and limit experiments to varying one parameters per each. For example, we used the following experiments (and others) to explore the mkFit program.\n",
    "* TTbar35 and TTbar70\n",
    "  * Each runs the program once using 10 threads and 100 events from 2 different datasets\n",
    "  * The Experiment is intended to get a general overview of the program as it runs on a KNL\n",
    "* TTbar35_scaling\n",
    "  * Similar to TTbar35 but run several times for each metric\n",
    "  * Each run changes the number of threads to explore how performance is affected by additional parallelism\n",
    "  * Measures \"strong scaling\"\n",
    "* TTbar35_event_scaling\n",
    "  * Similar to TTbar35_scaling but varying the number of events while holding thread count constant\n",
    "  * explores how computational demand affects performance"
   ]
  },
  {
   "cell_type": "markdown",
   "metadata": {},
   "source": [
    "When running Trials we care about many metrics for each, but each measurement can only support one metric at a time. To get around this issue we run the experiment several times changing the metric between each run. This process can be done using a bash script like the one shown below. A set of example scripts are available in this directory."
   ]
  },
  {
   "cell_type": "code",
   "execution_count": null,
   "metadata": {
    "collapsed": true
   },
   "outputs": [],
   "source": [
    "#!/bin/bash\n",
    "\n",
    "# parameters for mkFit\n",
    "NT=10 # number of threads\n",
    "NE=20 # number of simulated events\n",
    "FILE=TTbar70PU-memoryFile.fv3.clean.writeAll.recT.072617.bin # input file name\n",
    "\n",
    "# parameters for TAU\n",
    "EXP=demo  # experiment name - must be created before running this script\n",
    "tau experiment select $EXP # switch tau to this experiment\n",
    "\n",
    "# command to execute the mkFit program\n",
    "#    note the '\\' before each space\n",
    "#    also this must be redefined inside the loop to overwrite the variable as they vary\n",
    "CMD=./mkFit/mkFit\\ --cmssw-n2seeds\\ --input-file\\ $FILE\\ --build-ce\\ --num-thr\\ $NT\\ --num-events\\ $NE\n",
    "\n",
    "measure_list=(scalar_simd packed_simd tot_cyc tot_ins tcm2 res_stl tca2 lst tcm1 llc_ref llc_miss)\n",
    "\n",
    "\n",
    "function run_trials {\n",
    "\n",
    "    for i in ${measure_list[@]}; do\n",
    "      tau experiment edit $EXP --measurement $i\n",
    "      tau trial create $CMD\n",
    "    done\n",
    "\n",
    "}\n",
    "\n",
    "run_trials\n",
    "\n"
   ]
  }
 ],
 "metadata": {
  "kernelspec": {
   "display_name": "Python 2",
   "language": "python",
   "name": "python2"
  },
  "language_info": {
   "codemirror_mode": {
    "name": "ipython",
    "version": 2
   },
   "file_extension": ".py",
   "mimetype": "text/x-python",
   "name": "python",
   "nbconvert_exporter": "python",
   "pygments_lexer": "ipython2",
   "version": "2.7.14"
  }
 },
 "nbformat": 4,
 "nbformat_minor": 2
}
